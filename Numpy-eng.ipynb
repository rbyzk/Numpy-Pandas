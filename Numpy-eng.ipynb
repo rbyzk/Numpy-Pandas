{
 "cells": [
  {
   "cell_type": "markdown",
   "metadata": {},
   "source": [
    "### 1. Introduction to NumPy\n",
    "\n",
    "**What is NumPy?**\n",
    "\n",
    "NumPy **(Numerical Python)** is a library used in the Python programming language and was developed specifically for scientific computing. NumPy provides the following basic functions:\n",
    "\n",
    "- **Fast and efficient operations on multidimensional arrays** and matrices.\n",
    "- Scientific calculations such as mathematical functions, statistical calculations, linear algebra and Fourier transforms.\n",
    "- It offers a faster and more memory-efficient structure compared to Python's standard lists.\n",
    "\n",
    "**Key Features:**\n",
    "\n",
    "- **ndarray (N-dimensional array):** Allows you to work with multidimensional arrays, the basic data structure of NumPy.\n",
    "- **Vectorization:** Speeds up operations by reducing loops.\n",
    "- **Efficient Memory Usage:** NumPy arrays consume less memory compared to Python lists."
   ]
  },
  {
   "cell_type": "markdown",
   "metadata": {},
   "source": [
    "**Advantages of NumPy**\n",
    "\n",
    "**a. Performance:**\n",
    "\n",
    "NumPy is optimized in C and therefore much faster than Python lists.\n",
    "\n",
    "It is ideal for mathematical and statistical operations on very large data sets.\n",
    "\n",
    "**b. Flexibility:**\n",
    "\n",
    "You can create and perform operations on multidimensional arrays.\n",
    "\n",
    "You can easily perform operations such as complex linear algebra operations, matrix multiplications, and Fourier transforms.\n",
    "\n",
    "**c. Vectorization:**\n",
    "\n",
    "NumPy can automatically process loops, which helps you write less code.\n",
    "For example, it is very easy to apply operations to all elements of an array at the same time.\n",
    "\n",
    "**d. Open Source and Wide Ecosystem:**\n",
    "\n",
    "NumPy is free and open source.\n",
    "It works integrated with other libraries such as Pandas, SciPy, Matplotlib."
   ]
  },
  {
   "cell_type": "markdown",
   "metadata": {},
   "source": [
    "**Example:** To see the speed difference between Python list and NumPy array:"
   ]
  },
  {
   "cell_type": "code",
   "execution_count": 1,
   "metadata": {},
   "outputs": [
    {
     "name": "stdout",
     "output_type": "stream",
     "text": [
      "Python list time: 0.008671283721923828\n",
      "NumPy time: 0.001516103744506836\n"
     ]
    }
   ],
   "source": [
    "import numpy as np\n",
    "import time\n",
    "\n",
    "# Creating a large list and NumPy array\n",
    "python_list = list(range(1, 1000000))\n",
    "numpy_array = np.arange(1, 1000000)\n",
    "\n",
    "# List collection time\n",
    "start_time = time.time()\n",
    "sum(python_list)\n",
    "print(\"Python list time:\", time.time() - start_time)\n",
    "\n",
    "# NumPy collection time\n",
    "start_time = time.time()\n",
    "numpy_array.sum()\n",
    "print(\"NumPy time:\", time.time() - start_time)"
   ]
  },
  {
   "cell_type": "markdown",
   "metadata": {},
   "source": [
    "**Installing NumPy**\n",
    "\n",
    "To use the NumPy library, you must first install it. The following commands can be used:"
   ]
  },
  {
   "cell_type": "markdown",
   "metadata": {},
   "source": [
    "**a. Install with pip (Preferred Method):**\n",
    "\n",
    "pip install numpy\n",
    "\n",
    "**b. Install with conda (For Anaconda Users):**\n",
    "\n",
    "conda install numpy\n",
    "\n",
    "**Installation Check: To check the installation, you can run the following command in the Python console:**\n",
    "\n",
    "import numpy\n",
    "print(numpy.__version__)"
   ]
  },
  {
   "cell_type": "markdown",
   "metadata": {},
   "source": [
    "**Adding NumPy with Import**\n",
    "\n",
    "Before using NumPy in your projects, you need to add it with the import command. It is commonly used as follows:\n",
    "\n",
    "`import numpy as np`\n",
    "\n",
    "The as np part is used to call NumPy with a shorter name. This makes it easier to write code."
   ]
  },
  {
   "cell_type": "code",
   "execution_count": 2,
   "metadata": {},
   "outputs": [
    {
     "name": "stdout",
     "output_type": "stream",
     "text": [
      "[1 2 3 4 5]\n"
     ]
    }
   ],
   "source": [
    "import numpy as np\n",
    "array = np.array([1, 2, 3, 4, 5])\n",
    "print(array)"
   ]
  },
  {
   "cell_type": "markdown",
   "metadata": {},
   "source": [
    "**Alternative import methods:**\n",
    "\n",
    "Using full names:"
   ]
  },
  {
   "cell_type": "code",
   "execution_count": 3,
   "metadata": {},
   "outputs": [
    {
     "name": "stdout",
     "output_type": "stream",
     "text": [
      "[1 2 3]\n"
     ]
    }
   ],
   "source": [
    "import numpy\n",
    "array = numpy.array([1, 2, 3])\n",
    "print(array)"
   ]
  },
  {
   "cell_type": "markdown",
   "metadata": {},
   "source": [
    "Importing only a specific function:"
   ]
  },
  {
   "cell_type": "code",
   "execution_count": 4,
   "metadata": {},
   "outputs": [
    {
     "name": "stdout",
     "output_type": "stream",
     "text": [
      "[1 2 3]\n"
     ]
    }
   ],
   "source": [
    "from numpy import array\n",
    "array = array([1, 2, 3])\n",
    "print(array)"
   ]
  },
  {
   "cell_type": "markdown",
   "metadata": {},
   "source": [
    "**Conclusion and Summary**\n",
    "\n",
    "NumPy is a very powerful and fast library for data analysis and scientific computations. It offers great advantages in both performance and functionality compared to Python lists. To start using NumPy:\n",
    "\n",
    "- Install.\n",
    "- Add the library with import numpy as np.\n",
    "- Create multidimensional arrays and perform your operations."
   ]
  },
  {
   "cell_type": "markdown",
   "metadata": {},
   "source": [
    "### 2. NumPy Arrays"
   ]
  },
  {
   "cell_type": "markdown",
   "metadata": {},
   "source": [
    "| Term    | Meaning                                           | Usage Example          |\n",
    "|------------------|--------------------------------------------------|------------------------|\n",
    "| Method          | A function that performs an operation on an object or returns information. | `object.method()`      |\n",
    "| Attribute       | A fixed property that provides information about an object. | `object.attribute`     |\n",
    "| Parameter       | An argument that modifies a function's behavior when called. | `method(param=value)`  |"
   ]
  },
  {
   "cell_type": "markdown",
   "metadata": {},
   "source": [
    "##### What is ndarray?\n",
    "\n",
    "ndarray (N-dimensional array) is the basic data structure of NumPy. NumPy arrays provide a multidimensional array of elements of the same type with a fixed size.\n",
    "\n",
    "**Features:**\n",
    "\n",
    "- **Homogeneity:** All elements have the same data type.\n",
    "- **Multidimensional Structure:** You can create 1D (one-dimensional), 2D (matrix), or multidimensional arrays.\n",
    "- **Low Memory Consumption:** Uses less memory than Python lists.\n",
    "- **Fast Operation:** Performs mathematical operations very quickly."
   ]
  },
  {
   "cell_type": "code",
   "execution_count": 5,
   "metadata": {},
   "outputs": [
    {
     "name": "stdout",
     "output_type": "stream",
     "text": [
      "<class 'numpy.ndarray'>\n",
      "[1 2 3 4 5]\n"
     ]
    }
   ],
   "source": [
    "import numpy as np\n",
    "arr = np.array([1, 2, 3, 4, 5]) # One-dimensional array\n",
    "print(type(arr)) # <class 'numpy.ndarray'>\n",
    "print(arr)"
   ]
  },
  {
   "cell_type": "markdown",
   "metadata": {},
   "source": [
    "| Feature | NumPy Array (ndarray) | Python List |\n",
    "|------------------------|----------------------------------------|----------------------------------------|\n",
    "| **Homogeneity** | Elements must be of the same data type. | Can contain different data types. |\n",
    "| **Memory Usage** | Uses less memory. | Uses more memory. |\n",
    "| **Speed** | NumPy is faster (written in C). | Slower. |\n",
    "| **Mathematical Operations** | Can be done directly (e.g. arr1 + arr2). | Must be done with loops. |\n",
    "| **Dimensionality** | Supports multi-dimensionality (1D, 2D, 3D etc.). | Has a one-dimensional list structure. |"
   ]
  },
  {
   "cell_type": "code",
   "execution_count": 6,
   "metadata": {},
   "outputs": [
    {
     "name": "stdout",
     "output_type": "stream",
     "text": [
      "Python time: 0.006861686706542969\n",
      "NumPy time: 0.0008947849273681641\n"
     ]
    }
   ],
   "source": [
    "import numpy as np\n",
    "import time\n",
    "\n",
    "# Multiply by Python list\n",
    "python_list = list(range(1, 100000))\n",
    "start = time.time()\n",
    "python_list = [x * 2 for x in python_list]\n",
    "print(\"Python time:\", time.time() - start)\n",
    "\n",
    "# Multiplication with NumPy\n",
    "numpy_array = np.arange(1, 100000)\n",
    "start = time.time()\n",
    "numpy_array = numpy_array * 2\n",
    "print(\"NumPy time:\", time.time() - start)"
   ]
  },
  {
   "cell_type": "markdown",
   "metadata": {},
   "source": [
    "#### Creating a NumPy Array\n",
    "\n",
    "The following functions are used to create NumPy arrays:"
   ]
  },
  {
   "cell_type": "markdown",
   "metadata": {},
   "source": [
    "**a. array()**\n",
    "\n",
    "Creates a NumPy array from a Python list or tuple."
   ]
  },
  {
   "cell_type": "code",
   "execution_count": 7,
   "metadata": {},
   "outputs": [
    {
     "name": "stdout",
     "output_type": "stream",
     "text": [
      "[1 2 3 4 5]\n"
     ]
    }
   ],
   "source": [
    "arr = np.array([1, 2, 3, 4, 5]) # Converts the list to an array\n",
    "print(arr)"
   ]
  },
  {
   "cell_type": "code",
   "execution_count": 8,
   "metadata": {},
   "outputs": [
    {
     "data": {
      "text/plain": [
       "[1, 3, 35.5, 'Sun']"
      ]
     },
     "execution_count": 8,
     "metadata": {},
     "output_type": "execute_result"
    }
   ],
   "source": [
    "my_list1 = [1, 3, 35.5, 'Sun']\n",
    "my_list1"
   ]
  },
  {
   "cell_type": "code",
   "execution_count": 9,
   "metadata": {},
   "outputs": [
    {
     "data": {
      "text/plain": [
       "array(['1', '3', '35.5', 'Sun'], dtype='<U32')"
      ]
     },
     "execution_count": 9,
     "metadata": {},
     "output_type": "execute_result"
    }
   ],
   "source": [
    "# NumPy automatically determined the data type based on the input data, since we didn't specify it specifically.\n",
    "# int < float < string\n",
    "\n",
    "np.array(my_list1)"
   ]
  },
  {
   "cell_type": "code",
   "execution_count": 10,
   "metadata": {},
   "outputs": [
    {
     "data": {
      "text/plain": [
       "array([1, 2, 3])"
      ]
     },
     "execution_count": 10,
     "metadata": {},
     "output_type": "execute_result"
    }
   ],
   "source": [
    "# We specified the data type to be int.\n",
    "\n",
    "np.array([1.2, 2.3, 3.6], dtype=int)"
   ]
  },
  {
   "cell_type": "markdown",
   "metadata": {},
   "source": [
    "**b. zeros()**\n",
    "\n",
    "Creates an array containing 0s of a certain size."
   ]
  },
  {
   "cell_type": "code",
   "execution_count": 11,
   "metadata": {},
   "outputs": [
    {
     "name": "stdout",
     "output_type": "stream",
     "text": [
      "[[0. 0. 0. 0.]\n",
      " [0. 0. 0. 0.]\n",
      " [0. 0. 0. 0.]]\n"
     ]
    }
   ],
   "source": [
    "arr = np.zeros((3, 4)) # 3x4 array filled with zeros\n",
    "print(arr)"
   ]
  },
  {
   "cell_type": "markdown",
   "metadata": {},
   "source": [
    "**c. ones()**\n",
    "\n",
    "Creates an array containing 1 of a given size."
   ]
  },
  {
   "cell_type": "code",
   "execution_count": 12,
   "metadata": {},
   "outputs": [
    {
     "name": "stdout",
     "output_type": "stream",
     "text": [
      "[[1. 1. 1.]\n",
      " [1. 1. 1.]]\n"
     ]
    }
   ],
   "source": [
    "arr = np.ones((2, 3)) # 2x3 array filled with ones\n",
    "print(arr)"
   ]
  },
  {
   "cell_type": "markdown",
   "metadata": {},
   "source": [
    "**d. empty()**\n",
    "\n",
    "Creates an array filled with random values ​​of a given size (previous data in the memory area is shown)."
   ]
  },
  {
   "cell_type": "code",
   "execution_count": 13,
   "metadata": {},
   "outputs": [
    {
     "name": "stdout",
     "output_type": "stream",
     "text": [
      "[[6.23042070e-307 4.67296746e-307]\n",
      " [1.69121096e-306 9.34597568e-307]]\n"
     ]
    }
   ],
   "source": [
    "arr = np.empty((2, 2)) # 2x2 array filled with random values\n",
    "print(arr)"
   ]
  },
  {
   "cell_type": "markdown",
   "metadata": {},
   "source": [
    "**e. arange()**\n",
    "\n",
    "Creates an array within a specified range (works like Python range).\n"
   ]
  },
  {
   "cell_type": "code",
   "execution_count": 14,
   "metadata": {},
   "outputs": [
    {
     "name": "stdout",
     "output_type": "stream",
     "text": [
      "[1 3 5 7 9]\n"
     ]
    }
   ],
   "source": [
    "arr = np.arange(1, 10, 2) # array increasing by 2 from 1 to 10\n",
    "print(arr)"
   ]
  },
  {
   "cell_type": "markdown",
   "metadata": {},
   "source": [
    "**f. linspace()**\n",
    "\n",
    "Divide a given range into equal parts."
   ]
  },
  {
   "cell_type": "code",
   "execution_count": 15,
   "metadata": {},
   "outputs": [
    {
     "name": "stdout",
     "output_type": "stream",
     "text": [
      "[0.   0.25 0.5  0.75 1.  ]\n"
     ]
    }
   ],
   "source": [
    "arr = np.linspace(0, 1, 5) # 5 equal parts between 0 and 1\n",
    "print(arr)"
   ]
  },
  {
   "cell_type": "markdown",
   "metadata": {},
   "source": [
    "**g. logspace()**\n",
    "\n",
    "Divide a given range by a logarithmic scale."
   ]
  },
  {
   "cell_type": "code",
   "execution_count": 16,
   "metadata": {},
   "outputs": [
    {
     "name": "stdout",
     "output_type": "stream",
     "text": [
      "[  10.           31.6227766   100.          316.22776602 1000.        ]\n"
     ]
    }
   ],
   "source": [
    "arr = np.logspace(1, 3, 5) # 5 values ​​between 10^1 and 10^3\n",
    "print(arr)"
   ]
  },
  {
   "cell_type": "markdown",
   "metadata": {},
   "source": [
    "**h. zeros_like(), ones_like(), full_like()**\n",
    "\n",
    "Creates an array that matches the dimensions of another array."
   ]
  },
  {
   "cell_type": "code",
   "execution_count": 17,
   "metadata": {},
   "outputs": [],
   "source": [
    "base = np.array([[1, 2], [3, 4]])\n",
    "zeros_like = np.zeros_like(base) # base size full of zeros\n",
    "ones_like = np.ones_like(base) # base size full of ones\n",
    "full_like = np.full_like(base, 7) # base size full of 7s"
   ]
  },
  {
   "cell_type": "code",
   "execution_count": 18,
   "metadata": {},
   "outputs": [
    {
     "name": "stdout",
     "output_type": "stream",
     "text": [
      "Base Array (base):\n",
      " [[1 2]\n",
      " [3 4]]\n",
      "Base Array Shape: (2, 2)\n",
      "Base Array Data Type: int64\n",
      "\n",
      "Array Created with `zeros_like`:\n",
      " [[0 0]\n",
      " [0 0]]\n",
      "`zeros_like` Array Shape: (2, 2)\n",
      "`zeros_like` Array Data Type: int64\n"
     ]
    }
   ],
   "source": [
    "base = np.array([[1, 2], [3, 4]])\n",
    "print(\"Base Array (base):\\n\", base)\n",
    "print(\"Base Array Shape:\", base.shape)\n",
    "print(\"Base Array Data Type:\", base.dtype)\n",
    "\n",
    "zeros_like = np.zeros_like(base)\n",
    "print(\"\\nArray Created with `zeros_like`:\\n\", zeros_like)\n",
    "print(\"`zeros_like` Array Shape:\", zeros_like.shape)\n",
    "print(\"`zeros_like` Array Data Type:\", zeros_like.dtype)"
   ]
  },
  {
   "cell_type": "code",
   "execution_count": 19,
   "metadata": {},
   "outputs": [
    {
     "name": "stdout",
     "output_type": "stream",
     "text": [
      "Base Array (base):\n",
      " [[1.5 2.5]\n",
      " [3.5 4.5]]\n",
      "Base Array Shape: (2, 2)\n",
      "Base Array Data Type: float32\n",
      "\n",
      "Array Created with `ones_like`:\n",
      " [[1. 1.]\n",
      " [1. 1.]]\n",
      "`ones_like` Array Shape: (2, 2)\n",
      "`ones_like` Array Data Type: float32\n"
     ]
    }
   ],
   "source": [
    "base = np.array([[1.5, 2.5], [3.5, 4.5]], dtype=np.float32)\n",
    "print(\"Base Array (base):\\n\", base)\n",
    "print(\"Base Array Shape:\", base.shape)\n",
    "print(\"Base Array Data Type:\", base.dtype)\n",
    "\n",
    "ones_like = np.ones_like(base)\n",
    "print(\"\\nArray Created with `ones_like`:\\n\", ones_like)\n",
    "print(\"`ones_like` Array Shape:\", ones_like.shape)\n",
    "print(\"`ones_like` Array Data Type:\", ones_like.dtype)"
   ]
  },
  {
   "cell_type": "code",
   "execution_count": 20,
   "metadata": {},
   "outputs": [
    {
     "name": "stdout",
     "output_type": "stream",
     "text": [
      "Base Array (base):\n",
      " [[ True False]\n",
      " [False  True]]\n",
      "Base Array Shape: (2, 2)\n",
      "Base Array Data Type: bool\n",
      "\n",
      "Array Created with `full_like` (filled with 7):\n",
      " [[ True  True]\n",
      " [ True  True]]\n",
      "`full_like` Array Shape: (2, 2)\n",
      "`full_like` Array Data Type: bool\n"
     ]
    }
   ],
   "source": [
    "base = np.array([[True, False], [False, True]])\n",
    "print(\"Base Array (base):\\n\", base)\n",
    "print(\"Base Array Shape:\", base.shape)\n",
    "print(\"Base Array Data Type:\", base.dtype)\n",
    "\n",
    "full_like = np.full_like(base, 7)\n",
    "print(\"\\nArray Created with `full_like` (filled with 7):\\n\", full_like)\n",
    "print(\"`full_like` Array Shape:\", full_like.shape)\n",
    "print(\"`full_like` Array Data Type:\", full_like.dtype)"
   ]
  },
  {
   "cell_type": "markdown",
   "metadata": {},
   "source": [
    "**i. full()**\n",
    "\n",
    "Creates an array filled with a fixed value of your choice in a given size."
   ]
  },
  {
   "cell_type": "code",
   "execution_count": 21,
   "metadata": {},
   "outputs": [
    {
     "name": "stdout",
     "output_type": "stream",
     "text": [
      "[[9 9 9]\n",
      " [9 9 9]\n",
      " [9 9 9]]\n"
     ]
    }
   ],
   "source": [
    "arr = np.full((3, 3), 9) # filled with 9's in 3x3 size\n",
    "print(arr)"
   ]
  },
  {
   "cell_type": "markdown",
   "metadata": {},
   "source": [
    "**j. eye()**\n",
    "\n",
    "Creates a unit matrix (diagonal 1, other values ​​0)."
   ]
  },
  {
   "cell_type": "code",
   "execution_count": 22,
   "metadata": {},
   "outputs": [
    {
     "name": "stdout",
     "output_type": "stream",
     "text": [
      "[[1. 0. 0. 0.]\n",
      " [0. 1. 0. 0.]\n",
      " [0. 0. 1. 0.]\n",
      " [0. 0. 0. 1.]]\n"
     ]
    }
   ],
   "source": [
    "arr = np.eye(4) # 4x4 identity matrix\n",
    "print(arr)"
   ]
  },
  {
   "cell_type": "markdown",
   "metadata": {},
   "source": [
    "**Multidimensional Arrays**\n",
    "\n",
    "NumPy offers a wide range of support from 1D arrays (one-dimensional) to multidimensional (2D, 3D, and more)."
   ]
  },
  {
   "cell_type": "code",
   "execution_count": 23,
   "metadata": {},
   "outputs": [
    {
     "name": "stdout",
     "output_type": "stream",
     "text": [
      "[[1 2 3]\n",
      " [4 5 6]]\n",
      "Dimension: 2\n",
      "Shape: (2, 3)\n"
     ]
    }
   ],
   "source": [
    "# 2D Example\n",
    "\n",
    "arr = np.array([[1, 2, 3], [4, 5, 6]])\n",
    "print(arr)\n",
    "print(\"Dimension:\", arr.ndim) # Number of dimensions\n",
    "print(\"Shape:\", arr.shape) # Number of rows and columns"
   ]
  },
  {
   "cell_type": "code",
   "execution_count": 24,
   "metadata": {},
   "outputs": [
    {
     "name": "stdout",
     "output_type": "stream",
     "text": [
      "[[[1 2]\n",
      "  [3 4]]\n",
      "\n",
      " [[5 6]\n",
      "  [7 8]]]\n",
      "Size: 3\n",
      "Shape: (2, 2, 2)\n"
     ]
    }
   ],
   "source": [
    "# 3D Example\n",
    "\n",
    "arr = np.array([[[1, 2], [3, 4]], [[5, 6], [7, 8]]])\n",
    "print(arr)\n",
    "print(\"Size:\", arr.ndim)\n",
    "print(\"Shape:\", arr.shape)"
   ]
  },
  {
   "cell_type": "markdown",
   "metadata": {},
   "source": [
    "**Data Types (dtype) and Conversion (astype())**\n",
    "\n",
    "NumPy arrays store the data types of their elements with the dtype property."
   ]
  },
  {
   "cell_type": "code",
   "execution_count": 25,
   "metadata": {},
   "outputs": [
    {
     "name": "stdout",
     "output_type": "stream",
     "text": [
      "float64\n"
     ]
    }
   ],
   "source": [
    "# Check Data Type:\n",
    "\n",
    "arr = np.array([1.5, 2.5, 3.5])\n",
    "print(arr.dtype) # float64"
   ]
  },
  {
   "cell_type": "code",
   "execution_count": 26,
   "metadata": {},
   "outputs": [
    {
     "name": "stdout",
     "output_type": "stream",
     "text": [
      "[1. 2. 3.]\n"
     ]
    }
   ],
   "source": [
    "# Creating an Array by Specifying dtype:\n",
    "\n",
    "arr = np.array([1, 2, 3], dtype='float32')\n",
    "print(arr)"
   ]
  },
  {
   "cell_type": "code",
   "execution_count": 27,
   "metadata": {},
   "outputs": [
    {
     "name": "stdout",
     "output_type": "stream",
     "text": [
      "[1 2 3]\n"
     ]
    }
   ],
   "source": [
    "# Converting Data Types with astype():\n",
    "\n",
    "arr = np.array([1.5, 2.5, 3.5])\n",
    "arr_int = arr.astype('int') # Converting from float to int\n",
    "print(arr_int)"
   ]
  },
  {
   "cell_type": "markdown",
   "metadata": {},
   "source": [
    "NumPy arrays are a powerful tool for scientific computing and data analysis. Their multidimensional structures, efficient memory usage, fast processing capabilities, and flexible array creation methods are indispensable for Python programmers."
   ]
  },
  {
   "cell_type": "markdown",
   "metadata": {},
   "source": [
    "### 3. NumPy Array Operations"
   ]
  },
  {
   "cell_type": "markdown",
   "metadata": {},
   "source": [
    "#### Array Properties\n",
    "\n",
    "NumPy arrays come with many properties that provide information about their structure. These properties allow you to easily control the array's dimensions, data type, and memory size of the elements."
   ]
  },
  {
   "cell_type": "markdown",
   "metadata": {},
   "source": [
    "**a. Shape:**\n",
    "\n",
    "Specifies how many elements are in each dimension of the array. It is returned as a tuple.\n",
    "- For example, the tuple (m, n) represents a matrix with m rows and n columns."
   ]
  },
  {
   "attachments": {
    "image.png": {
     "image/png": "[encoded data removed]"
    }
   },
   "cell_type": "markdown",
   "metadata": {},
   "source": [
    "![image.png](attachment:image.png)"
   ]
  },
  {
   "cell_type": "code",
   "execution_count": 28,
   "metadata": {},
   "outputs": [
    {
     "name": "stdout",
     "output_type": "stream",
     "text": [
      "Shape: (2, 3)\n"
     ]
    }
   ],
   "source": [
    "arr = np.array([[1, 2, 3], [4, 5, 6]])\n",
    "print(\"Shape:\", arr.shape) # (2, 3)"
   ]
  },
  {
   "cell_type": "markdown",
   "metadata": {},
   "source": [
    "**b. Size:**\n",
    "\n",
    "Returns the total number of elements in the array."
   ]
  },
  {
   "cell_type": "code",
   "execution_count": 29,
   "metadata": {},
   "outputs": [
    {
     "name": "stdout",
     "output_type": "stream",
     "text": [
      "Size (size): 6\n"
     ]
    }
   ],
   "source": [
    "print(\"Size (size):\", arr.size) #6"
   ]
  },
  {
   "cell_type": "markdown",
   "metadata": {},
   "source": [
    "**c. Data Type (dtype):**\n",
    "\n",
    "Returns the data type of the elements in the array."
   ]
  },
  {
   "cell_type": "code",
   "execution_count": 30,
   "metadata": {},
   "outputs": [
    {
     "name": "stdout",
     "output_type": "stream",
     "text": [
      "Data Type (dtype): int64\n"
     ]
    }
   ],
   "source": [
    "print(\"Data Type (dtype):\", arr.dtype) # int32 or your system's default type"
   ]
  },
  {
   "cell_type": "markdown",
   "metadata": {},
   "source": [
    "**d. Item Size:**\n",
    "\n",
    "Returns how many bytes each element takes up in memory."
   ]
  },
  {
   "cell_type": "code",
   "execution_count": 31,
   "metadata": {},
   "outputs": [
    {
     "name": "stdout",
     "output_type": "stream",
     "text": [
      "Element Size (itemsize): 8\n"
     ]
    }
   ],
   "source": [
    "print(\"Element Size (itemsize):\", arr.itemsize) # Example: 4 (for int32)"
   ]
  },
  {
   "cell_type": "markdown",
   "metadata": {},
   "source": [
    "**e. Array Dimension Information (ndim):**\n",
    "\n",
    "Returns the number of dimensions of the array."
   ]
  },
  {
   "cell_type": "code",
   "execution_count": 32,
   "metadata": {},
   "outputs": [
    {
     "name": "stdout",
     "output_type": "stream",
     "text": [
      "Number of Dimensions (ndim): 2\n"
     ]
    }
   ],
   "source": [
    "print(\"Number of Dimensions (ndim):\", arr.ndim) # 2"
   ]
  },
  {
   "cell_type": "markdown",
   "metadata": {},
   "source": [
    "#### Array Reshape and Resize"
   ]
  },
  {
   "cell_type": "markdown",
   "metadata": {},
   "source": [
    "**a. Reshape:**\n",
    "\n",
    "Converts an array to a different shape without changing the number of elements. This operation does not change the original array and returns a new array.\n",
    "\n",
    "- Returns a new ndarray by reshaping the array to the specified new shape. However, this method does not change the original data.\n",
    "- The value \"-1\" can be used for certain sizes, so NumPy will automatically calculate this size according to the other specified sizes."
   ]
  },
  {
   "attachments": {
    "image.png": {
     "image/png": "[encoded data removed]"
    }
   },
   "cell_type": "markdown",
   "metadata": {},
   "source": [
    "![image.png](attachment:image.png)"
   ]
  },
  {
   "cell_type": "code",
   "execution_count": 33,
   "metadata": {},
   "outputs": [
    {
     "name": "stdout",
     "output_type": "stream",
     "text": [
      "[[1 2 3]\n",
      " [4 5 6]]\n"
     ]
    }
   ],
   "source": [
    "arr = np.array([1, 2, 3, 4, 5, 6])\n",
    "reshaped = arr.reshape(2, 3) # 2 rows, 3 columns\n",
    "print(reshaped)"
   ]
  },
  {
   "cell_type": "markdown",
   "metadata": {},
   "source": [
    "**AutoSizing (-1):** Specifying a size as -1 will cause NumPy to automatically calculate that size."
   ]
  },
  {
   "cell_type": "code",
   "execution_count": 34,
   "metadata": {},
   "outputs": [
    {
     "name": "stdout",
     "output_type": "stream",
     "text": [
      "[[1 2]\n",
      " [3 4]\n",
      " [5 6]]\n"
     ]
    }
   ],
   "source": [
    "reshaped = arr.reshape(3, -1) # 3 calculate the number of rows and columns\n",
    "print(reshaped)"
   ]
  },
  {
   "cell_type": "markdown",
   "metadata": {},
   "source": [
    "**b. Resize:**\n",
    "\n",
    "The resize() function resizes the array to the specified shape. However, it changes the original array. If new elements are needed, it will fill (with 0)."
   ]
  },
  {
   "cell_type": "code",
   "execution_count": 35,
   "metadata": {},
   "outputs": [
    {
     "name": "stdout",
     "output_type": "stream",
     "text": [
      "[[1 2 3]\n",
      " [4 0 0]]\n"
     ]
    }
   ],
   "source": [
    "arr = np.array([1, 2, 3, 4])\n",
    "arr.resize(2, 3) # 2 rows, 3 columns\n",
    "print(arr)"
   ]
  },
  {
   "cell_type": "markdown",
   "metadata": {},
   "source": [
    "**Dimension Information: .ndim and .shape Relationship**\n",
    "\n",
    "- .ndim: Indicates how many dimensions the array has.\n",
    "- .shape: Returns the number of elements for each dimension as a tuple."
   ]
  },
  {
   "cell_type": "code",
   "execution_count": 36,
   "metadata": {},
   "outputs": [
    {
     "name": "stdout",
     "output_type": "stream",
     "text": [
      "Number of Dimensions (ndim): 3\n",
      "Shape): (2, 2, 2)\n"
     ]
    }
   ],
   "source": [
    "arr = np.array([[[1, 2], [3, 4]], [[5, 6], [7, 8]]])\n",
    "print(\"Number of Dimensions (ndim):\", arr.ndim) # 3\n",
    "print(\"Shape):\", arr.shape) # (2, 2, 2)"
   ]
  },
  {
   "cell_type": "markdown",
   "metadata": {},
   "source": [
    "**Relationship:**\n",
    "\n",
    ".ndim returns the number of elements in the .shape tuple.\n",
    "\n",
    "For example, an array of shape (2, 2, 2) has 3 dimensions."
   ]
  },
  {
   "cell_type": "markdown",
   "metadata": {},
   "source": [
    "**Array Copy (copy())**\n",
    "\n",
    "The copy() function is used to copy NumPy arrays. This creates a copy that is independent of the original array. If you assign an array directly, the reference is passed and the copy changes when the original array changes."
   ]
  },
  {
   "cell_type": "code",
   "execution_count": 37,
   "metadata": {},
   "outputs": [
    {
     "name": "stdout",
     "output_type": "stream",
     "text": [
      "Original Array: [99  2  3]\n"
     ]
    }
   ],
   "source": [
    "# Direct Assignment (Reference):\n",
    "\n",
    "arr = np.array([1, 2, 3])\n",
    "ref = arr\n",
    "ref[0] = 99\n",
    "print(\"Original Array:\", arr) # [99, 2, 3]"
   ]
  },
  {
   "cell_type": "code",
   "execution_count": 38,
   "metadata": {},
   "outputs": [
    {
     "name": "stdout",
     "output_type": "stream",
     "text": [
      "Original Array: [1 2 3]\n",
      "Copy Array: [99  2  3]\n"
     ]
    }
   ],
   "source": [
    "# Copy (Array):\n",
    "\n",
    "arr = np.array([1, 2, 3])\n",
    "copy = arr.copy()\n",
    "copy[0] = 99\n",
    "print(\"Original Array:\", arr) # [1, 2, 3]\n",
    "print(\"Copy Array:\", copy) # [99, 2, 3]"
   ]
  },
  {
   "cell_type": "markdown",
   "metadata": {},
   "source": [
    "**Array Transpose (transpose())**\n",
    "\n",
    "transpose() transposes an array by swapping its rows and columns. This is especially useful when working with matrices."
   ]
  },
  {
   "cell_type": "code",
   "execution_count": 39,
   "metadata": {},
   "outputs": [
    {
     "name": "stdout",
     "output_type": "stream",
     "text": [
      "[[1 3]\n",
      " [2 4]]\n"
     ]
    }
   ],
   "source": [
    "# Changing Dimensions:\n",
    "\n",
    "arr = np.array([[1, 2], [3, 4]])\n",
    "transposed = arr.transpose()\n",
    "print(transposed)"
   ]
  },
  {
   "cell_type": "code",
   "execution_count": 40,
   "metadata": {},
   "outputs": [
    {
     "name": "stdout",
     "output_type": "stream",
     "text": [
      "[[[1 2]\n",
      "  [5 6]]\n",
      "\n",
      " [[3 4]\n",
      "  [7 8]]]\n"
     ]
    }
   ],
   "source": [
    "# Transpose in Multidimensional Arrays:\n",
    "\n",
    "arr = np.array([[[1, 2], [3, 4]], [[5, 6], [7, 8]]])\n",
    "transposed = arr.transpose(1, 0, 2) # Changing dimensions\n",
    "print(transposed)"
   ]
  },
  {
   "cell_type": "markdown",
   "metadata": {},
   "source": [
    "**Shortcut Transpose (T):**\n",
    "The .T property of arrays allows you to quickly transpose them."
   ]
  },
  {
   "cell_type": "code",
   "execution_count": 41,
   "metadata": {},
   "outputs": [
    {
     "name": "stdout",
     "output_type": "stream",
     "text": [
      "[[1 4]\n",
      " [2 5]\n",
      " [3 6]]\n"
     ]
    }
   ],
   "source": [
    "arr = np.array([[1, 2, 3], [4, 5, 6]])\n",
    "print(arr.T)"
   ]
  },
  {
   "cell_type": "markdown",
   "metadata": {},
   "source": [
    "**Conclusion and Summary**\n",
    "\n",
    "NumPy arrays can be used for many operations. You can get information about their size, shape, data type and content, reshape and transpose arrays. These features make arrays more flexible and powerful, especially in data analysis and scientific computing."
   ]
  },
  {
   "cell_type": "markdown",
   "metadata": {},
   "source": [
    "### 4. Mathematical Operations"
   ]
  },
  {
   "cell_type": "markdown",
   "metadata": {},
   "source": [
    "#### Element-Based Operations\n",
    "\n",
    "Element-based mathematical operations can be performed quickly and easily on NumPy arrays. These operations are performed on each element separately and return a new array."
   ]
  },
  {
   "cell_type": "markdown",
   "metadata": {},
   "source": [
    "**a. Addition (+):**"
   ]
  },
  {
   "cell_type": "code",
   "execution_count": 42,
   "metadata": {},
   "outputs": [
    {
     "name": "stdout",
     "output_type": "stream",
     "text": [
      "[5 7 9]\n"
     ]
    }
   ],
   "source": [
    "arr1 = np.array([1, 2, 3])\n",
    "arr2 = np.array([4, 5, 6])\n",
    "\n",
    "total = arr1 + arr2\n",
    "print(total) # [5 7 9]"
   ]
  },
  {
   "cell_type": "markdown",
   "metadata": {},
   "source": [
    "**b. Subtraction (-):**"
   ]
  },
  {
   "cell_type": "code",
   "execution_count": 43,
   "metadata": {},
   "outputs": [
    {
     "name": "stdout",
     "output_type": "stream",
     "text": [
      "[-3 -3 -3]\n"
     ]
    }
   ],
   "source": [
    "difference = arr1 - arr2\n",
    "print(difference) # [-3 -3 -3]"
   ]
  },
  {
   "cell_type": "markdown",
   "metadata": {},
   "source": [
    "**c. Multiplication (*):**"
   ]
  },
  {
   "cell_type": "code",
   "execution_count": 46,
   "metadata": {},
   "outputs": [
    {
     "name": "stdout",
     "output_type": "stream",
     "text": [
      "[ 4 10 18]\n"
     ]
    }
   ],
   "source": [
    "multiply = arr1 * arr2\n",
    "print(multiply) # [4 10 18]"
   ]
  },
  {
   "cell_type": "markdown",
   "metadata": {},
   "source": [
    "**d. Division (/):**"
   ]
  },
  {
   "cell_type": "code",
   "execution_count": 47,
   "metadata": {},
   "outputs": [
    {
     "name": "stdout",
     "output_type": "stream",
     "text": [
      "[4.  2.5 2. ]\n"
     ]
    }
   ],
   "source": [
    "div = arr2 / arr1\n",
    "print(div)  # [4. 2.5 2.]"
   ]
  },
  {
   "cell_type": "markdown",
   "metadata": {},
   "source": [
    "**e. Element Based Power Retrieval ():**"
   ]
  },
  {
   "cell_type": "code",
   "execution_count": 48,
   "metadata": {},
   "outputs": [
    {
     "name": "stdout",
     "output_type": "stream",
     "text": [
      "[1 4 9]\n"
     ]
    }
   ],
   "source": [
    "power = arr1 ** 2\n",
    "print(power) # [1 4 9]"
   ]
  },
  {
   "cell_type": "markdown",
   "metadata": {},
   "source": [
    "**Note:**\n",
    "\n",
    "NumPy can automatically convert data types during operations. For example, if a division operation is performed on an integer array, the result will be a floating-point array."
   ]
  },
  {
   "cell_type": "markdown",
   "metadata": {},
   "source": [
    "#### Universal Functions\n",
    "\n",
    "Universal functions are one of the cornerstones of NumPy. These functions are fast and work element-wise. Examples include trigonometry, logarithms, exponential functions, and square roots."
   ]
  },
  {
   "cell_type": "markdown",
   "metadata": {},
   "source": [
    "**a. Trigonometric Functions (sin, cos):**"
   ]
  },
  {
   "cell_type": "code",
   "execution_count": 49,
   "metadata": {},
   "outputs": [
    {
     "name": "stdout",
     "output_type": "stream",
     "text": [
      "sin: [0.0000000e+00 1.0000000e+00 1.2246468e-16]\n",
      "cos: [ 1.000000e+00  6.123234e-17 -1.000000e+00]\n"
     ]
    }
   ],
   "source": [
    "arr = np.array([0, np.pi / 2, np.pi])\n",
    "\n",
    "sin_values = np.sin(arr)\n",
    "print(\"sin:\", sin_values)  # [ 0.  1.  0.]\n",
    "\n",
    "cos_values = np.cos(arr)\n",
    "print(\"cos:\", cos_values)  # [ 1.  0. -1.]"
   ]
  },
  {
   "cell_type": "markdown",
   "metadata": {},
   "source": [
    "**b. Square Root (sqrt):**"
   ]
  },
  {
   "cell_type": "code",
   "execution_count": 51,
   "metadata": {},
   "outputs": [
    {
     "name": "stdout",
     "output_type": "stream",
     "text": [
      "[1. 2. 3. 4.]\n"
     ]
    }
   ],
   "source": [
    "arr = np.array([1, 4, 9, 16])\n",
    "square_root = np.sqrt(arr)\n",
    "print(square_root) # [1. 2. 3. 4.]"
   ]
  },
  {
   "cell_type": "markdown",
   "metadata": {},
   "source": [
    "**c. Exponential Function (exp):**"
   ]
  },
  {
   "cell_type": "code",
   "execution_count": 52,
   "metadata": {},
   "outputs": [
    {
     "name": "stdout",
     "output_type": "stream",
     "text": [
      "[1.         2.71828183 7.3890561 ]\n"
     ]
    }
   ],
   "source": [
    "arr = np.array([0, 1, 2])\n",
    "x = np.exp(arr) # e^0, e^1, e^2\n",
    "print(x) # [ 1. 2.71828183 7.3890561 ]"
   ]
  },
  {
   "cell_type": "markdown",
   "metadata": {},
   "source": [
    "**d. Logaritma (log):**"
   ]
  },
  {
   "cell_type": "markdown",
   "metadata": {},
   "source": [
    "NumPy provides several logarithm functions, including the natural logarithm (log), logarithm to base 10 (log10), and logarithm to base 2 (log2)."
   ]
  },
  {
   "cell_type": "code",
   "execution_count": 55,
   "metadata": {},
   "outputs": [
    {
     "name": "stdout",
     "output_type": "stream",
     "text": [
      "log: [0.         2.30258509 4.60517019]\n",
      "log10: [0. 1. 2.]\n"
     ]
    }
   ],
   "source": [
    "arr = np.array([1, 10, 100])\n",
    "log_values = np.log(arr)      # Natural logarithm\n",
    "log10_values = np.log10(arr)  # logarithm to base 10\n",
    "print(\"log:\", log_values)     # [0. 2.30258509 4.60517019]\n",
    "print(\"log10:\", log10_values) # [0. 1.2.]"
   ]
  },
  {
   "cell_type": "markdown",
   "metadata": {},
   "source": [
    "#### Statistical Calculations"
   ]
  },
  {
   "cell_type": "markdown",
   "metadata": {},
   "source": [
    "**a. Mean:**\n",
    "\n",
    "Calculate the arithmetic mean of the elements of the array."
   ]
  },
  {
   "cell_type": "code",
   "execution_count": 56,
   "metadata": {},
   "outputs": [
    {
     "name": "stdout",
     "output_type": "stream",
     "text": [
      "Mean: 3.0\n"
     ]
    }
   ],
   "source": [
    "arr = np.array([1, 2, 3, 4, 5])\n",
    "mean = np.mean(arr)\n",
    "print(\"Mean:\", mean) # 3.0"
   ]
  },
  {
   "cell_type": "markdown",
   "metadata": {},
   "source": [
    "**b. Standard Deviation (std):**\n",
    "\n",
    "Measures how much the elements in the data set deviate from the mean."
   ]
  },
  {
   "cell_type": "code",
   "execution_count": 59,
   "metadata": {},
   "outputs": [
    {
     "name": "stdout",
     "output_type": "stream",
     "text": [
      "Standard Deviation: 0.816496580927726\n"
     ]
    }
   ],
   "source": [
    "standard_deviation = np.std(array)\n",
    "print(\"Standard Deviation:\", standard_deviation) "
   ]
  },
  {
   "cell_type": "markdown",
   "metadata": {},
   "source": [
    "**c. Variance (var):**\n",
    "\n",
    "Calculates the variance (standard deviation squared) of the array elements."
   ]
  },
  {
   "cell_type": "code",
   "execution_count": 60,
   "metadata": {},
   "outputs": [
    {
     "name": "stdout",
     "output_type": "stream",
     "text": [
      "Variance: 2.0\n"
     ]
    }
   ],
   "source": [
    "variance = np.var(arr)\n",
    "print(\"Variance:\", variance) # 2.0"
   ]
  },
  {
   "cell_type": "markdown",
   "metadata": {},
   "source": [
    "**d. Maximum (max) and Minimum (min):**\n",
    "\n",
    "Finds the largest and smallest element in the array."
   ]
  },
  {
   "cell_type": "code",
   "execution_count": 61,
   "metadata": {},
   "outputs": [
    {
     "name": "stdout",
     "output_type": "stream",
     "text": [
      "Maximum: 5\n",
      "Minimum: 1\n"
     ]
    }
   ],
   "source": [
    "maximum = np.max(arr)\n",
    "minimum = np.min(arr)\n",
    "print(\"Maximum:\", maximum) #5\n",
    "print(\"Minimum:\", minimum) # 1"
   ]
  },
  {
   "cell_type": "markdown",
   "metadata": {},
   "source": [
    "**e. Finding Maximum and Minimum Indexes (argmax, argmin):**\n",
    "\n",
    "Returns the index of the maximum or minimum element in the array."
   ]
  },
  {
   "cell_type": "code",
   "execution_count": 62,
   "metadata": {},
   "outputs": [
    {
     "name": "stdout",
     "output_type": "stream",
     "text": [
      "Maximum Index: 4\n",
      "Minimum Index: 0\n"
     ]
    }
   ],
   "source": [
    "max_index = np.argmax(arr)\n",
    "min_index = np.argmin(arr)\n",
    "print(\"Maximum Index:\", max_index) # 4\n",
    "print(\"Minimum Index:\", min_index) # 0"
   ]
  },
  {
   "cell_type": "markdown",
   "metadata": {},
   "source": [
    "#### Practical Example: Statistical Analysis\n",
    "\n",
    "Let's perform statistical calculations on a dataset:"
   ]
  },
  {
   "cell_type": "code",
   "execution_count": 65,
   "metadata": {},
   "outputs": [
    {
     "name": "stdout",
     "output_type": "stream",
     "text": [
      "Mean: 32.0\n",
      "Standard Deviation: 12.884098726725126\n",
      "Variance: 166.0\n",
      "Maximum: 50\n",
      "Minimum: 15\n",
      "Maximum Index: 4\n",
      "Minimum Index: 0\n"
     ]
    }
   ],
   "source": [
    "data = np.array([15, 20, 35, 40, 50])\n",
    "\n",
    "# Mean, Standard Deviation, Variance\n",
    "mean = np.mean(data)\n",
    "std_dev = np.std(data)\n",
    "variance = np.var(data)\n",
    "\n",
    "# Maximum, Minimum and Indexes\n",
    "maximum = np.max(data)\n",
    "minimum = np.min(data)\n",
    "maximum_index = np.argmax(data)\n",
    "minimum_index = np.argmin(data)\n",
    "\n",
    "print(\"Mean:\", mean) \n",
    "print(\"Standard Deviation:\", std_dev)  \n",
    "print(\"Variance:\", variance) \n",
    "print(\"Maximum:\", maximum) \n",
    "print(\"Minimum:\", minimum)\n",
    "print(\"Maximum Index:\", maximum_index) \n",
    "print(\"Minimum Index:\", minimum_index) "
   ]
  },
  {
   "cell_type": "markdown",
   "metadata": {},
   "source": [
    "**Conclusion and Summary**\n",
    "\n",
    "NumPy provides powerful functions for mathematical operations and statistical analysis.\n",
    "Element-based operations, universal functions, and statistical calculations are very useful for scientific studies.\n",
    "Statistical analysis is ideal for understanding and summarizing data sets."
   ]
  },
  {
   "cell_type": "markdown",
   "metadata": {},
   "source": [
    "### 5. Array Manipulation"
   ]
  },
  {
   "cell_type": "markdown",
   "metadata": {},
   "source": [
    "#### Concatenation and Splitting\n",
    "\n",
    "**a. Concatenation:**\n",
    "\n",
    "The np.concatenate() function is used to combine different arrays. By default, the concatenation process is performed on the first dimension (rows)."
   ]
  },
  {
   "cell_type": "code",
   "execution_count": 66,
   "metadata": {},
   "outputs": [
    {
     "name": "stdout",
     "output_type": "stream",
     "text": [
      "[1 2 3 4 5 6]\n",
      "[[1 2]\n",
      " [3 4]\n",
      " [5 6]]\n"
     ]
    }
   ],
   "source": [
    "arr1 = np.array([1, 2, 3])\n",
    "arr2 = np.array([4, 5, 6])\n",
    "\n",
    "# Concatenate one-dimensional arrays\n",
    "concatenate = np.concatenate([arr1, arr2])\n",
    "print(concatenate) # [1 2 3 4 5 6]\n",
    "\n",
    "# Concatenate in two-dimensional arrays (axis=0)\n",
    "arr3 = np.array([[1, 2], [3, 4]])\n",
    "arr4 = np.array([[5, 6]])\n",
    "concatenate2D = np.concatenate([arr3, arr4], axis=0)\n",
    "print(concatenate2D)\n"
   ]
  },
  {
   "cell_type": "markdown",
   "metadata": {},
   "source": [
    "**Joining on Different Axes (axis=1):**"
   ]
  },
  {
   "cell_type": "code",
   "execution_count": 67,
   "metadata": {},
   "outputs": [
    {
     "name": "stdout",
     "output_type": "stream",
     "text": [
      "[[1 2 5]\n",
      " [3 4 6]]\n"
     ]
    }
   ],
   "source": [
    "concatenate_axis1 = np.concatenate([arr3, arr4.T], axis=1)\n",
    "print(concatenate_axis1)"
   ]
  },
  {
   "cell_type": "markdown",
   "metadata": {},
   "source": [
    "**b. Array Splitting:**\n",
    "\n",
    "The np.split() function is used to split an array into pieces."
   ]
  },
  {
   "cell_type": "code",
   "execution_count": 68,
   "metadata": {},
   "outputs": [
    {
     "name": "stdout",
     "output_type": "stream",
     "text": [
      "[array([1, 2]), array([3, 4]), array([5, 6])]\n"
     ]
    }
   ],
   "source": [
    "arr = np.array([1, 2, 3, 4, 5, 6])\n",
    "\n",
    "# Split into 3 equal parts\n",
    "parts = np.split(arr, 3)\n",
    "print(parts) # [array([1, 2]), array([3, 4]), array([5, 6])]"
   ]
  },
  {
   "cell_type": "markdown",
   "metadata": {},
   "source": [
    "Splitting in Two-Dimensional Arrays:"
   ]
  },
  {
   "cell_type": "code",
   "execution_count": 69,
   "metadata": {},
   "outputs": [
    {
     "name": "stdout",
     "output_type": "stream",
     "text": [
      "[array([[1],\n",
      "       [4]]), array([[2],\n",
      "       [5]]), array([[3],\n",
      "       [6]])]\n"
     ]
    }
   ],
   "source": [
    "arr2D = np.array([[1, 2, 3], [4, 5, 6]])\n",
    "\n",
    "# Column-based split\n",
    "split_columns = np.hsplit(arr2D, 3)\n",
    "print(split_columns)"
   ]
  },
  {
   "cell_type": "markdown",
   "metadata": {},
   "source": [
    "#### Array Sorting\n",
    "\n",
    "NumPy can sort arrays using both methods that modify the original array and methods that do not."
   ]
  },
  {
   "cell_type": "markdown",
   "metadata": {},
   "source": [
    "**a. np.sort():**\n",
    "\n",
    "Returns a sorted copy of the original array without changing it."
   ]
  },
  {
   "cell_type": "code",
   "execution_count": 70,
   "metadata": {},
   "outputs": [
    {
     "name": "stdout",
     "output_type": "stream",
     "text": [
      "[1 2 3 5 7]\n",
      "[5 2 7 1 3]\n"
     ]
    }
   ],
   "source": [
    "arr = np.array([5, 2, 7, 1, 3])\n",
    "sorted_arr = np.sort(arr)\n",
    "print(sorted_arr)  # [1 2 3 5 7]\n",
    "print(arr)         # [5 2 7 1 3]"
   ]
  },
  {
   "cell_type": "markdown",
   "metadata": {},
   "source": [
    "**b. arr.sort():**\n",
    "\n",
    "Sorts the original array."
   ]
  },
  {
   "cell_type": "code",
   "execution_count": 71,
   "metadata": {},
   "outputs": [
    {
     "name": "stdout",
     "output_type": "stream",
     "text": [
      "[1 2 3 5 7]\n"
     ]
    }
   ],
   "source": [
    "arr.sort()\n",
    "print(arr)  # [1 2 3 5 7]"
   ]
  },
  {
   "cell_type": "markdown",
   "metadata": {},
   "source": [
    "**c. Sorting in Multidimensional Arrays:**\n",
    "\n",
    "Sorting can be done based on axis."
   ]
  },
  {
   "cell_type": "code",
   "execution_count": 72,
   "metadata": {},
   "outputs": [
    {
     "name": "stdout",
     "output_type": "stream",
     "text": [
      "[[1 4 8]\n",
      " [3 7 9]]\n"
     ]
    }
   ],
   "source": [
    "arr2D = np.array([[8, 4, 1], [3, 9, 7]])\n",
    "sorted_arr2D = np.sort(arr2D, axis=1) \n",
    "print(sorted_arr2D)"
   ]
  },
  {
   "cell_type": "markdown",
   "metadata": {},
   "source": [
    "#### Generating Arrays with Built-in Functions\n",
    "\n",
    "NumPy provides powerful methods for generating random numbers."
   ]
  },
  {
   "cell_type": "markdown",
   "metadata": {},
   "source": [
    "**a. Random Numbers Generation:**\n",
    "\n",
    "**i. rand():** Generates a random floating point number between [0, 1)."
   ]
  },
  {
   "cell_type": "code",
   "execution_count": 73,
   "metadata": {},
   "outputs": [
    {
     "name": "stdout",
     "output_type": "stream",
     "text": [
      "[0.64283036 0.55795432 0.04661839]\n"
     ]
    }
   ],
   "source": [
    "random = np.random.rand(3) # One dimensional\n",
    "print(random)"
   ]
  },
  {
   "cell_type": "markdown",
   "metadata": {},
   "source": [
    "**ii. randn():** Generates random numbers from the standard normal distribution (mean=0, std=1)."
   ]
  },
  {
   "cell_type": "code",
   "execution_count": 74,
   "metadata": {},
   "outputs": [
    {
     "name": "stdout",
     "output_type": "stream",
     "text": [
      "[-1.33362315 -1.43724172  0.10110574]\n"
     ]
    }
   ],
   "source": [
    "normal_random = np.random.randn(3)\n",
    "print(normal_random) # [-0.977, 0.123, -0.412]"
   ]
  },
  {
   "cell_type": "markdown",
   "metadata": {},
   "source": [
    "**iii. randint():** Generates random integers within a specified range."
   ]
  },
  {
   "cell_type": "code",
   "execution_count": 75,
   "metadata": {},
   "outputs": [
    {
     "name": "stdout",
     "output_type": "stream",
     "text": [
      "[7 6 1 6 5]\n"
     ]
    }
   ],
   "source": [
    "integer_random = np.random.randint(1, 10, size=5)\n",
    "print(integer_random) "
   ]
  },
  {
   "cell_type": "markdown",
   "metadata": {},
   "source": [
    "**b. Reproducing Random Numbers (Seed):**\n",
    "\n",
    "The seed() function is used to reproduce the same random numbers."
   ]
  },
  {
   "cell_type": "code",
   "execution_count": 76,
   "metadata": {},
   "outputs": [
    {
     "name": "stdout",
     "output_type": "stream",
     "text": [
      "[0.37454012 0.95071431 0.73199394]\n"
     ]
    }
   ],
   "source": [
    "np.random.seed(42)\n",
    "print(np.random.rand(3)) # Produces the same output each time"
   ]
  },
  {
   "cell_type": "markdown",
   "metadata": {},
   "source": [
    "#### Broadcasting\n",
    "\n",
    "Broadcasting is the process of automatically expanding the size of the smaller array when performing mathematical operations with arrays of different sizes. This allows you to perform operations quickly without the need for loops."
   ]
  },
  {
   "cell_type": "markdown",
   "metadata": {},
   "source": [
    "**a. Basic Spread Example:**"
   ]
  },
  {
   "cell_type": "code",
   "execution_count": 77,
   "metadata": {},
   "outputs": [
    {
     "name": "stdout",
     "output_type": "stream",
     "text": [
      "[2 4 6]\n"
     ]
    }
   ],
   "source": [
    "arr = np.array([1, 2, 3])\n",
    "scalar = 2\n",
    "\n",
    "result = arr * scalar\n",
    "print(result) # [2 4 6]"
   ]
  },
  {
   "cell_type": "markdown",
   "metadata": {},
   "source": [
    "**b. Propagation with Different Shaped Arrays:**"
   ]
  },
  {
   "cell_type": "code",
   "execution_count": 78,
   "metadata": {},
   "outputs": [
    {
     "name": "stdout",
     "output_type": "stream",
     "text": [
      "[[11 22]\n",
      " [13 24]]\n"
     ]
    }
   ],
   "source": [
    "A = np.array([[1, 2], [3, 4]])\n",
    "B = np.array([10, 20])\n",
    "\n",
    "result = A + B\n",
    "print(result)"
   ]
  },
  {
   "cell_type": "markdown",
   "metadata": {},
   "source": [
    "**Spreading Rules:**\n",
    "\n",
    "1. If the dimensions of two arrays are equal, the operations are performed directly without spreading.\n",
    "\n",
    "2. In arrays with different dimensions, the axes with dimensions of 1 are expanded to the larger array.\n",
    "\n",
    "3. An error occurs in dimensions that cannot be made compatible."
   ]
  },
  {
   "cell_type": "markdown",
   "metadata": {},
   "source": [
    "**Results and Summary**\n",
    "\n",
    "- Array Merging and Splitting: You can merge arrays with concatenate, and split them into pieces with split.\n",
    "- Array Sorting: You can sort arrays on an axis or sort their copies.\n",
    "- Generation with Built-in Functions: You can use functions such as rand, randn, randint for random number generation.\n",
    "- Propagation: You can easily perform mathematical operations with arrays of different sizes.\n"
   ]
  },
  {
   "cell_type": "markdown",
   "metadata": {},
   "source": [
    "### 6. Linear Algebra with NumPy"
   ]
  },
  {
   "cell_type": "markdown",
   "metadata": {},
   "source": [
    "**Matrices and Matrix Operations**\n",
    "\n",
    "**a. Creating Matrices:**\n",
    "\n",
    "In NumPy, matrices are represented as two-dimensional NumPy arrays (ndarrays)."
   ]
  },
  {
   "cell_type": "code",
   "execution_count": 79,
   "metadata": {},
   "outputs": [
    {
     "name": "stdout",
     "output_type": "stream",
     "text": [
      "Matrix A:\n",
      " [[1 2]\n",
      " [3 4]]\n",
      "Matrix B:\n",
      " [[5 6]\n",
      " [7 8]]\n"
     ]
    }
   ],
   "source": [
    "import numpy as np\n",
    "\n",
    "A = np.array([[1, 2], [3, 4]])  # 2x2 matrix\n",
    "B = np.array([[5, 6], [7, 8]])  # 2x2 matrix\n",
    "print(\"Matrix A:\\n\", A)\n",
    "print(\"Matrix B:\\n\", B)"
   ]
  },
  {
   "cell_type": "markdown",
   "metadata": {},
   "source": [
    "**b. Matrix Addition and Subtraction:**\n",
    "\n",
    "Addition and subtraction operations on matrices are performed element-wise."
   ]
  },
  {
   "cell_type": "code",
   "execution_count": 80,
   "metadata": {},
   "outputs": [
    {
     "name": "stdout",
     "output_type": "stream",
     "text": [
      "Total:\n",
      " [[ 6  8]\n",
      " [10 12]]\n",
      "Subtract:\n",
      " [[-4 -4]\n",
      " [-4 -4]]\n"
     ]
    }
   ],
   "source": [
    "total = A + B\n",
    "subtract = A - B\n",
    "print(\"Total:\\n\", total)\n",
    "print(\"Subtract:\\n\", subtract)"
   ]
  },
  {
   "cell_type": "markdown",
   "metadata": {},
   "source": [
    "**c. Element-Based Multiplication:**\n",
    "\n",
    "* operator is used for element-based multiplication."
   ]
  },
  {
   "cell_type": "code",
   "execution_count": 81,
   "metadata": {},
   "outputs": [
    {
     "name": "stdout",
     "output_type": "stream",
     "text": [
      "Element-Based Product:\n",
      " [[ 5 12]\n",
      " [21 32]]\n"
     ]
    }
   ],
   "source": [
    "product = A * B\n",
    "print(\"Element-Based Product:\\n\", product)"
   ]
  },
  {
   "cell_type": "markdown",
   "metadata": {},
   "source": [
    "**d. Matrix Multiplication (Dot Product):**\n",
    "\n",
    "To perform matrix multiplication, np.dot() or @ operator is used."
   ]
  },
  {
   "cell_type": "code",
   "execution_count": 82,
   "metadata": {},
   "outputs": [
    {
     "name": "stdout",
     "output_type": "stream",
     "text": [
      "Matrix Multiplication:\n",
      " [[19 22]\n",
      " [43 50]]\n"
     ]
    }
   ],
   "source": [
    "matrix_multi = np.dot(A, B)\n",
    "# or\n",
    "matrix_multi2 = A @ B\n",
    "print(\"Matrix Multiplication:\\n\", matrix_multi)"
   ]
  },
  {
   "cell_type": "markdown",
   "metadata": {},
   "source": [
    "**Transpose**\n",
    "\n",
    "Transposing a matrix is ​​changing rows to columns and columns to rows. To transpose a matrix in NumPy, you use .T or np.transpose()."
   ]
  },
  {
   "cell_type": "code",
   "execution_count": 83,
   "metadata": {},
   "outputs": [
    {
     "name": "stdout",
     "output_type": "stream",
     "text": [
      "Original Matrix:\n",
      " [[1 2 3]\n",
      " [4 5 6]]\n",
      "Transpose:\n",
      " [[1 4]\n",
      " [2 5]\n",
      " [3 6]]\n"
     ]
    }
   ],
   "source": [
    "A = np.array([[1, 2, 3], [4, 5, 6]])\n",
    "\n",
    "# Transpose\n",
    "A_transpose = A.T\n",
    "print(\"Original Matrix:\\n\", A)\n",
    "print(\"Transpose:\\n\", A_transpose)"
   ]
  },
  {
   "cell_type": "markdown",
   "metadata": {},
   "source": [
    "#### Determinant and Inverse Matrix\n",
    "\n",
    "**a. Determinant:**\n",
    "\n",
    "The determinant of a matrix is ​​a scalar representing the properties of the matrix. To calculate the determinant, np.linalg.det() is used."
   ]
  },
  {
   "cell_type": "code",
   "execution_count": 84,
   "metadata": {},
   "outputs": [
    {
     "name": "stdout",
     "output_type": "stream",
     "text": [
      "Matrix:\n",
      " [[1 2]\n",
      " [3 4]]\n",
      "Determinant: -2.0000000000000004\n"
     ]
    }
   ],
   "source": [
    "A = np.array([[1, 2], [3, 4]])\n",
    "\n",
    "det = np.linalg.det(A)\n",
    "print(\"Matrix:\\n\", A)\n",
    "print(\"Determinant:\", det) # -2.0"
   ]
  },
  {
   "cell_type": "markdown",
   "metadata": {},
   "source": [
    "**b. Inverse Matrix:**\n",
    "\n",
    "To calculate the inverse of a matrix, np.linalg.inv() is used. For the inverse matrix to exist, its determinant must be different from zero."
   ]
  },
  {
   "cell_type": "code",
   "execution_count": 85,
   "metadata": {},
   "outputs": [
    {
     "name": "stdout",
     "output_type": "stream",
     "text": [
      "Original Matrix:\n",
      " [[1 2]\n",
      " [3 4]]\n",
      "Inverse Matrix:\n",
      " [[-2.   1. ]\n",
      " [ 1.5 -0.5]]\n"
     ]
    }
   ],
   "source": [
    "A = np.array([[1, 2], [3, 4]])\n",
    "\n",
    "# Calculate the inverse\n",
    "inverse = np.linalg.inv(A)\n",
    "print(\"Original Matrix:\\n\", A)\n",
    "print(\"Inverse Matrix:\\n\", inverse)"
   ]
  },
  {
   "cell_type": "markdown",
   "metadata": {},
   "source": [
    "**Control: Multiplication of Original and Inverse Matrix:**\n",
    "\n",
    "When the original matrix is ​​multiplied by the inverse matrix, the identity matrix is ​​obtained."
   ]
  },
  {
   "cell_type": "code",
   "execution_count": 86,
   "metadata": {},
   "outputs": [
    {
     "name": "stdout",
     "output_type": "stream",
     "text": [
      "Original * Inverse:\n",
      " [[1.0000000e+00 0.0000000e+00]\n",
      " [8.8817842e-16 1.0000000e+00]]\n"
     ]
    }
   ],
   "source": [
    "unit_matrix = np.dot(A, inverse)\n",
    "print(\"Original * Inverse:\\n\", unit_matrix)"
   ]
  },
  {
   "cell_type": "markdown",
   "metadata": {},
   "source": [
    "## Solving Linear Equations\n",
    "\n",
    "A system of linear equations can be represented as follows:\n",
    "\n",
    "$\\qquad Ax = B$\n",
    "\n",
    "Where:\n",
    "\n",
    "* $A$: is the coefficient matrix.\n",
    "* $x$: is the unknown vector.\n",
    "* $B$: is the result vector.\n",
    "\n",
    "The `np.linalg.solve()` function from NumPy is used to solve such systems.\n",
    "\n",
    "**Example:**\n",
    "\n",
    "Consider the following system of linear equations:\n",
    "\n",
    "$\\qquad 2x + y = 5$\n",
    "$\\qquad 3x + 4y = 6$\n",
    "\n",
    "These equations can be written in matrix form as follows:\n",
    "\n",
    "$A = \\begin{bmatrix} 2 & 1 \\\\ 3 & 4 \\end{bmatrix}$\n",
    "\n",
    "$B = \\begin{bmatrix} 5 \\\\ 6 \\end{bmatrix}$"
   ]
  },
  {
   "cell_type": "code",
   "execution_count": null,
   "metadata": {},
   "outputs": [
    {
     "name": "stdout",
     "output_type": "stream",
     "text": [
      "Solution:\n",
      " [ 2.8 -0.6]\n"
     ]
    }
   ],
   "source": [
    "A = np.array([[2, 1], [3, 4]]) # Coefficients matrix\n",
    "B = np.array([5, 6]) # Result vector\n",
    "\n",
    "# Calculate the solution\n",
    "x = np.linalg.solve(A, B)\n",
    "print(\"Solution:\\n\", x) # [2. 1.]"
   ]
  },
  {
   "cell_type": "markdown",
   "metadata": {},
   "source": [
    "Verifying the Solution:\n",
    "To verify the results,\n",
    "Ax can be calculated and compared with\n",
    "B\n",
    "."
   ]
  },
  {
   "cell_type": "code",
   "execution_count": 88,
   "metadata": {},
   "outputs": [
    {
     "name": "stdout",
     "output_type": "stream",
     "text": [
      "Verification (Ax):\n",
      " [5. 6.]\n"
     ]
    }
   ],
   "source": [
    "verification = np.dot(A, x)\n",
    "print(\"Verification (Ax):\\n\", verification) # [5. 6.]"
   ]
  },
  {
   "cell_type": "markdown",
   "metadata": {},
   "source": [
    "**Results and Summary**\n",
    "\n",
    "**Matrices and Matrix Operations:**\n",
    "\n",
    "With NumPy, you can define matrices and easily perform operations such as addition, subtraction and multiplication.\n",
    "\n",
    "**Transpose:**\n",
    "\n",
    "To transpose a matrix, .T or np.transpose() is used.\n",
    "\n",
    "**Determinant and Inverse Matrix:**\n",
    "\n",
    "Determinant: np.linalg.det()\n",
    "Inverse Matrix: np.linalg.inv()\n",
    "\n",
    "**Linear Equations Solution:**\n",
    "\n",
    "With np.linalg.solve(), you can solve linear equation systems and verify the result.\n"
   ]
  },
  {
   "cell_type": "markdown",
   "metadata": {},
   "source": [
    "#### 7. Indexing and Selection in NumPy Arrays"
   ]
  },
  {
   "cell_type": "markdown",
   "metadata": {},
   "source": [
    "**Indexing and Selecting with Square Brackets**\n",
    "\n",
    "NumPy arrays can be accessed using square brackets []. Indexing is zero-based (starts at 0)."
   ]
  },
  {
   "cell_type": "markdown",
   "metadata": {},
   "source": [
    "**a. Indexing in One-Dimensional Arrays:**"
   ]
  },
  {
   "cell_type": "code",
   "execution_count": 89,
   "metadata": {},
   "outputs": [
    {
     "name": "stdout",
     "output_type": "stream",
     "text": [
      "10\n",
      "40\n",
      "50\n"
     ]
    }
   ],
   "source": [
    "import numpy as np\n",
    "\n",
    "arr = np.array([10, 20, 30, 40, 50])\n",
    "\n",
    "# Accessing elements\n",
    "print(arr[0]) # 10\n",
    "print(arr[3]) # 40\n",
    "\n",
    "# Negative indexing\n",
    "print(arr[-1]) # 50 (last element)"
   ]
  },
  {
   "cell_type": "markdown",
   "metadata": {},
   "source": [
    "**b. Slicing in One-Dimensional Arrays:**\n",
    "\n",
    "Slicing creates a sub-array with starting and ending indices. The syntax is arr[start:stop:step]:"
   ]
  },
  {
   "cell_type": "code",
   "execution_count": 90,
   "metadata": {},
   "outputs": [
    {
     "name": "stdout",
     "output_type": "stream",
     "text": [
      "[20 30 40]\n",
      "[10 20 30]\n",
      "[10 30 50]\n"
     ]
    }
   ],
   "source": [
    "print(arr[1:4]) # [20, 30, 40]\n",
    "print(arr[:3]) # [10, 20, 30] (start over)\n",
    "print(arr[::2]) # [10, 30, 50] (step = 2)"
   ]
  },
  {
   "cell_type": "markdown",
   "metadata": {},
   "source": [
    "**Indexing in 2D Arrays (Indexing in Matrices)**\n",
    "\n",
    "In 2D arrays (matrices), each element can be accessed by a combination of rows and columns. Syntax: array[row, column]."
   ]
  },
  {
   "cell_type": "markdown",
   "metadata": {},
   "source": [
    "**a. Element Access:**"
   ]
  },
  {
   "cell_type": "code",
   "execution_count": 91,
   "metadata": {},
   "outputs": [
    {
     "name": "stdout",
     "output_type": "stream",
     "text": [
      "1\n",
      "8\n"
     ]
    }
   ],
   "source": [
    "arr2D = np.array([[1, 2, 3], [4, 5, 6], [7, 8, 9]])\n",
    "\n",
    "# Access specific elements\n",
    "print(arr2D[0, 0]) # 1 (row 1, column 1)\n",
    "print(arr2D[2, 1]) # 8 (row 3, column 2)"
   ]
  },
  {
   "cell_type": "markdown",
   "metadata": {},
   "source": [
    "**b. Row or Column Access:**"
   ]
  },
  {
   "cell_type": "code",
   "execution_count": 92,
   "metadata": {},
   "outputs": [
    {
     "name": "stdout",
     "output_type": "stream",
     "text": [
      "[4 5 6]\n",
      "[1 4 7]\n"
     ]
    }
   ],
   "source": [
    "# Access a whole row\n",
    "print(arr2D[1]) # [4, 5, 6] (row 2)\n",
    "\n",
    "# Access a whole column\n",
    "print(arr2D[:, 0]) # [1, 4, 7] (column 1)"
   ]
  },
  {
   "cell_type": "markdown",
   "metadata": {},
   "source": [
    "#### Slicing in 2D Arrays (Slicing in Matrices)"
   ]
  },
  {
   "cell_type": "markdown",
   "metadata": {},
   "source": [
    "**a. Selecting a Specific Submatrix:**\n",
    "\n",
    "Slicing can be used to select row and column ranges.\n"
   ]
  },
  {
   "cell_type": "code",
   "execution_count": 93,
   "metadata": {},
   "outputs": [
    {
     "name": "stdout",
     "output_type": "stream",
     "text": [
      "[[1 2]\n",
      " [4 5]]\n"
     ]
    }
   ],
   "source": [
    "# First two rows and first two columns\n",
    "print(arr2D[:2, :2]) # [[1, 2], [4, 5]]"
   ]
  },
  {
   "cell_type": "markdown",
   "metadata": {},
   "source": [
    "**b. Slicing Rows and Columns:**"
   ]
  },
  {
   "cell_type": "code",
   "execution_count": 94,
   "metadata": {},
   "outputs": [
    {
     "name": "stdout",
     "output_type": "stream",
     "text": [
      "[[2 3]\n",
      " [5 6]\n",
      " [8 9]]\n",
      "[[4]\n",
      " [7]]\n"
     ]
    }
   ],
   "source": [
    "# All rows, starting from column 2\n",
    "print(arr2D[:, 1:]) # [[2, 3], [5, 6], [8, 9]]\n",
    "\n",
    "# Starting from row 2 and up to column 1\n",
    "print(arr2D[1:, :1]) # [[4], [7]]"
   ]
  },
  {
   "cell_type": "markdown",
   "metadata": {},
   "source": [
    "**Fancy Indexing**\n",
    "\n",
    "Fancy Indexing allows you to select specific indexes in NumPy arrays using lists or arrays."
   ]
  },
  {
   "cell_type": "markdown",
   "metadata": {},
   "source": [
    "**a. Selecting Specific Indexes:**"
   ]
  },
  {
   "cell_type": "code",
   "execution_count": 95,
   "metadata": {},
   "outputs": [
    {
     "name": "stdout",
     "output_type": "stream",
     "text": [
      "[10 30 50]\n"
     ]
    }
   ],
   "source": [
    "arr = np.array([10, 20, 30, 40, 50])\n",
    "\n",
    "# Select specific indexes\n",
    "print(arr[[0, 2, 4]]) # [10, 30, 50]"
   ]
  },
  {
   "cell_type": "markdown",
   "metadata": {},
   "source": [
    "**b. Fancy Indexing in Multidimensional Arrays:**"
   ]
  },
  {
   "cell_type": "code",
   "execution_count": 96,
   "metadata": {},
   "outputs": [
    {
     "name": "stdout",
     "output_type": "stream",
     "text": [
      "[2 9]\n"
     ]
    }
   ],
   "source": [
    "arr2D = np.array([[1, 2, 3], [4, 5, 6], [7, 8, 9]])\n",
    "\n",
    "# Select specific elements\n",
    "print(arr2D[[0, 2], [1, 2]]) # [2, 9] (row 0 column 1 and row 2 column 2)"
   ]
  },
  {
   "cell_type": "markdown",
   "metadata": {},
   "source": [
    "**Selection on a Condition**\n",
    "\n",
    "NumPy arrays can be used to select specific elements using conditional expressions. Conditional selection returns a boolean array."
   ]
  },
  {
   "cell_type": "markdown",
   "metadata": {},
   "source": [
    "**a. Conditional Election:**"
   ]
  },
  {
   "cell_type": "code",
   "execution_count": 97,
   "metadata": {},
   "outputs": [
    {
     "name": "stdout",
     "output_type": "stream",
     "text": [
      "[25 30]\n"
     ]
    }
   ],
   "source": [
    "arr = np.array([10, 15, 20, 25, 30])\n",
    "\n",
    "# Select elements greater than 20\n",
    "print(arr[arr > 20]) # [25 30]"
   ]
  },
  {
   "cell_type": "markdown",
   "metadata": {},
   "source": [
    "**b. Conditional Election and Transactions:**"
   ]
  },
  {
   "cell_type": "code",
   "execution_count": 98,
   "metadata": {},
   "outputs": [
    {
     "name": "stdout",
     "output_type": "stream",
     "text": [
      "[ 0 15 20 25 30]\n"
     ]
    }
   ],
   "source": [
    "# Assign 0 to elements less than 15\n",
    "arr[arr < 15] = 0\n",
    "print(arr) # [ 0 0 20 25 30]"
   ]
  },
  {
   "cell_type": "markdown",
   "metadata": {},
   "source": [
    "**c. Conditional Selection in Multidimensional Arrays:**"
   ]
  },
  {
   "cell_type": "code",
   "execution_count": 99,
   "metadata": {},
   "outputs": [
    {
     "name": "stdout",
     "output_type": "stream",
     "text": [
      "[6 7 8 9]\n"
     ]
    }
   ],
   "source": [
    "arr2D = np.array([[1, 2, 3], [4, 5, 6], [7, 8, 9]])\n",
    "\n",
    "# elements greater than 5\n",
    "print(arr2D[arr2D > 5]) # [6 7 8 9]"
   ]
  },
  {
   "cell_type": "markdown",
   "metadata": {},
   "source": [
    "**Results and Summary**\n",
    "\n",
    "**Indexing and Slicing with Square Brackets:**\n",
    "\n",
    "In one-dimensional arrays, elements are accessed using [].\n",
    "\n",
    "You can create a sub-array with slicing.\n",
    "\n",
    "**Indexing and Slicing in 2D Arrays:**\n",
    "\n",
    "Rows and columns are accessed using array[row, column].\n",
    "\n",
    "Specific sub-matrices can be selected with slicing.\n",
    "\n",
    "**Fancy Indexing:**\n",
    "\n",
    "Specific indexes can be selected using lists or NumPy arrays.\n",
    "\n",
    "**Conditional Selection:**\n",
    "\n",
    "Elements that meet certain conditions can be selected using logical expressions."
   ]
  },
  {
   "cell_type": "markdown",
   "metadata": {},
   "source": [
    "#### 8. Random Numbers"
   ]
  },
  {
   "cell_type": "markdown",
   "metadata": {},
   "source": [
    "**Generating Random Strings**\n",
    "\n",
    "NumPy's numpy.random module provides a variety of methods for generating random numbers and strings. These methods are commonly used in scientific computations, simulations, and generating test data."
   ]
  },
  {
   "cell_type": "markdown",
   "metadata": {},
   "source": [
    "a. rand() - Random Floating Point Numbers Between 0 and 1 The rand() function generates random floating point numbers in the range [0, 1) (not including 1)."
   ]
  },
  {
   "cell_type": "code",
   "execution_count": 100,
   "metadata": {},
   "outputs": [
    {
     "name": "stdout",
     "output_type": "stream",
     "text": [
      "One-dimensional Array: [0.59865848 0.15601864 0.15599452 0.05808361 0.86617615]\n"
     ]
    }
   ],
   "source": [
    "# A one-dimensional array\n",
    "arr = np.random.rand(5)\n",
    "print(\"One-dimensional Array:\", arr)"
   ]
  },
  {
   "cell_type": "code",
   "execution_count": 101,
   "metadata": {},
   "outputs": [
    {
     "name": "stdout",
     "output_type": "stream",
     "text": [
      "Multidimensional Array:\n",
      " [[0.60111501 0.70807258 0.02058449 0.96990985]\n",
      " [0.83244264 0.21233911 0.18182497 0.18340451]\n",
      " [0.30424224 0.52475643 0.43194502 0.29122914]]\n"
     ]
    }
   ],
   "source": [
    "# A multidimensional array\n",
    "arr2D = np.random.rand(3, 4)\n",
    "print(\"Multidimensional Array:\\n\", arr2D)"
   ]
  },
  {
   "cell_type": "markdown",
   "metadata": {},
   "source": [
    "**b. randn() - Random Numbers According to Standard Normal Distribution**\n",
    "\n",
    "randn() function generates random numbers from standard normal distribution (mean=0, standard deviation=1). It can contain negative and positive values."
   ]
  },
  {
   "cell_type": "code",
   "execution_count": 102,
   "metadata": {},
   "outputs": [
    {
     "name": "stdout",
     "output_type": "stream",
     "text": [
      "One-dimensional Array from Standard Normal Distribution: [-1.01283112  0.31424733 -0.90802408 -1.4123037   1.46564877]\n",
      "Multidimensional Array:\n",
      " [[-0.2257763   0.0675282  -1.42474819]\n",
      " [-0.54438272  0.11092259 -1.15099358]\n",
      " [ 0.37569802 -0.60063869 -0.29169375]]\n"
     ]
    }
   ],
   "source": [
    "arr = np.random.randn(5)\n",
    "print(\"One-dimensional Array from Standard Normal Distribution:\", arr)\n",
    "\n",
    "arr2D = np.random.randn(3, 3)\n",
    "print(\"Multidimensional Array:\\n\", arr2D)\n"
   ]
  },
  {
   "cell_type": "markdown",
   "metadata": {},
   "source": [
    "**c. randint() - Random Integers in a Specified Range**\n",
    "\n",
    "The randint() function generates random integers in the specified range [low, high)."
   ]
  },
  {
   "cell_type": "code",
   "execution_count": 103,
   "metadata": {},
   "outputs": [
    {
     "name": "stdout",
     "output_type": "stream",
     "text": [
      "Random Integers: [4 7 8 3 1]\n",
      "Multidimensional Random Integers:\n",
      " [[36 50  4]\n",
      " [ 2  6 54]\n",
      " [ 4 54 93]]\n"
     ]
    }
   ],
   "source": [
    "arr = np.random.randint(1, 10, size=5)\n",
    "print(\"Random Integers:\", arr)\n",
    "\n",
    "arr2D = np.random.randint(1, 100, size=(3, 3))\n",
    "print(\"Multidimensional Random Integers:\\n\", arr2D)"
   ]
  },
  {
   "cell_type": "markdown",
   "metadata": {},
   "source": [
    "**Random Distributions**\n",
    "\n",
    "NumPy provides various functions to generate random numbers according to different statistical distributions.\n",
    "\n",
    "**a. normal() - Normal Distribution (Gaussian Distribution)**\n",
    "\n",
    "The normal(loc, scale, size) function generates random numbers that conform to the normal distribution. Parameters:\n",
    "\n",
    "- `loc:` Mean value.\n",
    "- `scale:` Standard deviation.\n",
    "- `size:` Size of the number to be generated."
   ]
  },
  {
   "cell_type": "code",
   "execution_count": 104,
   "metadata": {},
   "outputs": [
    {
     "name": "stdout",
     "output_type": "stream",
     "text": [
      "Normal Distribution (Mean=0, Std=1): [ 0.73846658  0.17136828 -0.11564828 -0.3011037  -1.47852199]\n",
      "Normal Distribution (Mean=10, Std=2):\n",
      " [[ 8.56031158  9.07872246 12.11424445 10.68723658]\n",
      " [ 6.47391969 10.64816794  9.22983544  8.646156  ]\n",
      " [11.22335258 12.06199904 11.86256024  8.32156495]]\n"
     ]
    }
   ],
   "source": [
    "arr = np.random.normal(loc=0, scale=1, size=5)\n",
    "print(\"Normal Distribution (Mean=0, Std=1):\", arr)\n",
    "\n",
    "arr2D = np.random.normal(loc=10, scale=2, size=(3, 4))\n",
    "print(\"Normal Distribution (Mean=10, Std=2):\\n\", arr2D)"
   ]
  },
  {
   "cell_type": "markdown",
   "metadata": {},
   "source": [
    "**b. uniform() - Uniform Distribution**\n",
    "\n",
    "uniform(low, high, size) function generates random values ​​in the specified range [low, high]. The entire range is selected with equal probability."
   ]
  },
  {
   "cell_type": "code",
   "execution_count": 105,
   "metadata": {},
   "outputs": [
    {
     "name": "stdout",
     "output_type": "stream",
     "text": [
      "Uniform Distribution (Between 1-10): [8.76793083 6.60968314 3.97808222 1.57202515 3.7988409 ]\n",
      "Uniform Distribution (Between 0-1):\n",
      " [[0.32518332 0.72960618 0.63755747]\n",
      " [0.88721274 0.47221493 0.11959425]]\n"
     ]
    }
   ],
   "source": [
    "arr = np.random.uniform(low=1, high=10, size=5)\n",
    "print(\"Uniform Distribution (Between 1-10):\", arr)\n",
    "\n",
    "arr2D = np.random.uniform(low=0, high=1, size=(2, 3))\n",
    "print(\"Uniform Distribution (Between 0-1):\\n\", arr2D)"
   ]
  },
  {
   "cell_type": "markdown",
   "metadata": {},
   "source": [
    "**Controlling Random Numbers (Seed)**\n",
    "\n",
    "Random number generation is started randomly by default. However, a \"seed\" can be specified to reproduce the same results. For this, np.random.seed() is used."
   ]
  },
  {
   "cell_type": "code",
   "execution_count": 106,
   "metadata": {},
   "outputs": [
    {
     "name": "stdout",
     "output_type": "stream",
     "text": [
      "First Random Sequence: [0.37454012 0.95071431 0.73199394]\n",
      "Second Random Sequence: [0.59865848 0.15601864 0.15599452]\n"
     ]
    }
   ],
   "source": [
    "np.random.seed(42)\n",
    "\n",
    "# Same results are produced with the same seed\n",
    "arr1 = np.random.rand(3)\n",
    "arr2 = np.random.rand(3)\n",
    "print(\"First Random Sequence:\", arr1)\n",
    "print(\"Second Random Sequence:\", arr2)"
   ]
  },
  {
   "cell_type": "markdown",
   "metadata": {},
   "source": [
    "**Results and Summary**\n",
    "**Random Sequence Generation:**\n",
    "\n",
    "`rand():` Random floating point number in the range [0, 1).\n",
    "\n",
    "`randn():` Random number according to the standard normal distribution.\n",
    "\n",
    "`randint():` Random integers in a specified range.\n",
    "\n",
    "Random Distributions:\n",
    "\n",
    "`normal():` Normal distribution with specified mean and standard deviation.\n",
    "\n",
    "`uniform():` Uniform distribution in a specified range.\n",
    "\n",
    "Control with Seed:\n",
    "\n",
    "Random number generation can be controlled using `np.random.seed()`.\n"
   ]
  },
  {
   "cell_type": "markdown",
   "metadata": {},
   "source": [
    "#### 9. File Operations"
   ]
  },
  {
   "cell_type": "markdown",
   "metadata": {},
   "source": [
    "**Saving Data (save(), savetxt())**\n",
    "\n",
    "You can use the save() and savetxt() functions to save NumPy arrays to files."
   ]
  },
  {
   "cell_type": "markdown",
   "metadata": {},
   "source": [
    "`save():` Saves the NumPy array in binary format to a .npy file."
   ]
  },
  {
   "cell_type": "code",
   "execution_count": 107,
   "metadata": {},
   "outputs": [],
   "source": [
    "data = np.array([1, 2, 3, 4, 5])\n",
    "np.save('data.npy', data)"
   ]
  },
  {
   "cell_type": "markdown",
   "metadata": {},
   "source": [
    "`savetxt():` Saves the NumPy array to a file in text format."
   ]
  },
  {
   "cell_type": "code",
   "execution_count": 108,
   "metadata": {},
   "outputs": [],
   "source": [
    "data = np.array([1, 2, 3, 4, 5])\n",
    "np.savetxt('data.txt', data)"
   ]
  },
  {
   "cell_type": "markdown",
   "metadata": {},
   "source": [
    "**Loading Data (load(), loadtxt())**\n",
    "\n",
    "You can use the load() and loadtxt() functions to load saved NumPy arrays from files."
   ]
  },
  {
   "cell_type": "markdown",
   "metadata": {},
   "source": [
    "`load():` Loads the .npy file saved in binary format."
   ]
  },
  {
   "cell_type": "code",
   "execution_count": 109,
   "metadata": {},
   "outputs": [
    {
     "name": "stdout",
     "output_type": "stream",
     "text": [
      "[1 2 3 4 5]\n"
     ]
    }
   ],
   "source": [
    "data = np.load('data.npy')\n",
    "print(data)"
   ]
  },
  {
   "cell_type": "markdown",
   "metadata": {},
   "source": [
    "`loadtxt():` Loads a file saved in text format."
   ]
  },
  {
   "cell_type": "code",
   "execution_count": 110,
   "metadata": {},
   "outputs": [
    {
     "name": "stdout",
     "output_type": "stream",
     "text": [
      "[1. 2. 3. 4. 5.]\n"
     ]
    }
   ],
   "source": [
    "data = np.loadtxt('data.txt')\n",
    "print(data)"
   ]
  },
  {
   "cell_type": "markdown",
   "metadata": {},
   "source": [
    "#### 10. Applications and Working with NumPy\n",
    "\n",
    "Visualizing with NumPy (Integration with Matplotlib)\n",
    "NumPy is a powerful tool for manipulating your data and can be easily integrated with Matplotlib to visualize that data. Here is a simple example:"
   ]
  },
  {
   "cell_type": "markdown",
   "metadata": {},
   "source": [
    "Creating a line plot with matplotlib:"
   ]
  },
  {
   "cell_type": "code",
   "execution_count": 111,
   "metadata": {},
   "outputs": [
    {
     "data": {
      "image/png": "[encoded data removed]",
      "text/plain": [
       "<Figure size 640x480 with 1 Axes>"
      ]
     },
     "metadata": {},
     "output_type": "display_data"
    }
   ],
   "source": [
    "import numpy as np\n",
    "import matplotlib.pyplot as plt\n",
    "\n",
    "x = np.linspace(0, 10, 100) # 100 equally spaced values ​​between 0 and 10\n",
    "y = np.sin(x)\n",
    "\n",
    "plt.plot(x, y)\n",
    "plt.xlabel('X-axis')\n",
    "plt.ylabel('Y-axis')\n",
    "plt.title('Sine Graph')\n",
    "plt.show()"
   ]
  },
  {
   "cell_type": "markdown",
   "metadata": {},
   "source": [
    "# **NumPy Cheatsheet**\n",
    "\n",
    "| **Procedure** | **Explanation and Sample Codes** |\n",
    "|-------------------------------------------|----------------------------------------------------------------------------------------------------------------------------------|\n",
    "| **Library Import and Installation** | `import numpy as np` – To call the NumPy library<br>`pip install numpy` – To install NumPy |\n",
    "| **Creating Arrays** | `np.array([1, 2, 3])` – Converts a list to an array<br>`np.zeros((2, 3))` – 2x3 array filled with 0s<br>`np.ones((3, 3))` – 3x3 array filled with 1s |\n",
    "| **Creating Arrays with Ranges** | `np.arange(0, 10, 2)` – Array from 0 to 10 increasing by 2<br>`np.linspace(0, 1, 5)` – Array with 5 elements equally spaced between 0 and 1 |\n",
    "| **Random Numbers** | `np.random.rand(3)` – 3 elements between 0-1<br>`np.random.randn(3, 3)` – 3x3 array according to normal distribution<br>`np.random.randint(1, 10, size=5)` |\n",
    "| **Array Properties** | `arr.shape` – Number of rows and columns<br>`arr.ndim` – Number of dimensions<br>`arr.dtype` – Data type<br>`arr.size` – Total number of elements |\n",
    "| **Array Shaping** | `arr.reshape(2, 3)` – Convert to 2x3 array<br>`arr.resize((3, 3))` – Permanently changes the original array to 3x3 |\n",
    "| **Array Indexing and Slicing** | `arr[0]` – First element<br>`arr[1:4]` – Elements 1 to 4<br>`arr[:, 1]` – 2nd column of all rows |\n",
    "| **Fancy Indexing** | `arr[[0, 2, 4]]` – Selection of specific indexes<br>`arr2D[[0, 1], [1, 2]]` – Selects elements (0,1) and (1,2) |\n",
    "| **Conditional Selection** | `arr[arr > 5]` – Elements greater than 5<br>`arr[arr % 2 == 0]` – Even numbers |\n",
    "| **Mathematical Operations** | `arr + 2` – Add each element by 2<br>`arr * 3` – Multiply each element by 3<br>`np.sqrt(arr)` – Take square roots |\n",
    "| **Statistical Operations** | `np.mean(arr)` – Average<br>`np.std(arr)` – Standard deviation<br>`np.var(arr)` – Variance<br>`np.argmax(arr)` – Index of largest element |\n",
    "| **Array Concatenation and Splitting** | `np.concatenate([arr1, arr2])` – Combine arrays<br>`np.split(arr, 3)` – Split array into 3 pieces |\n",
    "| **Linear Algebra** | `np.dot(A, B)` – Matrix multiplication<br>`np.linalg.det(A)` – Determinant<br>`np.linalg.inv(A)` – Inverse matrix<br>`np.linalg.solve(A, B)` – Solve equation |\n",
    "| **Transpose and Inverse Matrix** | `arr.T` – Transpose<br>`np.transpose(arr)` – Alternative transpose method |\n",
    "| **Array Sorting** | `np.sort(arr)` – Sorts elements<br>`arr.sort()` – Permanent sorting<br>`np.argsort(arr)` – Returns sort indices |\n",
    "| **Broadcasting** | `arr + 10` – Adds each element in array by 10<br>`A * B` – Matrix multiplication (makes different dimensions compatible) |\n",
    "| **Random Distributions** | `np.random.normal(loc=0, scale=1, size=5)` – Normal distribution<br>`np.random.uniform(0, 10, size=5)` – Uniform distribution |\n",
    "| **Checking Randomness with Seed** | `np.random.seed(42)` – To generate the same random numbers again |\n",
    "| **Identity Matrices and Other Special Arrays** | `np.eye(3)` – 3x3 identity matrix<br>`np.full((2, 3), 7)` – 2x3 matrix filled with 7s<br>`np.zeros_like(arr)` – Same size matrix filled with 0s |\n",
    "| **Logarithmic Arrays** | `np.logspace(1, 3, num=5)` – 5 elements in logarithmic increments from 10^1 to 10^3 |\n",
    "| **Array Copy** | `arr2 = arr.copy()` – Makes a copy of the array |\n",
    "| **Array Properties and Byte Information** | `arr.itemsize` – Byte size of each element<br>`len(arr)` – Array length<br>`arr.size` – Total number of elements |\n",
    "| **Array Addition and Subtraction** | `np.add(arr1, arr2)` – Adds arrays<br>`np.subtract(arr1, arr2)` – Subtracts arrays |\n",
    "| **Array Multiplication and Division** | `np.multiply(arr1, arr2)` – Multiplication<br>`np.divide(arr1, arr2)` – Division                                                                         |"
   ]
  }
 ],
 "metadata": {
  "kernelspec": {
   "display_name": "Python 3",
   "language": "python",
   "name": "python3"
  },
  "language_info": {
   "codemirror_mode": {
    "name": "ipython",
    "version": 3
   },
   "file_extension": ".py",
   "mimetype": "text/x-python",
   "name": "python",
   "nbconvert_exporter": "python",
   "pygments_lexer": "ipython3",
   "version": "3.13.3"
  }
 },
 "nbformat": 4,
 "nbformat_minor": 2
}
