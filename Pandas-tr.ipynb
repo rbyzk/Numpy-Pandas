{
 "cells": [
  {
   "cell_type": "markdown",
   "metadata": {},
   "source": [
    "### 1. Pandas’a Giriş"
   ]
  },
  {
   "cell_type": "markdown",
   "metadata": {},
   "source": [
    "#### Pandas Nedir?\n",
    "\n",
    "Pandas, Python için güçlü ve esnek bir veri analizi kütüphanesidir. Yapısal ve yarı yapısal verilerle çalışmak için çok uygun bir araçtır. En yaygın kullanım alanları:\n",
    "\n",
    "- `Tablolar:` Veri çerçeveleri (DataFrame) üzerinde işlemler.\n",
    "- `Zaman Serileri:` Tarih ve saat bazlı veri analizi.\n",
    "- `Gruplama:` Büyük veri kümelerini özetleme, filtreleme ve gruplama.\n",
    "\n",
    "**Veri Manipülasyonu ve Analizi için Pandas'ın Önemi**\n",
    "\n",
    "- `Kolaylık:` Karmaşık veri işleme işlemleri için basit ve okunabilir komutlar sağlar.\n",
    "- `Esneklik:` Çeşitli veri türlerini (CSV, Excel, SQL, JSON, vb.) destekler.\n",
    "- `Performans:` Numpy üzerine inşa edilmiş olduğu için hızlı ve verimli çalışır.\n",
    "- `Zengin İşlevsellik:` Gruplama, birleştirme, veri temizleme gibi işlemleri kolayca yapar."
   ]
  },
  {
   "cell_type": "markdown",
   "metadata": {},
   "source": [
    "**Pandas Kurulumu ve Temel İçe Aktarım**"
   ]
  },
  {
   "cell_type": "markdown",
   "metadata": {},
   "source": [
    "pip install pandas"
   ]
  },
  {
   "cell_type": "markdown",
   "metadata": {},
   "source": [
    "**Pandas’ı projede kullanmak için şu komut gereklidir:**"
   ]
  },
  {
   "cell_type": "markdown",
   "metadata": {},
   "source": [
    "import pandas as pd"
   ]
  },
  {
   "cell_type": "markdown",
   "metadata": {},
   "source": [
    "### 2. Seriler (Series)\n",
    "\n",
    "**Pandas Series Nedir?**\n",
    "\n",
    "- Pandas serisi, tek boyutlu bir veri yapısıdır.\n",
    "- Index ve value çiftlerinden oluşur.\n",
    "- Liste, sözlük, NumPy dizisi gibi çeşitli veri kaynaklarından kolayca oluşturulabilir."
   ]
  },
  {
   "cell_type": "markdown",
   "metadata": {},
   "source": [
    "**Series Oluşturma**\n",
    "\n",
    "- Using NumPy Arrays NumPy dizilerinden Series oluşturma:"
   ]
  },
  {
   "cell_type": "code",
   "execution_count": null,
   "metadata": {},
   "outputs": [],
   "source": [
    "import pandas as pd\n",
    "import numpy as np\n",
    "\n",
    "data = np.array([10, 20, 30, 40])\n",
    "series = pd.Series(data)\n",
    "print(series)\n"
   ]
  },
  {
   "cell_type": "markdown",
   "metadata": {},
   "source": [
    "**Using Dictionaries Sözlüklerden Series oluşturma:**"
   ]
  },
  {
   "cell_type": "code",
   "execution_count": null,
   "metadata": {},
   "outputs": [],
   "source": [
    "data = {'a': 1, 'b': 2, 'c': 3}\n",
    "series = pd.Series(data)\n",
    "print(series)\n"
   ]
  },
  {
   "cell_type": "markdown",
   "metadata": {},
   "source": [
    "**Using Scalar Value Tek bir sabit değeri çoğaltarak Series oluşturma:**"
   ]
  },
  {
   "cell_type": "code",
   "execution_count": null,
   "metadata": {},
   "outputs": [],
   "source": [
    "series = pd.Series(5, index=[0, 1, 2, 3])\n",
    "print(series)"
   ]
  },
  {
   "cell_type": "markdown",
   "metadata": {},
   "source": [
    "**Creating a Series by Combining Two Series**\n",
    "\n",
    "İki seriyi birleştirme işlemi:"
   ]
  },
  {
   "cell_type": "code",
   "execution_count": null,
   "metadata": {},
   "outputs": [],
   "source": [
    "series1 = pd.Series([1, 2, 3])\n",
    "series2 = pd.Series([4, 5, 6])\n",
    "combined = pd.concat([series1, series2])\n",
    "print(combined)"
   ]
  },
  {
   "cell_type": "markdown",
   "metadata": {},
   "source": [
    "B**asic Attributes & Methods of Series**\n",
    "\n",
    "Pandas Series nesnelerinin bazı temel özellikleri ve yöntemleri:\n",
    "\n",
    "- `series.index:` Serinin indekslerini döndürür.\n",
    "- `series.values:` Değerleri bir NumPy dizisi olarak döndürür.\n",
    "- `series.dtype:` Veri tipini döndürür.\n",
    "- `series.size:` Eleman sayısını döndürür.\n",
    "- `series.head(n):` İlk n elemanı döndürür.\n",
    "- `series.tail(n):` Son n elemanı döndürür."
   ]
  },
  {
   "cell_type": "code",
   "execution_count": null,
   "metadata": {},
   "outputs": [],
   "source": [
    "series = pd.Series([10, 20, 30, 40])\n",
    "print(\"Index:\", series.index)\n",
    "print(\"Values:\", series.values)\n",
    "print(\"Data Type:\", series.dtype)\n",
    "print(\"Size:\", series.size)"
   ]
  },
  {
   "cell_type": "markdown",
   "metadata": {},
   "source": [
    "**Series Üzerinde İşlemler**\n",
    "\n",
    "**Indexing** Serinin belirli bir indeksteki elemanına erişim:"
   ]
  },
  {
   "cell_type": "code",
   "execution_count": null,
   "metadata": {},
   "outputs": [],
   "source": [
    "print(series[1]) "
   ]
  },
  {
   "cell_type": "markdown",
   "metadata": {},
   "source": [
    "**Slicing** Serinin belirli bir aralıktaki elemanlarına erişim:"
   ]
  },
  {
   "cell_type": "code",
   "execution_count": null,
   "metadata": {},
   "outputs": [],
   "source": [
    "print(series[1:3])"
   ]
  },
  {
   "cell_type": "markdown",
   "metadata": {},
   "source": [
    "**dtype** Değiştirme Veri tipini dönüştürme:"
   ]
  },
  {
   "cell_type": "code",
   "execution_count": null,
   "metadata": {},
   "outputs": [],
   "source": [
    "series = pd.Series([1.5, 2.5, 3.5])\n",
    "print(series.astype(int))"
   ]
  },
  {
   "cell_type": "markdown",
   "metadata": {},
   "source": [
    "#### 3. DataFrame Yapısı\n",
    "\n",
    "**DataFrame Nedir?**\n",
    "\n",
    "- Pandas DataFrame, satırlar ve sütunlardan oluşan iki boyutlu bir veri yapısıdır. Bir tabloya benzer.\n",
    "- Index (satır etiketleri) ve column names (sütun etiketleri) ile organize edilir.\n",
    "- Excel tablolarına veya SQL tabanlı veri tabanlarına benzer bir yapıya sahiptir.\n"
   ]
  },
  {
   "cell_type": "markdown",
   "metadata": {},
   "source": [
    "**DataFrame Oluşturma**\n",
    "\n",
    "**Creating a DataFrame Using Numpy Arrays** NumPy dizilerinden bir DataFrame oluşturmak için:"
   ]
  },
  {
   "cell_type": "code",
   "execution_count": null,
   "metadata": {},
   "outputs": [],
   "source": [
    "data = np.array([[1, 2, 3], [4, 5, 6], [7, 8, 9]])\n",
    "df = pd.DataFrame(data, columns=['A', 'B', 'C'])\n",
    "print(df)\n"
   ]
  },
  {
   "cell_type": "markdown",
   "metadata": {},
   "source": [
    "**Creating a DataFrame Using a Dictionary** Sözlüklerden bir DataFrame oluşturmak:"
   ]
  },
  {
   "cell_type": "code",
   "execution_count": null,
   "metadata": {},
   "outputs": [],
   "source": [
    "data = {\n",
    "    'Name': ['Ali', 'Ayşe', 'Mehmet'],\n",
    "    'Age': [25, 30, 22],\n",
    "    'Salary': [5000, 6000, 4500]\n",
    "}\n",
    "df = pd.DataFrame(data)\n",
    "print(df)"
   ]
  },
  {
   "cell_type": "markdown",
   "metadata": {},
   "source": [
    "**Basic Attributes & Methods of DataFrames**\n",
    "\n",
    "DataFrame ile ilgili bazı temel özellikler:\n",
    "\n",
    "- `df.index:` Satır indekslerini döndürür.\n",
    "- `df.columns:` Sütun isimlerini döndürür.\n",
    "- `df.shape:` DataFrame’in boyutlarını döndürür.\n",
    "- `df.dtypes:` Her sütunun veri tipini gösterir.\n",
    "- `df.size:` Toplam hücre sayısını döndürür."
   ]
  },
  {
   "cell_type": "code",
   "execution_count": null,
   "metadata": {},
   "outputs": [],
   "source": [
    "print(df.index)     # Çıktı: RangeIndex(start=0, stop=3, step=1)\n",
    "print(df.columns)   # Çıktı: Index(['Name', 'Age', 'Salary'], dtype='object')\n",
    "print(df.shape)     # Çıktı: (3, 3)\n",
    "print(df.dtypes)    # Çıktı: Name     object, Age    int64, Salary    int64\n",
    "print(df.size) "
   ]
  },
  {
   "cell_type": "markdown",
   "metadata": {},
   "source": [
    "#### DataFrame Özellikleri"
   ]
  },
  {
   "cell_type": "markdown",
   "metadata": {},
   "source": [
    "`head()` İlk birkaç satırı görüntüler:"
   ]
  },
  {
   "cell_type": "code",
   "execution_count": null,
   "metadata": {},
   "outputs": [],
   "source": [
    "print(df.head(2))"
   ]
  },
  {
   "cell_type": "markdown",
   "metadata": {},
   "source": [
    "`info()` Veri çerçevesi hakkında genel bilgi sağlar:"
   ]
  },
  {
   "cell_type": "code",
   "execution_count": null,
   "metadata": {},
   "outputs": [],
   "source": [
    "print(df.info())"
   ]
  },
  {
   "cell_type": "markdown",
   "metadata": {},
   "source": [
    "`describe()` Sayısal sütunların özet istatistiklerini döndürür:"
   ]
  },
  {
   "cell_type": "code",
   "execution_count": null,
   "metadata": {},
   "outputs": [],
   "source": [
    "print(df.describe())"
   ]
  },
  {
   "cell_type": "code",
   "execution_count": null,
   "metadata": {},
   "outputs": [],
   "source": [
    "print(df.describe().T)"
   ]
  },
  {
   "cell_type": "markdown",
   "metadata": {},
   "source": [
    "### 4. Veri Seçme ve Filtreleme\n",
    "Indexing, Slicing & Selection\n"
   ]
  },
  {
   "cell_type": "markdown",
   "metadata": {},
   "source": [
    "**Indexing** Belirli bir sütunu seçmek için:"
   ]
  },
  {
   "cell_type": "code",
   "execution_count": null,
   "metadata": {},
   "outputs": [],
   "source": [
    "print(df['Name'])"
   ]
  },
  {
   "cell_type": "markdown",
   "metadata": {},
   "source": [
    "**Slicing** Satırları seçmek için:"
   ]
  },
  {
   "cell_type": "code",
   "execution_count": null,
   "metadata": {},
   "outputs": [],
   "source": [
    "print(df[0:2])"
   ]
  },
  {
   "cell_type": "markdown",
   "metadata": {},
   "source": [
    "`iloc` ve `loc` ile Seçim\n",
    "\n",
    "- `iloc:` Pozisyona göre seçim.\n",
    "- `loc:` Etikete göre seçim."
   ]
  },
  {
   "cell_type": "code",
   "execution_count": null,
   "metadata": {},
   "outputs": [],
   "source": [
    "# Pozisyona göre:\n",
    "print(df.iloc[0, 1])  # Çıktı: 25\n",
    "\n",
    "# Etikete göre:\n",
    "print(df.loc[0, 'Name'])  # Çıktı: Ali"
   ]
  },
  {
   "cell_type": "markdown",
   "metadata": {},
   "source": [
    "**Creating a New Column**\n",
    "\n",
    "Yeni bir sütun eklemek:"
   ]
  },
  {
   "cell_type": "code",
   "execution_count": null,
   "metadata": {},
   "outputs": [],
   "source": [
    "df['Bonus'] = df['Salary'] * 0.1\n",
    "print(df)"
   ]
  },
  {
   "cell_type": "markdown",
   "metadata": {},
   "source": [
    "#### Removing Columns & Rows"
   ]
  },
  {
   "cell_type": "markdown",
   "metadata": {},
   "source": [
    "**Sütun Silme**"
   ]
  },
  {
   "cell_type": "code",
   "execution_count": null,
   "metadata": {},
   "outputs": [],
   "source": [
    "df = df.drop('Bonus', axis=1)\n",
    "df"
   ]
  },
  {
   "cell_type": "markdown",
   "metadata": {},
   "source": [
    "**Satır Silme**"
   ]
  },
  {
   "cell_type": "code",
   "execution_count": null,
   "metadata": {},
   "outputs": [],
   "source": [
    "df = df.drop(1, axis=0)\n",
    "df"
   ]
  },
  {
   "cell_type": "markdown",
   "metadata": {},
   "source": [
    "**Conditional Selection**\n",
    "\n",
    "Belirli koşulları karşılayan satırları seçmek:"
   ]
  },
  {
   "cell_type": "code",
   "execution_count": null,
   "metadata": {},
   "outputs": [],
   "source": [
    "filtered_df = df[df['Age'] > 25]\n",
    "print(filtered_df)"
   ]
  },
  {
   "cell_type": "markdown",
   "metadata": {},
   "source": [
    "#### 5. Veri Manipülasyonu\n",
    "\n",
    " Yeni Sütun Ekleme ve Değiştirme\n",
    "\n",
    "Yeni Sütun Ekleme: Veri setine hesaplanmış bir sütun veya sabit bir değer eklenebilir.\n",
    "\n",
    "Var Olan Sütunu Değiştirme: Mevcut bir sütunun değerleri güncellenebilir."
   ]
  },
  {
   "cell_type": "code",
   "execution_count": null,
   "metadata": {},
   "outputs": [],
   "source": [
    "# Örnek veri seti\n",
    "employees = pd.DataFrame({\n",
    "    'Name': ['Ali', 'Ayşe', 'Mehmet', 'Fatma'],\n",
    "    'Age': [25, 30, 22, 28],\n",
    "    'Salary': [5000, 6000, 4500, 7000]\n",
    "})\n",
    "employees"
   ]
  },
  {
   "cell_type": "markdown",
   "metadata": {},
   "source": [
    "Yeni Sütun Ekleme"
   ]
  },
  {
   "cell_type": "code",
   "execution_count": null,
   "metadata": {},
   "outputs": [],
   "source": [
    "# \"Bonus\" sütunu ekleniyor (%10 maaş)\n",
    "employees['Bonus'] = employees['Salary'] * 0.1\n",
    "print(employees)"
   ]
  },
  {
   "cell_type": "markdown",
   "metadata": {},
   "source": [
    "Var Olan Sütunu Değiştirme"
   ]
  },
  {
   "cell_type": "code",
   "execution_count": null,
   "metadata": {},
   "outputs": [],
   "source": [
    "# \"Age\" sütunundaki yaşları bir yıl artırma\n",
    "employees['Age'] = employees['Age'] + 1\n",
    "print(employees)"
   ]
  },
  {
   "cell_type": "markdown",
   "metadata": {},
   "source": [
    " **Satır ve Sütun Silme (drop())**\n",
    "\n",
    "`Sütun Silme:` drop() ile sütunlar silinir (axis=1).\n",
    "\n",
    "`Satır Silme:` drop() ile satırlar silinir (axis=0)."
   ]
  },
  {
   "cell_type": "markdown",
   "metadata": {},
   "source": [
    "Sütun Silme"
   ]
  },
  {
   "cell_type": "code",
   "execution_count": null,
   "metadata": {},
   "outputs": [],
   "source": [
    "# \"Bonus\" sütununu silme\n",
    "employees = employees.drop('Bonus', axis=1)\n",
    "print(employees)"
   ]
  },
  {
   "cell_type": "markdown",
   "metadata": {},
   "source": [
    "Satır Silme"
   ]
  },
  {
   "cell_type": "code",
   "execution_count": null,
   "metadata": {},
   "outputs": [],
   "source": [
    "# 2. satırı (index=2) silme\n",
    "employees = employees.drop(2, axis=0)\n",
    "print(employees)"
   ]
  },
  {
   "cell_type": "markdown",
   "metadata": {},
   "source": [
    "**Verileri Yeniden Düzenleme (sort_values() ve sort_index())**\n",
    "\n",
    "`sort_values():` Verileri bir sütuna göre sıralar.\n",
    "\n",
    "`sort_index():` Verileri indekslere göre sıralar."
   ]
  },
  {
   "cell_type": "markdown",
   "metadata": {},
   "source": [
    "`sort_values()` ile Sıralama"
   ]
  },
  {
   "cell_type": "code",
   "execution_count": null,
   "metadata": {},
   "outputs": [],
   "source": [
    "# Maaşa göre azalan sırada sıralama\n",
    "employees = employees.sort_values('Salary', ascending=False)\n",
    "print(employees)"
   ]
  },
  {
   "cell_type": "markdown",
   "metadata": {},
   "source": [
    "`sort_index()` ile İndeks Sıralama"
   ]
  },
  {
   "cell_type": "code",
   "execution_count": null,
   "metadata": {},
   "outputs": [],
   "source": [
    "# İndeksleri artan sırada sıralama\n",
    "employees = employees.sort_index()\n",
    "print(employees)"
   ]
  },
  {
   "cell_type": "markdown",
   "metadata": {},
   "source": [
    "**reset_index() ve set_index()**\n",
    "\n",
    "`reset_index():` İndeksleri sıfırlar ve mevcut indeksleri \n",
    "yeni bir sütuna taşır.\n",
    "\n",
    "`set_index():` Belirli bir sütunu indeks olarak ayarlar."
   ]
  },
  {
   "cell_type": "markdown",
   "metadata": {},
   "source": [
    "`reset_index()` Kullanımı"
   ]
  },
  {
   "cell_type": "code",
   "execution_count": null,
   "metadata": {},
   "outputs": [],
   "source": [
    "# Mevcut indeksleri sıfırlama\n",
    "employees = employees.reset_index(drop=True)\n",
    "print(employees)"
   ]
  },
  {
   "cell_type": "markdown",
   "metadata": {},
   "source": [
    "`set_index()` Kullanımı"
   ]
  },
  {
   "cell_type": "code",
   "execution_count": null,
   "metadata": {},
   "outputs": [],
   "source": [
    "# \"Name\" sütununu indeks olarak ayarlama\n",
    "employees = employees.set_index('Name')\n",
    "print(employees)"
   ]
  },
  {
   "cell_type": "markdown",
   "metadata": {},
   "source": [
    "#### 6. Eksik Verilerle Çalışma (Missing Values)\n",
    "\n",
    "Eksik veriler, veri analizi sırasında kaçınılmazdır. Pandas, eksik verileri tespit etmek, doldurmak veya temizlemek için güçlü araçlar sunar.\n",
    "\n",
    "**Eksik Verileri Tespit Etme**\n",
    "\n",
    "isnull() ve notnull(): Eksik (NaN) değerleri tespit eder.\n",
    "any() ve all() ile sütun veya satır bazlı kontrol yapılabilir."
   ]
  },
  {
   "cell_type": "markdown",
   "metadata": {},
   "source": [
    "**isnull()**\n",
    "\n",
    "Eksik (missing) verileri tespit etmek için kullanılır.\n",
    "\n",
    "Bir hücrede NaN (Not a Number) ya da None değeri varsa, True döner. Diğer tüm durumlarda False döner.\n",
    "\n",
    "Hem DataFrame hem de Series üzerinde kullanılabilir."
   ]
  },
  {
   "cell_type": "code",
   "execution_count": 99,
   "metadata": {},
   "outputs": [
    {
     "name": "stdout",
     "output_type": "stream",
     "text": [
      "       A      B\n",
      "0  False   True\n",
      "1  False  False\n",
      "2   True  False\n"
     ]
    }
   ],
   "source": [
    "df = pd.DataFrame({\n",
    "    'A': [1, 2, np.nan],\n",
    "    'B': [None, 4, 5]\n",
    "})\n",
    "\n",
    "print(df.isnull())"
   ]
  },
  {
   "cell_type": "markdown",
   "metadata": {},
   "source": [
    "**isna()**\n",
    "\n",
    "isnull() ile aynıdır. İkisi arasında hiçbir fark yoktur.\n",
    "\n",
    "Pandas'ta iki isim de aynı işlevi görür, çünkü isna() aslında isnull() için bir takma isim (alias) olarak tanımlanmıştır."
   ]
  },
  {
   "cell_type": "code",
   "execution_count": 100,
   "metadata": {},
   "outputs": [
    {
     "name": "stdout",
     "output_type": "stream",
     "text": [
      "       A      B\n",
      "0  False   True\n",
      "1  False  False\n",
      "2   True  False\n"
     ]
    }
   ],
   "source": [
    "print(df.isna())"
   ]
  },
  {
   "cell_type": "markdown",
   "metadata": {},
   "source": [
    "**notnull()**\n",
    "\n",
    "Eksik olmayan (non-missing) verileri tespit etmek için kullanılır.\n",
    "\n",
    "Hücrede bir değer varsa True, eksikse (NaN/None) False döner.\n",
    "\n",
    "Hem DataFrame hem de Series üzerinde kullanılabilir."
   ]
  },
  {
   "cell_type": "code",
   "execution_count": 101,
   "metadata": {},
   "outputs": [
    {
     "name": "stdout",
     "output_type": "stream",
     "text": [
      "       A      B\n",
      "0   True  False\n",
      "1   True   True\n",
      "2  False   True\n"
     ]
    }
   ],
   "source": [
    "print(df.notnull())"
   ]
  },
  {
   "cell_type": "markdown",
   "metadata": {},
   "source": [
    "| Fonksiyon   | Açıklama                                             | Kullanım Amacı                   |\n",
    "|-------------|-----------------------------------------------------|----------------------------------|\n",
    "| `isnull()`  | Eksik (NaN/None) verileri tespit eder.              | Eksik veri kontrolü.             |\n",
    "| `isna()`    | `isnull()` ile aynıdır, işlevsel farkı yoktur.      | Alternatif isim olarak kullanılabilir. |\n",
    "| `notnull()` | Eksik olmayan (NaN/None olmayan) verileri tespit eder. | Veri doluluğunu kontrol eder.     |"
   ]
  },
  {
   "cell_type": "markdown",
   "metadata": {},
   "source": [
    "**Detecting Missing Values**"
   ]
  },
  {
   "cell_type": "code",
   "execution_count": null,
   "metadata": {},
   "outputs": [],
   "source": [
    "# Örnek veri seti\n",
    "employees = pd.DataFrame({\n",
    "    'Name': ['Ali', 'Ayşe', 'Mehmet', 'Fatma'],\n",
    "    'Age': [25, np.nan, 22, 28],\n",
    "    'Salary': [5000, 6000, np.nan, 7000]\n",
    "})\n",
    "\n",
    "# Eksik verileri tespit etme\n",
    "print(employees.isnull())\n"
   ]
  },
  {
   "cell_type": "markdown",
   "metadata": {},
   "source": [
    "**Converting Improper Values to NaN Values** Veri setindeki uygunsuz değerler NaN olarak değiştirilebilir."
   ]
  },
  {
   "cell_type": "code",
   "execution_count": null,
   "metadata": {},
   "outputs": [],
   "source": [
    "# \"Age\" sütununda -1 değeri varsa NaN ile değiştirme\n",
    "employees['Age'] = employees['Age'].replace(-1, np.nan)\n",
    "employees"
   ]
  },
  {
   "cell_type": "markdown",
   "metadata": {},
   "source": [
    "**Eksik Verileri Doldurma veya Silme**\n",
    "dropna() ve drop() Kullanımı\n",
    "\n",
    "`dropna():` Eksik değer içeren satır veya sütunları siler.\n",
    "\n",
    "`drop():` Belirli bir sütun veya satırı indeksine göre siler."
   ]
  },
  {
   "cell_type": "code",
   "execution_count": null,
   "metadata": {},
   "outputs": [],
   "source": [
    "# Eksik değer içeren satırları silme\n",
    "cleaned_data = employees.dropna()\n",
    "print(cleaned_data)"
   ]
  },
  {
   "cell_type": "markdown",
   "metadata": {},
   "source": [
    "**Filling Missing Values (Imputation)** Eksik değerleri doldurma:"
   ]
  },
  {
   "cell_type": "code",
   "execution_count": null,
   "metadata": {},
   "outputs": [],
   "source": [
    "# \"Age\" sütunundaki eksik değerleri ortalama ile doldurma\n",
    "employees['Age'] = employees['Age'].fillna(employees['Age'].mean())\n",
    "print(employees)"
   ]
  },
  {
   "cell_type": "markdown",
   "metadata": {},
   "source": [
    "**Filling Numeric Variables** Sayısal değerler için:"
   ]
  },
  {
   "cell_type": "code",
   "execution_count": null,
   "metadata": {},
   "outputs": [],
   "source": [
    "# \"Salary\" sütunundaki eksik değerleri sabit bir değer ile doldurma\n",
    "employees['Salary'] = employees['Salary'].fillna(5000)\n",
    "employees"
   ]
  },
  {
   "cell_type": "markdown",
   "metadata": {},
   "source": [
    "**Filling Categorical Variables** Kategorik değerler için:"
   ]
  },
  {
   "cell_type": "code",
   "execution_count": null,
   "metadata": {},
   "outputs": [],
   "source": [
    "# Kategorik sütunu en sık görülen değer ile doldurma\n",
    "employees['Name'] = employees['Name'].fillna(employees['Name'].mode()[0])\n",
    "employees"
   ]
  },
  {
   "cell_type": "markdown",
   "metadata": {},
   "source": [
    "**Filling by Condition & Group** Gruplara göre doldurma:"
   ]
  },
  {
   "cell_type": "code",
   "execution_count": null,
   "metadata": {},
   "outputs": [],
   "source": [
    "# Gruplama bazında eksik değer doldurma\n",
    "employees['Salary'] = employees.groupby('Name')['Salary'].transform(lambda x: x.fillna(x.mean()))\n",
    "employees"
   ]
  },
  {
   "cell_type": "markdown",
   "metadata": {},
   "source": [
    "#### 7. Gruplama ve Birleştirme İşlemleri\n",
    "\n",
    "`Gruplama (groupby())`\n",
    "\n",
    "Gruplama işlemi, veriyi belirli bir sütuna göre gruplar ve özet istatistikler çıkarır.\n",
    "\n",
    "groupby() ve Aggregation Methods"
   ]
  },
  {
   "cell_type": "code",
   "execution_count": null,
   "metadata": {},
   "outputs": [],
   "source": [
    "# Örnek veri seti\n",
    "employees = pd.DataFrame({\n",
    "    'Department': ['IT', 'HR', 'IT', 'HR'],\n",
    "    'Name': ['Ali', 'Ayşe', 'Mehmet', 'Fatma'],\n",
    "    'Salary': [5000, 6000, 4500, 7000]\n",
    "})\n",
    "\n",
    "# Gruplama ve toplam maaş hesaplama\n",
    "grouped = employees.groupby('Department')['Salary'].sum()\n",
    "print(grouped)"
   ]
  },
  {
   "cell_type": "markdown",
   "metadata": {},
   "source": [
    "**aggregate() ve agg()**\n",
    "\n",
    "`aggregate()` birden fazla fonksiyonu aynı anda uygular.\n"
   ]
  },
  {
   "cell_type": "code",
   "execution_count": null,
   "metadata": {},
   "outputs": [],
   "source": [
    "# Ortalama ve toplam maaş hesaplama\n",
    "result = employees.groupby('Department')['Salary'].aggregate(['mean', 'sum'])\n",
    "print(result)"
   ]
  },
  {
   "cell_type": "markdown",
   "metadata": {},
   "source": [
    "#### Birleştirme ve Birlikte Çalışma\n",
    "\n",
    "Pandas, farklı veri setlerini birleştirmek için çeşitli araçlar sunar.\n",
    "\n",
    "Combining DataFrames (concat, join, merge)"
   ]
  },
  {
   "cell_type": "markdown",
   "metadata": {},
   "source": [
    "`concat()`\n",
    "\n",
    "İki veya daha fazla DataFrame'i birleştirir (dikey veya yata"
   ]
  },
  {
   "cell_type": "code",
   "execution_count": null,
   "metadata": {},
   "outputs": [],
   "source": [
    "# İki DataFrame'i dikey birleştirme\n",
    "df1 = pd.DataFrame({'A': [1, 2], 'B': [3, 4]})\n",
    "df2 = pd.DataFrame({'A': [5, 6], 'B': [7, 8]})\n",
    "result = pd.concat([df1, df2])\n",
    "print(result)"
   ]
  },
  {
   "cell_type": "markdown",
   "metadata": {},
   "source": [
    "`join()`\n",
    "\n",
    "Sütun bazlı birleştirme, genellikle ortak bir indekse göre çalışır.\n",
    "\n"
   ]
  },
  {
   "cell_type": "code",
   "execution_count": null,
   "metadata": {},
   "outputs": [],
   "source": [
    "# İki DataFrame'i join ile birleştirme\n",
    "df1 = pd.DataFrame({'A': [1, 2]}, index=['a', 'b'])\n",
    "df2 = pd.DataFrame({'B': [3, 4]}, index=['a', 'b'])\n",
    "result = df1.join(df2)\n",
    "print(result)"
   ]
  },
  {
   "cell_type": "markdown",
   "metadata": {},
   "source": [
    "`merge()`\n",
    "\n",
    "Anahtar sütunlarına (primary key) göre birleştirme yapar."
   ]
  },
  {
   "cell_type": "code",
   "execution_count": null,
   "metadata": {},
   "outputs": [],
   "source": [
    "# Ortak sütuna göre birleştirme\n",
    "df1 = pd.DataFrame({'key': [1, 2, 3], 'value1': ['A', 'B', 'C']})\n",
    "df2 = pd.DataFrame({'key': [2, 3, 4], 'value2': ['X', 'Y', 'Z']})\n",
    "result = pd.merge(df1, df2, on='key', how='inner')\n",
    "print(result)\n"
   ]
  },
  {
   "cell_type": "markdown",
   "metadata": {},
   "source": [
    "#### 8. Pivot ve Dönüşüm İşlemleri"
   ]
  },
  {
   "cell_type": "markdown",
   "metadata": {},
   "source": [
    "**pivot() vs pivot_table()**\n",
    "\n",
    "`pivot()`\n",
    "\n",
    "- Belirli sütunlardaki değerleri yeniden düzenleyerek bir DataFrame oluşturur.\n",
    "- Sadece benzersiz sütun ve satır kombinasyonlarını kabul eder.\n",
    "- Kullanım: Daha çok veri yeniden yapılandırmada."
   ]
  },
  {
   "cell_type": "code",
   "execution_count": null,
   "metadata": {},
   "outputs": [],
   "source": [
    "# Örnek veri seti\n",
    "data = pd.DataFrame({\n",
    "    'City': ['Ankara', 'Istanbul', 'Ankara', 'Istanbul'],\n",
    "    'Year': [2021, 2021, 2022, 2022],\n",
    "    'Population': [5_000_000, 15_000_000, 5_200_000, 15_300_000]\n",
    "})\n",
    "data"
   ]
  },
  {
   "cell_type": "code",
   "execution_count": null,
   "metadata": {},
   "outputs": [],
   "source": [
    "# Pivot işlemi\n",
    "pivot_result = data.pivot(index='City', columns='Year', values='Population')\n",
    "print(pivot_result)"
   ]
  },
  {
   "cell_type": "markdown",
   "metadata": {},
   "source": [
    "`pivot_table()`\n",
    "\n",
    "- pivot() ile aynı mantıkta çalışır ancak aynı kombinasyondaki birden fazla değeri özetler (örneğin, mean veya sum alarak).\n",
    "\n",
    "- Birden fazla sütun kullanabilir."
   ]
  },
  {
   "cell_type": "code",
   "execution_count": null,
   "metadata": {},
   "outputs": [],
   "source": [
    "# pivot_table ile aynı işlem, ortalama hesaplamasıyla\n",
    "pivot_table_result = data.pivot_table(index='City', columns='Year', values='Population', aggfunc='mean')\n",
    "print(pivot_table_result)"
   ]
  },
  {
   "cell_type": "markdown",
   "metadata": {},
   "source": [
    "**Verileri Eriyik Hale Getirme (melt())**\n",
    "\n",
    "Veri çerçevesini uzun format haline getirir. Kullanışlıdır çünkü uzun format, birçok veri analizi ve görselleştirme işlemi için daha uygundur."
   ]
  },
  {
   "cell_type": "code",
   "execution_count": null,
   "metadata": {},
   "outputs": [],
   "source": [
    "# Veri setini eriyik hale getirme\n",
    "melted = data.melt(id_vars='City', var_name='Attribute', value_name='Value')\n",
    "print(melted)"
   ]
  },
  {
   "cell_type": "markdown",
   "metadata": {
    "vscode": {
     "languageId": "powershell"
    }
   },
   "source": [
    "**Kullanışlı İşlemler**\n",
    "\n",
    "`filter()`\n",
    "\n",
    "Sütun veya satırları filtrelemek için kullanılır.\n",
    "Sadece sütun adlarına ve indekslere dayanır."
   ]
  },
  {
   "cell_type": "code",
   "execution_count": null,
   "metadata": {},
   "outputs": [],
   "source": [
    "# Sadece belirli sütunları seçmek\n",
    "filtered = data.filter(items=['City', 'Population'])\n",
    "print(filtered)"
   ]
  },
  {
   "cell_type": "markdown",
   "metadata": {},
   "source": [
    "`where()`\n",
    "\n",
    "Belirli bir koşula göre değerleri saklar, aksi takdirde NaN atar."
   ]
  },
  {
   "cell_type": "code",
   "execution_count": null,
   "metadata": {},
   "outputs": [],
   "source": [
    "# Koşul: \"Population\" 10 milyonun üzerinde olmalı\n",
    "filtered_where = data.where(data['Population'] > 10_000_000)\n",
    "print(filtered_where)"
   ]
  },
  {
   "cell_type": "markdown",
   "metadata": {},
   "source": [
    "`transform()`\n",
    "\n",
    "- Veriyi satır bazında dönüştürür ve aynı boyutlarda bir sonuç döndürür.\n",
    "- Gruplama sonrası sütunlar üzerinde dönüşümler yapmak için kullanışlıdır."
   ]
  },
  {
   "cell_type": "code",
   "execution_count": null,
   "metadata": {},
   "outputs": [],
   "source": [
    "# Maaşları maaşların ortalamasıyla karşılaştır\n",
    "data['Adjusted Population'] = data['Population'].transform(lambda x: x - x.mean())\n",
    "print(data)"
   ]
  },
  {
   "cell_type": "markdown",
   "metadata": {},
   "source": [
    "apply(), applymap(), map()\n",
    "\n",
    "`apply()`\n",
    "\n",
    "Bir satır veya sütun üzerinde dönüşüm uygular.\n",
    "Sütun bazlı: axis=0, satır bazlı: axis=1.\n",
    "\n"
   ]
  },
  {
   "cell_type": "code",
   "execution_count": 49,
   "metadata": {},
   "outputs": [
    {
     "name": "stdout",
     "output_type": "stream",
     "text": [
      "       City  Year  Population  Adjusted Population  Population (in millions)\n",
      "0    Ankara  2021     5000000           -5125000.0                       5.0\n",
      "1  Istanbul  2021    15000000            4875000.0                      15.0\n",
      "2    Ankara  2022     5200000           -4925000.0                       5.2\n",
      "3  Istanbul  2022    15300000            5175000.0                      15.3\n"
     ]
    }
   ],
   "source": [
    "# Nüfusu milyonlara çevirme\n",
    "data['Population (in millions)'] = data['Population'].apply(lambda x: x / 1_000_000)\n",
    "print(data)\n"
   ]
  },
  {
   "cell_type": "markdown",
   "metadata": {},
   "source": [
    "`applymap()`\n",
    "\n",
    "DataFrame seviyesinde, her bir hücreye dönüşüm uygular."
   ]
  },
  {
   "cell_type": "code",
   "execution_count": 50,
   "metadata": {},
   "outputs": [
    {
     "name": "stdout",
     "output_type": "stream",
     "text": [
      "   Population  Year\n",
      "0     5000010  2031\n",
      "1    15000010  2031\n",
      "2     5200010  2032\n",
      "3    15300010  2032\n"
     ]
    },
    {
     "name": "stderr",
     "output_type": "stream",
     "text": [
      "C:\\Users\\rbeyz\\AppData\\Local\\Temp\\ipykernel_5652\\2139529922.py:2: FutureWarning: DataFrame.applymap has been deprecated. Use DataFrame.map instead.\n",
      "  result = data[['Population', 'Year']].applymap(lambda x: x + 10)\n"
     ]
    }
   ],
   "source": [
    "# Veri çerçevesindeki her hücreye 10 ekleme\n",
    "result = data[['Population', 'Year']].applymap(lambda x: x + 10)\n",
    "print(result)"
   ]
  },
  {
   "cell_type": "markdown",
   "metadata": {},
   "source": [
    "`map()`\n",
    "\n",
    "Sadece Series nesnelerine uygulanır."
   ]
  },
  {
   "cell_type": "code",
   "execution_count": 51,
   "metadata": {},
   "outputs": [
    {
     "name": "stdout",
     "output_type": "stream",
     "text": [
      "       City  Year  Population  Adjusted Population  Population (in millions)\n",
      "0    ANKARA  2021     5000000           -5125000.0                       5.0\n",
      "1  ISTANBUL  2021    15000000            4875000.0                      15.0\n",
      "2    ANKARA  2022     5200000           -4925000.0                       5.2\n",
      "3  ISTANBUL  2022    15300000            5175000.0                      15.3\n"
     ]
    }
   ],
   "source": [
    "# Şehir isimlerini büyük harflere çevirme\n",
    "data['City'] = data['City'].map(str.upper)\n",
    "print(data)"
   ]
  },
  {
   "cell_type": "markdown",
   "metadata": {},
   "source": [
    "#### 10. Zaman Serileri ile Çalışma\n",
    "\n",
    "**1.Tarih ve Zaman Verileri (to_datetime(), date_range())**\n",
    "\n",
    "to_datetime(): Bir tarih veya zaman değerini datetime formatına dönüştürmek için kullanılır. Pandas, bu işlemi farklı biçimlerdeki tarih ve saat bilgilerini otomatik olarak tanır."
   ]
  },
  {
   "cell_type": "code",
   "execution_count": 52,
   "metadata": {},
   "outputs": [
    {
     "name": "stdout",
     "output_type": "stream",
     "text": [
      "Date    datetime64[ns]\n",
      "dtype: object\n"
     ]
    }
   ],
   "source": [
    "# Tarih verisini datetime formatına dönüştürme\n",
    "data = pd.DataFrame({'Date': ['2023-01-01', '2023-01-02', '2023-01-03']})\n",
    "data['Date'] = pd.to_datetime(data['Date'])\n",
    "print(data.dtypes)\n"
   ]
  },
  {
   "cell_type": "markdown",
   "metadata": {},
   "source": [
    "**date_range():** Belirli bir başlangıç ve bitiş tarihi arasında tarih aralığı oluşturur."
   ]
  },
  {
   "cell_type": "code",
   "execution_count": 53,
   "metadata": {},
   "outputs": [
    {
     "name": "stdout",
     "output_type": "stream",
     "text": [
      "DatetimeIndex(['2023-01-01', '2023-01-02', '2023-01-03', '2023-01-04',\n",
      "               '2023-01-05', '2023-01-06', '2023-01-07', '2023-01-08',\n",
      "               '2023-01-09', '2023-01-10', '2023-01-11', '2023-01-12',\n",
      "               '2023-01-13', '2023-01-14', '2023-01-15', '2023-01-16',\n",
      "               '2023-01-17', '2023-01-18', '2023-01-19', '2023-01-20',\n",
      "               '2023-01-21', '2023-01-22', '2023-01-23', '2023-01-24',\n",
      "               '2023-01-25', '2023-01-26', '2023-01-27', '2023-01-28',\n",
      "               '2023-01-29', '2023-01-30', '2023-01-31'],\n",
      "              dtype='datetime64[ns]', freq='D')\n"
     ]
    }
   ],
   "source": [
    "# 2023 yılı Ocak ayı boyunca günlük tarih aralığı\n",
    "dates = pd.date_range(start='2023-01-01', end='2023-01-31', freq='D')\n",
    "print(dates)"
   ]
  },
  {
   "cell_type": "markdown",
   "metadata": {},
   "source": [
    "**Zaman Serilerini İndeks Olarak Kullanma**\n",
    "\n",
    "Zaman serileriyle çalışırken, tarih değerlerini indeks olarak kullanmak analiz ve görselleştirme işlemleri için oldukça faydalıdır."
   ]
  },
  {
   "cell_type": "code",
   "execution_count": 54,
   "metadata": {},
   "outputs": [
    {
     "name": "stdout",
     "output_type": "stream",
     "text": [
      "            Value\n",
      "Date             \n",
      "2023-01-01      0\n",
      "2023-01-02      1\n",
      "2023-01-03      2\n",
      "2023-01-04      3\n",
      "2023-01-05      4\n",
      "2023-01-06      5\n",
      "2023-01-07      6\n",
      "2023-01-08      7\n",
      "2023-01-09      8\n",
      "2023-01-10      9\n",
      "2023-01-11     10\n",
      "2023-01-12     11\n",
      "2023-01-13     12\n",
      "2023-01-14     13\n",
      "2023-01-15     14\n",
      "2023-01-16     15\n",
      "2023-01-17     16\n",
      "2023-01-18     17\n",
      "2023-01-19     18\n",
      "2023-01-20     19\n",
      "2023-01-21     20\n",
      "2023-01-22     21\n",
      "2023-01-23     22\n",
      "2023-01-24     23\n",
      "2023-01-25     24\n",
      "2023-01-26     25\n",
      "2023-01-27     26\n",
      "2023-01-28     27\n",
      "2023-01-29     28\n",
      "2023-01-30     29\n",
      "2023-01-31     30\n"
     ]
    }
   ],
   "source": [
    "# Tarihi indeks olarak ayarlama\n",
    "data = pd.DataFrame({'Date': dates, 'Value': range(len(dates))})\n",
    "data.set_index('Date', inplace=True)\n",
    "print(data)"
   ]
  },
  {
   "cell_type": "markdown",
   "metadata": {},
   "source": [
    "**Zaman Serileri Üzerinde İleri İşlemler**\n",
    "\n",
    "Kaydırma (shift): Veriyi ileri veya geri kaydırır.\n",
    "Yeniden örnekleme (resample): Veriyi farklı bir zaman aralığında yeniden düzenler."
   ]
  },
  {
   "cell_type": "code",
   "execution_count": 55,
   "metadata": {},
   "outputs": [
    {
     "name": "stdout",
     "output_type": "stream",
     "text": [
      "            Value  Shifted\n",
      "Date                      \n",
      "2023-01-01      0      NaN\n",
      "2023-01-02      1      0.0\n",
      "2023-01-03      2      1.0\n",
      "2023-01-04      3      2.0\n",
      "2023-01-05      4      3.0\n",
      "2023-01-06      5      4.0\n",
      "2023-01-07      6      5.0\n",
      "2023-01-08      7      6.0\n",
      "2023-01-09      8      7.0\n",
      "2023-01-10      9      8.0\n",
      "2023-01-11     10      9.0\n",
      "2023-01-12     11     10.0\n",
      "2023-01-13     12     11.0\n",
      "2023-01-14     13     12.0\n",
      "2023-01-15     14     13.0\n",
      "2023-01-16     15     14.0\n",
      "2023-01-17     16     15.0\n",
      "2023-01-18     17     16.0\n",
      "2023-01-19     18     17.0\n",
      "2023-01-20     19     18.0\n",
      "2023-01-21     20     19.0\n",
      "2023-01-22     21     20.0\n",
      "2023-01-23     22     21.0\n",
      "2023-01-24     23     22.0\n",
      "2023-01-25     24     23.0\n",
      "2023-01-26     25     24.0\n",
      "2023-01-27     26     25.0\n",
      "2023-01-28     27     26.0\n",
      "2023-01-29     28     27.0\n",
      "2023-01-30     29     28.0\n",
      "2023-01-31     30     29.0\n",
      "            Value  Shifted\n",
      "Date                      \n",
      "2023-01-01      0      0.0\n",
      "2023-01-08     28     21.0\n",
      "2023-01-15     77     70.0\n",
      "2023-01-22    126    119.0\n",
      "2023-01-29    175    168.0\n",
      "2023-02-05     59     57.0\n"
     ]
    }
   ],
   "source": [
    "# Kaydırma\n",
    "data['Shifted'] = data['Value'].shift(1)\n",
    "print(data)\n",
    "\n",
    "# Yeniden örnekleme: Haftalık toplam\n",
    "weekly = data.resample('W').sum()\n",
    "print(weekly)"
   ]
  },
  {
   "cell_type": "markdown",
   "metadata": {},
   "source": [
    "#### 11. Metin Verileri ile Çalışma\n",
    "\n",
    "Pandas, metin verilerini işlemek için zengin bir dizi string metodu sunar. Bu metodlar str ile çağrılır."
   ]
  },
  {
   "cell_type": "markdown",
   "metadata": {},
   "source": [
    "**Tarih ve Zaman Verileri (to_datetime(), date_range())**\n",
    "\n",
    "`to_datetime():` Bir tarih veya zaman değerini datetime formatına dönüştürmek için kullanılır. Pandas, bu işlemi farklı biçimlerdeki tarih ve saat bilgilerini otomatik olarak tanır."
   ]
  },
  {
   "cell_type": "code",
   "execution_count": 56,
   "metadata": {},
   "outputs": [
    {
     "name": "stdout",
     "output_type": "stream",
     "text": [
      "Date    datetime64[ns]\n",
      "dtype: object\n"
     ]
    }
   ],
   "source": [
    "# Tarih verisini datetime formatına dönüştürme\n",
    "data = pd.DataFrame({'Date': ['2023-01-01', '2023-01-02', '2023-01-03']})\n",
    "data['Date'] = pd.to_datetime(data['Date'])\n",
    "print(data.dtypes)"
   ]
  },
  {
   "cell_type": "markdown",
   "metadata": {},
   "source": [
    "`date_range():` Belirli bir başlangıç ve bitiş tarihi arasında tarih aralığı oluşturur."
   ]
  },
  {
   "cell_type": "code",
   "execution_count": 57,
   "metadata": {},
   "outputs": [
    {
     "name": "stdout",
     "output_type": "stream",
     "text": [
      "DatetimeIndex(['2023-01-01', '2023-01-02', '2023-01-03', '2023-01-04',\n",
      "               '2023-01-05', '2023-01-06', '2023-01-07', '2023-01-08',\n",
      "               '2023-01-09', '2023-01-10', '2023-01-11', '2023-01-12',\n",
      "               '2023-01-13', '2023-01-14', '2023-01-15', '2023-01-16',\n",
      "               '2023-01-17', '2023-01-18', '2023-01-19', '2023-01-20',\n",
      "               '2023-01-21', '2023-01-22', '2023-01-23', '2023-01-24',\n",
      "               '2023-01-25', '2023-01-26', '2023-01-27', '2023-01-28',\n",
      "               '2023-01-29', '2023-01-30', '2023-01-31'],\n",
      "              dtype='datetime64[ns]', freq='D')\n"
     ]
    }
   ],
   "source": [
    "# 2023 yılı Ocak ayı boyunca günlük tarih aralığı\n",
    "dates = pd.date_range(start='2023-01-01', end='2023-01-31', freq='D')\n",
    "print(dates)"
   ]
  },
  {
   "cell_type": "markdown",
   "metadata": {},
   "source": [
    "**Zaman Serilerini İndeks Olarak Kullanma**\n",
    "\n",
    "Zaman serileriyle çalışırken, tarih değerlerini indeks olarak kullanmak analiz ve görselleştirme işlemleri için oldukça faydalıdır."
   ]
  },
  {
   "cell_type": "code",
   "execution_count": 58,
   "metadata": {},
   "outputs": [
    {
     "name": "stdout",
     "output_type": "stream",
     "text": [
      "            Value\n",
      "Date             \n",
      "2023-01-01      0\n",
      "2023-01-02      1\n",
      "2023-01-03      2\n",
      "2023-01-04      3\n",
      "2023-01-05      4\n",
      "2023-01-06      5\n",
      "2023-01-07      6\n",
      "2023-01-08      7\n",
      "2023-01-09      8\n",
      "2023-01-10      9\n",
      "2023-01-11     10\n",
      "2023-01-12     11\n",
      "2023-01-13     12\n",
      "2023-01-14     13\n",
      "2023-01-15     14\n",
      "2023-01-16     15\n",
      "2023-01-17     16\n",
      "2023-01-18     17\n",
      "2023-01-19     18\n",
      "2023-01-20     19\n",
      "2023-01-21     20\n",
      "2023-01-22     21\n",
      "2023-01-23     22\n",
      "2023-01-24     23\n",
      "2023-01-25     24\n",
      "2023-01-26     25\n",
      "2023-01-27     26\n",
      "2023-01-28     27\n",
      "2023-01-29     28\n",
      "2023-01-30     29\n",
      "2023-01-31     30\n"
     ]
    }
   ],
   "source": [
    "# Tarihi indeks olarak ayarlama\n",
    "data = pd.DataFrame({'Date': dates, 'Value': range(len(dates))})\n",
    "data.set_index('Date', inplace=True)\n",
    "print(data)"
   ]
  },
  {
   "cell_type": "markdown",
   "metadata": {},
   "source": [
    "**Zaman Serileri Üzerinde İleri İşlemler**\n",
    "\n",
    "- Kaydırma (shift): Veriyi ileri veya geri kaydırır.\n",
    "- Yeniden örnekleme (resample): Veriyi farklı bir zaman aralığında yeniden düzenler."
   ]
  },
  {
   "cell_type": "code",
   "execution_count": 60,
   "metadata": {},
   "outputs": [
    {
     "name": "stdout",
     "output_type": "stream",
     "text": [
      "            Value  Shifted\n",
      "Date                      \n",
      "2023-01-01      0      NaN\n",
      "2023-01-02      1      0.0\n",
      "2023-01-03      2      1.0\n",
      "2023-01-04      3      2.0\n",
      "2023-01-05      4      3.0\n",
      "2023-01-06      5      4.0\n",
      "2023-01-07      6      5.0\n",
      "2023-01-08      7      6.0\n",
      "2023-01-09      8      7.0\n",
      "2023-01-10      9      8.0\n",
      "2023-01-11     10      9.0\n",
      "2023-01-12     11     10.0\n",
      "2023-01-13     12     11.0\n",
      "2023-01-14     13     12.0\n",
      "2023-01-15     14     13.0\n",
      "2023-01-16     15     14.0\n",
      "2023-01-17     16     15.0\n",
      "2023-01-18     17     16.0\n",
      "2023-01-19     18     17.0\n",
      "2023-01-20     19     18.0\n",
      "2023-01-21     20     19.0\n",
      "2023-01-22     21     20.0\n",
      "2023-01-23     22     21.0\n",
      "2023-01-24     23     22.0\n",
      "2023-01-25     24     23.0\n",
      "2023-01-26     25     24.0\n",
      "2023-01-27     26     25.0\n",
      "2023-01-28     27     26.0\n",
      "2023-01-29     28     27.0\n",
      "2023-01-30     29     28.0\n",
      "2023-01-31     30     29.0\n"
     ]
    }
   ],
   "source": [
    "# Kaydırma\n",
    "data['Shifted'] = data['Value'].shift(1)\n",
    "print(data)\n",
    "\n"
   ]
  },
  {
   "cell_type": "code",
   "execution_count": 61,
   "metadata": {},
   "outputs": [
    {
     "name": "stdout",
     "output_type": "stream",
     "text": [
      "            Value  Shifted\n",
      "Date                      \n",
      "2023-01-01      0      0.0\n",
      "2023-01-08     28     21.0\n",
      "2023-01-15     77     70.0\n",
      "2023-01-22    126    119.0\n",
      "2023-01-29    175    168.0\n",
      "2023-02-05     59     57.0\n"
     ]
    }
   ],
   "source": [
    "# Yeniden örnekleme: Haftalık toplam\n",
    "weekly = data.resample('W').sum()\n",
    "print(weekly)"
   ]
  },
  {
   "cell_type": "markdown",
   "metadata": {},
   "source": [
    "#### 11. Metin Verileri ile Çalışma\n",
    "\n",
    "Pandas, metin verilerini işlemek için zengin bir dizi string metodu sunar. Bu metodlar str ile çağrılır."
   ]
  },
  {
   "cell_type": "markdown",
   "metadata": {},
   "source": [
    "# Text Data - String Methods\n",
    "    \n",
    "**str.lower():** Bir stringi kücük harfe dönüstürür.\n",
    "\n",
    "**str.upper():** Bir stringi büyük harfe dönüstürür.\n",
    "\n",
    "**str.capitalize():** İlk karakteri büyük harfe dönüstürür.\n",
    "\n",
    "**str.title():** Her kelimenin ilk karakterini büyük harfe dönüstürür.\n",
    "\n",
    "**str.swapcase():** Büyük harfleri küçük, kücük harfleri büyük harfe dönüstürür.\n",
    "\n",
    "**str.isalpha():** Tüm karakterlerin alfabede yer alip almadigini kontrol ederek True veya False degeri döndürür.\n",
    "\n",
    "**str.isnumeric():** Tüm karakterlerin sayisal deger icerip icermedigini kontrol ederek True veya False degeri döndürür.\n",
    "\n",
    "**str.isalnum():** Tüm karakterlerin harf veya sayisal deger icerip icermedigini kontrol ederek True veya False degeri döndürür.\n",
    "\n",
    "**str.endswith():** Bir stringin belirtilen degerle bittigini kontrol ederek True veya False degeri döndürür.\n",
    "\n",
    "**str.startswith():** Bir stringin belirtilen degerle basladigini kontrol ederek True veya False degeri döndürür.\n",
    "\n",
    "**str.contains():** Bir alt dizinin bir dizede bulunup bulunmadigini kontrol ederek her bir öge icin True veya False degeri döndürür.\n",
    "\n",
    "**str.strip():** Bir stringin basindaki ve sonundaki bosluklari temizler ve kirpilmis bir versiyonunu döndürür.\n",
    "\n",
    "**str.replace():** Belirtilen bir degeri baska bir degerle degistirimis bir string döndürür.\n",
    "\n",
    "**str.split():** Bir stringi belirtilen ayracta böler ve bir liste döndürür.\n",
    "\n",
    "**str.find():** Bir stringde belirtilen bir degeri arar ve bulundugu konumun indeksini döndürür.\n",
    "\n",
    "**str.findall():** Bir desendeki tüm örneklerin bir listesini döndürür.\n",
    "\n",
    "**str.join():** Bir iterable'in ögelerini bir stringe dönüstürür."
   ]
  },
  {
   "cell_type": "code",
   "execution_count": 65,
   "metadata": {},
   "outputs": [
    {
     "data": {
      "text/html": [
       "<div>\n",
       "<style scoped>\n",
       "    .dataframe tbody tr th:only-of-type {\n",
       "        vertical-align: middle;\n",
       "    }\n",
       "\n",
       "    .dataframe tbody tr th {\n",
       "        vertical-align: top;\n",
       "    }\n",
       "\n",
       "    .dataframe thead th {\n",
       "        text-align: right;\n",
       "    }\n",
       "</style>\n",
       "<table border=\"1\" class=\"dataframe\">\n",
       "  <thead>\n",
       "    <tr style=\"text-align: right;\">\n",
       "      <th></th>\n",
       "      <th>Names</th>\n",
       "    </tr>\n",
       "  </thead>\n",
       "  <tbody>\n",
       "    <tr>\n",
       "      <th>0</th>\n",
       "      <td>Ali Veli</td>\n",
       "    </tr>\n",
       "    <tr>\n",
       "      <th>1</th>\n",
       "      <td>Ayşe Fatma</td>\n",
       "    </tr>\n",
       "    <tr>\n",
       "      <th>2</th>\n",
       "      <td>Mehmet Can</td>\n",
       "    </tr>\n",
       "  </tbody>\n",
       "</table>\n",
       "</div>"
      ],
      "text/plain": [
       "        Names\n",
       "0    Ali Veli\n",
       "1  Ayşe Fatma\n",
       "2  Mehmet Can"
      ]
     },
     "execution_count": 65,
     "metadata": {},
     "output_type": "execute_result"
    }
   ],
   "source": [
    "# Örnek veri seti\n",
    "data = pd.DataFrame({'Names': ['Ali Veli', 'Ayşe Fatma', 'Mehmet Can']})\n",
    "data"
   ]
  },
  {
   "cell_type": "code",
   "execution_count": 66,
   "metadata": {},
   "outputs": [
    {
     "name": "stdout",
     "output_type": "stream",
     "text": [
      "        Names   Uppercase   Lowercase          Split  Length\n",
      "0    Ali Veli    ALI VELI    ali veli    [Ali, Veli]       8\n",
      "1  Ayşe Fatma  AYŞE FATMA  ayşe fatma  [Ayşe, Fatma]      10\n",
      "2  Mehmet Can  MEHMET CAN  mehmet can  [Mehmet, Can]      10\n"
     ]
    }
   ],
   "source": [
    "# Metin işlemleri\n",
    "data['Uppercase'] = data['Names'].str.upper()  # Büyük harf\n",
    "data['Lowercase'] = data['Names'].str.lower()  # Küçük harf\n",
    "data['Split'] = data['Names'].str.split()  # Boşluklardan ayırma\n",
    "data['Length'] = data['Names'].str.len()  # Karakter uzunluğu\n",
    "print(data)"
   ]
  },
  {
   "cell_type": "markdown",
   "metadata": {},
   "source": [
    "#### 12. Dummy Değişkenler\n",
    "\n",
    "Dummy değişkenler, kategorik verileri sayısal formata dönüştürmek için kullanılır."
   ]
  },
  {
   "cell_type": "code",
   "execution_count": 63,
   "metadata": {},
   "outputs": [
    {
     "name": "stdout",
     "output_type": "stream",
     "text": [
      "   City_Ankara  City_Istanbul  City_Izmir\n",
      "0         True          False       False\n",
      "1        False           True       False\n",
      "2         True          False       False\n",
      "3        False          False        True\n"
     ]
    }
   ],
   "source": [
    "# Örnek veri seti\n",
    "data = pd.DataFrame({'City': ['Ankara', 'Istanbul', 'Ankara', 'Izmir']})\n",
    "\n",
    "# Dummy değişken oluşturma\n",
    "dummy = pd.get_dummies(data['City'], prefix='City')\n",
    "print(dummy)"
   ]
  },
  {
   "cell_type": "markdown",
   "metadata": {},
   "source": [
    "#### 13. Veri Görselleştirme\n",
    "\n",
    "Pandas ile Basit Grafikler (plot())\n",
    "Pandas, hızlı veri görselleştirme için dahili bir plot() fonksiyonu sağlar."
   ]
  },
  {
   "cell_type": "code",
   "execution_count": 67,
   "metadata": {},
   "outputs": [],
   "source": [
    "# Örnek zaman serisi\n",
    "data = pd.DataFrame({'Date': pd.date_range(start='2023-01-01', periods=10),\n",
    "                     'Value': [1, 3, 5, 7, 9, 11, 13, 15, 17, 19]})\n",
    "data.set_index('Date', inplace=True)"
   ]
  },
  {
   "cell_type": "code",
   "execution_count": 68,
   "metadata": {},
   "outputs": [
    {
     "data": {
      "text/plain": [
       "<Axes: title={'center': 'Simple Line Plot'}, xlabel='Date'>"
      ]
     },
     "execution_count": 68,
     "metadata": {},
     "output_type": "execute_result"
    },
    {
     "data": {
      "image/png": "[encoded data removed]",
      "text/plain": [
       "<Figure size 640x480 with 1 Axes>"
      ]
     },
     "metadata": {},
     "output_type": "display_data"
    }
   ],
   "source": [
    "# Çizgi grafiği\n",
    "data.plot(title=\"Simple Line Plot\")\n"
   ]
  },
  {
   "cell_type": "markdown",
   "metadata": {},
   "source": [
    "**Matplotlib ve Seaborn ile Entegrasyon**\n",
    "\n",
    "Pandas, matplotlib ve seaborn gibi kütüphanelerle kolayca entegre olabilir."
   ]
  },
  {
   "cell_type": "code",
   "execution_count": 69,
   "metadata": {},
   "outputs": [
    {
     "data": {
      "image/png": "[encoded data removed]",
      "text/plain": [
       "<Figure size 640x480 with 1 Axes>"
      ]
     },
     "metadata": {},
     "output_type": "display_data"
    }
   ],
   "source": [
    "import seaborn as sns\n",
    "import matplotlib.pyplot as plt\n",
    "\n",
    "# Seaborn ile bir çubuk grafiği\n",
    "sns.barplot(x=['A', 'B', 'C'], y=[10, 20, 15])\n",
    "plt.title('Seaborn Bar Plot')\n",
    "plt.show()"
   ]
  },
  {
   "cell_type": "markdown",
   "metadata": {},
   "source": [
    "#### 14. Dosya Okuma ve Yazma İşlemleri\n",
    "\n",
    "**Import and Export DataFrame**\n",
    "\n",
    "Excel dosyasını Pandas ile okuma ve yazma işlemleri için kullanılabilecek temel fonksiyonlar:\n",
    "\n",
    "`read_excel():` Excel dosyalarını okur.\n",
    "\n",
    "`to_excel():` DataFrame’i bir Excel dosyasına kaydeder."
   ]
  },
  {
   "cell_type": "markdown",
   "metadata": {},
   "source": [
    "**CSV, Excel, JSON, ve SQL ile Çalışma**\n",
    "\n",
    "CSV Dosyasını Okuma (read_csv)\n",
    "\n",
    "adult.csv dosyasını okuma işlemi:"
   ]
  },
  {
   "cell_type": "code",
   "execution_count": null,
   "metadata": {},
   "outputs": [],
   "source": []
  },
  {
   "cell_type": "code",
   "execution_count": 74,
   "metadata": {},
   "outputs": [
    {
     "name": "stdout",
     "output_type": "stream",
     "text": [
      "   age workclass  fnlwgt     education  education.num marital.status  \\\n",
      "0   90         ?   77053       HS-grad              9        Widowed   \n",
      "1   82   Private  132870       HS-grad              9        Widowed   \n",
      "2   66         ?  186061  Some-college             10        Widowed   \n",
      "3   54   Private  140359       7th-8th              4       Divorced   \n",
      "4   41   Private  264663  Some-college             10      Separated   \n",
      "\n",
      "          occupation   relationship   race     sex  capital.gain  \\\n",
      "0                  ?  Not-in-family  White  Female             0   \n",
      "1    Exec-managerial  Not-in-family  White  Female             0   \n",
      "2                  ?      Unmarried  Black  Female             0   \n",
      "3  Machine-op-inspct      Unmarried  White  Female             0   \n",
      "4     Prof-specialty      Own-child  White  Female             0   \n",
      "\n",
      "   capital.loss  hours.per.week native.country income  \n",
      "0          4356              40  United-States  <=50K  \n",
      "1          4356              18  United-States  <=50K  \n",
      "2          4356              40  United-States  <=50K  \n",
      "3          3900              40  United-States  <=50K  \n",
      "4          3900              40  United-States  <=50K  \n"
     ]
    }
   ],
   "source": [
    "import pandas as pd\n",
    "\n",
    "# CSV dosyasını okuma\n",
    "data = pd.read_csv('adult.csv')\n",
    "\n",
    "# İlk birkaç satırı görüntüleme\n",
    "print(data.head())\n",
    "# Çıktı: adult.csv içeriğinin ilk 5 satırını görüntüler."
   ]
  },
  {
   "cell_type": "markdown",
   "metadata": {},
   "source": [
    "**CSV Dosyasını Yazma (to_csv)**\n",
    "\n",
    "Bir DataFrame’i CSV dosyasına yazma:"
   ]
  },
  {
   "cell_type": "code",
   "execution_count": 75,
   "metadata": {},
   "outputs": [
    {
     "name": "stdout",
     "output_type": "stream",
     "text": [
      "DataFrame, output_adult.csv dosyasına yazıldı.\n"
     ]
    }
   ],
   "source": [
    "# Örnek DataFrame\n",
    "data = pd.DataFrame({\n",
    "    'Name': ['Ali', 'Ayşe', 'Mehmet', 'Fatma'],\n",
    "    'Age': [25, 30, 22, 28],\n",
    "    'Salary': [5000, 6000, 4500, 7000]\n",
    "})\n",
    "\n",
    "# CSV dosyasına yazma\n",
    "data.to_csv('output_adult.csv', index=False)\n",
    "print(\"DataFrame, output_adult.csv dosyasına yazıldı.\")"
   ]
  },
  {
   "cell_type": "markdown",
   "metadata": {},
   "source": [
    "**Büyük Veri Dosyalarıyla Çalışma (chunksize)**\n",
    "\n",
    "CSV Dosyasını Parça Parça Okuma Büyük bir adult.csv dosyasını parçalar halinde işleme:"
   ]
  },
  {
   "cell_type": "code",
   "execution_count": 78,
   "metadata": {},
   "outputs": [],
   "source": [
    "# Büyük bir CSV dosyasını parçalar halinde okuma\n",
    "chunk_size = 1000  # Her seferinde 1000 satır okur\n",
    "reader = pd.read_csv('adult.csv', chunksize=chunk_size)"
   ]
  },
  {
   "cell_type": "code",
   "execution_count": 79,
   "metadata": {},
   "outputs": [
    {
     "name": "stdout",
     "output_type": "stream",
     "text": [
      "   age workclass  fnlwgt     education  education.num marital.status  \\\n",
      "0   90         ?   77053       HS-grad              9        Widowed   \n",
      "1   82   Private  132870       HS-grad              9        Widowed   \n",
      "2   66         ?  186061  Some-college             10        Widowed   \n",
      "3   54   Private  140359       7th-8th              4       Divorced   \n",
      "4   41   Private  264663  Some-college             10      Separated   \n",
      "\n",
      "          occupation   relationship   race     sex  capital.gain  \\\n",
      "0                  ?  Not-in-family  White  Female             0   \n",
      "1    Exec-managerial  Not-in-family  White  Female             0   \n",
      "2                  ?      Unmarried  Black  Female             0   \n",
      "3  Machine-op-inspct      Unmarried  White  Female             0   \n",
      "4     Prof-specialty      Own-child  White  Female             0   \n",
      "\n",
      "   capital.loss  hours.per.week native.country income  \n",
      "0          4356              40  United-States  <=50K  \n",
      "1          4356              18  United-States  <=50K  \n",
      "2          4356              40  United-States  <=50K  \n",
      "3          3900              40  United-States  <=50K  \n",
      "4          3900              40  United-States  <=50K  \n",
      "      age         workclass  fnlwgt   education  education.num  \\\n",
      "1000   39  Self-emp-not-inc  134475   Bachelors             13   \n",
      "1001   43           Private  138184     HS-grad              9   \n",
      "1002   22           Private  156822        10th              6   \n",
      "1003   30           Private  145231  Assoc-acdm             12   \n",
      "1004   21           Private  213341        11th              7   \n",
      "\n",
      "             marital.status         occupation   relationship   race     sex  \\\n",
      "1000               Divorced       Adm-clerical  Not-in-family  White    Male   \n",
      "1001               Divorced      Other-service  Not-in-family  Black  Female   \n",
      "1002          Never-married              Sales  Not-in-family  White  Female   \n",
      "1003               Divorced       Adm-clerical      Own-child  White  Female   \n",
      "1004  Married-spouse-absent  Handlers-cleaners      Own-child  White    Male   \n",
      "\n",
      "      capital.gain  capital.loss  hours.per.week      native.country income  \n",
      "1000             0          1762              40       United-States  <=50K  \n",
      "1001             0          1762              35       United-States  <=50K  \n",
      "1002             0          1762              25       United-States  <=50K  \n",
      "1003             0          1762              40       United-States  <=50K  \n",
      "1004             0          1762              40  Dominican-Republic  <=50K  \n",
      "      age     workclass  fnlwgt     education  education.num  \\\n",
      "2000   35       Private  186183       HS-grad              9   \n",
      "2001   49  Self-emp-inc  191277  Some-college             10   \n",
      "2002   50       Private  164198    Assoc-acdm             12   \n",
      "2003   31       Private  167725     Bachelors             13   \n",
      "2004   53     Local-gov  283602       Masters             14   \n",
      "\n",
      "          marital.status         occupation relationship                race  \\\n",
      "2000  Married-civ-spouse   Transport-moving      Husband               White   \n",
      "2001  Married-civ-spouse    Exec-managerial      Husband               White   \n",
      "2002  Married-civ-spouse  Handlers-cleaners      Husband               Black   \n",
      "2003  Married-civ-spouse     Prof-specialty      Husband  Asian-Pac-Islander   \n",
      "2004  Married-civ-spouse     Prof-specialty         Wife               White   \n",
      "\n",
      "         sex  capital.gain  capital.loss  hours.per.week native.country income  \n",
      "2000    Male         15024             0              80  United-States   >50K  \n",
      "2001    Male         15024             0              50  United-States   >50K  \n",
      "2002    Male         15024             0              45  United-States   >50K  \n",
      "2003    Male         15024             0              48    Philippines   >50K  \n",
      "2004  Female         15024             0              40  United-States   >50K  \n",
      "      age     workclass  fnlwgt     education  education.num  \\\n",
      "3000   42       Private  159449     Bachelors             13   \n",
      "3001   42     Local-gov   97688  Some-college             10   \n",
      "3002   36       Private  188563  Some-college             10   \n",
      "3003   32       Private  231043       HS-grad              9   \n",
      "3004   44  Self-emp-inc  320984  Some-college             10   \n",
      "\n",
      "          marital.status       occupation relationship   race   sex  \\\n",
      "3000  Married-civ-spouse  Exec-managerial      Husband  White  Male   \n",
      "3001  Married-civ-spouse     Craft-repair      Husband  White  Male   \n",
      "3002  Married-civ-spouse            Sales      Husband  White  Male   \n",
      "3003  Married-civ-spouse     Craft-repair      Husband  White  Male   \n",
      "3004  Married-civ-spouse            Sales      Husband  White  Male   \n",
      "\n",
      "      capital.gain  capital.loss  hours.per.week native.country income  \n",
      "3000          5178             0              40  United-States   >50K  \n",
      "3001          5178             0              40  United-States   >50K  \n",
      "3002          5178             0              50  United-States   >50K  \n",
      "3003          5178             0              48  United-States   >50K  \n",
      "3004          5178             0              60  United-States   >50K  \n",
      "      age workclass  fnlwgt     education  education.num marital.status  \\\n",
      "4000   25   Private  176047       HS-grad              9  Never-married   \n",
      "4001   21         ?  175166  Some-college             10  Never-married   \n",
      "4002   18   Private   60981  Some-college             10  Never-married   \n",
      "4003   48   Private  189462  Some-college             10       Divorced   \n",
      "4004   27   Private  177955       5th-6th              3  Never-married   \n",
      "\n",
      "             occupation    relationship   race     sex  capital.gain  \\\n",
      "4000  Machine-op-inspct       Own-child  White  Female          2176   \n",
      "4001                  ?       Own-child  White  Female          2176   \n",
      "4002              Sales       Own-child  White  Female          2176   \n",
      "4003  Handlers-cleaners       Own-child  White    Male          2176   \n",
      "4004    Priv-house-serv  Other-relative  White  Female          2176   \n",
      "\n",
      "      capital.loss  hours.per.week native.country income  \n",
      "4000             0              40  United-States  <=50K  \n",
      "4001             0              40  United-States  <=50K  \n",
      "4002             0              35  United-States  <=50K  \n",
      "4003             0              40  United-States  <=50K  \n",
      "4004             0              40    El-Salvador  <=50K  \n",
      "      age         workclass  fnlwgt     education  education.num  \\\n",
      "5000   33      Self-emp-inc  155781  Some-college             10   \n",
      "5001   54  Self-emp-not-inc  406468       HS-grad              9   \n",
      "5002   48                 ?  144397  Some-college             10   \n",
      "5003   35  Self-emp-not-inc  372525     Bachelors             13   \n",
      "5004   28           Private  164170     Assoc-voc             11   \n",
      "\n",
      "          marital.status       occupation   relationship                race  \\\n",
      "5000  Married-civ-spouse     Craft-repair        Husband               White   \n",
      "5001  Married-civ-spouse            Sales        Husband               Black   \n",
      "5002            Divorced                ?      Unmarried               Black   \n",
      "5003       Never-married  Exec-managerial  Not-in-family               White   \n",
      "5004  Married-civ-spouse     Adm-clerical           Wife  Asian-Pac-Islander   \n",
      "\n",
      "         sex  capital.gain  capital.loss  hours.per.week native.country income  \n",
      "5000    Male             0             0              60              ?  <=50K  \n",
      "5001    Male             0             0              40  United-States  <=50K  \n",
      "5002  Female             0             0              30  United-States  <=50K  \n",
      "5003    Male             0             0              40  United-States  <=50K  \n",
      "5004  Female             0             0              40          India  <=50K  \n",
      "      age  workclass  fnlwgt education  education.num      marital.status  \\\n",
      "6000   30  Local-gov  261319   7th-8th              4  Married-civ-spouse   \n",
      "6001   34    Private  126838   HS-grad              9  Married-civ-spouse   \n",
      "6002   19    Private  354104   HS-grad              9       Never-married   \n",
      "6003   20    Private  176321      12th              8       Never-married   \n",
      "6004   47    Private   85129   HS-grad              9            Divorced   \n",
      "\n",
      "             occupation   relationship                race     sex  \\\n",
      "6000   Transport-moving        Husband               White    Male   \n",
      "6001   Transport-moving        Husband               White    Male   \n",
      "6002  Handlers-cleaners      Own-child               White    Male   \n",
      "6003       Adm-clerical      Own-child               White  Female   \n",
      "6004      Other-service  Not-in-family  Asian-Pac-Islander  Female   \n",
      "\n",
      "      capital.gain  capital.loss  hours.per.week native.country income  \n",
      "6000             0             0              40  United-States  <=50K  \n",
      "6001             0             0              40  United-States  <=50K  \n",
      "6002             0             0              30  United-States  <=50K  \n",
      "6003             0             0              40         Mexico  <=50K  \n",
      "6004             0             0              40  United-States  <=50K  \n",
      "      age workclass  fnlwgt   education  education.num      marital.status  \\\n",
      "7000   31   Private  169269     7th-8th              4       Never-married   \n",
      "7001   23         ?  123983   Bachelors             13       Never-married   \n",
      "7002   47   Private  297884        10th              6             Widowed   \n",
      "7003   59   Private   99131     HS-grad              9             Widowed   \n",
      "7004   32   Private   44392  Assoc-acdm             12  Married-civ-spouse   \n",
      "\n",
      "             occupation   relationship   race     sex  capital.gain  \\\n",
      "7000       Craft-repair      Unmarried  White    Male             0   \n",
      "7001                  ?      Own-child  Other    Male             0   \n",
      "7002  Machine-op-inspct  Not-in-family  White    Male             0   \n",
      "7003     Prof-specialty  Not-in-family  White  Female             0   \n",
      "7004  Handlers-cleaners        Husband  White    Male             0   \n",
      "\n",
      "      capital.loss  hours.per.week native.country income  \n",
      "7000             0              40  United-States  <=50K  \n",
      "7001             0              40  United-States  <=50K  \n",
      "7002             0              40  United-States  <=50K  \n",
      "7003             0              18  United-States  <=50K  \n",
      "7004             0              40  United-States  <=50K  \n",
      "      age    workclass  fnlwgt     education  education.num  \\\n",
      "8000   33      Private  184901       HS-grad              9   \n",
      "8001   28      Private   87239       HS-grad              9   \n",
      "8002   63      Private  127363  Some-college             10   \n",
      "8003   37      Private  143058          10th              6   \n",
      "8004   50  Federal-gov   36489  Some-college             10   \n",
      "\n",
      "          marital.status         occupation   relationship   race     sex  \\\n",
      "8000  Married-civ-spouse  Machine-op-inspct        Husband  White    Male   \n",
      "8001            Divorced   Transport-moving  Not-in-family  White    Male   \n",
      "8002  Married-civ-spouse     Prof-specialty           Wife  White  Female   \n",
      "8003  Married-civ-spouse       Craft-repair        Husband  White    Male   \n",
      "8004            Divorced    Exec-managerial      Unmarried  White    Male   \n",
      "\n",
      "      capital.gain  capital.loss  hours.per.week native.country income  \n",
      "8000             0             0              40  United-States   >50K  \n",
      "8001             0             0              50  United-States  <=50K  \n",
      "8002             0             0              12  United-States  <=50K  \n",
      "8003             0             0              50  United-States  <=50K  \n",
      "8004             0             0              40  United-States  <=50K  \n",
      "      age  workclass  fnlwgt   education  education.num      marital.status  \\\n",
      "9000   25    Private  139730     HS-grad              9  Married-civ-spouse   \n",
      "9001   18    Private  201901        11th              7       Never-married   \n",
      "9002   32  State-gov  230224  Assoc-acdm             12  Married-civ-spouse   \n",
      "9003   27    Private  113464     1st-4th              2       Never-married   \n",
      "9004   48    Private   94461     HS-grad              9             Widowed   \n",
      "\n",
      "             occupation   relationship   race     sex  capital.gain  \\\n",
      "9000       Craft-repair        Husband  White    Male             0   \n",
      "9001              Sales      Own-child  White  Female             0   \n",
      "9002      Other-service        Husband  White    Male             0   \n",
      "9003      Other-service      Own-child  Other    Male             0   \n",
      "9004  Machine-op-inspct  Not-in-family  White  Female             0   \n",
      "\n",
      "      capital.loss  hours.per.week      native.country income  \n",
      "9000             0              80       United-States   >50K  \n",
      "9001             0              10       United-States  <=50K  \n",
      "9002             0              35       United-States  <=50K  \n",
      "9003             0              35  Dominican-Republic  <=50K  \n",
      "9004             0              16       United-States  <=50K  \n",
      "       age         workclass  fnlwgt     education  education.num  \\\n",
      "10000   43           Private  178417     Bachelors             13   \n",
      "10001   58           Private  178644       HS-grad              9   \n",
      "10002   43  Self-emp-not-inc  271665       HS-grad              9   \n",
      "10003   37                 ?  223732  Some-college             10   \n",
      "10004   21       Federal-gov  169003          12th              8   \n",
      "\n",
      "           marital.status      occupation   relationship   race   sex  \\\n",
      "10000            Divorced  Prof-specialty  Not-in-family  White  Male   \n",
      "10001             Widowed    Craft-repair      Unmarried  White  Male   \n",
      "10002  Married-civ-spouse           Sales        Husband  White  Male   \n",
      "10003           Separated               ?      Unmarried  White  Male   \n",
      "10004       Never-married    Adm-clerical      Own-child  Black  Male   \n",
      "\n",
      "       capital.gain  capital.loss  hours.per.week native.country income  \n",
      "10000             0             0              40  United-States  <=50K  \n",
      "10001             0             0              40  United-States  <=50K  \n",
      "10002             0             0              45  United-States  <=50K  \n",
      "10003             0             0              40  United-States  <=50K  \n",
      "10004             0             0              25  United-States  <=50K  \n",
      "       age         workclass  fnlwgt     education  education.num  \\\n",
      "11000   26  Self-emp-not-inc  281678     Assoc-voc             11   \n",
      "11001   24                 ?  377725     Bachelors             13   \n",
      "11002   32           Private  151053       HS-grad              9   \n",
      "11003   49         Local-gov  186539       Masters             14   \n",
      "11004   20                 ?  149478  Some-college             10   \n",
      "\n",
      "           marital.status         occupation    relationship   race     sex  \\\n",
      "11000  Married-civ-spouse    Farming-fishing         Husband  White    Male   \n",
      "11001       Never-married                  ?   Not-in-family  White  Female   \n",
      "11002  Married-civ-spouse  Handlers-cleaners         Husband  White    Male   \n",
      "11003  Married-civ-spouse    Protective-serv         Husband  White    Male   \n",
      "11004       Never-married                  ?  Other-relative  White  Female   \n",
      "\n",
      "       capital.gain  capital.loss  hours.per.week native.country income  \n",
      "11000             0             0              55  United-States  <=50K  \n",
      "11001             0             0              40  United-States  <=50K  \n",
      "11002             0             0              40  United-States   >50K  \n",
      "11003             0             0              40  United-States   >50K  \n",
      "11004             0             0              25  United-States  <=50K  \n",
      "       age workclass  fnlwgt     education  education.num      marital.status  \\\n",
      "12000   30   Private  167476  Some-college             10            Divorced   \n",
      "12001   40   Private  221172    Assoc-acdm             12  Married-civ-spouse   \n",
      "12002   27         ?  188711  Some-college             10            Divorced   \n",
      "12003   49   Private  199448     Assoc-voc             11            Divorced   \n",
      "12004   30   Private  313038       HS-grad              9       Never-married   \n",
      "\n",
      "              occupation   relationship   race     sex  capital.gain  \\\n",
      "12000  Machine-op-inspct  Not-in-family  White    Male             0   \n",
      "12001    Exec-managerial        Husband  White    Male             0   \n",
      "12002                  ?  Not-in-family  White    Male             0   \n",
      "12003              Sales      Unmarried  White  Female             0   \n",
      "12004       Craft-repair  Not-in-family  White    Male             0   \n",
      "\n",
      "       capital.loss  hours.per.week native.country income  \n",
      "12000             0              50  United-States  <=50K  \n",
      "12001             0              50  United-States   >50K  \n",
      "12002             0              30  United-States  <=50K  \n",
      "12003             0              40  United-States  <=50K  \n",
      "12004             0              40  United-States  <=50K  \n",
      "       age workclass  fnlwgt     education  education.num      marital.status  \\\n",
      "13000   62   Private   57970       7th-8th              4            Divorced   \n",
      "13001   35   Private  208378          12th              8           Separated   \n",
      "13002   39   Private   61343          10th              6  Married-civ-spouse   \n",
      "13003   24   Private  283872  Some-college             10       Never-married   \n",
      "13004   58   Private  225603           9th              5            Divorced   \n",
      "\n",
      "              occupation   relationship   race     sex  capital.gain  \\\n",
      "13000  Handlers-cleaners  Not-in-family  White    Male             0   \n",
      "13001  Machine-op-inspct      Unmarried  White  Female             0   \n",
      "13002  Machine-op-inspct        Husband  White    Male             0   \n",
      "13003       Adm-clerical  Not-in-family  Black    Male             0   \n",
      "13004    Farming-fishing  Not-in-family  Black    Male             0   \n",
      "\n",
      "       capital.loss  hours.per.week native.country income  \n",
      "13000             0              40  United-States  <=50K  \n",
      "13001             0              40  United-States  <=50K  \n",
      "13002             0              60  United-States  <=50K  \n",
      "13003             0              20  United-States  <=50K  \n",
      "13004             0              40  United-States  <=50K  \n",
      "       age         workclass  fnlwgt     education  education.num  \\\n",
      "14000   30           Private  185177          11th              7   \n",
      "14001   84      Self-emp-inc  172907  Some-college             10   \n",
      "14002   35  Self-emp-not-inc  308874       HS-grad              9   \n",
      "14003   45  Self-emp-not-inc   54098     Assoc-voc             11   \n",
      "14004   46           Private  288608       HS-grad              9   \n",
      "\n",
      "           marital.status         occupation   relationship   race   sex  \\\n",
      "14000       Never-married  Handlers-cleaners      Own-child  White  Male   \n",
      "14001  Married-civ-spouse              Sales        Husband  White  Male   \n",
      "14002       Never-married       Craft-repair  Not-in-family  Black  Male   \n",
      "14003  Married-civ-spouse    Farming-fishing        Husband  White  Male   \n",
      "14004       Never-married       Craft-repair      Own-child  White  Male   \n",
      "\n",
      "       capital.gain  capital.loss  hours.per.week native.country income  \n",
      "14000             0             0              49  United-States  <=50K  \n",
      "14001             0             0              35  United-States   >50K  \n",
      "14002             0             0              40  United-States  <=50K  \n",
      "14003             0             0              50  United-States   >50K  \n",
      "14004             0             0              40  United-States  <=50K  \n",
      "       age  workclass  fnlwgt     education  education.num marital.status  \\\n",
      "15000   29    Private  192010     Bachelors             13  Never-married   \n",
      "15001   28  Local-gov  356089     Bachelors             13  Never-married   \n",
      "15002   34    Private  684015       5th-6th              3  Never-married   \n",
      "15003   18    Private   36882       HS-grad              9  Never-married   \n",
      "15004   39    Private  203180  Some-college             10       Divorced   \n",
      "\n",
      "              occupation    relationship   race     sex  capital.gain  \\\n",
      "15000     Prof-specialty   Not-in-family  White  Female             0   \n",
      "15001     Prof-specialty  Other-relative  White    Male             0   \n",
      "15002  Handlers-cleaners       Own-child  White    Male             0   \n",
      "15003       Adm-clerical       Own-child  White  Female             0   \n",
      "15004    Farming-fishing       Unmarried  White  Female             0   \n",
      "\n",
      "       capital.loss  hours.per.week native.country income  \n",
      "15000             0              60         Poland  <=50K  \n",
      "15001             0              50  United-States  <=50K  \n",
      "15002             0              40    El-Salvador  <=50K  \n",
      "15003             0              20  United-States  <=50K  \n",
      "15004             0              45  United-States  <=50K  \n",
      "       age         workclass  fnlwgt     education  education.num  \\\n",
      "16000   39  Self-emp-not-inc  190023     Bachelors             13   \n",
      "16001   33           Private  168782     Assoc-voc             11   \n",
      "16002   59           Private  175290       7th-8th              4   \n",
      "16003   74           Private  145463       1st-4th              2   \n",
      "16004   54           Private  159755  Some-college             10   \n",
      "\n",
      "           marital.status       occupation    relationship   race     sex  \\\n",
      "16000  Married-civ-spouse            Sales         Husband  White    Male   \n",
      "16001       Never-married     Craft-repair       Unmarried  White    Male   \n",
      "16002       Never-married    Other-service  Other-relative  White    Male   \n",
      "16003             Widowed  Priv-house-serv   Not-in-family  Black  Female   \n",
      "16004  Married-civ-spouse  Protective-serv         Husband  White    Male   \n",
      "\n",
      "       capital.gain  capital.loss  hours.per.week native.country income  \n",
      "16000             0             0              60  United-States  <=50K  \n",
      "16001             0             0              40  United-States  <=50K  \n",
      "16002             0             0              32  United-States  <=50K  \n",
      "16003             0             0              15  United-States  <=50K  \n",
      "16004             0             0              40  United-States   >50K  \n",
      "       age workclass  fnlwgt     education  education.num      marital.status  \\\n",
      "17000   30   Private  185027     Bachelors             13  Married-civ-spouse   \n",
      "17001   31   Private  182539  Some-college             10       Never-married   \n",
      "17002   22   Private  215395       HS-grad              9       Never-married   \n",
      "17003   37   Private  186434       HS-grad              9  Married-civ-spouse   \n",
      "17004   41         ?  217921           9th              5  Married-civ-spouse   \n",
      "\n",
      "             occupation   relationship                race     sex  \\\n",
      "17000    Prof-specialty        Husband               White    Male   \n",
      "17001      Adm-clerical  Not-in-family               White  Female   \n",
      "17002  Transport-moving  Not-in-family               White    Male   \n",
      "17003     Other-service        Husband               Black    Male   \n",
      "17004                 ?           Wife  Asian-Pac-Islander  Female   \n",
      "\n",
      "       capital.gain  capital.loss  hours.per.week native.country income  \n",
      "17000             0             0              40  United-States   >50K  \n",
      "17001             0             0              45  United-States  <=50K  \n",
      "17002             0             0              37  United-States  <=50K  \n",
      "17003             0             0              40  United-States   >50K  \n",
      "17004             0             0              40           Hong  <=50K  \n",
      "       age workclass  fnlwgt     education  education.num      marital.status  \\\n",
      "18000   55   Private  368727  Some-college             10            Divorced   \n",
      "18001   23   Private  353696       HS-grad              9       Never-married   \n",
      "18002   27   Private  110931       HS-grad              9  Married-civ-spouse   \n",
      "18003   24   Private  169532    Assoc-acdm             12       Never-married   \n",
      "18004   21   Private  285522  Some-college             10       Never-married   \n",
      "\n",
      "            occupation   relationship   race     sex  capital.gain  \\\n",
      "18000     Craft-repair  Not-in-family  White    Male             0   \n",
      "18001  Farming-fishing      Own-child  White    Male             0   \n",
      "18002     Adm-clerical        Husband  White    Male             0   \n",
      "18003     Adm-clerical      Own-child  White  Female             0   \n",
      "18004     Craft-repair  Not-in-family  White    Male             0   \n",
      "\n",
      "       capital.loss  hours.per.week native.country income  \n",
      "18000             0              40  United-States  <=50K  \n",
      "18001             0              40  United-States  <=50K  \n",
      "18002             0              40  United-States  <=50K  \n",
      "18003             0              15  United-States  <=50K  \n",
      "18004             0              40  United-States  <=50K  \n",
      "       age  workclass  fnlwgt     education  education.num  \\\n",
      "19000   26    Private  105059           9th              5   \n",
      "19001   34    Private  342709       Masters             14   \n",
      "19002   51    Private   53838     Bachelors             13   \n",
      "19003   45  Local-gov  209482       Masters             14   \n",
      "19004   44    Private  214242  Some-college             10   \n",
      "\n",
      "           marital.status         occupation relationship   race     sex  \\\n",
      "19000  Married-civ-spouse       Craft-repair      Husband  White    Male   \n",
      "19001  Married-civ-spouse    Exec-managerial      Husband  White    Male   \n",
      "19002  Married-civ-spouse  Handlers-cleaners      Husband  White    Male   \n",
      "19003  Married-civ-spouse     Prof-specialty         Wife  White  Female   \n",
      "19004  Married-civ-spouse   Transport-moving      Husband  White    Male   \n",
      "\n",
      "       capital.gain  capital.loss  hours.per.week native.country income  \n",
      "19000             0             0              20  United-States  <=50K  \n",
      "19001             0             0              40  United-States  <=50K  \n",
      "19002             0             0              40  United-States  <=50K  \n",
      "19003             0             0              45  United-States   >50K  \n",
      "19004             0             0              50  United-States   >50K  \n",
      "       age         workclass  fnlwgt     education  education.num  \\\n",
      "20000   36           Private  159016       HS-grad              9   \n",
      "20001   37           Private  183800     Bachelors             13   \n",
      "20002   58  Self-emp-not-inc  193434       HS-grad              9   \n",
      "20003   26           Private  245029     Bachelors             13   \n",
      "20004   55           Private   98746  Some-college             10   \n",
      "\n",
      "           marital.status         occupation   relationship   race     sex  \\\n",
      "20000  Married-civ-spouse  Machine-op-inspct        Husband  White    Male   \n",
      "20001  Married-civ-spouse    Exec-managerial        Husband  White    Male   \n",
      "20002  Married-civ-spouse       Craft-repair        Husband  White    Male   \n",
      "20003       Never-married       Adm-clerical  Not-in-family  Black  Female   \n",
      "20004  Married-civ-spouse       Tech-support        Husband  White    Male   \n",
      "\n",
      "       capital.gain  capital.loss  hours.per.week native.country income  \n",
      "20000             0             0              38  United-States  <=50K  \n",
      "20001             0             0              40  United-States   >50K  \n",
      "20002             0             0              20  United-States  <=50K  \n",
      "20003             0             0              40  United-States  <=50K  \n",
      "20004             0             0              50         Canada   >50K  \n",
      "       age  workclass  fnlwgt  education  education.num      marital.status  \\\n",
      "21000   29    Private  251694  Bachelors             13       Never-married   \n",
      "21001   22    Private  268145  Bachelors             13       Never-married   \n",
      "21002   56    Private  104842  Bachelors             13            Divorced   \n",
      "21003   60  Local-gov  227332    Masters             14  Married-civ-spouse   \n",
      "21004   53    Private  133436    7th-8th              4            Divorced   \n",
      "\n",
      "              occupation   relationship   race     sex  capital.gain  \\\n",
      "21000    Farming-fishing      Own-child  White    Male             0   \n",
      "21001              Sales  Not-in-family  White  Female             0   \n",
      "21002     Prof-specialty      Unmarried  Black  Female             0   \n",
      "21003    Exec-managerial        Husband  White    Male             0   \n",
      "21004  Machine-op-inspct  Not-in-family  White  Female             0   \n",
      "\n",
      "       capital.loss  hours.per.week native.country income  \n",
      "21000             0              50  United-States  <=50K  \n",
      "21001             0              40  United-States  <=50K  \n",
      "21002             0              50          Haiti  <=50K  \n",
      "21003             0              40  United-States   >50K  \n",
      "21004             0              40  United-States  <=50K  \n",
      "       age         workclass  fnlwgt    education  education.num  \\\n",
      "22000   48  Self-emp-not-inc  246891  Prof-school             15   \n",
      "22001   70      Self-emp-inc  243436          9th              5   \n",
      "22002   44         Local-gov   68318      Masters             14   \n",
      "22003   58           Private   56331    Bachelors             13   \n",
      "22004   41           Private  190591   Assoc-acdm             12   \n",
      "\n",
      "           marital.status       occupation   relationship   race     sex  \\\n",
      "22000  Married-civ-spouse     Craft-repair        Husband  White    Male   \n",
      "22001            Divorced            Sales  Not-in-family  White    Male   \n",
      "22002       Never-married   Prof-specialty      Own-child  White  Female   \n",
      "22003  Married-civ-spouse            Sales        Husband  White    Male   \n",
      "22004            Divorced  Exec-managerial  Not-in-family  Black  Female   \n",
      "\n",
      "       capital.gain  capital.loss  hours.per.week native.country income  \n",
      "22000             0             0              60  United-States  <=50K  \n",
      "22001             0             0              45  United-States  <=50K  \n",
      "22002             0             0              55  United-States  <=50K  \n",
      "22003             0             0              40  United-States  <=50K  \n",
      "22004             0             0              40        Jamaica  <=50K  \n",
      "       age  workclass  fnlwgt   education  education.num      marital.status  \\\n",
      "23000   28    Private  202239     7th-8th              4  Married-civ-spouse   \n",
      "23001   39  Local-gov  164156  Assoc-acdm             12            Divorced   \n",
      "23002   59    Private  196482     HS-grad              9             Widowed   \n",
      "23003   31    Private  176185     Masters             14  Married-civ-spouse   \n",
      "23004   34    Private  287315     HS-grad              9            Divorced   \n",
      "\n",
      "              occupation   relationship   race     sex  capital.gain  \\\n",
      "23000     Prof-specialty        Husband  White    Male             0   \n",
      "23001      Other-service      Unmarried  White  Female             0   \n",
      "23002       Adm-clerical      Unmarried  White  Female             0   \n",
      "23003    Exec-managerial        Husband  White    Male             0   \n",
      "23004  Machine-op-inspct  Not-in-family  White    Male             0   \n",
      "\n",
      "       capital.loss  hours.per.week native.country income  \n",
      "23000             0              55  United-States  <=50K  \n",
      "23001             0              55  United-States  <=50K  \n",
      "23002             0              40  United-States  <=50K  \n",
      "23003             0              60         France   >50K  \n",
      "23004             0              40  United-States  <=50K  \n",
      "       age workclass  fnlwgt     education  education.num      marital.status  \\\n",
      "24000   33   Private  226267       7th-8th              4       Never-married   \n",
      "24001   19   Private  111232          12th              8       Never-married   \n",
      "24002   26   Private  212748       HS-grad              9  Married-civ-spouse   \n",
      "24003   23   Private  110677  Some-college             10       Never-married   \n",
      "24004   24   Private  306779  Some-college             10       Never-married   \n",
      "\n",
      "             occupation   relationship   race     sex  capital.gain  \\\n",
      "24000             Sales  Not-in-family  White    Male             0   \n",
      "24001  Transport-moving      Own-child  White    Male             0   \n",
      "24002  Transport-moving        Husband  White    Male             0   \n",
      "24003     Other-service      Own-child  White  Female             0   \n",
      "24004             Sales  Not-in-family  White    Male             0   \n",
      "\n",
      "       capital.loss  hours.per.week native.country income  \n",
      "24000             0              43         Mexico  <=50K  \n",
      "24001             0              15  United-States  <=50K  \n",
      "24002             0              40  United-States  <=50K  \n",
      "24003             0              15  United-States  <=50K  \n",
      "24004             0              65  United-States  <=50K  \n",
      "       age         workclass  fnlwgt  education  education.num  \\\n",
      "25000   27           Private   90692  Assoc-voc             11   \n",
      "25001   51           Private   57101        9th              5   \n",
      "25002   49           Private  236913    HS-grad              9   \n",
      "25003   64  Self-emp-not-inc  388625       10th              6   \n",
      "25004   54  Self-emp-not-inc  261207    7th-8th              4   \n",
      "\n",
      "           marital.status        occupation   relationship  \\\n",
      "25000       Never-married     Other-service  Not-in-family   \n",
      "25001  Married-civ-spouse      Craft-repair        Husband   \n",
      "25002             Widowed     Other-service  Not-in-family   \n",
      "25003  Married-civ-spouse    Prof-specialty        Husband   \n",
      "25004            Divorced  Transport-moving  Not-in-family   \n",
      "\n",
      "                     race     sex  capital.gain  capital.loss  hours.per.week  \\\n",
      "25000  Asian-Pac-Islander  Female             0             0              40   \n",
      "25001               White    Male             0             0              40   \n",
      "25002               White  Female             0             0              45   \n",
      "25003               White    Male             0             0              10   \n",
      "25004               White    Male             0             0              45   \n",
      "\n",
      "      native.country income  \n",
      "25000    Philippines  <=50K  \n",
      "25001  United-States  <=50K  \n",
      "25002  United-States  <=50K  \n",
      "25003  United-States   >50K  \n",
      "25004           Cuba  <=50K  \n",
      "       age workclass  fnlwgt     education  education.num  \\\n",
      "26000   20   Private  197997  Some-college             10   \n",
      "26001   46   Private   98350          10th              6   \n",
      "26002   39   Private  165848       HS-grad              9   \n",
      "26003   34   Private  178615       HS-grad              9   \n",
      "26004   19   Private  228939       HS-grad              9   \n",
      "\n",
      "              marital.status         occupation   relationship  \\\n",
      "26000          Never-married     Prof-specialty      Own-child   \n",
      "26001  Married-spouse-absent      Other-service  Not-in-family   \n",
      "26002     Married-civ-spouse              Sales        Husband   \n",
      "26003          Never-married  Handlers-cleaners  Not-in-family   \n",
      "26004          Never-married  Handlers-cleaners      Own-child   \n",
      "\n",
      "                     race   sex  capital.gain  capital.loss  hours.per.week  \\\n",
      "26000               White  Male             0             0              40   \n",
      "26001  Asian-Pac-Islander  Male             0             0              37   \n",
      "26002               White  Male             0             0              50   \n",
      "26003               White  Male             0             0              40   \n",
      "26004               White  Male             0             0              35   \n",
      "\n",
      "      native.country income  \n",
      "26000  United-States  <=50K  \n",
      "26001          China  <=50K  \n",
      "26002  United-States  <=50K  \n",
      "26003  United-States  <=50K  \n",
      "26004  United-States  <=50K  \n",
      "       age  workclass  fnlwgt     education  education.num  \\\n",
      "27000   61    Private  105384     Bachelors             13   \n",
      "27001   24    Private  137591  Some-college             10   \n",
      "27002   49  State-gov  324791     Bachelors             13   \n",
      "27003   25    Private  184303  Some-college             10   \n",
      "27004   66          ?  314347       HS-grad              9   \n",
      "\n",
      "           marital.status       occupation    relationship   race     sex  \\\n",
      "27000  Married-civ-spouse   Prof-specialty         Husband  White    Male   \n",
      "27001       Never-married            Sales       Own-child  White    Male   \n",
      "27002  Married-civ-spouse   Prof-specialty         Husband  White    Male   \n",
      "27003           Separated  Priv-house-serv  Other-relative  White  Female   \n",
      "27004  Married-civ-spouse                ?         Husband  Black    Male   \n",
      "\n",
      "       capital.gain  capital.loss  hours.per.week native.country income  \n",
      "27000             0             0              40  United-States  <=50K  \n",
      "27001             0             0              10         Greece  <=50K  \n",
      "27002             0             0              50  United-States   >50K  \n",
      "27003             0             0              30    El-Salvador  <=50K  \n",
      "27004             0             0              40  United-States  <=50K  \n",
      "       age         workclass  fnlwgt  education  education.num  \\\n",
      "28000   43  Self-emp-not-inc  180985  Bachelors             13   \n",
      "28001   24           Private  148709    HS-grad              9   \n",
      "28002   22                 ?  174626    7th-8th              4   \n",
      "28003   38           Private  184801  Bachelors             13   \n",
      "28004   52           Private   89054    HS-grad              9   \n",
      "\n",
      "           marital.status     occupation   relationship   race     sex  \\\n",
      "28000           Separated   Craft-repair      Unmarried  White    Male   \n",
      "28001       Never-married  Other-service  Not-in-family  White  Female   \n",
      "28002       Never-married              ?      Own-child  White    Male   \n",
      "28003  Married-civ-spouse          Sales        Husband  White    Male   \n",
      "28004  Married-civ-spouse   Craft-repair        Husband  White    Male   \n",
      "\n",
      "       capital.gain  capital.loss  hours.per.week native.country income  \n",
      "28000             0             0              35  United-States  <=50K  \n",
      "28001             0             0              40  United-States  <=50K  \n",
      "28002             0             0              40  United-States  <=50K  \n",
      "28003             0             0              60  United-States   >50K  \n",
      "28004             0             0              40  United-States  <=50K  \n",
      "       age  workclass  fnlwgt     education  education.num  \\\n",
      "29000   37  Local-gov  272471       HS-grad              9   \n",
      "29001   32    Private  311524       HS-grad              9   \n",
      "29002   18    Private  151386       HS-grad              9   \n",
      "29003   35    Private  187625  Some-college             10   \n",
      "29004   43    Private  169383     Bachelors             13   \n",
      "\n",
      "              marital.status       occupation   relationship   race     sex  \\\n",
      "29000               Divorced     Adm-clerical      Unmarried  White  Female   \n",
      "29001          Never-married     Craft-repair      Own-child  Black    Male   \n",
      "29002  Married-spouse-absent    Other-service      Own-child  Black    Male   \n",
      "29003          Never-married    Other-service  Not-in-family  White  Female   \n",
      "29004     Married-civ-spouse  Exec-managerial        Husband  White    Male   \n",
      "\n",
      "       capital.gain  capital.loss  hours.per.week native.country income  \n",
      "29000             0             0              40  United-States  <=50K  \n",
      "29001             0             0              38  United-States  <=50K  \n",
      "29002             0             0              40        Jamaica  <=50K  \n",
      "29003             0             0              65  United-States  <=50K  \n",
      "29004             0             0              45  United-States   >50K  \n",
      "       age workclass  fnlwgt     education  education.num      marital.status  \\\n",
      "30000   18   Private  122775       HS-grad              9       Never-married   \n",
      "30001   30   Private  329425  Some-college             10       Never-married   \n",
      "30002   61   Private  178312    Assoc-acdm             12  Married-civ-spouse   \n",
      "30003   21   Private  241951       HS-grad              9       Never-married   \n",
      "30004   53   Private  130143       HS-grad              9  Married-civ-spouse   \n",
      "\n",
      "              occupation   relationship   race   sex  capital.gain  \\\n",
      "30000      Other-service      Own-child  White  Male             0   \n",
      "30001    Protective-serv      Own-child  White  Male             0   \n",
      "30002    Exec-managerial        Husband  White  Male             0   \n",
      "30003  Machine-op-inspct  Not-in-family  White  Male             0   \n",
      "30004  Machine-op-inspct        Husband  White  Male             0   \n",
      "\n",
      "       capital.loss  hours.per.week native.country income  \n",
      "30000             0              35  United-States  <=50K  \n",
      "30001             0              48  United-States  <=50K  \n",
      "30002             0              42  United-States  <=50K  \n",
      "30003             0              45  United-States  <=50K  \n",
      "30004             0              48  United-States  <=50K  \n",
      "       age         workclass  fnlwgt     education  education.num  \\\n",
      "31000   17                 ?  219277          11th              7   \n",
      "31001   19           Private   45381  Some-college             10   \n",
      "31002   38           Private  167482  Some-college             10   \n",
      "31003   60           Private  225014       HS-grad              9   \n",
      "31004   29  Self-emp-not-inc  405083       HS-grad              9   \n",
      "\n",
      "           marital.status     occupation   relationship   race     sex  \\\n",
      "31000       Never-married              ?      Own-child  White  Female   \n",
      "31001       Never-married   Adm-clerical      Own-child  White  Female   \n",
      "31002  Married-civ-spouse   Craft-repair        Husband  White    Male   \n",
      "31003            Divorced  Other-service  Not-in-family  White  Female   \n",
      "31004       Never-married          Sales  Not-in-family  White    Male   \n",
      "\n",
      "       capital.gain  capital.loss  hours.per.week native.country income  \n",
      "31000             0             0              20  United-States  <=50K  \n",
      "31001             0             0               8  United-States  <=50K  \n",
      "31002             0             0              52  United-States   >50K  \n",
      "31003             0             0              40  United-States  <=50K  \n",
      "31004             0             0              40  United-States  <=50K  \n",
      "       age    workclass  fnlwgt     education  education.num  \\\n",
      "32000   32      Private  173998  Some-college             10   \n",
      "32001   25      Private   90752     Bachelors             13   \n",
      "32002   55      Private   51008       HS-grad              9   \n",
      "32003   55  Federal-gov  113398  Some-college             10   \n",
      "32004   25      Private   74977  Some-college             10   \n",
      "\n",
      "           marital.status    occupation   relationship   race     sex  \\\n",
      "32000       Never-married  Adm-clerical  Not-in-family  White  Female   \n",
      "32001  Married-civ-spouse  Adm-clerical           Wife  White  Female   \n",
      "32002            Divorced  Adm-clerical      Unmarried  White  Female   \n",
      "32003       Never-married  Adm-clerical      Unmarried  White    Male   \n",
      "32004  Married-civ-spouse  Adm-clerical           Wife  White  Female   \n",
      "\n",
      "       capital.gain  capital.loss  hours.per.week native.country income  \n",
      "32000             0             0              60  United-States  <=50K  \n",
      "32001             0             0              40  United-States  <=50K  \n",
      "32002             0             0              40  United-States  <=50K  \n",
      "32003             0             0              40  United-States  <=50K  \n",
      "32004             0             0              40  United-States  <=50K  \n"
     ]
    }
   ],
   "source": [
    "# Her chunk üzerinde işlem yapma\n",
    "for chunk in reader:\n",
    "    print(chunk.head())  # Chunk'in ilk 5 satırını yazdır"
   ]
  },
  {
   "cell_type": "markdown",
   "metadata": {},
   "source": [
    "**Parçaları Birleştirerek İşleme** Parça parça okunan dosyayı birleştirme ve üzerinde toplu işlem yapma:"
   ]
  },
  {
   "cell_type": "code",
   "execution_count": 77,
   "metadata": {},
   "outputs": [
    {
     "name": "stdout",
     "output_type": "stream",
     "text": [
      "   age workclass  fnlwgt     education  education.num marital.status  \\\n",
      "0   90         ?   77053       HS-grad              9        Widowed   \n",
      "1   82   Private  132870       HS-grad              9        Widowed   \n",
      "2   66         ?  186061  Some-college             10        Widowed   \n",
      "3   54   Private  140359       7th-8th              4       Divorced   \n",
      "4   41   Private  264663  Some-college             10      Separated   \n",
      "\n",
      "          occupation   relationship   race     sex  capital.gain  \\\n",
      "0                  ?  Not-in-family  White  Female             0   \n",
      "1    Exec-managerial  Not-in-family  White  Female             0   \n",
      "2                  ?      Unmarried  Black  Female             0   \n",
      "3  Machine-op-inspct      Unmarried  White  Female             0   \n",
      "4     Prof-specialty      Own-child  White  Female             0   \n",
      "\n",
      "   capital.loss  hours.per.week native.country income  \n",
      "0          4356              40  United-States  <=50K  \n",
      "1          4356              18  United-States  <=50K  \n",
      "2          4356              40  United-States  <=50K  \n",
      "3          3900              40  United-States  <=50K  \n",
      "4          3900              40  United-States  <=50K  \n"
     ]
    }
   ],
   "source": [
    "# Parçaları birleştirmek için liste\n",
    "chunk_list = []\n",
    "\n",
    "# Parça parça oku ve birleştir\n",
    "for chunk in pd.read_csv('adult.csv', chunksize=500):\n",
    "    chunk_list.append(chunk)\n",
    "\n",
    "# Tüm parçaları birleştir\n",
    "full_data = pd.concat(chunk_list)\n",
    "print(full_data.head())"
   ]
  },
  {
   "cell_type": "markdown",
   "metadata": {},
   "source": [
    "CSV Dosyaları\n",
    "\n",
    "Okuma: read_csv()\n",
    "Yazma: to_csv()"
   ]
  },
  {
   "cell_type": "code",
   "execution_count": null,
   "metadata": {},
   "outputs": [],
   "source": [
    "# CSV dosyasını okuma\n",
    "csv_data = pd.read_csv('adult.csv')\n",
    "\n",
    "# CSV dosyasına yazma\n",
    "csv_data.to_csv('output_adult.csv', index=False)"
   ]
  },
  {
   "cell_type": "markdown",
   "metadata": {},
   "source": [
    "Excel Dosyalarını Okuma (read_excel)"
   ]
  },
  {
   "cell_type": "code",
   "execution_count": null,
   "metadata": {},
   "outputs": [],
   "source": [
    "file_name = 'adult.xlsx'\n",
    "data = pd.read_excel(file_name)"
   ]
  },
  {
   "cell_type": "markdown",
   "metadata": {},
   "source": [
    "JSON Dosyaları\n",
    "\n",
    "Okuma: read_json()\n",
    "Yazma: to_json()"
   ]
  },
  {
   "cell_type": "code",
   "execution_count": null,
   "metadata": {},
   "outputs": [],
   "source": [
    "# JSON dosyasını okuma\n",
    "json_data = pd.read_json('adult.json')\n",
    "\n",
    "# JSON dosyasına yazma\n",
    "json_data.to_json('output_adult.json', orient='records')"
   ]
  },
  {
   "cell_type": "markdown",
   "metadata": {},
   "source": [
    "SQL Veritabanları\n",
    "\n",
    "Pandas, SQL veritabanlarıyla çalışmak için sqlite3 veya SQLAlchemy gibi kütüphaneleri kullanır."
   ]
  },
  {
   "cell_type": "code",
   "execution_count": null,
   "metadata": {},
   "outputs": [],
   "source": [
    "import sqlite3\n",
    "\n",
    "# SQLite bağlantısı oluşturma\n",
    "conn = sqlite3.connect('adult.db')\n",
    "\n",
    "# Veritabanından okuma\n",
    "sql_data = pd.read_sql_query('SELECT * FROM employees', conn)\n",
    "\n",
    "# DataFrame'i SQL'e yazma\n",
    "data.to_sql('employees', conn, if_exists='replace', index=False)\n"
   ]
  },
  {
   "cell_type": "markdown",
   "metadata": {},
   "source": [
    "#### 15. Performans ve Bellek Yönetimi\n",
    "\n",
    "Pandas, küçük ve orta ölçekli veri setleri için oldukça güçlüdür. Ancak, büyük veri setleriyle çalışırken performansı artırmak ve bellek tüketimini azaltmak için optimizasyon teknikleri ve alternatif kütüphaneler kullanılabilir.\n",
    "\n"
   ]
  },
  {
   "cell_type": "markdown",
   "metadata": {},
   "source": [
    "**Pandas Optimizasyon Teknikleri**\n",
    "\n",
    "Bellek Verimliliği Sağlama\n",
    "\n",
    "Veri Tiplerini Optimize Etmek: Varsayılan veri tipleri fazla bellek tüketebilir. Verilerin boyutunu azaltmak için uygun veri tiplerini kullanmak önemlidir.\n",
    "\n"
   ]
  },
  {
   "cell_type": "code",
   "execution_count": 81,
   "metadata": {},
   "outputs": [
    {
     "name": "stdout",
     "output_type": "stream",
     "text": [
      "Varsayılan bellek kullanımı: 0.23 MB\n",
      "Dönüşüm sonrası bellek kullanımı: 0.09 MB\n"
     ]
    }
   ],
   "source": [
    "import pandas as pd\n",
    "\n",
    "# Örnek veri seti\n",
    "data = pd.DataFrame({\n",
    "    'ID': range(1, 10001),\n",
    "    'Age': [25] * 10000,\n",
    "    'Salary': [5000.50] * 10000\n",
    "})\n",
    "\n",
    "# Varsayılan bellek kullanımı\n",
    "print(f\"Varsayılan bellek kullanımı: {data.memory_usage(deep=True).sum() / 1024**2:.2f} MB\")\n",
    "\n",
    "# Tip dönüşümü yaparak bellek tüketimini azaltma\n",
    "data['ID'] = data['ID'].astype('int32')\n",
    "data['Age'] = data['Age'].astype('int8')\n",
    "data['Salary'] = data['Salary'].astype('float32')\n",
    "\n",
    "# Dönüşüm sonrası bellek kullanımı\n",
    "print(f\"Dönüşüm sonrası bellek kullanımı: {data.memory_usage(deep=True).sum() / 1024**2:.2f} MB\")\n"
   ]
  },
  {
   "cell_type": "markdown",
   "metadata": {},
   "source": [
    "**Gereksiz Sütunları ve Satırları Kaldırma**\n",
    "\n",
    "Analizde kullanılmayacak sütun ve satırları kaldırarak veri setini küçültmek, belleği ve işlem hızını optimize eder."
   ]
  },
  {
   "cell_type": "code",
   "execution_count": 82,
   "metadata": {},
   "outputs": [
    {
     "ename": "KeyError",
     "evalue": "\"['UnnecessaryColumn'] not found in axis\"",
     "output_type": "error",
     "traceback": [
      "\u001b[1;31m---------------------------------------------------------------------------\u001b[0m",
      "\u001b[1;31mKeyError\u001b[0m                                  Traceback (most recent call last)",
      "Cell \u001b[1;32mIn[82], line 2\u001b[0m\n\u001b[0;32m      1\u001b[0m \u001b[38;5;66;03m# Gereksiz sütunları kaldırma\u001b[39;00m\n\u001b[1;32m----> 2\u001b[0m data \u001b[38;5;241m=\u001b[39m \u001b[43mdata\u001b[49m\u001b[38;5;241;43m.\u001b[39;49m\u001b[43mdrop\u001b[49m\u001b[43m(\u001b[49m\u001b[43mcolumns\u001b[49m\u001b[38;5;241;43m=\u001b[39;49m\u001b[43m[\u001b[49m\u001b[38;5;124;43m'\u001b[39;49m\u001b[38;5;124;43mUnnecessaryColumn\u001b[39;49m\u001b[38;5;124;43m'\u001b[39;49m\u001b[43m]\u001b[49m\u001b[43m)\u001b[49m\n",
      "File \u001b[1;32mc:\\Users\\rbeyz\\AppData\\Local\\Programs\\Python\\Python313\\Lib\\site-packages\\pandas\\core\\frame.py:5581\u001b[0m, in \u001b[0;36mDataFrame.drop\u001b[1;34m(self, labels, axis, index, columns, level, inplace, errors)\u001b[0m\n\u001b[0;32m   5433\u001b[0m \u001b[38;5;28;01mdef\u001b[39;00m \u001b[38;5;21mdrop\u001b[39m(\n\u001b[0;32m   5434\u001b[0m     \u001b[38;5;28mself\u001b[39m,\n\u001b[0;32m   5435\u001b[0m     labels: IndexLabel \u001b[38;5;241m|\u001b[39m \u001b[38;5;28;01mNone\u001b[39;00m \u001b[38;5;241m=\u001b[39m \u001b[38;5;28;01mNone\u001b[39;00m,\n\u001b[1;32m   (...)\u001b[0m\n\u001b[0;32m   5442\u001b[0m     errors: IgnoreRaise \u001b[38;5;241m=\u001b[39m \u001b[38;5;124m\"\u001b[39m\u001b[38;5;124mraise\u001b[39m\u001b[38;5;124m\"\u001b[39m,\n\u001b[0;32m   5443\u001b[0m ) \u001b[38;5;241m-\u001b[39m\u001b[38;5;241m>\u001b[39m DataFrame \u001b[38;5;241m|\u001b[39m \u001b[38;5;28;01mNone\u001b[39;00m:\n\u001b[0;32m   5444\u001b[0m \u001b[38;5;250m    \u001b[39m\u001b[38;5;124;03m\"\"\"\u001b[39;00m\n\u001b[0;32m   5445\u001b[0m \u001b[38;5;124;03m    Drop specified labels from rows or columns.\u001b[39;00m\n\u001b[0;32m   5446\u001b[0m \n\u001b[1;32m   (...)\u001b[0m\n\u001b[0;32m   5579\u001b[0m \u001b[38;5;124;03m            weight  1.0     0.8\u001b[39;00m\n\u001b[0;32m   5580\u001b[0m \u001b[38;5;124;03m    \"\"\"\u001b[39;00m\n\u001b[1;32m-> 5581\u001b[0m     \u001b[38;5;28;01mreturn\u001b[39;00m \u001b[38;5;28;43msuper\u001b[39;49m\u001b[43m(\u001b[49m\u001b[43m)\u001b[49m\u001b[38;5;241;43m.\u001b[39;49m\u001b[43mdrop\u001b[49m\u001b[43m(\u001b[49m\n\u001b[0;32m   5582\u001b[0m \u001b[43m        \u001b[49m\u001b[43mlabels\u001b[49m\u001b[38;5;241;43m=\u001b[39;49m\u001b[43mlabels\u001b[49m\u001b[43m,\u001b[49m\n\u001b[0;32m   5583\u001b[0m \u001b[43m        \u001b[49m\u001b[43maxis\u001b[49m\u001b[38;5;241;43m=\u001b[39;49m\u001b[43maxis\u001b[49m\u001b[43m,\u001b[49m\n\u001b[0;32m   5584\u001b[0m \u001b[43m        \u001b[49m\u001b[43mindex\u001b[49m\u001b[38;5;241;43m=\u001b[39;49m\u001b[43mindex\u001b[49m\u001b[43m,\u001b[49m\n\u001b[0;32m   5585\u001b[0m \u001b[43m        \u001b[49m\u001b[43mcolumns\u001b[49m\u001b[38;5;241;43m=\u001b[39;49m\u001b[43mcolumns\u001b[49m\u001b[43m,\u001b[49m\n\u001b[0;32m   5586\u001b[0m \u001b[43m        \u001b[49m\u001b[43mlevel\u001b[49m\u001b[38;5;241;43m=\u001b[39;49m\u001b[43mlevel\u001b[49m\u001b[43m,\u001b[49m\n\u001b[0;32m   5587\u001b[0m \u001b[43m        \u001b[49m\u001b[43minplace\u001b[49m\u001b[38;5;241;43m=\u001b[39;49m\u001b[43minplace\u001b[49m\u001b[43m,\u001b[49m\n\u001b[0;32m   5588\u001b[0m \u001b[43m        \u001b[49m\u001b[43merrors\u001b[49m\u001b[38;5;241;43m=\u001b[39;49m\u001b[43merrors\u001b[49m\u001b[43m,\u001b[49m\n\u001b[0;32m   5589\u001b[0m \u001b[43m    \u001b[49m\u001b[43m)\u001b[49m\n",
      "File \u001b[1;32mc:\\Users\\rbeyz\\AppData\\Local\\Programs\\Python\\Python313\\Lib\\site-packages\\pandas\\core\\generic.py:4788\u001b[0m, in \u001b[0;36mNDFrame.drop\u001b[1;34m(self, labels, axis, index, columns, level, inplace, errors)\u001b[0m\n\u001b[0;32m   4786\u001b[0m \u001b[38;5;28;01mfor\u001b[39;00m axis, labels \u001b[38;5;129;01min\u001b[39;00m axes\u001b[38;5;241m.\u001b[39mitems():\n\u001b[0;32m   4787\u001b[0m     \u001b[38;5;28;01mif\u001b[39;00m labels \u001b[38;5;129;01mis\u001b[39;00m \u001b[38;5;129;01mnot\u001b[39;00m \u001b[38;5;28;01mNone\u001b[39;00m:\n\u001b[1;32m-> 4788\u001b[0m         obj \u001b[38;5;241m=\u001b[39m \u001b[43mobj\u001b[49m\u001b[38;5;241;43m.\u001b[39;49m\u001b[43m_drop_axis\u001b[49m\u001b[43m(\u001b[49m\u001b[43mlabels\u001b[49m\u001b[43m,\u001b[49m\u001b[43m \u001b[49m\u001b[43maxis\u001b[49m\u001b[43m,\u001b[49m\u001b[43m \u001b[49m\u001b[43mlevel\u001b[49m\u001b[38;5;241;43m=\u001b[39;49m\u001b[43mlevel\u001b[49m\u001b[43m,\u001b[49m\u001b[43m \u001b[49m\u001b[43merrors\u001b[49m\u001b[38;5;241;43m=\u001b[39;49m\u001b[43merrors\u001b[49m\u001b[43m)\u001b[49m\n\u001b[0;32m   4790\u001b[0m \u001b[38;5;28;01mif\u001b[39;00m inplace:\n\u001b[0;32m   4791\u001b[0m     \u001b[38;5;28mself\u001b[39m\u001b[38;5;241m.\u001b[39m_update_inplace(obj)\n",
      "File \u001b[1;32mc:\\Users\\rbeyz\\AppData\\Local\\Programs\\Python\\Python313\\Lib\\site-packages\\pandas\\core\\generic.py:4830\u001b[0m, in \u001b[0;36mNDFrame._drop_axis\u001b[1;34m(self, labels, axis, level, errors, only_slice)\u001b[0m\n\u001b[0;32m   4828\u001b[0m         new_axis \u001b[38;5;241m=\u001b[39m axis\u001b[38;5;241m.\u001b[39mdrop(labels, level\u001b[38;5;241m=\u001b[39mlevel, errors\u001b[38;5;241m=\u001b[39merrors)\n\u001b[0;32m   4829\u001b[0m     \u001b[38;5;28;01melse\u001b[39;00m:\n\u001b[1;32m-> 4830\u001b[0m         new_axis \u001b[38;5;241m=\u001b[39m \u001b[43maxis\u001b[49m\u001b[38;5;241;43m.\u001b[39;49m\u001b[43mdrop\u001b[49m\u001b[43m(\u001b[49m\u001b[43mlabels\u001b[49m\u001b[43m,\u001b[49m\u001b[43m \u001b[49m\u001b[43merrors\u001b[49m\u001b[38;5;241;43m=\u001b[39;49m\u001b[43merrors\u001b[49m\u001b[43m)\u001b[49m\n\u001b[0;32m   4831\u001b[0m     indexer \u001b[38;5;241m=\u001b[39m axis\u001b[38;5;241m.\u001b[39mget_indexer(new_axis)\n\u001b[0;32m   4833\u001b[0m \u001b[38;5;66;03m# Case for non-unique axis\u001b[39;00m\n\u001b[0;32m   4834\u001b[0m \u001b[38;5;28;01melse\u001b[39;00m:\n",
      "File \u001b[1;32mc:\\Users\\rbeyz\\AppData\\Local\\Programs\\Python\\Python313\\Lib\\site-packages\\pandas\\core\\indexes\\base.py:7070\u001b[0m, in \u001b[0;36mIndex.drop\u001b[1;34m(self, labels, errors)\u001b[0m\n\u001b[0;32m   7068\u001b[0m \u001b[38;5;28;01mif\u001b[39;00m mask\u001b[38;5;241m.\u001b[39many():\n\u001b[0;32m   7069\u001b[0m     \u001b[38;5;28;01mif\u001b[39;00m errors \u001b[38;5;241m!=\u001b[39m \u001b[38;5;124m\"\u001b[39m\u001b[38;5;124mignore\u001b[39m\u001b[38;5;124m\"\u001b[39m:\n\u001b[1;32m-> 7070\u001b[0m         \u001b[38;5;28;01mraise\u001b[39;00m \u001b[38;5;167;01mKeyError\u001b[39;00m(\u001b[38;5;124mf\u001b[39m\u001b[38;5;124m\"\u001b[39m\u001b[38;5;132;01m{\u001b[39;00mlabels[mask]\u001b[38;5;241m.\u001b[39mtolist()\u001b[38;5;132;01m}\u001b[39;00m\u001b[38;5;124m not found in axis\u001b[39m\u001b[38;5;124m\"\u001b[39m)\n\u001b[0;32m   7071\u001b[0m     indexer \u001b[38;5;241m=\u001b[39m indexer[\u001b[38;5;241m~\u001b[39mmask]\n\u001b[0;32m   7072\u001b[0m \u001b[38;5;28;01mreturn\u001b[39;00m \u001b[38;5;28mself\u001b[39m\u001b[38;5;241m.\u001b[39mdelete(indexer)\n",
      "\u001b[1;31mKeyError\u001b[0m: \"['UnnecessaryColumn'] not found in axis\""
     ]
    }
   ],
   "source": [
    "# Gereksiz sütunları kaldırma\n",
    "data = data.drop(columns=['UnnecessaryColumn'])"
   ]
  },
  {
   "cell_type": "markdown",
   "metadata": {},
   "source": [
    "**Parça Parça İşleme (chunksize)**\n",
    "\n",
    "Büyük veri setleri için chunksize kullanarak veriyi parça parça işlemek bellek kullanımını azaltır.\n"
   ]
  },
  {
   "cell_type": "code",
   "execution_count": 84,
   "metadata": {},
   "outputs": [
    {
     "name": "stdout",
     "output_type": "stream",
     "text": [
      "   age workclass  fnlwgt     education  education.num marital.status  \\\n",
      "0   90         ?   77053       HS-grad              9        Widowed   \n",
      "1   82   Private  132870       HS-grad              9        Widowed   \n",
      "2   66         ?  186061  Some-college             10        Widowed   \n",
      "3   54   Private  140359       7th-8th              4       Divorced   \n",
      "4   41   Private  264663  Some-college             10      Separated   \n",
      "\n",
      "          occupation   relationship   race     sex  capital.gain  \\\n",
      "0                  ?  Not-in-family  White  Female             0   \n",
      "1    Exec-managerial  Not-in-family  White  Female             0   \n",
      "2                  ?      Unmarried  Black  Female             0   \n",
      "3  Machine-op-inspct      Unmarried  White  Female             0   \n",
      "4     Prof-specialty      Own-child  White  Female             0   \n",
      "\n",
      "   capital.loss  hours.per.week native.country income  \n",
      "0          4356              40  United-States  <=50K  \n",
      "1          4356              18  United-States  <=50K  \n",
      "2          4356              40  United-States  <=50K  \n",
      "3          3900              40  United-States  <=50K  \n",
      "4          3900              40  United-States  <=50K  \n",
      "      age         workclass  fnlwgt   education  education.num  \\\n",
      "1000   39  Self-emp-not-inc  134475   Bachelors             13   \n",
      "1001   43           Private  138184     HS-grad              9   \n",
      "1002   22           Private  156822        10th              6   \n",
      "1003   30           Private  145231  Assoc-acdm             12   \n",
      "1004   21           Private  213341        11th              7   \n",
      "\n",
      "             marital.status         occupation   relationship   race     sex  \\\n",
      "1000               Divorced       Adm-clerical  Not-in-family  White    Male   \n",
      "1001               Divorced      Other-service  Not-in-family  Black  Female   \n",
      "1002          Never-married              Sales  Not-in-family  White  Female   \n",
      "1003               Divorced       Adm-clerical      Own-child  White  Female   \n",
      "1004  Married-spouse-absent  Handlers-cleaners      Own-child  White    Male   \n",
      "\n",
      "      capital.gain  capital.loss  hours.per.week      native.country income  \n",
      "1000             0          1762              40       United-States  <=50K  \n",
      "1001             0          1762              35       United-States  <=50K  \n",
      "1002             0          1762              25       United-States  <=50K  \n",
      "1003             0          1762              40       United-States  <=50K  \n",
      "1004             0          1762              40  Dominican-Republic  <=50K  \n",
      "      age     workclass  fnlwgt     education  education.num  \\\n",
      "2000   35       Private  186183       HS-grad              9   \n",
      "2001   49  Self-emp-inc  191277  Some-college             10   \n",
      "2002   50       Private  164198    Assoc-acdm             12   \n",
      "2003   31       Private  167725     Bachelors             13   \n",
      "2004   53     Local-gov  283602       Masters             14   \n",
      "\n",
      "          marital.status         occupation relationship                race  \\\n",
      "2000  Married-civ-spouse   Transport-moving      Husband               White   \n",
      "2001  Married-civ-spouse    Exec-managerial      Husband               White   \n",
      "2002  Married-civ-spouse  Handlers-cleaners      Husband               Black   \n",
      "2003  Married-civ-spouse     Prof-specialty      Husband  Asian-Pac-Islander   \n",
      "2004  Married-civ-spouse     Prof-specialty         Wife               White   \n",
      "\n",
      "         sex  capital.gain  capital.loss  hours.per.week native.country income  \n",
      "2000    Male         15024             0              80  United-States   >50K  \n",
      "2001    Male         15024             0              50  United-States   >50K  \n",
      "2002    Male         15024             0              45  United-States   >50K  \n",
      "2003    Male         15024             0              48    Philippines   >50K  \n",
      "2004  Female         15024             0              40  United-States   >50K  \n",
      "      age     workclass  fnlwgt     education  education.num  \\\n",
      "3000   42       Private  159449     Bachelors             13   \n",
      "3001   42     Local-gov   97688  Some-college             10   \n",
      "3002   36       Private  188563  Some-college             10   \n",
      "3003   32       Private  231043       HS-grad              9   \n",
      "3004   44  Self-emp-inc  320984  Some-college             10   \n",
      "\n",
      "          marital.status       occupation relationship   race   sex  \\\n",
      "3000  Married-civ-spouse  Exec-managerial      Husband  White  Male   \n",
      "3001  Married-civ-spouse     Craft-repair      Husband  White  Male   \n",
      "3002  Married-civ-spouse            Sales      Husband  White  Male   \n",
      "3003  Married-civ-spouse     Craft-repair      Husband  White  Male   \n",
      "3004  Married-civ-spouse            Sales      Husband  White  Male   \n",
      "\n",
      "      capital.gain  capital.loss  hours.per.week native.country income  \n",
      "3000          5178             0              40  United-States   >50K  \n",
      "3001          5178             0              40  United-States   >50K  \n",
      "3002          5178             0              50  United-States   >50K  \n",
      "3003          5178             0              48  United-States   >50K  \n",
      "3004          5178             0              60  United-States   >50K  \n",
      "      age workclass  fnlwgt     education  education.num marital.status  \\\n",
      "4000   25   Private  176047       HS-grad              9  Never-married   \n",
      "4001   21         ?  175166  Some-college             10  Never-married   \n",
      "4002   18   Private   60981  Some-college             10  Never-married   \n",
      "4003   48   Private  189462  Some-college             10       Divorced   \n",
      "4004   27   Private  177955       5th-6th              3  Never-married   \n",
      "\n",
      "             occupation    relationship   race     sex  capital.gain  \\\n",
      "4000  Machine-op-inspct       Own-child  White  Female          2176   \n",
      "4001                  ?       Own-child  White  Female          2176   \n",
      "4002              Sales       Own-child  White  Female          2176   \n",
      "4003  Handlers-cleaners       Own-child  White    Male          2176   \n",
      "4004    Priv-house-serv  Other-relative  White  Female          2176   \n",
      "\n",
      "      capital.loss  hours.per.week native.country income  \n",
      "4000             0              40  United-States  <=50K  \n",
      "4001             0              40  United-States  <=50K  \n",
      "4002             0              35  United-States  <=50K  \n",
      "4003             0              40  United-States  <=50K  \n",
      "4004             0              40    El-Salvador  <=50K  \n",
      "      age         workclass  fnlwgt     education  education.num  \\\n",
      "5000   33      Self-emp-inc  155781  Some-college             10   \n",
      "5001   54  Self-emp-not-inc  406468       HS-grad              9   \n",
      "5002   48                 ?  144397  Some-college             10   \n",
      "5003   35  Self-emp-not-inc  372525     Bachelors             13   \n",
      "5004   28           Private  164170     Assoc-voc             11   \n",
      "\n",
      "          marital.status       occupation   relationship                race  \\\n",
      "5000  Married-civ-spouse     Craft-repair        Husband               White   \n",
      "5001  Married-civ-spouse            Sales        Husband               Black   \n",
      "5002            Divorced                ?      Unmarried               Black   \n",
      "5003       Never-married  Exec-managerial  Not-in-family               White   \n",
      "5004  Married-civ-spouse     Adm-clerical           Wife  Asian-Pac-Islander   \n",
      "\n",
      "         sex  capital.gain  capital.loss  hours.per.week native.country income  \n",
      "5000    Male             0             0              60              ?  <=50K  \n",
      "5001    Male             0             0              40  United-States  <=50K  \n",
      "5002  Female             0             0              30  United-States  <=50K  \n",
      "5003    Male             0             0              40  United-States  <=50K  \n",
      "5004  Female             0             0              40          India  <=50K  \n",
      "      age  workclass  fnlwgt education  education.num      marital.status  \\\n",
      "6000   30  Local-gov  261319   7th-8th              4  Married-civ-spouse   \n",
      "6001   34    Private  126838   HS-grad              9  Married-civ-spouse   \n",
      "6002   19    Private  354104   HS-grad              9       Never-married   \n",
      "6003   20    Private  176321      12th              8       Never-married   \n",
      "6004   47    Private   85129   HS-grad              9            Divorced   \n",
      "\n",
      "             occupation   relationship                race     sex  \\\n",
      "6000   Transport-moving        Husband               White    Male   \n",
      "6001   Transport-moving        Husband               White    Male   \n",
      "6002  Handlers-cleaners      Own-child               White    Male   \n",
      "6003       Adm-clerical      Own-child               White  Female   \n",
      "6004      Other-service  Not-in-family  Asian-Pac-Islander  Female   \n",
      "\n",
      "      capital.gain  capital.loss  hours.per.week native.country income  \n",
      "6000             0             0              40  United-States  <=50K  \n",
      "6001             0             0              40  United-States  <=50K  \n",
      "6002             0             0              30  United-States  <=50K  \n",
      "6003             0             0              40         Mexico  <=50K  \n",
      "6004             0             0              40  United-States  <=50K  \n",
      "      age workclass  fnlwgt   education  education.num      marital.status  \\\n",
      "7000   31   Private  169269     7th-8th              4       Never-married   \n",
      "7001   23         ?  123983   Bachelors             13       Never-married   \n",
      "7002   47   Private  297884        10th              6             Widowed   \n",
      "7003   59   Private   99131     HS-grad              9             Widowed   \n",
      "7004   32   Private   44392  Assoc-acdm             12  Married-civ-spouse   \n",
      "\n",
      "             occupation   relationship   race     sex  capital.gain  \\\n",
      "7000       Craft-repair      Unmarried  White    Male             0   \n",
      "7001                  ?      Own-child  Other    Male             0   \n",
      "7002  Machine-op-inspct  Not-in-family  White    Male             0   \n",
      "7003     Prof-specialty  Not-in-family  White  Female             0   \n",
      "7004  Handlers-cleaners        Husband  White    Male             0   \n",
      "\n",
      "      capital.loss  hours.per.week native.country income  \n",
      "7000             0              40  United-States  <=50K  \n",
      "7001             0              40  United-States  <=50K  \n",
      "7002             0              40  United-States  <=50K  \n",
      "7003             0              18  United-States  <=50K  \n",
      "7004             0              40  United-States  <=50K  \n",
      "      age    workclass  fnlwgt     education  education.num  \\\n",
      "8000   33      Private  184901       HS-grad              9   \n",
      "8001   28      Private   87239       HS-grad              9   \n",
      "8002   63      Private  127363  Some-college             10   \n",
      "8003   37      Private  143058          10th              6   \n",
      "8004   50  Federal-gov   36489  Some-college             10   \n",
      "\n",
      "          marital.status         occupation   relationship   race     sex  \\\n",
      "8000  Married-civ-spouse  Machine-op-inspct        Husband  White    Male   \n",
      "8001            Divorced   Transport-moving  Not-in-family  White    Male   \n",
      "8002  Married-civ-spouse     Prof-specialty           Wife  White  Female   \n",
      "8003  Married-civ-spouse       Craft-repair        Husband  White    Male   \n",
      "8004            Divorced    Exec-managerial      Unmarried  White    Male   \n",
      "\n",
      "      capital.gain  capital.loss  hours.per.week native.country income  \n",
      "8000             0             0              40  United-States   >50K  \n",
      "8001             0             0              50  United-States  <=50K  \n",
      "8002             0             0              12  United-States  <=50K  \n",
      "8003             0             0              50  United-States  <=50K  \n",
      "8004             0             0              40  United-States  <=50K  \n",
      "      age  workclass  fnlwgt   education  education.num      marital.status  \\\n",
      "9000   25    Private  139730     HS-grad              9  Married-civ-spouse   \n",
      "9001   18    Private  201901        11th              7       Never-married   \n",
      "9002   32  State-gov  230224  Assoc-acdm             12  Married-civ-spouse   \n",
      "9003   27    Private  113464     1st-4th              2       Never-married   \n",
      "9004   48    Private   94461     HS-grad              9             Widowed   \n",
      "\n",
      "             occupation   relationship   race     sex  capital.gain  \\\n",
      "9000       Craft-repair        Husband  White    Male             0   \n",
      "9001              Sales      Own-child  White  Female             0   \n",
      "9002      Other-service        Husband  White    Male             0   \n",
      "9003      Other-service      Own-child  Other    Male             0   \n",
      "9004  Machine-op-inspct  Not-in-family  White  Female             0   \n",
      "\n",
      "      capital.loss  hours.per.week      native.country income  \n",
      "9000             0              80       United-States   >50K  \n",
      "9001             0              10       United-States  <=50K  \n",
      "9002             0              35       United-States  <=50K  \n",
      "9003             0              35  Dominican-Republic  <=50K  \n",
      "9004             0              16       United-States  <=50K  \n",
      "       age         workclass  fnlwgt     education  education.num  \\\n",
      "10000   43           Private  178417     Bachelors             13   \n",
      "10001   58           Private  178644       HS-grad              9   \n",
      "10002   43  Self-emp-not-inc  271665       HS-grad              9   \n",
      "10003   37                 ?  223732  Some-college             10   \n",
      "10004   21       Federal-gov  169003          12th              8   \n",
      "\n",
      "           marital.status      occupation   relationship   race   sex  \\\n",
      "10000            Divorced  Prof-specialty  Not-in-family  White  Male   \n",
      "10001             Widowed    Craft-repair      Unmarried  White  Male   \n",
      "10002  Married-civ-spouse           Sales        Husband  White  Male   \n",
      "10003           Separated               ?      Unmarried  White  Male   \n",
      "10004       Never-married    Adm-clerical      Own-child  Black  Male   \n",
      "\n",
      "       capital.gain  capital.loss  hours.per.week native.country income  \n",
      "10000             0             0              40  United-States  <=50K  \n",
      "10001             0             0              40  United-States  <=50K  \n",
      "10002             0             0              45  United-States  <=50K  \n",
      "10003             0             0              40  United-States  <=50K  \n",
      "10004             0             0              25  United-States  <=50K  \n",
      "       age         workclass  fnlwgt     education  education.num  \\\n",
      "11000   26  Self-emp-not-inc  281678     Assoc-voc             11   \n",
      "11001   24                 ?  377725     Bachelors             13   \n",
      "11002   32           Private  151053       HS-grad              9   \n",
      "11003   49         Local-gov  186539       Masters             14   \n",
      "11004   20                 ?  149478  Some-college             10   \n",
      "\n",
      "           marital.status         occupation    relationship   race     sex  \\\n",
      "11000  Married-civ-spouse    Farming-fishing         Husband  White    Male   \n",
      "11001       Never-married                  ?   Not-in-family  White  Female   \n",
      "11002  Married-civ-spouse  Handlers-cleaners         Husband  White    Male   \n",
      "11003  Married-civ-spouse    Protective-serv         Husband  White    Male   \n",
      "11004       Never-married                  ?  Other-relative  White  Female   \n",
      "\n",
      "       capital.gain  capital.loss  hours.per.week native.country income  \n",
      "11000             0             0              55  United-States  <=50K  \n",
      "11001             0             0              40  United-States  <=50K  \n",
      "11002             0             0              40  United-States   >50K  \n",
      "11003             0             0              40  United-States   >50K  \n",
      "11004             0             0              25  United-States  <=50K  \n",
      "       age workclass  fnlwgt     education  education.num      marital.status  \\\n",
      "12000   30   Private  167476  Some-college             10            Divorced   \n",
      "12001   40   Private  221172    Assoc-acdm             12  Married-civ-spouse   \n",
      "12002   27         ?  188711  Some-college             10            Divorced   \n",
      "12003   49   Private  199448     Assoc-voc             11            Divorced   \n",
      "12004   30   Private  313038       HS-grad              9       Never-married   \n",
      "\n",
      "              occupation   relationship   race     sex  capital.gain  \\\n",
      "12000  Machine-op-inspct  Not-in-family  White    Male             0   \n",
      "12001    Exec-managerial        Husband  White    Male             0   \n",
      "12002                  ?  Not-in-family  White    Male             0   \n",
      "12003              Sales      Unmarried  White  Female             0   \n",
      "12004       Craft-repair  Not-in-family  White    Male             0   \n",
      "\n",
      "       capital.loss  hours.per.week native.country income  \n",
      "12000             0              50  United-States  <=50K  \n",
      "12001             0              50  United-States   >50K  \n",
      "12002             0              30  United-States  <=50K  \n",
      "12003             0              40  United-States  <=50K  \n",
      "12004             0              40  United-States  <=50K  \n",
      "       age workclass  fnlwgt     education  education.num      marital.status  \\\n",
      "13000   62   Private   57970       7th-8th              4            Divorced   \n",
      "13001   35   Private  208378          12th              8           Separated   \n",
      "13002   39   Private   61343          10th              6  Married-civ-spouse   \n",
      "13003   24   Private  283872  Some-college             10       Never-married   \n",
      "13004   58   Private  225603           9th              5            Divorced   \n",
      "\n",
      "              occupation   relationship   race     sex  capital.gain  \\\n",
      "13000  Handlers-cleaners  Not-in-family  White    Male             0   \n",
      "13001  Machine-op-inspct      Unmarried  White  Female             0   \n",
      "13002  Machine-op-inspct        Husband  White    Male             0   \n",
      "13003       Adm-clerical  Not-in-family  Black    Male             0   \n",
      "13004    Farming-fishing  Not-in-family  Black    Male             0   \n",
      "\n",
      "       capital.loss  hours.per.week native.country income  \n",
      "13000             0              40  United-States  <=50K  \n",
      "13001             0              40  United-States  <=50K  \n",
      "13002             0              60  United-States  <=50K  \n",
      "13003             0              20  United-States  <=50K  \n",
      "13004             0              40  United-States  <=50K  \n",
      "       age         workclass  fnlwgt     education  education.num  \\\n",
      "14000   30           Private  185177          11th              7   \n",
      "14001   84      Self-emp-inc  172907  Some-college             10   \n",
      "14002   35  Self-emp-not-inc  308874       HS-grad              9   \n",
      "14003   45  Self-emp-not-inc   54098     Assoc-voc             11   \n",
      "14004   46           Private  288608       HS-grad              9   \n",
      "\n",
      "           marital.status         occupation   relationship   race   sex  \\\n",
      "14000       Never-married  Handlers-cleaners      Own-child  White  Male   \n",
      "14001  Married-civ-spouse              Sales        Husband  White  Male   \n",
      "14002       Never-married       Craft-repair  Not-in-family  Black  Male   \n",
      "14003  Married-civ-spouse    Farming-fishing        Husband  White  Male   \n",
      "14004       Never-married       Craft-repair      Own-child  White  Male   \n",
      "\n",
      "       capital.gain  capital.loss  hours.per.week native.country income  \n",
      "14000             0             0              49  United-States  <=50K  \n",
      "14001             0             0              35  United-States   >50K  \n",
      "14002             0             0              40  United-States  <=50K  \n",
      "14003             0             0              50  United-States   >50K  \n",
      "14004             0             0              40  United-States  <=50K  \n",
      "       age  workclass  fnlwgt     education  education.num marital.status  \\\n",
      "15000   29    Private  192010     Bachelors             13  Never-married   \n",
      "15001   28  Local-gov  356089     Bachelors             13  Never-married   \n",
      "15002   34    Private  684015       5th-6th              3  Never-married   \n",
      "15003   18    Private   36882       HS-grad              9  Never-married   \n",
      "15004   39    Private  203180  Some-college             10       Divorced   \n",
      "\n",
      "              occupation    relationship   race     sex  capital.gain  \\\n",
      "15000     Prof-specialty   Not-in-family  White  Female             0   \n",
      "15001     Prof-specialty  Other-relative  White    Male             0   \n",
      "15002  Handlers-cleaners       Own-child  White    Male             0   \n",
      "15003       Adm-clerical       Own-child  White  Female             0   \n",
      "15004    Farming-fishing       Unmarried  White  Female             0   \n",
      "\n",
      "       capital.loss  hours.per.week native.country income  \n",
      "15000             0              60         Poland  <=50K  \n",
      "15001             0              50  United-States  <=50K  \n",
      "15002             0              40    El-Salvador  <=50K  \n",
      "15003             0              20  United-States  <=50K  \n",
      "15004             0              45  United-States  <=50K  \n",
      "       age         workclass  fnlwgt     education  education.num  \\\n",
      "16000   39  Self-emp-not-inc  190023     Bachelors             13   \n",
      "16001   33           Private  168782     Assoc-voc             11   \n",
      "16002   59           Private  175290       7th-8th              4   \n",
      "16003   74           Private  145463       1st-4th              2   \n",
      "16004   54           Private  159755  Some-college             10   \n",
      "\n",
      "           marital.status       occupation    relationship   race     sex  \\\n",
      "16000  Married-civ-spouse            Sales         Husband  White    Male   \n",
      "16001       Never-married     Craft-repair       Unmarried  White    Male   \n",
      "16002       Never-married    Other-service  Other-relative  White    Male   \n",
      "16003             Widowed  Priv-house-serv   Not-in-family  Black  Female   \n",
      "16004  Married-civ-spouse  Protective-serv         Husband  White    Male   \n",
      "\n",
      "       capital.gain  capital.loss  hours.per.week native.country income  \n",
      "16000             0             0              60  United-States  <=50K  \n",
      "16001             0             0              40  United-States  <=50K  \n",
      "16002             0             0              32  United-States  <=50K  \n",
      "16003             0             0              15  United-States  <=50K  \n",
      "16004             0             0              40  United-States   >50K  \n",
      "       age workclass  fnlwgt     education  education.num      marital.status  \\\n",
      "17000   30   Private  185027     Bachelors             13  Married-civ-spouse   \n",
      "17001   31   Private  182539  Some-college             10       Never-married   \n",
      "17002   22   Private  215395       HS-grad              9       Never-married   \n",
      "17003   37   Private  186434       HS-grad              9  Married-civ-spouse   \n",
      "17004   41         ?  217921           9th              5  Married-civ-spouse   \n",
      "\n",
      "             occupation   relationship                race     sex  \\\n",
      "17000    Prof-specialty        Husband               White    Male   \n",
      "17001      Adm-clerical  Not-in-family               White  Female   \n",
      "17002  Transport-moving  Not-in-family               White    Male   \n",
      "17003     Other-service        Husband               Black    Male   \n",
      "17004                 ?           Wife  Asian-Pac-Islander  Female   \n",
      "\n",
      "       capital.gain  capital.loss  hours.per.week native.country income  \n",
      "17000             0             0              40  United-States   >50K  \n",
      "17001             0             0              45  United-States  <=50K  \n",
      "17002             0             0              37  United-States  <=50K  \n",
      "17003             0             0              40  United-States   >50K  \n",
      "17004             0             0              40           Hong  <=50K  \n",
      "       age workclass  fnlwgt     education  education.num      marital.status  \\\n",
      "18000   55   Private  368727  Some-college             10            Divorced   \n",
      "18001   23   Private  353696       HS-grad              9       Never-married   \n",
      "18002   27   Private  110931       HS-grad              9  Married-civ-spouse   \n",
      "18003   24   Private  169532    Assoc-acdm             12       Never-married   \n",
      "18004   21   Private  285522  Some-college             10       Never-married   \n",
      "\n",
      "            occupation   relationship   race     sex  capital.gain  \\\n",
      "18000     Craft-repair  Not-in-family  White    Male             0   \n",
      "18001  Farming-fishing      Own-child  White    Male             0   \n",
      "18002     Adm-clerical        Husband  White    Male             0   \n",
      "18003     Adm-clerical      Own-child  White  Female             0   \n",
      "18004     Craft-repair  Not-in-family  White    Male             0   \n",
      "\n",
      "       capital.loss  hours.per.week native.country income  \n",
      "18000             0              40  United-States  <=50K  \n",
      "18001             0              40  United-States  <=50K  \n",
      "18002             0              40  United-States  <=50K  \n",
      "18003             0              15  United-States  <=50K  \n",
      "18004             0              40  United-States  <=50K  \n",
      "       age  workclass  fnlwgt     education  education.num  \\\n",
      "19000   26    Private  105059           9th              5   \n",
      "19001   34    Private  342709       Masters             14   \n",
      "19002   51    Private   53838     Bachelors             13   \n",
      "19003   45  Local-gov  209482       Masters             14   \n",
      "19004   44    Private  214242  Some-college             10   \n",
      "\n",
      "           marital.status         occupation relationship   race     sex  \\\n",
      "19000  Married-civ-spouse       Craft-repair      Husband  White    Male   \n",
      "19001  Married-civ-spouse    Exec-managerial      Husband  White    Male   \n",
      "19002  Married-civ-spouse  Handlers-cleaners      Husband  White    Male   \n",
      "19003  Married-civ-spouse     Prof-specialty         Wife  White  Female   \n",
      "19004  Married-civ-spouse   Transport-moving      Husband  White    Male   \n",
      "\n",
      "       capital.gain  capital.loss  hours.per.week native.country income  \n",
      "19000             0             0              20  United-States  <=50K  \n",
      "19001             0             0              40  United-States  <=50K  \n",
      "19002             0             0              40  United-States  <=50K  \n",
      "19003             0             0              45  United-States   >50K  \n",
      "19004             0             0              50  United-States   >50K  \n",
      "       age         workclass  fnlwgt     education  education.num  \\\n",
      "20000   36           Private  159016       HS-grad              9   \n",
      "20001   37           Private  183800     Bachelors             13   \n",
      "20002   58  Self-emp-not-inc  193434       HS-grad              9   \n",
      "20003   26           Private  245029     Bachelors             13   \n",
      "20004   55           Private   98746  Some-college             10   \n",
      "\n",
      "           marital.status         occupation   relationship   race     sex  \\\n",
      "20000  Married-civ-spouse  Machine-op-inspct        Husband  White    Male   \n",
      "20001  Married-civ-spouse    Exec-managerial        Husband  White    Male   \n",
      "20002  Married-civ-spouse       Craft-repair        Husband  White    Male   \n",
      "20003       Never-married       Adm-clerical  Not-in-family  Black  Female   \n",
      "20004  Married-civ-spouse       Tech-support        Husband  White    Male   \n",
      "\n",
      "       capital.gain  capital.loss  hours.per.week native.country income  \n",
      "20000             0             0              38  United-States  <=50K  \n",
      "20001             0             0              40  United-States   >50K  \n",
      "20002             0             0              20  United-States  <=50K  \n",
      "20003             0             0              40  United-States  <=50K  \n",
      "20004             0             0              50         Canada   >50K  \n",
      "       age  workclass  fnlwgt  education  education.num      marital.status  \\\n",
      "21000   29    Private  251694  Bachelors             13       Never-married   \n",
      "21001   22    Private  268145  Bachelors             13       Never-married   \n",
      "21002   56    Private  104842  Bachelors             13            Divorced   \n",
      "21003   60  Local-gov  227332    Masters             14  Married-civ-spouse   \n",
      "21004   53    Private  133436    7th-8th              4            Divorced   \n",
      "\n",
      "              occupation   relationship   race     sex  capital.gain  \\\n",
      "21000    Farming-fishing      Own-child  White    Male             0   \n",
      "21001              Sales  Not-in-family  White  Female             0   \n",
      "21002     Prof-specialty      Unmarried  Black  Female             0   \n",
      "21003    Exec-managerial        Husband  White    Male             0   \n",
      "21004  Machine-op-inspct  Not-in-family  White  Female             0   \n",
      "\n",
      "       capital.loss  hours.per.week native.country income  \n",
      "21000             0              50  United-States  <=50K  \n",
      "21001             0              40  United-States  <=50K  \n",
      "21002             0              50          Haiti  <=50K  \n",
      "21003             0              40  United-States   >50K  \n",
      "21004             0              40  United-States  <=50K  \n",
      "       age         workclass  fnlwgt    education  education.num  \\\n",
      "22000   48  Self-emp-not-inc  246891  Prof-school             15   \n",
      "22001   70      Self-emp-inc  243436          9th              5   \n",
      "22002   44         Local-gov   68318      Masters             14   \n",
      "22003   58           Private   56331    Bachelors             13   \n",
      "22004   41           Private  190591   Assoc-acdm             12   \n",
      "\n",
      "           marital.status       occupation   relationship   race     sex  \\\n",
      "22000  Married-civ-spouse     Craft-repair        Husband  White    Male   \n",
      "22001            Divorced            Sales  Not-in-family  White    Male   \n",
      "22002       Never-married   Prof-specialty      Own-child  White  Female   \n",
      "22003  Married-civ-spouse            Sales        Husband  White    Male   \n",
      "22004            Divorced  Exec-managerial  Not-in-family  Black  Female   \n",
      "\n",
      "       capital.gain  capital.loss  hours.per.week native.country income  \n",
      "22000             0             0              60  United-States  <=50K  \n",
      "22001             0             0              45  United-States  <=50K  \n",
      "22002             0             0              55  United-States  <=50K  \n",
      "22003             0             0              40  United-States  <=50K  \n",
      "22004             0             0              40        Jamaica  <=50K  \n",
      "       age  workclass  fnlwgt   education  education.num      marital.status  \\\n",
      "23000   28    Private  202239     7th-8th              4  Married-civ-spouse   \n",
      "23001   39  Local-gov  164156  Assoc-acdm             12            Divorced   \n",
      "23002   59    Private  196482     HS-grad              9             Widowed   \n",
      "23003   31    Private  176185     Masters             14  Married-civ-spouse   \n",
      "23004   34    Private  287315     HS-grad              9            Divorced   \n",
      "\n",
      "              occupation   relationship   race     sex  capital.gain  \\\n",
      "23000     Prof-specialty        Husband  White    Male             0   \n",
      "23001      Other-service      Unmarried  White  Female             0   \n",
      "23002       Adm-clerical      Unmarried  White  Female             0   \n",
      "23003    Exec-managerial        Husband  White    Male             0   \n",
      "23004  Machine-op-inspct  Not-in-family  White    Male             0   \n",
      "\n",
      "       capital.loss  hours.per.week native.country income  \n",
      "23000             0              55  United-States  <=50K  \n",
      "23001             0              55  United-States  <=50K  \n",
      "23002             0              40  United-States  <=50K  \n",
      "23003             0              60         France   >50K  \n",
      "23004             0              40  United-States  <=50K  \n",
      "       age workclass  fnlwgt     education  education.num      marital.status  \\\n",
      "24000   33   Private  226267       7th-8th              4       Never-married   \n",
      "24001   19   Private  111232          12th              8       Never-married   \n",
      "24002   26   Private  212748       HS-grad              9  Married-civ-spouse   \n",
      "24003   23   Private  110677  Some-college             10       Never-married   \n",
      "24004   24   Private  306779  Some-college             10       Never-married   \n",
      "\n",
      "             occupation   relationship   race     sex  capital.gain  \\\n",
      "24000             Sales  Not-in-family  White    Male             0   \n",
      "24001  Transport-moving      Own-child  White    Male             0   \n",
      "24002  Transport-moving        Husband  White    Male             0   \n",
      "24003     Other-service      Own-child  White  Female             0   \n",
      "24004             Sales  Not-in-family  White    Male             0   \n",
      "\n",
      "       capital.loss  hours.per.week native.country income  \n",
      "24000             0              43         Mexico  <=50K  \n",
      "24001             0              15  United-States  <=50K  \n",
      "24002             0              40  United-States  <=50K  \n",
      "24003             0              15  United-States  <=50K  \n",
      "24004             0              65  United-States  <=50K  \n",
      "       age         workclass  fnlwgt  education  education.num  \\\n",
      "25000   27           Private   90692  Assoc-voc             11   \n",
      "25001   51           Private   57101        9th              5   \n",
      "25002   49           Private  236913    HS-grad              9   \n",
      "25003   64  Self-emp-not-inc  388625       10th              6   \n",
      "25004   54  Self-emp-not-inc  261207    7th-8th              4   \n",
      "\n",
      "           marital.status        occupation   relationship  \\\n",
      "25000       Never-married     Other-service  Not-in-family   \n",
      "25001  Married-civ-spouse      Craft-repair        Husband   \n",
      "25002             Widowed     Other-service  Not-in-family   \n",
      "25003  Married-civ-spouse    Prof-specialty        Husband   \n",
      "25004            Divorced  Transport-moving  Not-in-family   \n",
      "\n",
      "                     race     sex  capital.gain  capital.loss  hours.per.week  \\\n",
      "25000  Asian-Pac-Islander  Female             0             0              40   \n",
      "25001               White    Male             0             0              40   \n",
      "25002               White  Female             0             0              45   \n",
      "25003               White    Male             0             0              10   \n",
      "25004               White    Male             0             0              45   \n",
      "\n",
      "      native.country income  \n",
      "25000    Philippines  <=50K  \n",
      "25001  United-States  <=50K  \n",
      "25002  United-States  <=50K  \n",
      "25003  United-States   >50K  \n",
      "25004           Cuba  <=50K  \n",
      "       age workclass  fnlwgt     education  education.num  \\\n",
      "26000   20   Private  197997  Some-college             10   \n",
      "26001   46   Private   98350          10th              6   \n",
      "26002   39   Private  165848       HS-grad              9   \n",
      "26003   34   Private  178615       HS-grad              9   \n",
      "26004   19   Private  228939       HS-grad              9   \n",
      "\n",
      "              marital.status         occupation   relationship  \\\n",
      "26000          Never-married     Prof-specialty      Own-child   \n",
      "26001  Married-spouse-absent      Other-service  Not-in-family   \n",
      "26002     Married-civ-spouse              Sales        Husband   \n",
      "26003          Never-married  Handlers-cleaners  Not-in-family   \n",
      "26004          Never-married  Handlers-cleaners      Own-child   \n",
      "\n",
      "                     race   sex  capital.gain  capital.loss  hours.per.week  \\\n",
      "26000               White  Male             0             0              40   \n",
      "26001  Asian-Pac-Islander  Male             0             0              37   \n",
      "26002               White  Male             0             0              50   \n",
      "26003               White  Male             0             0              40   \n",
      "26004               White  Male             0             0              35   \n",
      "\n",
      "      native.country income  \n",
      "26000  United-States  <=50K  \n",
      "26001          China  <=50K  \n",
      "26002  United-States  <=50K  \n",
      "26003  United-States  <=50K  \n",
      "26004  United-States  <=50K  \n",
      "       age  workclass  fnlwgt     education  education.num  \\\n",
      "27000   61    Private  105384     Bachelors             13   \n",
      "27001   24    Private  137591  Some-college             10   \n",
      "27002   49  State-gov  324791     Bachelors             13   \n",
      "27003   25    Private  184303  Some-college             10   \n",
      "27004   66          ?  314347       HS-grad              9   \n",
      "\n",
      "           marital.status       occupation    relationship   race     sex  \\\n",
      "27000  Married-civ-spouse   Prof-specialty         Husband  White    Male   \n",
      "27001       Never-married            Sales       Own-child  White    Male   \n",
      "27002  Married-civ-spouse   Prof-specialty         Husband  White    Male   \n",
      "27003           Separated  Priv-house-serv  Other-relative  White  Female   \n",
      "27004  Married-civ-spouse                ?         Husband  Black    Male   \n",
      "\n",
      "       capital.gain  capital.loss  hours.per.week native.country income  \n",
      "27000             0             0              40  United-States  <=50K  \n",
      "27001             0             0              10         Greece  <=50K  \n",
      "27002             0             0              50  United-States   >50K  \n",
      "27003             0             0              30    El-Salvador  <=50K  \n",
      "27004             0             0              40  United-States  <=50K  \n",
      "       age         workclass  fnlwgt  education  education.num  \\\n",
      "28000   43  Self-emp-not-inc  180985  Bachelors             13   \n",
      "28001   24           Private  148709    HS-grad              9   \n",
      "28002   22                 ?  174626    7th-8th              4   \n",
      "28003   38           Private  184801  Bachelors             13   \n",
      "28004   52           Private   89054    HS-grad              9   \n",
      "\n",
      "           marital.status     occupation   relationship   race     sex  \\\n",
      "28000           Separated   Craft-repair      Unmarried  White    Male   \n",
      "28001       Never-married  Other-service  Not-in-family  White  Female   \n",
      "28002       Never-married              ?      Own-child  White    Male   \n",
      "28003  Married-civ-spouse          Sales        Husband  White    Male   \n",
      "28004  Married-civ-spouse   Craft-repair        Husband  White    Male   \n",
      "\n",
      "       capital.gain  capital.loss  hours.per.week native.country income  \n",
      "28000             0             0              35  United-States  <=50K  \n",
      "28001             0             0              40  United-States  <=50K  \n",
      "28002             0             0              40  United-States  <=50K  \n",
      "28003             0             0              60  United-States   >50K  \n",
      "28004             0             0              40  United-States  <=50K  \n",
      "       age  workclass  fnlwgt     education  education.num  \\\n",
      "29000   37  Local-gov  272471       HS-grad              9   \n",
      "29001   32    Private  311524       HS-grad              9   \n",
      "29002   18    Private  151386       HS-grad              9   \n",
      "29003   35    Private  187625  Some-college             10   \n",
      "29004   43    Private  169383     Bachelors             13   \n",
      "\n",
      "              marital.status       occupation   relationship   race     sex  \\\n",
      "29000               Divorced     Adm-clerical      Unmarried  White  Female   \n",
      "29001          Never-married     Craft-repair      Own-child  Black    Male   \n",
      "29002  Married-spouse-absent    Other-service      Own-child  Black    Male   \n",
      "29003          Never-married    Other-service  Not-in-family  White  Female   \n",
      "29004     Married-civ-spouse  Exec-managerial        Husband  White    Male   \n",
      "\n",
      "       capital.gain  capital.loss  hours.per.week native.country income  \n",
      "29000             0             0              40  United-States  <=50K  \n",
      "29001             0             0              38  United-States  <=50K  \n",
      "29002             0             0              40        Jamaica  <=50K  \n",
      "29003             0             0              65  United-States  <=50K  \n",
      "29004             0             0              45  United-States   >50K  \n",
      "       age workclass  fnlwgt     education  education.num      marital.status  \\\n",
      "30000   18   Private  122775       HS-grad              9       Never-married   \n",
      "30001   30   Private  329425  Some-college             10       Never-married   \n",
      "30002   61   Private  178312    Assoc-acdm             12  Married-civ-spouse   \n",
      "30003   21   Private  241951       HS-grad              9       Never-married   \n",
      "30004   53   Private  130143       HS-grad              9  Married-civ-spouse   \n",
      "\n",
      "              occupation   relationship   race   sex  capital.gain  \\\n",
      "30000      Other-service      Own-child  White  Male             0   \n",
      "30001    Protective-serv      Own-child  White  Male             0   \n",
      "30002    Exec-managerial        Husband  White  Male             0   \n",
      "30003  Machine-op-inspct  Not-in-family  White  Male             0   \n",
      "30004  Machine-op-inspct        Husband  White  Male             0   \n",
      "\n",
      "       capital.loss  hours.per.week native.country income  \n",
      "30000             0              35  United-States  <=50K  \n",
      "30001             0              48  United-States  <=50K  \n",
      "30002             0              42  United-States  <=50K  \n",
      "30003             0              45  United-States  <=50K  \n",
      "30004             0              48  United-States  <=50K  \n",
      "       age         workclass  fnlwgt     education  education.num  \\\n",
      "31000   17                 ?  219277          11th              7   \n",
      "31001   19           Private   45381  Some-college             10   \n",
      "31002   38           Private  167482  Some-college             10   \n",
      "31003   60           Private  225014       HS-grad              9   \n",
      "31004   29  Self-emp-not-inc  405083       HS-grad              9   \n",
      "\n",
      "           marital.status     occupation   relationship   race     sex  \\\n",
      "31000       Never-married              ?      Own-child  White  Female   \n",
      "31001       Never-married   Adm-clerical      Own-child  White  Female   \n",
      "31002  Married-civ-spouse   Craft-repair        Husband  White    Male   \n",
      "31003            Divorced  Other-service  Not-in-family  White  Female   \n",
      "31004       Never-married          Sales  Not-in-family  White    Male   \n",
      "\n",
      "       capital.gain  capital.loss  hours.per.week native.country income  \n",
      "31000             0             0              20  United-States  <=50K  \n",
      "31001             0             0               8  United-States  <=50K  \n",
      "31002             0             0              52  United-States   >50K  \n",
      "31003             0             0              40  United-States  <=50K  \n",
      "31004             0             0              40  United-States  <=50K  \n",
      "       age    workclass  fnlwgt     education  education.num  \\\n",
      "32000   32      Private  173998  Some-college             10   \n",
      "32001   25      Private   90752     Bachelors             13   \n",
      "32002   55      Private   51008       HS-grad              9   \n",
      "32003   55  Federal-gov  113398  Some-college             10   \n",
      "32004   25      Private   74977  Some-college             10   \n",
      "\n",
      "           marital.status    occupation   relationship   race     sex  \\\n",
      "32000       Never-married  Adm-clerical  Not-in-family  White  Female   \n",
      "32001  Married-civ-spouse  Adm-clerical           Wife  White  Female   \n",
      "32002            Divorced  Adm-clerical      Unmarried  White  Female   \n",
      "32003       Never-married  Adm-clerical      Unmarried  White    Male   \n",
      "32004  Married-civ-spouse  Adm-clerical           Wife  White  Female   \n",
      "\n",
      "       capital.gain  capital.loss  hours.per.week native.country income  \n",
      "32000             0             0              60  United-States  <=50K  \n",
      "32001             0             0              40  United-States  <=50K  \n",
      "32002             0             0              40  United-States  <=50K  \n",
      "32003             0             0              40  United-States  <=50K  \n",
      "32004             0             0              40  United-States  <=50K  \n"
     ]
    }
   ],
   "source": [
    "# CSV dosyasını parçalar halinde okuma\n",
    "reader = pd.read_csv('adult.csv', chunksize=1000)\n",
    "for chunk in reader:\n",
    "    # Her chunk üzerinde işlemler yapılabilir\n",
    "    print(chunk.head())"
   ]
  },
  {
   "cell_type": "markdown",
   "metadata": {},
   "source": [
    "**Paralel İşlemeye Geçiş**\n",
    "\n",
    "Pandas işlemleri tek iş parçacığında çalışır. Daha hızlı sonuçlar için paralel işlemeye geçiş yapılabilir.\n"
   ]
  },
  {
   "cell_type": "markdown",
   "metadata": {},
   "source": [
    "# Pandas Cheatsheet\n",
    "\n",
    "## **1. Veri Yükleme ve Kaydetme**\n",
    "| **İşlem**                    | **Kod Örneği**                                | **Açıklama**                                                 |\n",
    "|------------------------------|-----------------------------------------------|-------------------------------------------------------------|\n",
    "| CSV Yükleme                  | `pd.read_csv(\"file.csv\")`                     | CSV dosyasını yükler.                                       |\n",
    "| CSV Kaydetme                 | `df.to_csv(\"file.csv\", index=False)`          | Veri çerçevesini CSV dosyasına kaydeder.                   |\n",
    "| Excel Yükleme                | `pd.read_excel(\"file.xlsx\")`                  | Excel dosyasını Pandas'a yükler.                           |\n",
    "| Excel Kaydetme               | `df.to_excel(\"file.xlsx\", index=False)`       | Veri çerçevesini Excel dosyasına kaydeder.                 |\n",
    "| JSON Yükleme                 | `pd.read_json(\"file.json\")`                   | JSON dosyasını yükler.                                      |\n",
    "| SQL Yükleme                  | `pd.read_sql_query(\"SELECT * FROM table\", conn)`| SQL veritabanından veri yükler.                             |\n",
    "\n",
    "---\n",
    "\n",
    "## **2. Temel İşlemler**\n",
    "| **İşlem**                   | **Kod Örneği**       | **Açıklama**                                              |\n",
    "|-----------------------------|----------------------|----------------------------------------------------------|\n",
    "| İlk 5 Satırı Görüntüle      | `df.head()`          | Veri çerçevesinin ilk 5 satırını görüntüler.             |\n",
    "| Son 5 Satırı Görüntüle      | `df.tail()`          | Veri çerçevesinin son 5 satırını görüntüler.             |\n",
    "| Sütun İsimlerini Görüntüle  | `df.columns`         | Veri çerçevesindeki sütun adlarını listeler.             |\n",
    "| Şekil (satır x sütun)       | `df.shape`           | Veri çerçevesinin boyutunu döner.                        |\n",
    "| Veri Türlerini Görüntüle    | `df.dtypes`          | Her sütunun veri tipini döner.                           |\n",
    "| Genel Bilgi                 | `df.info()`          | Veri çerçevesi hakkında bilgi verir.                     |\n",
    "| İstatistiksel Özet          | `df.describe()`      | Sayısal sütunlar için özet çıkarır.                      |\n",
    "\n",
    "---\n",
    "\n",
    "## **3. Veri Manipülasyonu**\n",
    "| **İşlem**                   | **Kod Örneği**                                | **Açıklama**                                               |\n",
    "|-----------------------------|-----------------------------------------------|----------------------------------------------------------|\n",
    "| Yeni Sütun Ekleme           | `df[\"new_col\"] = value`                       | Yeni bir sütun ekler.                                    |\n",
    "| Mevcut Sütunu Güncelleme    | `df[\"col\"] = df[\"col\"] * 2`                   | Belirli bir sütunu günceller.                            |\n",
    "| Satır veya Sütun Silme      | `df.drop([\"col\"], axis=1, inplace=True)`      | Sütunları veya satırları siler.                          |\n",
    "| Veri Filtreleme             | `df[df[\"col\"] > value]`                       | Şartlara göre veri çerçevesini filtreler.                |\n",
    "| Değerleri Değiştirme        | `df[\"col\"].replace({\"old\": \"new\"}, inplace=True)` | Belirli değerleri başka bir değerle değiştirir.         |\n",
    "| Gruplama ve Özet            | `df.groupby(\"col\").mean()`                    | Gruplama yaparak özet çıkarır.                           |\n",
    "\n",
    "---\n",
    "\n",
    "## **4. Eksik Veri İşlemleri**\n",
    "| **İşlem**                   | **Kod Örneği**                                | **Açıklama**                                               |\n",
    "|-----------------------------|-----------------------------------------------|----------------------------------------------------------|\n",
    "| Eksik Değerleri Bulma       | `df.isnull().sum()`                           | Eksik değerlerin toplamını döner.                        |\n",
    "| Eksik Değerleri Doldurma    | `df.fillna(value)`                            | Eksik değerleri verilen bir değerle doldurur.            |\n",
    "| Eksik Değerleri Silme       | `df.dropna()`                                 | Eksik değer içeren satırları/sütunları siler.             |\n",
    "| İleri Doldurma              | `df.fillna(method=\"ffill\")`                   | Eksik değerleri bir önceki değerle doldurur.             |\n",
    "\n",
    "---\n",
    "\n",
    "## **5. Gruplama ve Birleştirme**\n",
    "| **İşlem**                   | **Kod Örneği**                                | **Açıklama**                                               |\n",
    "|-----------------------------|-----------------------------------------------|----------------------------------------------------------|\n",
    "| Gruplama                    | `df.groupby(\"col\").mean()`                   | Belirli bir sütuna göre gruplama yapar.                  |\n",
    "| Birleştirme (`merge`)       | `pd.merge(df1, df2, on=\"col\")`               | İki veri çerçevesini birleştirir.                        |\n",
    "| Birleştirme (`concat`)      | `pd.concat([df1, df2])`                      | Veri çerçevelerini dikey/yatay birleştirir.              |\n",
    "\n",
    "---\n",
    "\n",
    "## **6. Sıralama ve İndeksleme**\n",
    "| **İşlem**                   | **Kod Örneği**                                | **Açıklama**                                               |\n",
    "|-----------------------------|-----------------------------------------------|----------------------------------------------------------|\n",
    "| Değere Göre Sıralama        | `df.sort_values(by=\"col\", ascending=False)`   | Belirli bir sütuna göre sıralama yapar.                  |\n",
    "| İndekse Göre Sıralama       | `df.sort_index()`                             | İndekse göre sıralama yapar.                             |\n",
    "| İndeksi Resetleme           | `df.reset_index(drop=True)`                   | İndeksi sıfırlar.                                         |\n",
    "\n",
    "---\n",
    "\n",
    "## **7. Zaman Serileri ile Çalışma**\n",
    "| **İşlem**                   | **Kod Örneği**                                | **Açıklama**                                               |\n",
    "|-----------------------------|-----------------------------------------------|----------------------------------------------------------|\n",
    "| Tarih Formatına Çevirme     | `pd.to_datetime(df[\"col\"])`                   | Veriyi tarih formatına çevirir.                          |\n",
    "| Tarih Aralığı Oluşturma     | `pd.date_range(start=\"2023-01-01\", periods=5)` | Belirtilen tarih aralığını oluşturur.                    |\n",
    "\n",
    "---\n",
    "\n",
    "## **8. Veri Görselleştirme**\n",
    "| **İşlem**                   | **Kod Örneği**                                | **Açıklama**                                               |\n",
    "|-----------------------------|-----------------------------------------------|----------------------------------------------------------|\n",
    "| Çizgi Grafiği Çizme         | `df.plot()`                                   | Basit bir çizgi grafiği çizer.                           |\n",
    "| Histogram Çizme             | `df[\"col\"].plot(kind=\"hist\")`                 | Belirli bir sütun için histogram çizer.                  |\n",
    "| Çubuk Grafiği Çizme         | `df[\"col\"].value_counts().plot(kind=\"bar\")`   | Çubuk grafiği çizer.                                     |\n",
    "\n",
    "---\n",
    "\n",
    "## **9. Gelişmiş Fonksiyonlar**\n",
    "| **İşlem**                   | **Kod Örneği**                                | **Açıklama**                                               |\n",
    "|-----------------------------|-----------------------------------------------|----------------------------------------------------------|\n",
    "| `apply()` Fonksiyon Kullanımı | `df[\"col\"].apply(lambda x: x * 2)`            | Satır/sütun için fonksiyon uygular.                      |\n",
    "| `map()` Değer Dönüştürme     | `df[\"col\"].map({\"old\": \"new\"})`               | Değerleri başka değerlerle eşleştirir.                   |\n",
    "| `agg()` Özelleştirilmiş Özet | `df.agg({\"col1\": \"mean\", \"col2\": \"sum\"})`     | Gruplara özel özet çıkarır.                              |\n",
    "\n"
   ]
  }
 ],
 "metadata": {
  "kernelspec": {
   "display_name": "Python 3",
   "language": "python",
   "name": "python3"
  },
  "language_info": {
   "codemirror_mode": {
    "name": "ipython",
    "version": 3
   },
   "file_extension": ".py",
   "mimetype": "text/x-python",
   "name": "python",
   "nbconvert_exporter": "python",
   "pygments_lexer": "ipython3",
   "version": "3.13.0"
  }
 },
 "nbformat": 4,
 "nbformat_minor": 2
}
