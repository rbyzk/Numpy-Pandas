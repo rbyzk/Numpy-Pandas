{
 "cells": [
  {
   "cell_type": "markdown",
   "metadata": {},
   "source": [
    "### 1. Introduction to Pandas"
   ]
  },
  {
   "cell_type": "markdown",
   "metadata": {},
   "source": [
    "#### What is Pandas?\n",
    "\n",
    "Pandas is a powerful and flexible data analysis library for Python. It is a very suitable tool for working with structured and semi-structured data. The most common areas of use:\n",
    "\n",
    "- `Tables:` Operations on data frames (DataFrame).\n",
    "- `Time Series:` Date and time-based data analysis.\n",
    "- `Grouping:` Summarizing, filtering and grouping large data sets.\n",
    "\n",
    "**Importance of Pandas for Data Manipulation and Analysis**\n",
    "\n",
    "- `Ease:` Provides simple and readable commands for complex data processing operations.\n",
    "- `Flexibility:` Supports various data types (CSV, Excel, SQL, JSON, etc.).\n",
    "- `Performance:` It works fast and efficiently because it is built on Numpy.\n",
    "- `Rich Functionality:` Easily performs operations such as grouping, merging, data cleaning."
   ]
  },
  {
   "cell_type": "markdown",
   "metadata": {},
   "source": [
    "**Pandas Installation and Basic Import**"
   ]
  },
  {
   "cell_type": "markdown",
   "metadata": {},
   "source": [
    "pip install pandas"
   ]
  },
  {
   "cell_type": "markdown",
   "metadata": {},
   "source": [
    "**To use Pandas in the project, the following command is required:**"
   ]
  },
  {
   "cell_type": "markdown",
   "metadata": {},
   "source": [
    "import pandas as pd"
   ]
  },
  {
   "cell_type": "markdown",
   "metadata": {},
   "source": [
    "### 2. Series\n",
    "\n",
    "**What is Pandas Series?**\n",
    "\n",
    "- Pandas series is a one-dimensional data structure.\n",
    "- It consists of index and value pairs.\n",
    "- It can be easily created from various data sources such as lists, dictionaries, NumPy arrays."
   ]
  },
  {
   "cell_type": "markdown",
   "metadata": {},
   "source": [
    "**Creating Series**\n",
    "\n",
    "- Using NumPy Arrays Creating Series from NumPy arrays:"
   ]
  },
  {
   "cell_type": "code",
   "execution_count": 1,
   "metadata": {},
   "outputs": [
    {
     "name": "stdout",
     "output_type": "stream",
     "text": [
      "0    10\n",
      "1    20\n",
      "2    30\n",
      "3    40\n",
      "dtype: int64\n"
     ]
    }
   ],
   "source": [
    "import pandas as pd\n",
    "import numpy as np\n",
    "\n",
    "data = np.array([10, 20, 30, 40])\n",
    "series = pd.Series(data)\n",
    "print(series)\n"
   ]
  },
  {
   "cell_type": "markdown",
   "metadata": {},
   "source": [
    "**Using Dictionaries to create Series from Dictionaries:**"
   ]
  },
  {
   "cell_type": "code",
   "execution_count": 2,
   "metadata": {},
   "outputs": [
    {
     "name": "stdout",
     "output_type": "stream",
     "text": [
      "a    1\n",
      "b    2\n",
      "c    3\n",
      "dtype: int64\n"
     ]
    }
   ],
   "source": [
    "data = {'a': 1, 'b': 2, 'c': 3}\n",
    "series = pd.Series(data)\n",
    "print(series)\n"
   ]
  },
  {
   "cell_type": "markdown",
   "metadata": {},
   "source": [
    "**Using Scalar Value Creating a Series by multiplying a single constant value:**"
   ]
  },
  {
   "cell_type": "code",
   "execution_count": 3,
   "metadata": {},
   "outputs": [
    {
     "name": "stdout",
     "output_type": "stream",
     "text": [
      "0    5\n",
      "1    5\n",
      "2    5\n",
      "3    5\n",
      "dtype: int64\n"
     ]
    }
   ],
   "source": [
    "series = pd.Series(5, index=[0, 1, 2, 3])\n",
    "print(series)"
   ]
  },
  {
   "cell_type": "markdown",
   "metadata": {},
   "source": [
    "**Creating a Series by Combining Two Series**\n",
    "\n",
    "The process of combining two series:"
   ]
  },
  {
   "cell_type": "code",
   "execution_count": 4,
   "metadata": {},
   "outputs": [
    {
     "name": "stdout",
     "output_type": "stream",
     "text": [
      "0    1\n",
      "1    2\n",
      "2    3\n",
      "0    4\n",
      "1    5\n",
      "2    6\n",
      "dtype: int64\n"
     ]
    }
   ],
   "source": [
    "series1 = pd.Series([1, 2, 3])\n",
    "series2 = pd.Series([4, 5, 6])\n",
    "combined = pd.concat([series1, series2])\n",
    "print(combined)"
   ]
  },
  {
   "cell_type": "markdown",
   "metadata": {},
   "source": [
    "**Basic Attributes & Methods of Series**\n",
    "\n",
    "Some basic properties and methods of Pandas Series objects:\n",
    "\n",
    "- `series.index:` Returns the indices of the series.\n",
    "- `series.values:` Returns the values ​​as a NumPy array.\n",
    "- `series.dtype:` Returns the data type.\n",
    "- `series.size:` Returns the number of elements.\n",
    "- `series.head(n):` Returns the first n elements.\n",
    "- `series.tail(n):` Returns the last n elements."
   ]
  },
  {
   "cell_type": "code",
   "execution_count": 5,
   "metadata": {},
   "outputs": [
    {
     "name": "stdout",
     "output_type": "stream",
     "text": [
      "Index: RangeIndex(start=0, stop=4, step=1)\n",
      "Values: [10 20 30 40]\n",
      "Data Type: int64\n",
      "Size: 4\n"
     ]
    }
   ],
   "source": [
    "series = pd.Series([10, 20, 30, 40])\n",
    "print(\"Index:\", series.index)\n",
    "print(\"Values:\", series.values)\n",
    "print(\"Data Type:\", series.dtype)\n",
    "print(\"Size:\", series.size)"
   ]
  },
  {
   "cell_type": "markdown",
   "metadata": {},
   "source": [
    "**Operations on Series**\n",
    "\n",
    "**Indexing** Accessing the element of the series at a specific index:"
   ]
  },
  {
   "cell_type": "code",
   "execution_count": 6,
   "metadata": {},
   "outputs": [
    {
     "name": "stdout",
     "output_type": "stream",
     "text": [
      "20\n"
     ]
    }
   ],
   "source": [
    "print(series[1]) "
   ]
  },
  {
   "cell_type": "markdown",
   "metadata": {},
   "source": [
    "**Slicing** Accessing elements of a series within a certain range:"
   ]
  },
  {
   "cell_type": "code",
   "execution_count": 7,
   "metadata": {},
   "outputs": [
    {
     "name": "stdout",
     "output_type": "stream",
     "text": [
      "1    20\n",
      "2    30\n",
      "dtype: int64\n"
     ]
    }
   ],
   "source": [
    "print(series[1:3])"
   ]
  },
  {
   "cell_type": "markdown",
   "metadata": {},
   "source": [
    "**dtype** Change Convert data type:"
   ]
  },
  {
   "cell_type": "code",
   "execution_count": 8,
   "metadata": {},
   "outputs": [
    {
     "name": "stdout",
     "output_type": "stream",
     "text": [
      "0    1\n",
      "1    2\n",
      "2    3\n",
      "dtype: int64\n"
     ]
    }
   ],
   "source": [
    "series = pd.Series([1.5, 2.5, 3.5])\n",
    "print(series.astype(int))"
   ]
  },
  {
   "cell_type": "markdown",
   "metadata": {},
   "source": [
    "#### 3. DataFrame Structure\n",
    "\n",
    "**What is DataFrame?**\n",
    "\n",
    "- Pandas DataFrame is a two-dimensional data structure consisting of rows and columns. It resembles a table.\n",
    "- It is organized with indexes (row labels) and column names (column labels).\n",
    "- It has a structure similar to Excel tables or SQL-based databases."
   ]
  },
  {
   "cell_type": "markdown",
   "metadata": {},
   "source": [
    "**Creating a DataFrame**\n",
    "\n",
    "**Creating a DataFrame Using Numpy Arrays** To create a DataFrame from NumPy arrays:"
   ]
  },
  {
   "cell_type": "code",
   "execution_count": 9,
   "metadata": {},
   "outputs": [
    {
     "name": "stdout",
     "output_type": "stream",
     "text": [
      "   A  B  C\n",
      "0  1  2  3\n",
      "1  4  5  6\n",
      "2  7  8  9\n"
     ]
    }
   ],
   "source": [
    "data = np.array([[1, 2, 3], [4, 5, 6], [7, 8, 9]])\n",
    "df = pd.DataFrame(data, columns=['A', 'B', 'C'])\n",
    "print(df)\n"
   ]
  },
  {
   "cell_type": "markdown",
   "metadata": {},
   "source": [
    "**Creating a DataFrame Using a Dictionary** Creating a DataFrame from dictionaries:"
   ]
  },
  {
   "cell_type": "code",
   "execution_count": 10,
   "metadata": {},
   "outputs": [
    {
     "name": "stdout",
     "output_type": "stream",
     "text": [
      "    Name  Age  Salary\n",
      "0  Alice   25    5000\n",
      "1   Rose   30    6000\n",
      "2   Jack   22    4500\n"
     ]
    }
   ],
   "source": [
    "data = {\n",
    "    'Name': ['Alice', 'Rose', 'Jack'],\n",
    "    'Age': [25, 30, 22],\n",
    "    'Salary': [5000, 6000, 4500]\n",
    "}\n",
    "df = pd.DataFrame(data)\n",
    "print(df)"
   ]
  },
  {
   "cell_type": "markdown",
   "metadata": {},
   "source": [
    "**Basic Attributes & Methods of DataFrames**\n",
    "\n",
    "Some basic properties of DataFrame:\n",
    "\n",
    "- `df.index:` Returns the row indexes.\n",
    "- `df.columns:` Returns the column names.\n",
    "- `df.shape:` Returns the dimensions of the DataFrame.\n",
    "- `df.dtypes:` Shows the data type of each column.\n",
    "- `df.size:` Returns the total number of cells."
   ]
  },
  {
   "cell_type": "code",
   "execution_count": 11,
   "metadata": {},
   "outputs": [
    {
     "name": "stdout",
     "output_type": "stream",
     "text": [
      "RangeIndex(start=0, stop=3, step=1)\n",
      "Index(['Name', 'Age', 'Salary'], dtype='object')\n",
      "(3, 3)\n",
      "Name      object\n",
      "Age        int64\n",
      "Salary     int64\n",
      "dtype: object\n",
      "9\n"
     ]
    }
   ],
   "source": [
    "print(df.index) # Output: RangeIndex(start=0, stop=3, step=1)\n",
    "print(df.columns) # Output: Index(['Name', 'Age', 'Salary'], dtype='object')\n",
    "print(df.shape) # Output: (3, 3)\n",
    "print(df.dtypes) # Output: Name object, Age int64, Salary int64\n",
    "print(df.size) # Output:9"
   ]
  },
  {
   "cell_type": "markdown",
   "metadata": {},
   "source": [
    "#### DataFrame Properties"
   ]
  },
  {
   "cell_type": "markdown",
   "metadata": {},
   "source": [
    "`head()` Displays the first few lines:"
   ]
  },
  {
   "cell_type": "code",
   "execution_count": 12,
   "metadata": {},
   "outputs": [
    {
     "name": "stdout",
     "output_type": "stream",
     "text": [
      "    Name  Age  Salary\n",
      "0  Alice   25    5000\n",
      "1   Rose   30    6000\n"
     ]
    }
   ],
   "source": [
    "print(df.head(2))"
   ]
  },
  {
   "cell_type": "markdown",
   "metadata": {},
   "source": [
    "`info()` Provides general information about the data frame:"
   ]
  },
  {
   "cell_type": "code",
   "execution_count": 13,
   "metadata": {},
   "outputs": [
    {
     "name": "stdout",
     "output_type": "stream",
     "text": [
      "<class 'pandas.core.frame.DataFrame'>\n",
      "RangeIndex: 3 entries, 0 to 2\n",
      "Data columns (total 3 columns):\n",
      " #   Column  Non-Null Count  Dtype \n",
      "---  ------  --------------  ----- \n",
      " 0   Name    3 non-null      object\n",
      " 1   Age     3 non-null      int64 \n",
      " 2   Salary  3 non-null      int64 \n",
      "dtypes: int64(2), object(1)\n",
      "memory usage: 204.0+ bytes\n",
      "None\n"
     ]
    }
   ],
   "source": [
    "print(df.info())"
   ]
  },
  {
   "cell_type": "markdown",
   "metadata": {},
   "source": [
    "`describe()` Returns summary statistics for numeric columns:"
   ]
  },
  {
   "cell_type": "code",
   "execution_count": 14,
   "metadata": {},
   "outputs": [
    {
     "name": "stdout",
     "output_type": "stream",
     "text": [
      "             Age       Salary\n",
      "count   3.000000     3.000000\n",
      "mean   25.666667  5166.666667\n",
      "std     4.041452   763.762616\n",
      "min    22.000000  4500.000000\n",
      "25%    23.500000  4750.000000\n",
      "50%    25.000000  5000.000000\n",
      "75%    27.500000  5500.000000\n",
      "max    30.000000  6000.000000\n"
     ]
    }
   ],
   "source": [
    "print(df.describe())"
   ]
  },
  {
   "cell_type": "code",
   "execution_count": 16,
   "metadata": {},
   "outputs": [
    {
     "name": "stdout",
     "output_type": "stream",
     "text": [
      "        count         mean         std     min     25%     50%     75%     max\n",
      "Age       3.0    25.666667    4.041452    22.0    23.5    25.0    27.5    30.0\n",
      "Salary    3.0  5166.666667  763.762616  4500.0  4750.0  5000.0  5500.0  6000.0\n"
     ]
    }
   ],
   "source": [
    "print(df.describe().T) # Transpose of the summary statistics"
   ]
  },
  {
   "cell_type": "markdown",
   "metadata": {},
   "source": [
    "### 4. Data Selection and Filtering\n",
    "Indexing, Slicing & Selection\n"
   ]
  },
  {
   "cell_type": "markdown",
   "metadata": {},
   "source": [
    "**Indexing** To select a specific column:"
   ]
  },
  {
   "cell_type": "code",
   "execution_count": 17,
   "metadata": {},
   "outputs": [
    {
     "name": "stdout",
     "output_type": "stream",
     "text": [
      "0    Alice\n",
      "1     Rose\n",
      "2     Jack\n",
      "Name: Name, dtype: object\n"
     ]
    }
   ],
   "source": [
    "print(df['Name'])"
   ]
  },
  {
   "cell_type": "markdown",
   "metadata": {},
   "source": [
    "**Slicing** To select lines:"
   ]
  },
  {
   "cell_type": "code",
   "execution_count": 18,
   "metadata": {},
   "outputs": [
    {
     "name": "stdout",
     "output_type": "stream",
     "text": [
      "    Name  Age  Salary\n",
      "0  Alice   25    5000\n",
      "1   Rose   30    6000\n"
     ]
    }
   ],
   "source": [
    "print(df[0:2])"
   ]
  },
  {
   "cell_type": "markdown",
   "metadata": {},
   "source": [
    "Selection with `iloc` and `loc`\n",
    "\n",
    "- `iloc:` Selection by position.\n",
    "- `loc:` Selection by label."
   ]
  },
  {
   "cell_type": "code",
   "execution_count": 19,
   "metadata": {},
   "outputs": [
    {
     "name": "stdout",
     "output_type": "stream",
     "text": [
      "25\n",
      "Alice\n"
     ]
    }
   ],
   "source": [
    "# By position:\n",
    "print(df.iloc[0, 1]) \n",
    "\n",
    "# By label:\n",
    "print(df.loc[0, 'Name']) "
   ]
  },
  {
   "cell_type": "markdown",
   "metadata": {},
   "source": [
    "**Creating a New Column**"
   ]
  },
  {
   "cell_type": "code",
   "execution_count": 20,
   "metadata": {},
   "outputs": [
    {
     "name": "stdout",
     "output_type": "stream",
     "text": [
      "    Name  Age  Salary  Bonus\n",
      "0  Alice   25    5000  500.0\n",
      "1   Rose   30    6000  600.0\n",
      "2   Jack   22    4500  450.0\n"
     ]
    }
   ],
   "source": [
    "df['Bonus'] = df['Salary'] * 0.1\n",
    "print(df)"
   ]
  },
  {
   "cell_type": "markdown",
   "metadata": {},
   "source": [
    "#### Removing Columns & Rows"
   ]
  },
  {
   "cell_type": "markdown",
   "metadata": {},
   "source": [
    "**Delete Column**"
   ]
  },
  {
   "cell_type": "code",
   "execution_count": null,
   "metadata": {},
   "outputs": [
    {
     "data": {
      "text/html": [
       "<div>\n",
       "<style scoped>\n",
       "    .dataframe tbody tr th:only-of-type {\n",
       "        vertical-align: middle;\n",
       "    }\n",
       "\n",
       "    .dataframe tbody tr th {\n",
       "        vertical-align: top;\n",
       "    }\n",
       "\n",
       "    .dataframe thead th {\n",
       "        text-align: right;\n",
       "    }\n",
       "</style>\n",
       "<table border=\"1\" class=\"dataframe\">\n",
       "  <thead>\n",
       "    <tr style=\"text-align: right;\">\n",
       "      <th></th>\n",
       "      <th>Name</th>\n",
       "      <th>Age</th>\n",
       "      <th>Salary</th>\n",
       "    </tr>\n",
       "  </thead>\n",
       "  <tbody>\n",
       "    <tr>\n",
       "      <th>0</th>\n",
       "      <td>Alice</td>\n",
       "      <td>25</td>\n",
       "      <td>5000</td>\n",
       "    </tr>\n",
       "    <tr>\n",
       "      <th>1</th>\n",
       "      <td>Rose</td>\n",
       "      <td>30</td>\n",
       "      <td>6000</td>\n",
       "    </tr>\n",
       "    <tr>\n",
       "      <th>2</th>\n",
       "      <td>Jack</td>\n",
       "      <td>22</td>\n",
       "      <td>4500</td>\n",
       "    </tr>\n",
       "  </tbody>\n",
       "</table>\n",
       "</div>"
      ],
      "text/plain": [
       "    Name  Age  Salary\n",
       "0  Alice   25    5000\n",
       "1   Rose   30    6000\n",
       "2   Jack   22    4500"
      ]
     },
     "execution_count": 21,
     "metadata": {},
     "output_type": "execute_result"
    }
   ],
   "source": [
    "df = df.drop('Bonus', axis=1)\n",
    "df"
   ]
  },
  {
   "cell_type": "markdown",
   "metadata": {},
   "source": [
    "**Delete Row**"
   ]
  },
  {
   "cell_type": "code",
   "execution_count": 22,
   "metadata": {},
   "outputs": [
    {
     "data": {
      "text/html": [
       "<div>\n",
       "<style scoped>\n",
       "    .dataframe tbody tr th:only-of-type {\n",
       "        vertical-align: middle;\n",
       "    }\n",
       "\n",
       "    .dataframe tbody tr th {\n",
       "        vertical-align: top;\n",
       "    }\n",
       "\n",
       "    .dataframe thead th {\n",
       "        text-align: right;\n",
       "    }\n",
       "</style>\n",
       "<table border=\"1\" class=\"dataframe\">\n",
       "  <thead>\n",
       "    <tr style=\"text-align: right;\">\n",
       "      <th></th>\n",
       "      <th>Name</th>\n",
       "      <th>Age</th>\n",
       "      <th>Salary</th>\n",
       "    </tr>\n",
       "  </thead>\n",
       "  <tbody>\n",
       "    <tr>\n",
       "      <th>0</th>\n",
       "      <td>Alice</td>\n",
       "      <td>25</td>\n",
       "      <td>5000</td>\n",
       "    </tr>\n",
       "    <tr>\n",
       "      <th>2</th>\n",
       "      <td>Jack</td>\n",
       "      <td>22</td>\n",
       "      <td>4500</td>\n",
       "    </tr>\n",
       "  </tbody>\n",
       "</table>\n",
       "</div>"
      ],
      "text/plain": [
       "    Name  Age  Salary\n",
       "0  Alice   25    5000\n",
       "2   Jack   22    4500"
      ]
     },
     "execution_count": 22,
     "metadata": {},
     "output_type": "execute_result"
    }
   ],
   "source": [
    "df = df.drop(1, axis=0)\n",
    "df"
   ]
  },
  {
   "cell_type": "markdown",
   "metadata": {},
   "source": [
    "**Conditional Selection**\n",
    "\n",
    "Selecting rows that meet certain conditions:"
   ]
  },
  {
   "cell_type": "code",
   "execution_count": 23,
   "metadata": {},
   "outputs": [
    {
     "name": "stdout",
     "output_type": "stream",
     "text": [
      "Empty DataFrame\n",
      "Columns: [Name, Age, Salary]\n",
      "Index: []\n"
     ]
    }
   ],
   "source": [
    "filtered_df = df[df['Age'] > 25]\n",
    "print(filtered_df)"
   ]
  },
  {
   "cell_type": "markdown",
   "metadata": {},
   "source": [
    "#### 5. Data Manipulation\n",
    "\n",
    "Adding and Modifying New Columns\n",
    "\n",
    "Adding a New Column: A calculated column or a fixed value can be added to the dataset.\n",
    "\n",
    "Modifying an Existing Column: The values ​​of an existing column can be updated"
   ]
  },
  {
   "cell_type": "code",
   "execution_count": 24,
   "metadata": {},
   "outputs": [
    {
     "data": {
      "text/html": [
       "<div>\n",
       "<style scoped>\n",
       "    .dataframe tbody tr th:only-of-type {\n",
       "        vertical-align: middle;\n",
       "    }\n",
       "\n",
       "    .dataframe tbody tr th {\n",
       "        vertical-align: top;\n",
       "    }\n",
       "\n",
       "    .dataframe thead th {\n",
       "        text-align: right;\n",
       "    }\n",
       "</style>\n",
       "<table border=\"1\" class=\"dataframe\">\n",
       "  <thead>\n",
       "    <tr style=\"text-align: right;\">\n",
       "      <th></th>\n",
       "      <th>Name</th>\n",
       "      <th>Age</th>\n",
       "      <th>Salary</th>\n",
       "    </tr>\n",
       "  </thead>\n",
       "  <tbody>\n",
       "    <tr>\n",
       "      <th>0</th>\n",
       "      <td>Alice</td>\n",
       "      <td>25</td>\n",
       "      <td>5000</td>\n",
       "    </tr>\n",
       "    <tr>\n",
       "      <th>1</th>\n",
       "      <td>Rose</td>\n",
       "      <td>30</td>\n",
       "      <td>6000</td>\n",
       "    </tr>\n",
       "    <tr>\n",
       "      <th>2</th>\n",
       "      <td>Jack</td>\n",
       "      <td>22</td>\n",
       "      <td>4500</td>\n",
       "    </tr>\n",
       "    <tr>\n",
       "      <th>3</th>\n",
       "      <td>Taylor</td>\n",
       "      <td>28</td>\n",
       "      <td>7000</td>\n",
       "    </tr>\n",
       "  </tbody>\n",
       "</table>\n",
       "</div>"
      ],
      "text/plain": [
       "     Name  Age  Salary\n",
       "0   Alice   25    5000\n",
       "1    Rose   30    6000\n",
       "2    Jack   22    4500\n",
       "3  Taylor   28    7000"
      ]
     },
     "execution_count": 24,
     "metadata": {},
     "output_type": "execute_result"
    }
   ],
   "source": [
    "# Sample dataset\n",
    "employees = pd.DataFrame({\n",
    "'Name': ['Alice', 'Rose', 'Jack', 'Taylor'],\n",
    "'Age': [25, 30, 22, 28],\n",
    "'Salary': [5000, 6000, 4500, 7000]\n",
    "})\n",
    "employees"
   ]
  },
  {
   "cell_type": "markdown",
   "metadata": {},
   "source": [
    "Adding a New Column"
   ]
  },
  {
   "cell_type": "code",
   "execution_count": 25,
   "metadata": {},
   "outputs": [
    {
     "name": "stdout",
     "output_type": "stream",
     "text": [
      "     Name  Age  Salary  Bonus\n",
      "0   Alice   25    5000  500.0\n",
      "1    Rose   30    6000  600.0\n",
      "2    Jack   22    4500  450.0\n",
      "3  Taylor   28    7000  700.0\n"
     ]
    }
   ],
   "source": [
    "# Adding \"Bonus\" column (%10 salary)\n",
    "employees['Bonus'] = employees['Salary'] * 0.1\n",
    "print(employees)"
   ]
  },
  {
   "cell_type": "markdown",
   "metadata": {},
   "source": [
    "Modify Existing Column"
   ]
  },
  {
   "cell_type": "code",
   "execution_count": 26,
   "metadata": {},
   "outputs": [
    {
     "name": "stdout",
     "output_type": "stream",
     "text": [
      "     Name  Age  Salary  Bonus\n",
      "0   Alice   26    5000  500.0\n",
      "1    Rose   31    6000  600.0\n",
      "2    Jack   23    4500  450.0\n",
      "3  Taylor   29    7000  700.0\n"
     ]
    }
   ],
   "source": [
    "# Increase the ages in the \"Age\" column by one year\n",
    "employees['Age'] = employees['Age'] + 1\n",
    "print(employees)"
   ]
  },
  {
   "cell_type": "markdown",
   "metadata": {},
   "source": [
    "**Deleting Rows and Columns (drop())**\n",
    "\n",
    "`Deleting Columns:` drop() deletes columns (axis=1).\n",
    "\n",
    "`Deleting Rows:` drop() deletes rows (axis=0)."
   ]
  },
  {
   "cell_type": "markdown",
   "metadata": {},
   "source": [
    "Delete Column"
   ]
  },
  {
   "cell_type": "code",
   "execution_count": 27,
   "metadata": {},
   "outputs": [
    {
     "name": "stdout",
     "output_type": "stream",
     "text": [
      "     Name  Age  Salary\n",
      "0   Alice   26    5000\n",
      "1    Rose   31    6000\n",
      "2    Jack   23    4500\n",
      "3  Taylor   29    7000\n"
     ]
    }
   ],
   "source": [
    "# Delete the \"Bonus\" column\n",
    "employees = employees.drop('Bonus', axis=1)\n",
    "print(employees)"
   ]
  },
  {
   "cell_type": "markdown",
   "metadata": {},
   "source": [
    "Delete Row"
   ]
  },
  {
   "cell_type": "code",
   "execution_count": 28,
   "metadata": {},
   "outputs": [
    {
     "name": "stdout",
     "output_type": "stream",
     "text": [
      "     Name  Age  Salary\n",
      "0   Alice   26    5000\n",
      "1    Rose   31    6000\n",
      "3  Taylor   29    7000\n"
     ]
    }
   ],
   "source": [
    "# delete the 2nd row (index=2)\n",
    "employees = employees.drop(2, axis=0)\n",
    "print(employees)"
   ]
  },
  {
   "cell_type": "markdown",
   "metadata": {},
   "source": [
    "**Rearranging Data (sort_values() and sort_index())**\n",
    "\n",
    "`sort_values():` Sorts data by a column.\n",
    "\n",
    "`sort_index():` Sorts data by indexes."
   ]
  },
  {
   "cell_type": "markdown",
   "metadata": {},
   "source": [
    "Sorting with `sort_values()`"
   ]
  },
  {
   "cell_type": "code",
   "execution_count": 29,
   "metadata": {},
   "outputs": [
    {
     "name": "stdout",
     "output_type": "stream",
     "text": [
      "     Name  Age  Salary\n",
      "3  Taylor   29    7000\n",
      "1    Rose   31    6000\n",
      "0   Alice   26    5000\n"
     ]
    }
   ],
   "source": [
    "# Sort by Salary in descending order\n",
    "employees = employees.sort_values('Salary', ascending=False)\n",
    "print(employees)"
   ]
  },
  {
   "cell_type": "markdown",
   "metadata": {},
   "source": [
    "Index Sorting with `sort_index()`"
   ]
  },
  {
   "cell_type": "code",
   "execution_count": 30,
   "metadata": {},
   "outputs": [
    {
     "name": "stdout",
     "output_type": "stream",
     "text": [
      "     Name  Age  Salary\n",
      "0   Alice   26    5000\n",
      "1    Rose   31    6000\n",
      "3  Taylor   29    7000\n"
     ]
    }
   ],
   "source": [
    "# Sort the indexes in ascending order\n",
    "employees = employees.sort_index()\n",
    "print(employees)"
   ]
  },
  {
   "cell_type": "markdown",
   "metadata": {},
   "source": [
    "**reset_index() and set_index()**\n",
    "\n",
    "`reset_index():` Reset indexes and move existing indexes to a new column.\n",
    "\n",
    "`set_index():` Sets a specific column as the index."
   ]
  },
  {
   "cell_type": "markdown",
   "metadata": {},
   "source": [
    "Using `reset_index()`"
   ]
  },
  {
   "cell_type": "code",
   "execution_count": 31,
   "metadata": {},
   "outputs": [
    {
     "name": "stdout",
     "output_type": "stream",
     "text": [
      "     Name  Age  Salary\n",
      "0   Alice   26    5000\n",
      "1    Rose   31    6000\n",
      "2  Taylor   29    7000\n"
     ]
    }
   ],
   "source": [
    "# Reset current indexes\n",
    "employees = employees.reset_index(drop=True)\n",
    "print(employees)"
   ]
  },
  {
   "cell_type": "markdown",
   "metadata": {},
   "source": [
    "Using `set_index()`"
   ]
  },
  {
   "cell_type": "code",
   "execution_count": 32,
   "metadata": {},
   "outputs": [
    {
     "name": "stdout",
     "output_type": "stream",
     "text": [
      "        Age  Salary\n",
      "Name               \n",
      "Alice    26    5000\n",
      "Rose     31    6000\n",
      "Taylor   29    7000\n"
     ]
    }
   ],
   "source": [
    "# Set column \"Name\" as index\n",
    "employees = employees.set_index('Name')\n",
    "print(employees)"
   ]
  },
  {
   "cell_type": "markdown",
   "metadata": {},
   "source": [
    "#### 6. Working with Missing Data (Missing Values)\n",
    "\n",
    "Missing data is inevitable during data analysis. Pandas offers powerful tools to detect, fill or clean missing data.\n",
    "\n",
    "**Detecting Missing Data**\n",
    "\n",
    "isnull() and notnull(): Detects missing (NaN) values.\n",
    "Any() and all() can be used to check column or row based."
   ]
  },
  {
   "cell_type": "markdown",
   "metadata": {},
   "source": [
    "**isnull()**\n",
    "\n",
    "Used to detect missing data.\n",
    "\n",
    "If a cell has a NaN (Not a Number) or None value, True is returned. In all other cases, False is returned.\n",
    "\n",
    "Can be used on both DataFrame and Series."
   ]
  },
  {
   "cell_type": "code",
   "execution_count": 33,
   "metadata": {},
   "outputs": [
    {
     "name": "stdout",
     "output_type": "stream",
     "text": [
      "       A      B\n",
      "0  False   True\n",
      "1  False  False\n",
      "2   True  False\n"
     ]
    }
   ],
   "source": [
    "df = pd.DataFrame({\n",
    "    'A': [1, 2, np.nan],\n",
    "    'B': [None, 4, 5]\n",
    "})\n",
    "\n",
    "print(df.isnull())"
   ]
  },
  {
   "cell_type": "markdown",
   "metadata": {},
   "source": [
    "**isna()**\n",
    "\n",
    "same as isnull(). There is no difference between the two.\n",
    "\n",
    "In Pandas, both names do the same thing, because isna() is actually defined as an alias for isnull()."
   ]
  },
  {
   "cell_type": "code",
   "execution_count": 34,
   "metadata": {},
   "outputs": [
    {
     "name": "stdout",
     "output_type": "stream",
     "text": [
      "       A      B\n",
      "0  False   True\n",
      "1  False  False\n",
      "2   True  False\n"
     ]
    }
   ],
   "source": [
    "print(df.isna())"
   ]
  },
  {
   "cell_type": "markdown",
   "metadata": {},
   "source": [
    "**notnull()**\n",
    "\n",
    "Used to detect non-missing data.\n",
    "\n",
    "If there is a value in the cell, it returns True, if it is missing (NaN/None), it returns False.\n",
    "\n",
    "It can be used on both DataFrame and Series."
   ]
  },
  {
   "cell_type": "code",
   "execution_count": 35,
   "metadata": {},
   "outputs": [
    {
     "name": "stdout",
     "output_type": "stream",
     "text": [
      "       A      B\n",
      "0   True  False\n",
      "1   True   True\n",
      "2  False   True\n"
     ]
    }
   ],
   "source": [
    "print(df.notnull())"
   ]
  },
  {
   "cell_type": "markdown",
   "metadata": {},
   "source": [
    "| Function | Description | Purpose of Use |\n",
    "|--------------|-----------------------------------------------------|----------------------------------|\n",
    "| `isnull()` | Detects missing (NaN/None) data. | Checks for missing data. |\n",
    "| `isna()` | Same as `isnull()`, no functional difference. | Can be used as an alternative name. |\n",
    "| `notnull()` | Detects non-missing (NaN/None) data. | Checks for data fullness. |"
   ]
  },
  {
   "cell_type": "markdown",
   "metadata": {},
   "source": [
    "**Detecting Missing Values**"
   ]
  },
  {
   "cell_type": "code",
   "execution_count": 36,
   "metadata": {},
   "outputs": [
    {
     "name": "stdout",
     "output_type": "stream",
     "text": [
      "    Name    Age  Salary\n",
      "0  False  False   False\n",
      "1  False   True   False\n",
      "2  False  False    True\n",
      "3  False  False   False\n"
     ]
    }
   ],
   "source": [
    "# Sample dataset\n",
    "employees = pd.DataFrame({\n",
    "'Name': ['Alice', 'Rose', 'Jack', 'Taylor'],\n",
    "'Age': [25, np.nan, 22, 28],\n",
    "'Salary': [5000, 6000, np.nan, 7000]\n",
    "})\n",
    "\n",
    "# Detecting missing data\n",
    "print(employees.isnull())"
   ]
  },
  {
   "cell_type": "markdown",
   "metadata": {},
   "source": [
    "**Converting Improper Values to NaN Values** "
   ]
  },
  {
   "cell_type": "code",
   "execution_count": 37,
   "metadata": {},
   "outputs": [
    {
     "data": {
      "text/html": [
       "<div>\n",
       "<style scoped>\n",
       "    .dataframe tbody tr th:only-of-type {\n",
       "        vertical-align: middle;\n",
       "    }\n",
       "\n",
       "    .dataframe tbody tr th {\n",
       "        vertical-align: top;\n",
       "    }\n",
       "\n",
       "    .dataframe thead th {\n",
       "        text-align: right;\n",
       "    }\n",
       "</style>\n",
       "<table border=\"1\" class=\"dataframe\">\n",
       "  <thead>\n",
       "    <tr style=\"text-align: right;\">\n",
       "      <th></th>\n",
       "      <th>Name</th>\n",
       "      <th>Age</th>\n",
       "      <th>Salary</th>\n",
       "    </tr>\n",
       "  </thead>\n",
       "  <tbody>\n",
       "    <tr>\n",
       "      <th>0</th>\n",
       "      <td>Alice</td>\n",
       "      <td>25.0</td>\n",
       "      <td>5000.0</td>\n",
       "    </tr>\n",
       "    <tr>\n",
       "      <th>1</th>\n",
       "      <td>Rose</td>\n",
       "      <td>NaN</td>\n",
       "      <td>6000.0</td>\n",
       "    </tr>\n",
       "    <tr>\n",
       "      <th>2</th>\n",
       "      <td>Jack</td>\n",
       "      <td>22.0</td>\n",
       "      <td>NaN</td>\n",
       "    </tr>\n",
       "    <tr>\n",
       "      <th>3</th>\n",
       "      <td>Taylor</td>\n",
       "      <td>28.0</td>\n",
       "      <td>7000.0</td>\n",
       "    </tr>\n",
       "  </tbody>\n",
       "</table>\n",
       "</div>"
      ],
      "text/plain": [
       "     Name   Age  Salary\n",
       "0   Alice  25.0  5000.0\n",
       "1    Rose   NaN  6000.0\n",
       "2    Jack  22.0     NaN\n",
       "3  Taylor  28.0  7000.0"
      ]
     },
     "execution_count": 37,
     "metadata": {},
     "output_type": "execute_result"
    }
   ],
   "source": [
    "# If there is a value of -1 in the \"Age\" column, replace it with NaN\n",
    "employees['Age'] = employees['Age'].replace(-1, np.nan)\n",
    "employees"
   ]
  },
  {
   "cell_type": "markdown",
   "metadata": {},
   "source": [
    "**Filling or Deleting Missing Data**\n",
    "Using dropna() and drop()\n",
    "\n",
    "`dropna():` Deletes rows or columns containing missing values.\n",
    "\n",
    "`drop():` Deletes a specific column or row by its index."
   ]
  },
  {
   "cell_type": "code",
   "execution_count": 38,
   "metadata": {},
   "outputs": [
    {
     "name": "stdout",
     "output_type": "stream",
     "text": [
      "     Name   Age  Salary\n",
      "0   Alice  25.0  5000.0\n",
      "3  Taylor  28.0  7000.0\n"
     ]
    }
   ],
   "source": [
    "# Delete rows with missing values\n",
    "cleaned_data = employees.dropna()\n",
    "print(cleaned_data)"
   ]
  },
  {
   "cell_type": "markdown",
   "metadata": {},
   "source": [
    "**Filling Missing Values (Imputation)**:"
   ]
  },
  {
   "cell_type": "code",
   "execution_count": 39,
   "metadata": {},
   "outputs": [
    {
     "name": "stdout",
     "output_type": "stream",
     "text": [
      "     Name   Age  Salary\n",
      "0   Alice  25.0  5000.0\n",
      "1    Rose  25.0  6000.0\n",
      "2    Jack  22.0     NaN\n",
      "3  Taylor  28.0  7000.0\n"
     ]
    }
   ],
   "source": [
    "# Fill missing values ​​in \"Age\" column with average\n",
    "employees['Age'] = employees['Age'].fillna(employees['Age'].mean())\n",
    "print(employees)"
   ]
  },
  {
   "cell_type": "markdown",
   "metadata": {},
   "source": [
    "**Filling Numeric Variables**:"
   ]
  },
  {
   "cell_type": "code",
   "execution_count": 40,
   "metadata": {},
   "outputs": [
    {
     "data": {
      "text/html": [
       "<div>\n",
       "<style scoped>\n",
       "    .dataframe tbody tr th:only-of-type {\n",
       "        vertical-align: middle;\n",
       "    }\n",
       "\n",
       "    .dataframe tbody tr th {\n",
       "        vertical-align: top;\n",
       "    }\n",
       "\n",
       "    .dataframe thead th {\n",
       "        text-align: right;\n",
       "    }\n",
       "</style>\n",
       "<table border=\"1\" class=\"dataframe\">\n",
       "  <thead>\n",
       "    <tr style=\"text-align: right;\">\n",
       "      <th></th>\n",
       "      <th>Name</th>\n",
       "      <th>Age</th>\n",
       "      <th>Salary</th>\n",
       "    </tr>\n",
       "  </thead>\n",
       "  <tbody>\n",
       "    <tr>\n",
       "      <th>0</th>\n",
       "      <td>Alice</td>\n",
       "      <td>25.0</td>\n",
       "      <td>5000.0</td>\n",
       "    </tr>\n",
       "    <tr>\n",
       "      <th>1</th>\n",
       "      <td>Rose</td>\n",
       "      <td>25.0</td>\n",
       "      <td>6000.0</td>\n",
       "    </tr>\n",
       "    <tr>\n",
       "      <th>2</th>\n",
       "      <td>Jack</td>\n",
       "      <td>22.0</td>\n",
       "      <td>5000.0</td>\n",
       "    </tr>\n",
       "    <tr>\n",
       "      <th>3</th>\n",
       "      <td>Taylor</td>\n",
       "      <td>28.0</td>\n",
       "      <td>7000.0</td>\n",
       "    </tr>\n",
       "  </tbody>\n",
       "</table>\n",
       "</div>"
      ],
      "text/plain": [
       "     Name   Age  Salary\n",
       "0   Alice  25.0  5000.0\n",
       "1    Rose  25.0  6000.0\n",
       "2    Jack  22.0  5000.0\n",
       "3  Taylor  28.0  7000.0"
      ]
     },
     "execution_count": 40,
     "metadata": {},
     "output_type": "execute_result"
    }
   ],
   "source": [
    "# Fill missing values ​​in the \"Salary\" column with a constant value\n",
    "employees['Salary'] = employees['Salary'].fillna(5000)\n",
    "employees"
   ]
  },
  {
   "cell_type": "markdown",
   "metadata": {},
   "source": [
    "**Filling Categorical Variables**:"
   ]
  },
  {
   "cell_type": "code",
   "execution_count": 41,
   "metadata": {},
   "outputs": [
    {
     "data": {
      "text/html": [
       "<div>\n",
       "<style scoped>\n",
       "    .dataframe tbody tr th:only-of-type {\n",
       "        vertical-align: middle;\n",
       "    }\n",
       "\n",
       "    .dataframe tbody tr th {\n",
       "        vertical-align: top;\n",
       "    }\n",
       "\n",
       "    .dataframe thead th {\n",
       "        text-align: right;\n",
       "    }\n",
       "</style>\n",
       "<table border=\"1\" class=\"dataframe\">\n",
       "  <thead>\n",
       "    <tr style=\"text-align: right;\">\n",
       "      <th></th>\n",
       "      <th>Name</th>\n",
       "      <th>Age</th>\n",
       "      <th>Salary</th>\n",
       "    </tr>\n",
       "  </thead>\n",
       "  <tbody>\n",
       "    <tr>\n",
       "      <th>0</th>\n",
       "      <td>Alice</td>\n",
       "      <td>25.0</td>\n",
       "      <td>5000.0</td>\n",
       "    </tr>\n",
       "    <tr>\n",
       "      <th>1</th>\n",
       "      <td>Rose</td>\n",
       "      <td>25.0</td>\n",
       "      <td>6000.0</td>\n",
       "    </tr>\n",
       "    <tr>\n",
       "      <th>2</th>\n",
       "      <td>Jack</td>\n",
       "      <td>22.0</td>\n",
       "      <td>5000.0</td>\n",
       "    </tr>\n",
       "    <tr>\n",
       "      <th>3</th>\n",
       "      <td>Taylor</td>\n",
       "      <td>28.0</td>\n",
       "      <td>7000.0</td>\n",
       "    </tr>\n",
       "  </tbody>\n",
       "</table>\n",
       "</div>"
      ],
      "text/plain": [
       "     Name   Age  Salary\n",
       "0   Alice  25.0  5000.0\n",
       "1    Rose  25.0  6000.0\n",
       "2    Jack  22.0  5000.0\n",
       "3  Taylor  28.0  7000.0"
      ]
     },
     "execution_count": 41,
     "metadata": {},
     "output_type": "execute_result"
    }
   ],
   "source": [
    "# Fill the categorical column with the most frequent value\n",
    "employees['Name'] = employees['Name'].fillna(employees['Name'].mode()[0])\n",
    "employees"
   ]
  },
  {
   "cell_type": "markdown",
   "metadata": {},
   "source": [
    "**Filling by Condition & Group**:"
   ]
  },
  {
   "cell_type": "code",
   "execution_count": 42,
   "metadata": {},
   "outputs": [
    {
     "data": {
      "text/html": [
       "<div>\n",
       "<style scoped>\n",
       "    .dataframe tbody tr th:only-of-type {\n",
       "        vertical-align: middle;\n",
       "    }\n",
       "\n",
       "    .dataframe tbody tr th {\n",
       "        vertical-align: top;\n",
       "    }\n",
       "\n",
       "    .dataframe thead th {\n",
       "        text-align: right;\n",
       "    }\n",
       "</style>\n",
       "<table border=\"1\" class=\"dataframe\">\n",
       "  <thead>\n",
       "    <tr style=\"text-align: right;\">\n",
       "      <th></th>\n",
       "      <th>Name</th>\n",
       "      <th>Age</th>\n",
       "      <th>Salary</th>\n",
       "    </tr>\n",
       "  </thead>\n",
       "  <tbody>\n",
       "    <tr>\n",
       "      <th>0</th>\n",
       "      <td>Alice</td>\n",
       "      <td>25.0</td>\n",
       "      <td>5000.0</td>\n",
       "    </tr>\n",
       "    <tr>\n",
       "      <th>1</th>\n",
       "      <td>Rose</td>\n",
       "      <td>25.0</td>\n",
       "      <td>6000.0</td>\n",
       "    </tr>\n",
       "    <tr>\n",
       "      <th>2</th>\n",
       "      <td>Jack</td>\n",
       "      <td>22.0</td>\n",
       "      <td>5000.0</td>\n",
       "    </tr>\n",
       "    <tr>\n",
       "      <th>3</th>\n",
       "      <td>Taylor</td>\n",
       "      <td>28.0</td>\n",
       "      <td>7000.0</td>\n",
       "    </tr>\n",
       "  </tbody>\n",
       "</table>\n",
       "</div>"
      ],
      "text/plain": [
       "     Name   Age  Salary\n",
       "0   Alice  25.0  5000.0\n",
       "1    Rose  25.0  6000.0\n",
       "2    Jack  22.0  5000.0\n",
       "3  Taylor  28.0  7000.0"
      ]
     },
     "execution_count": 42,
     "metadata": {},
     "output_type": "execute_result"
    }
   ],
   "source": [
    "# Filling missing values ​​based on grouping\n",
    "employees['Salary'] = employees.groupby('Name')['Salary'].transform(lambda x: x.fillna(x.mean()))\n",
    "employees"
   ]
  },
  {
   "cell_type": "markdown",
   "metadata": {},
   "source": [
    "#### 7. Grouping and Aggregation Operations\n",
    "\n",
    "`Grouping (groupby())`\n",
    "\n",
    "Grouping operation groups data according to a specific column and produces summary statistics.\n",
    "\n",
    "groupby() and Aggregation Methods"
   ]
  },
  {
   "cell_type": "code",
   "execution_count": 43,
   "metadata": {},
   "outputs": [
    {
     "name": "stdout",
     "output_type": "stream",
     "text": [
      "Department\n",
      "HR    13000\n",
      "IT     9500\n",
      "Name: Salary, dtype: int64\n"
     ]
    }
   ],
   "source": [
    "# Sample dataset\n",
    "employees = pd.DataFrame({\n",
    "    'Department': ['IT', 'HR', 'IT', 'HR'],\n",
    "    'Name': ['Alice', 'Rose', 'Jack', 'Taylor'],\n",
    "    'Salary': [5000, 6000, 4500, 7000]\n",
    "})\n",
    "\n",
    "# Grouping and total salary calculation\n",
    "grouped = employees.groupby('Department')['Salary'].sum()\n",
    "print(grouped)"
   ]
  },
  {
   "cell_type": "markdown",
   "metadata": {},
   "source": [
    "**aggregate() and agg()**\n",
    "\n",
    "`aggregate()` applies multiple functions simultaneously.\n"
   ]
  },
  {
   "cell_type": "code",
   "execution_count": 44,
   "metadata": {},
   "outputs": [
    {
     "name": "stdout",
     "output_type": "stream",
     "text": [
      "              mean    sum\n",
      "Department               \n",
      "HR          6500.0  13000\n",
      "IT          4750.0   9500\n"
     ]
    }
   ],
   "source": [
    "# Calculating average and total salary\n",
    "result = employees.groupby('Department')['Salary'].aggregate(['mean', 'sum'])\n",
    "print(result)"
   ]
  },
  {
   "cell_type": "markdown",
   "metadata": {},
   "source": [
    "#### Combining and Collaborating\n",
    "\n",
    "Pandas provides a variety of tools for combining different datasets.\n",
    "\n",
    "Combining DataFrames (concat, join, merge)"
   ]
  },
  {
   "cell_type": "markdown",
   "metadata": {},
   "source": [
    "`concat()`\n",
    "\n",
    "Combines two or more DataFrames"
   ]
  },
  {
   "cell_type": "code",
   "execution_count": 45,
   "metadata": {},
   "outputs": [
    {
     "name": "stdout",
     "output_type": "stream",
     "text": [
      "   A  B\n",
      "0  1  3\n",
      "1  2  4\n",
      "0  5  7\n",
      "1  6  8\n"
     ]
    }
   ],
   "source": [
    "# Vertically join two DataFrames\n",
    "df1 = pd.DataFrame({'A': [1, 2], 'B': [3, 4]})\n",
    "df2 = pd.DataFrame({'A': [5, 6], 'B': [7, 8]})\n",
    "result = pd.concat([df1, df2])\n",
    "print(result)"
   ]
  },
  {
   "cell_type": "markdown",
   "metadata": {},
   "source": [
    "`join()`\n",
    "\n",
    "Column-based joins usually work based on a common index."
   ]
  },
  {
   "cell_type": "code",
   "execution_count": 46,
   "metadata": {},
   "outputs": [
    {
     "name": "stdout",
     "output_type": "stream",
     "text": [
      "   A  B\n",
      "a  1  3\n",
      "b  2  4\n"
     ]
    }
   ],
   "source": [
    "# Combining two DataFrames with join\n",
    "df1 = pd.DataFrame({'A': [1, 2]}, index=['a', 'b'])\n",
    "df2 = pd.DataFrame({'B': [3, 4]}, index=['a', 'b'])\n",
    "result = df1.join(df2)\n",
    "print(result)"
   ]
  },
  {
   "cell_type": "markdown",
   "metadata": {},
   "source": [
    "`merge()`\n",
    "\n",
    "Combines based on primary key columns."
   ]
  },
  {
   "cell_type": "code",
   "execution_count": 47,
   "metadata": {},
   "outputs": [
    {
     "name": "stdout",
     "output_type": "stream",
     "text": [
      "   key value1 value2\n",
      "0    2      B      X\n",
      "1    3      C      Y\n"
     ]
    }
   ],
   "source": [
    "# Join by common column\n",
    "df1 = pd.DataFrame({'key': [1, 2, 3], 'value1': ['A', 'B', 'C']})\n",
    "df2 = pd.DataFrame({'key': [2, 3, 4], 'value2': ['X', 'Y', 'Z']})\n",
    "result = pd.merge(df1, df2, on='key', how='inner')\n",
    "print(result)\n"
   ]
  },
  {
   "cell_type": "markdown",
   "metadata": {},
   "source": [
    "#### 8. Pivot and Transformation Operations"
   ]
  },
  {
   "cell_type": "markdown",
   "metadata": {},
   "source": [
    "**pivot() vs pivot_table()**\n",
    "\n",
    "`pivot()`\n",
    "\n",
    "- Creates a DataFrame by rearranging values ​​in specific columns.\n",
    "- Accepts only unique combinations of columns and rows.\n",
    "- Usage: Mostly for data reconstruction."
   ]
  },
  {
   "cell_type": "code",
   "execution_count": 48,
   "metadata": {},
   "outputs": [
    {
     "data": {
      "text/html": [
       "<div>\n",
       "<style scoped>\n",
       "    .dataframe tbody tr th:only-of-type {\n",
       "        vertical-align: middle;\n",
       "    }\n",
       "\n",
       "    .dataframe tbody tr th {\n",
       "        vertical-align: top;\n",
       "    }\n",
       "\n",
       "    .dataframe thead th {\n",
       "        text-align: right;\n",
       "    }\n",
       "</style>\n",
       "<table border=\"1\" class=\"dataframe\">\n",
       "  <thead>\n",
       "    <tr style=\"text-align: right;\">\n",
       "      <th></th>\n",
       "      <th>City</th>\n",
       "      <th>Year</th>\n",
       "      <th>Population</th>\n",
       "    </tr>\n",
       "  </thead>\n",
       "  <tbody>\n",
       "    <tr>\n",
       "      <th>0</th>\n",
       "      <td>Berlin</td>\n",
       "      <td>2021</td>\n",
       "      <td>5000000</td>\n",
       "    </tr>\n",
       "    <tr>\n",
       "      <th>1</th>\n",
       "      <td>Istanbul</td>\n",
       "      <td>2021</td>\n",
       "      <td>15000000</td>\n",
       "    </tr>\n",
       "    <tr>\n",
       "      <th>2</th>\n",
       "      <td>Sofya</td>\n",
       "      <td>2022</td>\n",
       "      <td>5200000</td>\n",
       "    </tr>\n",
       "    <tr>\n",
       "      <th>3</th>\n",
       "      <td>Londra</td>\n",
       "      <td>2022</td>\n",
       "      <td>15300000</td>\n",
       "    </tr>\n",
       "  </tbody>\n",
       "</table>\n",
       "</div>"
      ],
      "text/plain": [
       "       City  Year  Population\n",
       "0    Berlin  2021     5000000\n",
       "1  Istanbul  2021    15000000\n",
       "2     Sofya  2022     5200000\n",
       "3    Londra  2022    15300000"
      ]
     },
     "execution_count": 48,
     "metadata": {},
     "output_type": "execute_result"
    }
   ],
   "source": [
    "# Sample dataset\n",
    "data = pd.DataFrame({\n",
    "    'City': ['Berlin', 'Istanbul', 'Sofya', 'Londra'],\n",
    "    'Year': [2021, 2021, 2022, 2022],\n",
    "    'Population': [5_000_000, 15_000_000, 5_200_000, 15_300_000]\n",
    "})\n",
    "data"
   ]
  },
  {
   "cell_type": "code",
   "execution_count": 49,
   "metadata": {},
   "outputs": [
    {
     "name": "stdout",
     "output_type": "stream",
     "text": [
      "Year            2021        2022\n",
      "City                            \n",
      "Berlin     5000000.0         NaN\n",
      "Istanbul  15000000.0         NaN\n",
      "Londra           NaN  15300000.0\n",
      "Sofya            NaN   5200000.0\n"
     ]
    }
   ],
   "source": [
    "# Pivot operation\n",
    "pivot_result = data.pivot(index='City', columns='Year', values='Population')\n",
    "print(pivot_result)"
   ]
  },
  {
   "cell_type": "markdown",
   "metadata": {},
   "source": [
    "`pivot_table()`\n",
    "\n",
    "- Works the same as pivot() but summarizes multiple values ​​in the same combination (for example, by taking mean or sum).\n",
    "\n",
    "- Can use multiple columns."
   ]
  },
  {
   "cell_type": "code",
   "execution_count": 50,
   "metadata": {},
   "outputs": [
    {
     "name": "stdout",
     "output_type": "stream",
     "text": [
      "Year            2021        2022\n",
      "City                            \n",
      "Berlin     5000000.0         NaN\n",
      "Istanbul  15000000.0         NaN\n",
      "Londra           NaN  15300000.0\n",
      "Sofya            NaN   5200000.0\n"
     ]
    }
   ],
   "source": [
    "# Same process as pivot_table, with average calculation\n",
    "pivot_table_result = data.pivot_table(index='City', columns='Year', values='Population', aggfunc='mean')\n",
    "print(pivot_table_result)"
   ]
  },
  {
   "cell_type": "markdown",
   "metadata": {},
   "source": [
    "**Melt Data (melt())**\n",
    "\n",
    "Converts the data frame to long format. Useful because long format is more suitable for many data analysis and visualization tasks."
   ]
  },
  {
   "cell_type": "code",
   "execution_count": 51,
   "metadata": {},
   "outputs": [
    {
     "name": "stdout",
     "output_type": "stream",
     "text": [
      "       City   Attribute     Value\n",
      "0    Berlin        Year      2021\n",
      "1  Istanbul        Year      2021\n",
      "2     Sofya        Year      2022\n",
      "3    Londra        Year      2022\n",
      "4    Berlin  Population   5000000\n",
      "5  Istanbul  Population  15000000\n",
      "6     Sofya  Population   5200000\n",
      "7    Londra  Population  15300000\n"
     ]
    }
   ],
   "source": [
    "# Melt the dataset\n",
    "melted = data.melt(id_vars='City', var_name='Attribute', value_name='Value')\n",
    "print(melted)"
   ]
  },
  {
   "cell_type": "markdown",
   "metadata": {
    "vscode": {
     "languageId": "powershell"
    }
   },
   "source": [
    "**Useful Operations**\n",
    "\n",
    "`filter()`\n",
    "\n",
    "Used to filter columns or rows.\n",
    "\n",
    "Based only on column names and indexes."
   ]
  },
  {
   "cell_type": "code",
   "execution_count": 52,
   "metadata": {},
   "outputs": [
    {
     "name": "stdout",
     "output_type": "stream",
     "text": [
      "       City  Population\n",
      "0    Berlin     5000000\n",
      "1  Istanbul    15000000\n",
      "2     Sofya     5200000\n",
      "3    Londra    15300000\n"
     ]
    }
   ],
   "source": [
    "# Select only certain columns\n",
    "filtered = data.filter(items=['City', 'Population'])\n",
    "print(filtered)"
   ]
  },
  {
   "cell_type": "markdown",
   "metadata": {},
   "source": [
    "`where()`\n",
    "\n",
    "Stores values ​​based on a given condition, otherwise throws NaN."
   ]
  },
  {
   "cell_type": "code",
   "execution_count": 53,
   "metadata": {},
   "outputs": [
    {
     "name": "stdout",
     "output_type": "stream",
     "text": [
      "       City    Year  Population\n",
      "0       NaN     NaN         NaN\n",
      "1  Istanbul  2021.0  15000000.0\n",
      "2       NaN     NaN         NaN\n",
      "3    Londra  2022.0  15300000.0\n"
     ]
    }
   ],
   "source": [
    "# Condition: \"Population\" must be over 10 million\n",
    "filtered_where = data.where(data['Population'] > 10_000_000)\n",
    "print(filtered_where)"
   ]
  },
  {
   "cell_type": "markdown",
   "metadata": {},
   "source": [
    "`transform()`\n",
    "\n",
    "- Transforms data row by row and returns a result with the same dimensions.\n",
    "- Useful for performing transformations on columns after grouping."
   ]
  },
  {
   "cell_type": "code",
   "execution_count": 54,
   "metadata": {},
   "outputs": [
    {
     "name": "stdout",
     "output_type": "stream",
     "text": [
      "       City  Year  Population  Adjusted Population\n",
      "0    Berlin  2021     5000000           -5125000.0\n",
      "1  Istanbul  2021    15000000            4875000.0\n",
      "2     Sofya  2022     5200000           -4925000.0\n",
      "3    Londra  2022    15300000            5175000.0\n"
     ]
    }
   ],
   "source": [
    "# Compare salaries with average salaries\n",
    "data['Adjusted Population'] = data['Population'].transform(lambda x: x - x.mean())\n",
    "print(data)"
   ]
  },
  {
   "cell_type": "markdown",
   "metadata": {},
   "source": [
    "**apply(), applymap(), map()**\n",
    "\n",
    "`apply()`\n",
    "\n",
    "Applies a transformation on a row or column.\n",
    "Column-based: axis=0, row-based: axis=1."
   ]
  },
  {
   "cell_type": "code",
   "execution_count": 55,
   "metadata": {},
   "outputs": [
    {
     "name": "stdout",
     "output_type": "stream",
     "text": [
      "       City  Year  Population  Adjusted Population  Population (in millions)\n",
      "0    Berlin  2021     5000000           -5125000.0                       5.0\n",
      "1  Istanbul  2021    15000000            4875000.0                      15.0\n",
      "2     Sofya  2022     5200000           -4925000.0                       5.2\n",
      "3    Londra  2022    15300000            5175000.0                      15.3\n"
     ]
    }
   ],
   "source": [
    "# Turning the population into millions\n",
    "data['Population (in millions)'] = data['Population'].apply(lambda x: x / 1_000_000)\n",
    "print(data)\n"
   ]
  },
  {
   "cell_type": "markdown",
   "metadata": {},
   "source": [
    "`applymap()`\n",
    "\n",
    "Applies transformation to each cell at the DataFrame level."
   ]
  },
  {
   "cell_type": "code",
   "execution_count": 56,
   "metadata": {},
   "outputs": [
    {
     "name": "stdout",
     "output_type": "stream",
     "text": [
      "   Population  Year\n",
      "0     5000010  2031\n",
      "1    15000010  2031\n",
      "2     5200010  2032\n",
      "3    15300010  2032\n"
     ]
    },
    {
     "name": "stderr",
     "output_type": "stream",
     "text": [
      "C:\\Users\\rbeyz\\AppData\\Local\\Temp\\ipykernel_24660\\2484009390.py:2: FutureWarning: DataFrame.applymap has been deprecated. Use DataFrame.map instead.\n",
      "  result = data[['Population', 'Year']].applymap(lambda x: x + 10)\n"
     ]
    }
   ],
   "source": [
    "# Add 10 to each cell in the dataframe\n",
    "result = data[['Population', 'Year']].applymap(lambda x: x + 10)\n",
    "print(result)"
   ]
  },
  {
   "cell_type": "markdown",
   "metadata": {},
   "source": [
    "`map()`\n",
    "\n",
    "Applies only to Series objects."
   ]
  },
  {
   "cell_type": "code",
   "execution_count": 57,
   "metadata": {},
   "outputs": [
    {
     "name": "stdout",
     "output_type": "stream",
     "text": [
      "       City  Year  Population  Adjusted Population  Population (in millions)\n",
      "0    BERLIN  2021     5000000           -5125000.0                       5.0\n",
      "1  ISTANBUL  2021    15000000            4875000.0                      15.0\n",
      "2     SOFYA  2022     5200000           -4925000.0                       5.2\n",
      "3    LONDRA  2022    15300000            5175000.0                      15.3\n"
     ]
    }
   ],
   "source": [
    "# Convert city names to capital letters\n",
    "data['City'] = data['City'].map(str.upper)\n",
    "print(data)"
   ]
  },
  {
   "cell_type": "markdown",
   "metadata": {},
   "source": [
    "#### 10. Working with Time Series\n",
    "\n",
    "**1. Date and Time Data (to_datetime(), date_range())**\n",
    "\n",
    "to_datetime(): Used to convert a date or time value to datetime format. Pandas automatically recognizes date and time information in different formats."
   ]
  },
  {
   "cell_type": "code",
   "execution_count": 58,
   "metadata": {},
   "outputs": [
    {
     "name": "stdout",
     "output_type": "stream",
     "text": [
      "Date    datetime64[ns]\n",
      "dtype: object\n"
     ]
    }
   ],
   "source": [
    "# Convert date data to datetime format\n",
    "data = pd.DataFrame({'Date': ['2023-01-01', '2023-01-02', '2023-01-03']})\n",
    "data['Date'] = pd.to_datetime(data['Date'])\n",
    "print(data.dtypes)\n"
   ]
  },
  {
   "cell_type": "markdown",
   "metadata": {},
   "source": [
    "**date_range():** Creates a date range between a specified start and end date."
   ]
  },
  {
   "cell_type": "code",
   "execution_count": 59,
   "metadata": {},
   "outputs": [
    {
     "name": "stdout",
     "output_type": "stream",
     "text": [
      "DatetimeIndex(['2023-01-01', '2023-01-02', '2023-01-03', '2023-01-04',\n",
      "               '2023-01-05', '2023-01-06', '2023-01-07', '2023-01-08',\n",
      "               '2023-01-09', '2023-01-10', '2023-01-11', '2023-01-12',\n",
      "               '2023-01-13', '2023-01-14', '2023-01-15', '2023-01-16',\n",
      "               '2023-01-17', '2023-01-18', '2023-01-19', '2023-01-20',\n",
      "               '2023-01-21', '2023-01-22', '2023-01-23', '2023-01-24',\n",
      "               '2023-01-25', '2023-01-26', '2023-01-27', '2023-01-28',\n",
      "               '2023-01-29', '2023-01-30', '2023-01-31'],\n",
      "              dtype='datetime64[ns]', freq='D')\n"
     ]
    }
   ],
   "source": [
    "# Daily date range during January 2023\n",
    "dates = pd.date_range(start='2023-01-01', end='2023-01-31', freq='D')\n",
    "print(dates)"
   ]
  },
  {
   "cell_type": "markdown",
   "metadata": {},
   "source": [
    "**Using Time Series as Indexes**\n",
    "\n",
    "When working with time series, using date values ​​as indexes is very useful for analysis and visualization."
   ]
  },
  {
   "cell_type": "code",
   "execution_count": 60,
   "metadata": {},
   "outputs": [
    {
     "name": "stdout",
     "output_type": "stream",
     "text": [
      "            Value\n",
      "Date             \n",
      "2023-01-01      0\n",
      "2023-01-02      1\n",
      "2023-01-03      2\n",
      "2023-01-04      3\n",
      "2023-01-05      4\n",
      "2023-01-06      5\n",
      "2023-01-07      6\n",
      "2023-01-08      7\n",
      "2023-01-09      8\n",
      "2023-01-10      9\n",
      "2023-01-11     10\n",
      "2023-01-12     11\n",
      "2023-01-13     12\n",
      "2023-01-14     13\n",
      "2023-01-15     14\n",
      "2023-01-16     15\n",
      "2023-01-17     16\n",
      "2023-01-18     17\n",
      "2023-01-19     18\n",
      "2023-01-20     19\n",
      "2023-01-21     20\n",
      "2023-01-22     21\n",
      "2023-01-23     22\n",
      "2023-01-24     23\n",
      "2023-01-25     24\n",
      "2023-01-26     25\n",
      "2023-01-27     26\n",
      "2023-01-28     27\n",
      "2023-01-29     28\n",
      "2023-01-30     29\n",
      "2023-01-31     30\n"
     ]
    }
   ],
   "source": [
    "# Set date as index\n",
    "data = pd.DataFrame({'Date': dates, 'Value': range(len(dates))})\n",
    "data.set_index('Date', inplace=True)\n",
    "print(data)"
   ]
  },
  {
   "cell_type": "markdown",
   "metadata": {},
   "source": [
    "**Advanced Operations on Time Series**\n",
    "\n",
    "Shift: Shifts the data forward or backward.\n",
    "Resample: Rearranges the data to a different time range."
   ]
  },
  {
   "cell_type": "code",
   "execution_count": 61,
   "metadata": {},
   "outputs": [
    {
     "name": "stdout",
     "output_type": "stream",
     "text": [
      "            Value  Shifted\n",
      "Date                      \n",
      "2023-01-01      0      NaN\n",
      "2023-01-02      1      0.0\n",
      "2023-01-03      2      1.0\n",
      "2023-01-04      3      2.0\n",
      "2023-01-05      4      3.0\n",
      "2023-01-06      5      4.0\n",
      "2023-01-07      6      5.0\n",
      "2023-01-08      7      6.0\n",
      "2023-01-09      8      7.0\n",
      "2023-01-10      9      8.0\n",
      "2023-01-11     10      9.0\n",
      "2023-01-12     11     10.0\n",
      "2023-01-13     12     11.0\n",
      "2023-01-14     13     12.0\n",
      "2023-01-15     14     13.0\n",
      "2023-01-16     15     14.0\n",
      "2023-01-17     16     15.0\n",
      "2023-01-18     17     16.0\n",
      "2023-01-19     18     17.0\n",
      "2023-01-20     19     18.0\n",
      "2023-01-21     20     19.0\n",
      "2023-01-22     21     20.0\n",
      "2023-01-23     22     21.0\n",
      "2023-01-24     23     22.0\n",
      "2023-01-25     24     23.0\n",
      "2023-01-26     25     24.0\n",
      "2023-01-27     26     25.0\n",
      "2023-01-28     27     26.0\n",
      "2023-01-29     28     27.0\n",
      "2023-01-30     29     28.0\n",
      "2023-01-31     30     29.0\n",
      "            Value  Shifted\n",
      "Date                      \n",
      "2023-01-01      0      0.0\n",
      "2023-01-08     28     21.0\n",
      "2023-01-15     77     70.0\n",
      "2023-01-22    126    119.0\n",
      "2023-01-29    175    168.0\n",
      "2023-02-05     59     57.0\n"
     ]
    }
   ],
   "source": [
    "# Shift\n",
    "data['Shifted'] = data['Value'].shift(1)\n",
    "print(data)\n",
    "\n",
    "# Resampling: Weekly total\n",
    "weekly = data.resample('W').sum()\n",
    "print(weekly)"
   ]
  },
  {
   "cell_type": "markdown",
   "metadata": {},
   "source": [
    "#### 11. Working with Text Data\n",
    "\n",
    "Pandas provides a rich set of string methods for manipulating text data. These methods are called with str."
   ]
  },
  {
   "cell_type": "markdown",
   "metadata": {},
   "source": [
    "**Date and Time Data (to_datetime(), date_range())**\n",
    "\n",
    "`to_datetime():` Used to convert a date or time value to datetime format. Pandas automatically recognizes date and time information in different formats."
   ]
  },
  {
   "cell_type": "code",
   "execution_count": 62,
   "metadata": {},
   "outputs": [
    {
     "name": "stdout",
     "output_type": "stream",
     "text": [
      "Date    datetime64[ns]\n",
      "dtype: object\n"
     ]
    }
   ],
   "source": [
    "# Convert date data to datetime format\n",
    "data = pd.DataFrame({'Date': ['2023-01-01', '2023-01-02', '2023-01-03']})\n",
    "data['Date'] = pd.to_datetime(data['Date'])\n",
    "print(data.dtypes)"
   ]
  },
  {
   "cell_type": "markdown",
   "metadata": {},
   "source": [
    "`date_range():` Creates a date range between a specified start and end date."
   ]
  },
  {
   "cell_type": "code",
   "execution_count": 63,
   "metadata": {},
   "outputs": [
    {
     "name": "stdout",
     "output_type": "stream",
     "text": [
      "DatetimeIndex(['2023-01-01', '2023-01-02', '2023-01-03', '2023-01-04',\n",
      "               '2023-01-05', '2023-01-06', '2023-01-07', '2023-01-08',\n",
      "               '2023-01-09', '2023-01-10', '2023-01-11', '2023-01-12',\n",
      "               '2023-01-13', '2023-01-14', '2023-01-15', '2023-01-16',\n",
      "               '2023-01-17', '2023-01-18', '2023-01-19', '2023-01-20',\n",
      "               '2023-01-21', '2023-01-22', '2023-01-23', '2023-01-24',\n",
      "               '2023-01-25', '2023-01-26', '2023-01-27', '2023-01-28',\n",
      "               '2023-01-29', '2023-01-30', '2023-01-31'],\n",
      "              dtype='datetime64[ns]', freq='D')\n"
     ]
    }
   ],
   "source": [
    "# Daily date range during January 2023\n",
    "dates = pd.date_range(start='2023-01-01', end='2023-01-31', freq='D')\n",
    "print(dates)"
   ]
  },
  {
   "cell_type": "markdown",
   "metadata": {},
   "source": [
    "**Using Time Series as Indexes**\n",
    "\n",
    "When working with time series, using date values ​​as indexes is very useful for analysis and visualization."
   ]
  },
  {
   "cell_type": "code",
   "execution_count": 64,
   "metadata": {},
   "outputs": [
    {
     "name": "stdout",
     "output_type": "stream",
     "text": [
      "            Value\n",
      "Date             \n",
      "2023-01-01      0\n",
      "2023-01-02      1\n",
      "2023-01-03      2\n",
      "2023-01-04      3\n",
      "2023-01-05      4\n",
      "2023-01-06      5\n",
      "2023-01-07      6\n",
      "2023-01-08      7\n",
      "2023-01-09      8\n",
      "2023-01-10      9\n",
      "2023-01-11     10\n",
      "2023-01-12     11\n",
      "2023-01-13     12\n",
      "2023-01-14     13\n",
      "2023-01-15     14\n",
      "2023-01-16     15\n",
      "2023-01-17     16\n",
      "2023-01-18     17\n",
      "2023-01-19     18\n",
      "2023-01-20     19\n",
      "2023-01-21     20\n",
      "2023-01-22     21\n",
      "2023-01-23     22\n",
      "2023-01-24     23\n",
      "2023-01-25     24\n",
      "2023-01-26     25\n",
      "2023-01-27     26\n",
      "2023-01-28     27\n",
      "2023-01-29     28\n",
      "2023-01-30     29\n",
      "2023-01-31     30\n"
     ]
    }
   ],
   "source": [
    "# Set date as index\n",
    "data = pd.DataFrame({'Date': dates, 'Value': range(len(dates))})\n",
    "data.set_index('Date', inplace=True)\n",
    "print(data)"
   ]
  },
  {
   "cell_type": "markdown",
   "metadata": {},
   "source": [
    "**Advanced Operations on Time Series**\n",
    "\n",
    "- Shift: Shifts the data forward or backward.\n",
    "- Resample: Rearranges the data to a different time range."
   ]
  },
  {
   "cell_type": "code",
   "execution_count": 66,
   "metadata": {},
   "outputs": [
    {
     "name": "stdout",
     "output_type": "stream",
     "text": [
      "            Value  Shifted\n",
      "Date                      \n",
      "2023-01-01      0      NaN\n",
      "2023-01-02      1      0.0\n",
      "2023-01-03      2      1.0\n",
      "2023-01-04      3      2.0\n",
      "2023-01-05      4      3.0\n",
      "2023-01-06      5      4.0\n",
      "2023-01-07      6      5.0\n",
      "2023-01-08      7      6.0\n",
      "2023-01-09      8      7.0\n",
      "2023-01-10      9      8.0\n",
      "2023-01-11     10      9.0\n",
      "2023-01-12     11     10.0\n",
      "2023-01-13     12     11.0\n",
      "2023-01-14     13     12.0\n",
      "2023-01-15     14     13.0\n",
      "2023-01-16     15     14.0\n",
      "2023-01-17     16     15.0\n",
      "2023-01-18     17     16.0\n",
      "2023-01-19     18     17.0\n",
      "2023-01-20     19     18.0\n",
      "2023-01-21     20     19.0\n",
      "2023-01-22     21     20.0\n",
      "2023-01-23     22     21.0\n",
      "2023-01-24     23     22.0\n",
      "2023-01-25     24     23.0\n",
      "2023-01-26     25     24.0\n",
      "2023-01-27     26     25.0\n",
      "2023-01-28     27     26.0\n",
      "2023-01-29     28     27.0\n",
      "2023-01-30     29     28.0\n",
      "2023-01-31     30     29.0\n"
     ]
    }
   ],
   "source": [
    "# Scrolling\n",
    "data['Shifted'] = data['Value'].shift(1)\n",
    "print(data)"
   ]
  },
  {
   "cell_type": "code",
   "execution_count": 67,
   "metadata": {},
   "outputs": [
    {
     "name": "stdout",
     "output_type": "stream",
     "text": [
      "            Value  Shifted\n",
      "Date                      \n",
      "2023-01-01      0      0.0\n",
      "2023-01-08     28     21.0\n",
      "2023-01-15     77     70.0\n",
      "2023-01-22    126    119.0\n",
      "2023-01-29    175    168.0\n",
      "2023-02-05     59     57.0\n"
     ]
    }
   ],
   "source": [
    "# Resampling: Weekly total\n",
    "weekly = data.resample('W').sum()\n",
    "print(weekly)"
   ]
  },
  {
   "cell_type": "markdown",
   "metadata": {},
   "source": [
    "#### 11. Working with Text Data\n",
    "\n",
    "Pandas provides a rich set of string methods for manipulating text data. These methods are called with str."
   ]
  },
  {
   "cell_type": "markdown",
   "metadata": {},
   "source": [
    "## Text Data - String Methods\n",
    "\n",
    "**str.lower():** Converts a string to lowercase.\n",
    "\n",
    "**str.upper():** Converts a string to uppercase.\n",
    "\n",
    "**str.capitalize():** Converts the first character to uppercase.\n",
    "\n",
    "**str.title():** Converts the first character of each word to uppercase.\n",
    "\n",
    "**str.swapcase():** Converts uppercase letters to lowercase and lowercase letters to uppercase.\n",
    "\n",
    "**str.isalpha():** Checks whether all characters are in the alphabet and returns True or False.\n",
    "\n",
    "**str.isnumeric():** Checks whether all characters contain numeric values ​​and returns True or False.\n",
    "\n",
    "**str.isalnum():** Checks if all characters contain letters or numeric values ​​and returns True or False.\n",
    "\n",
    "**str.endswith():** Checks if a string ends with a specified value and returns True or False.\n",
    "\n",
    "**str.startswith():** Checks if a string starts with a specified value and returns True or False.\n",
    "\n",
    "**str.contains():** Checks if a substring is found in a string and returns True or False for each element.\n",
    "\n",
    "**str.strip():** Removes whitespace from the beginning and end of a string and returns a trimmed version.\n",
    "\n",
    "**str.replace():** Returns a string that replaces a specified value with another value.\n",
    "\n",
    "**str.split():** Splits a string at the specified separator and returns a list.\n",
    "\n",
    "**str.find():** Searches for a specified value in a string and returns the index of its current position.\n",
    "\n",
    "**str.findall():** Returns a list of all instances of a pattern.\n",
    "\n",
    "**str.join():** Converts the elements of an iterable to a string."
   ]
  },
  {
   "cell_type": "code",
   "execution_count": 68,
   "metadata": {},
   "outputs": [
    {
     "data": {
      "text/html": [
       "<div>\n",
       "<style scoped>\n",
       "    .dataframe tbody tr th:only-of-type {\n",
       "        vertical-align: middle;\n",
       "    }\n",
       "\n",
       "    .dataframe tbody tr th {\n",
       "        vertical-align: top;\n",
       "    }\n",
       "\n",
       "    .dataframe thead th {\n",
       "        text-align: right;\n",
       "    }\n",
       "</style>\n",
       "<table border=\"1\" class=\"dataframe\">\n",
       "  <thead>\n",
       "    <tr style=\"text-align: right;\">\n",
       "      <th></th>\n",
       "      <th>Names</th>\n",
       "    </tr>\n",
       "  </thead>\n",
       "  <tbody>\n",
       "    <tr>\n",
       "      <th>0</th>\n",
       "      <td>Alice Smith</td>\n",
       "    </tr>\n",
       "    <tr>\n",
       "      <th>1</th>\n",
       "      <td>Rose Williams</td>\n",
       "    </tr>\n",
       "    <tr>\n",
       "      <th>2</th>\n",
       "      <td>Jack Brown</td>\n",
       "    </tr>\n",
       "  </tbody>\n",
       "</table>\n",
       "</div>"
      ],
      "text/plain": [
       "           Names\n",
       "0    Alice Smith\n",
       "1  Rose Williams\n",
       "2     Jack Brown"
      ]
     },
     "execution_count": 68,
     "metadata": {},
     "output_type": "execute_result"
    }
   ],
   "source": [
    "# Örnek veri seti\n",
    "data = pd.DataFrame({'Names': ['Alice Smith', 'Rose Williams', 'Jack Brown']})\n",
    "data"
   ]
  },
  {
   "cell_type": "code",
   "execution_count": 69,
   "metadata": {},
   "outputs": [
    {
     "name": "stdout",
     "output_type": "stream",
     "text": [
      "           Names      Uppercase      Lowercase             Split  Length\n",
      "0    Alice Smith    ALICE SMITH    alice smith    [Alice, Smith]      11\n",
      "1  Rose Williams  ROSE WILLIAMS  rose williams  [Rose, Williams]      13\n",
      "2     Jack Brown     JACK BROWN     jack brown     [Jack, Brown]      10\n"
     ]
    }
   ],
   "source": [
    "# Text operations\n",
    "data['Uppercase'] = data['Names'].str.upper() # Uppercase\n",
    "data['Lowercase'] = data['Names'].str.lower() # Lowercase\n",
    "data['Split'] = data['Names'].str.split() # Space separation\n",
    "data['Length'] = data['Names'].str.len() # Character length\n",
    "print(data)"
   ]
  },
  {
   "cell_type": "markdown",
   "metadata": {},
   "source": [
    "#### 12. Dummy Variables\n",
    "\n",
    "Dummy variables are used to convert categorical data into numerical format."
   ]
  },
  {
   "cell_type": "code",
   "execution_count": 70,
   "metadata": {},
   "outputs": [
    {
     "name": "stdout",
     "output_type": "stream",
     "text": [
      "   City_Ankara  City_Istanbul  City_Izmir\n",
      "0         True          False       False\n",
      "1        False           True       False\n",
      "2         True          False       False\n",
      "3        False          False        True\n"
     ]
    }
   ],
   "source": [
    "# Sample dataset\n",
    "data = pd.DataFrame({'City': ['Ankara', 'Istanbul', 'Ankara', 'Izmir']})\n",
    "\n",
    "# Creating a dummy variable\n",
    "dummy = pd.get_dummies(data['City'], prefix='City')\n",
    "print(dummy)"
   ]
  },
  {
   "cell_type": "markdown",
   "metadata": {},
   "source": [
    "#### 13. Data Visualization\n",
    "\n",
    "Simple Plots with Pandas (plot())\n",
    "Pandas provides a built-in plot() function for quick data visualization."
   ]
  },
  {
   "cell_type": "code",
   "execution_count": 71,
   "metadata": {},
   "outputs": [],
   "source": [
    "# Example time series\n",
    "data = pd.DataFrame({'Date': pd.date_range(start='2023-01-01', periods=10),\n",
    "                     'Value': [1, 3, 5, 7, 9, 11, 13, 15, 17, 19]})\n",
    "data.set_index('Date', inplace=True)"
   ]
  },
  {
   "cell_type": "code",
   "execution_count": 73,
   "metadata": {},
   "outputs": [
    {
     "data": {
      "text/plain": [
       "<Axes: title={'center': 'Simple Line Plot'}, xlabel='Date'>"
      ]
     },
     "execution_count": 73,
     "metadata": {},
     "output_type": "execute_result"
    },
    {
     "data": {
      "image/png": "[encoded data removed]",
      "text/plain": [
       "<Figure size 640x480 with 1 Axes>"
      ]
     },
     "metadata": {},
     "output_type": "display_data"
    }
   ],
   "source": [
    "# Line chart\n",
    "data.plot(title=\"Simple Line Plot\")"
   ]
  },
  {
   "cell_type": "markdown",
   "metadata": {},
   "source": [
    "**Integration with Matplotlib and Seaborn**\n",
    "\n",
    "Pandas can easily integrate with libraries such as matplotlib and seaborn.."
   ]
  },
  {
   "cell_type": "code",
   "execution_count": 74,
   "metadata": {},
   "outputs": [
    {
     "data": {
      "image/png": "[encoded data removed]",
      "text/plain": [
       "<Figure size 640x480 with 1 Axes>"
      ]
     },
     "metadata": {},
     "output_type": "display_data"
    }
   ],
   "source": [
    "import seaborn as sns\n",
    "import matplotlib.pyplot as plt\n",
    "\n",
    "# A bar chart with Seaborn\n",
    "sns.barplot(x=['A', 'B', 'C'], y=[10, 20, 15])\n",
    "plt.title('Seaborn Bar Plot')\n",
    "plt.show()"
   ]
  },
  {
   "cell_type": "markdown",
   "metadata": {},
   "source": [
    "#### 14. File Reading and Writing Operations\n",
    "\n",
    "**Import and Export DataFrame**\n",
    "\n",
    "Basic functions that can be used to read and write Excel files with Pandas:\n",
    "\n",
    "`read_excel():` Reads Excel files.\n",
    "\n",
    "`to_excel():` Saves the DataFrame to an Excel file."
   ]
  },
  {
   "cell_type": "markdown",
   "metadata": {},
   "source": [
    "**Working with CSV, Excel, JSON, and SQL**\n",
    "\n",
    "Reading a CSV File (read_csv)\n",
    "\n",
    "Reading an adult.csv file:"
   ]
  },
  {
   "cell_type": "code",
   "execution_count": 76,
   "metadata": {},
   "outputs": [
    {
     "name": "stdout",
     "output_type": "stream",
     "text": [
      "   age workclass  fnlwgt     education  education.num marital.status  \\\n",
      "0   90         ?   77053       HS-grad              9        Widowed   \n",
      "1   82   Private  132870       HS-grad              9        Widowed   \n",
      "2   66         ?  186061  Some-college             10        Widowed   \n",
      "3   54   Private  140359       7th-8th              4       Divorced   \n",
      "4   41   Private  264663  Some-college             10      Separated   \n",
      "\n",
      "          occupation   relationship   race     sex  capital.gain  \\\n",
      "0                  ?  Not-in-family  White  Female             0   \n",
      "1    Exec-managerial  Not-in-family  White  Female             0   \n",
      "2                  ?      Unmarried  Black  Female             0   \n",
      "3  Machine-op-inspct      Unmarried  White  Female             0   \n",
      "4     Prof-specialty      Own-child  White  Female             0   \n",
      "\n",
      "   capital.loss  hours.per.week native.country income  \n",
      "0          4356              40  United-States  <=50K  \n",
      "1          4356              18  United-States  <=50K  \n",
      "2          4356              40  United-States  <=50K  \n",
      "3          3900              40  United-States  <=50K  \n",
      "4          3900              40  United-States  <=50K  \n"
     ]
    }
   ],
   "source": [
    "import pandas as pd\n",
    "\n",
    "# Reading CSV file\n",
    "data = pd.read_csv('adult.csv')\n",
    "\n",
    "# Display first few lines\n",
    "print(data.head())\n",
    "# Output: Displays first 5 lines of adult.csv content."
   ]
  },
  {
   "cell_type": "markdown",
   "metadata": {},
   "source": [
    "**Write CSV File (to_csv)**\n",
    "\n",
    "Write a DataFrame to CSV file:"
   ]
  },
  {
   "cell_type": "code",
   "execution_count": 77,
   "metadata": {},
   "outputs": [
    {
     "name": "stdout",
     "output_type": "stream",
     "text": [
      "DataFrame was written to output_adult.csv.\n"
     ]
    }
   ],
   "source": [
    "# Sample DataFrame\n",
    "data = pd.DataFrame({\n",
    "    'Name': ['Alice', 'Rose', 'Jack', 'Taylor'],\n",
    "    'Age': [25, 30, 22, 28],\n",
    "    'Salary': [5000, 6000, 4500, 7000]\n",
    "})\n",
    "\n",
    "# Write to CSV file\n",
    "data.to_csv('output_adult.csv', index=False)\n",
    "print(\"DataFrame was written to output_adult.csv.\")"
   ]
  },
  {
   "cell_type": "markdown",
   "metadata": {},
   "source": [
    "**Working with Large Data Files (chunksize)**\n",
    "\n",
    "Reading a CSV File in Chunks Processing a large adult.csv file in chunks:"
   ]
  },
  {
   "cell_type": "code",
   "execution_count": 78,
   "metadata": {},
   "outputs": [],
   "source": [
    "# Reading a large CSV file in chunks\n",
    "chunk_size = 1000 # Reads 1000 rows at a time\n",
    "reader = pd.read_csv('adult.csv', chunksize=chunk_size)"
   ]
  },
  {
   "cell_type": "code",
   "execution_count": 79,
   "metadata": {},
   "outputs": [
    {
     "name": "stdout",
     "output_type": "stream",
     "text": [
      "   age workclass  fnlwgt     education  education.num marital.status  \\\n",
      "0   90         ?   77053       HS-grad              9        Widowed   \n",
      "1   82   Private  132870       HS-grad              9        Widowed   \n",
      "2   66         ?  186061  Some-college             10        Widowed   \n",
      "3   54   Private  140359       7th-8th              4       Divorced   \n",
      "4   41   Private  264663  Some-college             10      Separated   \n",
      "\n",
      "          occupation   relationship   race     sex  capital.gain  \\\n",
      "0                  ?  Not-in-family  White  Female             0   \n",
      "1    Exec-managerial  Not-in-family  White  Female             0   \n",
      "2                  ?      Unmarried  Black  Female             0   \n",
      "3  Machine-op-inspct      Unmarried  White  Female             0   \n",
      "4     Prof-specialty      Own-child  White  Female             0   \n",
      "\n",
      "   capital.loss  hours.per.week native.country income  \n",
      "0          4356              40  United-States  <=50K  \n",
      "1          4356              18  United-States  <=50K  \n",
      "2          4356              40  United-States  <=50K  \n",
      "3          3900              40  United-States  <=50K  \n",
      "4          3900              40  United-States  <=50K  \n",
      "      age         workclass  fnlwgt   education  education.num  \\\n",
      "1000   39  Self-emp-not-inc  134475   Bachelors             13   \n",
      "1001   43           Private  138184     HS-grad              9   \n",
      "1002   22           Private  156822        10th              6   \n",
      "1003   30           Private  145231  Assoc-acdm             12   \n",
      "1004   21           Private  213341        11th              7   \n",
      "\n",
      "             marital.status         occupation   relationship   race     sex  \\\n",
      "1000               Divorced       Adm-clerical  Not-in-family  White    Male   \n",
      "1001               Divorced      Other-service  Not-in-family  Black  Female   \n",
      "1002          Never-married              Sales  Not-in-family  White  Female   \n",
      "1003               Divorced       Adm-clerical      Own-child  White  Female   \n",
      "1004  Married-spouse-absent  Handlers-cleaners      Own-child  White    Male   \n",
      "\n",
      "      capital.gain  capital.loss  hours.per.week      native.country income  \n",
      "1000             0          1762              40       United-States  <=50K  \n",
      "1001             0          1762              35       United-States  <=50K  \n",
      "1002             0          1762              25       United-States  <=50K  \n",
      "1003             0          1762              40       United-States  <=50K  \n",
      "1004             0          1762              40  Dominican-Republic  <=50K  \n",
      "      age     workclass  fnlwgt     education  education.num  \\\n",
      "2000   35       Private  186183       HS-grad              9   \n",
      "2001   49  Self-emp-inc  191277  Some-college             10   \n",
      "2002   50       Private  164198    Assoc-acdm             12   \n",
      "2003   31       Private  167725     Bachelors             13   \n",
      "2004   53     Local-gov  283602       Masters             14   \n",
      "\n",
      "          marital.status         occupation relationship                race  \\\n",
      "2000  Married-civ-spouse   Transport-moving      Husband               White   \n",
      "2001  Married-civ-spouse    Exec-managerial      Husband               White   \n",
      "2002  Married-civ-spouse  Handlers-cleaners      Husband               Black   \n",
      "2003  Married-civ-spouse     Prof-specialty      Husband  Asian-Pac-Islander   \n",
      "2004  Married-civ-spouse     Prof-specialty         Wife               White   \n",
      "\n",
      "         sex  capital.gain  capital.loss  hours.per.week native.country income  \n",
      "2000    Male         15024             0              80  United-States   >50K  \n",
      "2001    Male         15024             0              50  United-States   >50K  \n",
      "2002    Male         15024             0              45  United-States   >50K  \n",
      "2003    Male         15024             0              48    Philippines   >50K  \n",
      "2004  Female         15024             0              40  United-States   >50K  \n",
      "      age     workclass  fnlwgt     education  education.num  \\\n",
      "3000   42       Private  159449     Bachelors             13   \n",
      "3001   42     Local-gov   97688  Some-college             10   \n",
      "3002   36       Private  188563  Some-college             10   \n",
      "3003   32       Private  231043       HS-grad              9   \n",
      "3004   44  Self-emp-inc  320984  Some-college             10   \n",
      "\n",
      "          marital.status       occupation relationship   race   sex  \\\n",
      "3000  Married-civ-spouse  Exec-managerial      Husband  White  Male   \n",
      "3001  Married-civ-spouse     Craft-repair      Husband  White  Male   \n",
      "3002  Married-civ-spouse            Sales      Husband  White  Male   \n",
      "3003  Married-civ-spouse     Craft-repair      Husband  White  Male   \n",
      "3004  Married-civ-spouse            Sales      Husband  White  Male   \n",
      "\n",
      "      capital.gain  capital.loss  hours.per.week native.country income  \n",
      "3000          5178             0              40  United-States   >50K  \n",
      "3001          5178             0              40  United-States   >50K  \n",
      "3002          5178             0              50  United-States   >50K  \n",
      "3003          5178             0              48  United-States   >50K  \n",
      "3004          5178             0              60  United-States   >50K  \n",
      "      age workclass  fnlwgt     education  education.num marital.status  \\\n",
      "4000   25   Private  176047       HS-grad              9  Never-married   \n",
      "4001   21         ?  175166  Some-college             10  Never-married   \n",
      "4002   18   Private   60981  Some-college             10  Never-married   \n",
      "4003   48   Private  189462  Some-college             10       Divorced   \n",
      "4004   27   Private  177955       5th-6th              3  Never-married   \n",
      "\n",
      "             occupation    relationship   race     sex  capital.gain  \\\n",
      "4000  Machine-op-inspct       Own-child  White  Female          2176   \n",
      "4001                  ?       Own-child  White  Female          2176   \n",
      "4002              Sales       Own-child  White  Female          2176   \n",
      "4003  Handlers-cleaners       Own-child  White    Male          2176   \n",
      "4004    Priv-house-serv  Other-relative  White  Female          2176   \n",
      "\n",
      "      capital.loss  hours.per.week native.country income  \n",
      "4000             0              40  United-States  <=50K  \n",
      "4001             0              40  United-States  <=50K  \n",
      "4002             0              35  United-States  <=50K  \n",
      "4003             0              40  United-States  <=50K  \n",
      "4004             0              40    El-Salvador  <=50K  \n",
      "      age         workclass  fnlwgt     education  education.num  \\\n",
      "5000   33      Self-emp-inc  155781  Some-college             10   \n",
      "5001   54  Self-emp-not-inc  406468       HS-grad              9   \n",
      "5002   48                 ?  144397  Some-college             10   \n",
      "5003   35  Self-emp-not-inc  372525     Bachelors             13   \n",
      "5004   28           Private  164170     Assoc-voc             11   \n",
      "\n",
      "          marital.status       occupation   relationship                race  \\\n",
      "5000  Married-civ-spouse     Craft-repair        Husband               White   \n",
      "5001  Married-civ-spouse            Sales        Husband               Black   \n",
      "5002            Divorced                ?      Unmarried               Black   \n",
      "5003       Never-married  Exec-managerial  Not-in-family               White   \n",
      "5004  Married-civ-spouse     Adm-clerical           Wife  Asian-Pac-Islander   \n",
      "\n",
      "         sex  capital.gain  capital.loss  hours.per.week native.country income  \n",
      "5000    Male             0             0              60              ?  <=50K  \n",
      "5001    Male             0             0              40  United-States  <=50K  \n",
      "5002  Female             0             0              30  United-States  <=50K  \n",
      "5003    Male             0             0              40  United-States  <=50K  \n",
      "5004  Female             0             0              40          India  <=50K  \n",
      "      age  workclass  fnlwgt education  education.num      marital.status  \\\n",
      "6000   30  Local-gov  261319   7th-8th              4  Married-civ-spouse   \n",
      "6001   34    Private  126838   HS-grad              9  Married-civ-spouse   \n",
      "6002   19    Private  354104   HS-grad              9       Never-married   \n",
      "6003   20    Private  176321      12th              8       Never-married   \n",
      "6004   47    Private   85129   HS-grad              9            Divorced   \n",
      "\n",
      "             occupation   relationship                race     sex  \\\n",
      "6000   Transport-moving        Husband               White    Male   \n",
      "6001   Transport-moving        Husband               White    Male   \n",
      "6002  Handlers-cleaners      Own-child               White    Male   \n",
      "6003       Adm-clerical      Own-child               White  Female   \n",
      "6004      Other-service  Not-in-family  Asian-Pac-Islander  Female   \n",
      "\n",
      "      capital.gain  capital.loss  hours.per.week native.country income  \n",
      "6000             0             0              40  United-States  <=50K  \n",
      "6001             0             0              40  United-States  <=50K  \n",
      "6002             0             0              30  United-States  <=50K  \n",
      "6003             0             0              40         Mexico  <=50K  \n",
      "6004             0             0              40  United-States  <=50K  \n",
      "      age workclass  fnlwgt   education  education.num      marital.status  \\\n",
      "7000   31   Private  169269     7th-8th              4       Never-married   \n",
      "7001   23         ?  123983   Bachelors             13       Never-married   \n",
      "7002   47   Private  297884        10th              6             Widowed   \n",
      "7003   59   Private   99131     HS-grad              9             Widowed   \n",
      "7004   32   Private   44392  Assoc-acdm             12  Married-civ-spouse   \n",
      "\n",
      "             occupation   relationship   race     sex  capital.gain  \\\n",
      "7000       Craft-repair      Unmarried  White    Male             0   \n",
      "7001                  ?      Own-child  Other    Male             0   \n",
      "7002  Machine-op-inspct  Not-in-family  White    Male             0   \n",
      "7003     Prof-specialty  Not-in-family  White  Female             0   \n",
      "7004  Handlers-cleaners        Husband  White    Male             0   \n",
      "\n",
      "      capital.loss  hours.per.week native.country income  \n",
      "7000             0              40  United-States  <=50K  \n",
      "7001             0              40  United-States  <=50K  \n",
      "7002             0              40  United-States  <=50K  \n",
      "7003             0              18  United-States  <=50K  \n",
      "7004             0              40  United-States  <=50K  \n",
      "      age    workclass  fnlwgt     education  education.num  \\\n",
      "8000   33      Private  184901       HS-grad              9   \n",
      "8001   28      Private   87239       HS-grad              9   \n",
      "8002   63      Private  127363  Some-college             10   \n",
      "8003   37      Private  143058          10th              6   \n",
      "8004   50  Federal-gov   36489  Some-college             10   \n",
      "\n",
      "          marital.status         occupation   relationship   race     sex  \\\n",
      "8000  Married-civ-spouse  Machine-op-inspct        Husband  White    Male   \n",
      "8001            Divorced   Transport-moving  Not-in-family  White    Male   \n",
      "8002  Married-civ-spouse     Prof-specialty           Wife  White  Female   \n",
      "8003  Married-civ-spouse       Craft-repair        Husband  White    Male   \n",
      "8004            Divorced    Exec-managerial      Unmarried  White    Male   \n",
      "\n",
      "      capital.gain  capital.loss  hours.per.week native.country income  \n",
      "8000             0             0              40  United-States   >50K  \n",
      "8001             0             0              50  United-States  <=50K  \n",
      "8002             0             0              12  United-States  <=50K  \n",
      "8003             0             0              50  United-States  <=50K  \n",
      "8004             0             0              40  United-States  <=50K  \n",
      "      age  workclass  fnlwgt   education  education.num      marital.status  \\\n",
      "9000   25    Private  139730     HS-grad              9  Married-civ-spouse   \n",
      "9001   18    Private  201901        11th              7       Never-married   \n",
      "9002   32  State-gov  230224  Assoc-acdm             12  Married-civ-spouse   \n",
      "9003   27    Private  113464     1st-4th              2       Never-married   \n",
      "9004   48    Private   94461     HS-grad              9             Widowed   \n",
      "\n",
      "             occupation   relationship   race     sex  capital.gain  \\\n",
      "9000       Craft-repair        Husband  White    Male             0   \n",
      "9001              Sales      Own-child  White  Female             0   \n",
      "9002      Other-service        Husband  White    Male             0   \n",
      "9003      Other-service      Own-child  Other    Male             0   \n",
      "9004  Machine-op-inspct  Not-in-family  White  Female             0   \n",
      "\n",
      "      capital.loss  hours.per.week      native.country income  \n",
      "9000             0              80       United-States   >50K  \n",
      "9001             0              10       United-States  <=50K  \n",
      "9002             0              35       United-States  <=50K  \n",
      "9003             0              35  Dominican-Republic  <=50K  \n",
      "9004             0              16       United-States  <=50K  \n",
      "       age         workclass  fnlwgt     education  education.num  \\\n",
      "10000   43           Private  178417     Bachelors             13   \n",
      "10001   58           Private  178644       HS-grad              9   \n",
      "10002   43  Self-emp-not-inc  271665       HS-grad              9   \n",
      "10003   37                 ?  223732  Some-college             10   \n",
      "10004   21       Federal-gov  169003          12th              8   \n",
      "\n",
      "           marital.status      occupation   relationship   race   sex  \\\n",
      "10000            Divorced  Prof-specialty  Not-in-family  White  Male   \n",
      "10001             Widowed    Craft-repair      Unmarried  White  Male   \n",
      "10002  Married-civ-spouse           Sales        Husband  White  Male   \n",
      "10003           Separated               ?      Unmarried  White  Male   \n",
      "10004       Never-married    Adm-clerical      Own-child  Black  Male   \n",
      "\n",
      "       capital.gain  capital.loss  hours.per.week native.country income  \n",
      "10000             0             0              40  United-States  <=50K  \n",
      "10001             0             0              40  United-States  <=50K  \n",
      "10002             0             0              45  United-States  <=50K  \n",
      "10003             0             0              40  United-States  <=50K  \n",
      "10004             0             0              25  United-States  <=50K  \n",
      "       age         workclass  fnlwgt     education  education.num  \\\n",
      "11000   26  Self-emp-not-inc  281678     Assoc-voc             11   \n",
      "11001   24                 ?  377725     Bachelors             13   \n",
      "11002   32           Private  151053       HS-grad              9   \n",
      "11003   49         Local-gov  186539       Masters             14   \n",
      "11004   20                 ?  149478  Some-college             10   \n",
      "\n",
      "           marital.status         occupation    relationship   race     sex  \\\n",
      "11000  Married-civ-spouse    Farming-fishing         Husband  White    Male   \n",
      "11001       Never-married                  ?   Not-in-family  White  Female   \n",
      "11002  Married-civ-spouse  Handlers-cleaners         Husband  White    Male   \n",
      "11003  Married-civ-spouse    Protective-serv         Husband  White    Male   \n",
      "11004       Never-married                  ?  Other-relative  White  Female   \n",
      "\n",
      "       capital.gain  capital.loss  hours.per.week native.country income  \n",
      "11000             0             0              55  United-States  <=50K  \n",
      "11001             0             0              40  United-States  <=50K  \n",
      "11002             0             0              40  United-States   >50K  \n",
      "11003             0             0              40  United-States   >50K  \n",
      "11004             0             0              25  United-States  <=50K  \n",
      "       age workclass  fnlwgt     education  education.num      marital.status  \\\n",
      "12000   30   Private  167476  Some-college             10            Divorced   \n",
      "12001   40   Private  221172    Assoc-acdm             12  Married-civ-spouse   \n",
      "12002   27         ?  188711  Some-college             10            Divorced   \n",
      "12003   49   Private  199448     Assoc-voc             11            Divorced   \n",
      "12004   30   Private  313038       HS-grad              9       Never-married   \n",
      "\n",
      "              occupation   relationship   race     sex  capital.gain  \\\n",
      "12000  Machine-op-inspct  Not-in-family  White    Male             0   \n",
      "12001    Exec-managerial        Husband  White    Male             0   \n",
      "12002                  ?  Not-in-family  White    Male             0   \n",
      "12003              Sales      Unmarried  White  Female             0   \n",
      "12004       Craft-repair  Not-in-family  White    Male             0   \n",
      "\n",
      "       capital.loss  hours.per.week native.country income  \n",
      "12000             0              50  United-States  <=50K  \n",
      "12001             0              50  United-States   >50K  \n",
      "12002             0              30  United-States  <=50K  \n",
      "12003             0              40  United-States  <=50K  \n",
      "12004             0              40  United-States  <=50K  \n",
      "       age workclass  fnlwgt     education  education.num      marital.status  \\\n",
      "13000   62   Private   57970       7th-8th              4            Divorced   \n",
      "13001   35   Private  208378          12th              8           Separated   \n",
      "13002   39   Private   61343          10th              6  Married-civ-spouse   \n",
      "13003   24   Private  283872  Some-college             10       Never-married   \n",
      "13004   58   Private  225603           9th              5            Divorced   \n",
      "\n",
      "              occupation   relationship   race     sex  capital.gain  \\\n",
      "13000  Handlers-cleaners  Not-in-family  White    Male             0   \n",
      "13001  Machine-op-inspct      Unmarried  White  Female             0   \n",
      "13002  Machine-op-inspct        Husband  White    Male             0   \n",
      "13003       Adm-clerical  Not-in-family  Black    Male             0   \n",
      "13004    Farming-fishing  Not-in-family  Black    Male             0   \n",
      "\n",
      "       capital.loss  hours.per.week native.country income  \n",
      "13000             0              40  United-States  <=50K  \n",
      "13001             0              40  United-States  <=50K  \n",
      "13002             0              60  United-States  <=50K  \n",
      "13003             0              20  United-States  <=50K  \n",
      "13004             0              40  United-States  <=50K  \n",
      "       age         workclass  fnlwgt     education  education.num  \\\n",
      "14000   30           Private  185177          11th              7   \n",
      "14001   84      Self-emp-inc  172907  Some-college             10   \n",
      "14002   35  Self-emp-not-inc  308874       HS-grad              9   \n",
      "14003   45  Self-emp-not-inc   54098     Assoc-voc             11   \n",
      "14004   46           Private  288608       HS-grad              9   \n",
      "\n",
      "           marital.status         occupation   relationship   race   sex  \\\n",
      "14000       Never-married  Handlers-cleaners      Own-child  White  Male   \n",
      "14001  Married-civ-spouse              Sales        Husband  White  Male   \n",
      "14002       Never-married       Craft-repair  Not-in-family  Black  Male   \n",
      "14003  Married-civ-spouse    Farming-fishing        Husband  White  Male   \n",
      "14004       Never-married       Craft-repair      Own-child  White  Male   \n",
      "\n",
      "       capital.gain  capital.loss  hours.per.week native.country income  \n",
      "14000             0             0              49  United-States  <=50K  \n",
      "14001             0             0              35  United-States   >50K  \n",
      "14002             0             0              40  United-States  <=50K  \n",
      "14003             0             0              50  United-States   >50K  \n",
      "14004             0             0              40  United-States  <=50K  \n",
      "       age  workclass  fnlwgt     education  education.num marital.status  \\\n",
      "15000   29    Private  192010     Bachelors             13  Never-married   \n",
      "15001   28  Local-gov  356089     Bachelors             13  Never-married   \n",
      "15002   34    Private  684015       5th-6th              3  Never-married   \n",
      "15003   18    Private   36882       HS-grad              9  Never-married   \n",
      "15004   39    Private  203180  Some-college             10       Divorced   \n",
      "\n",
      "              occupation    relationship   race     sex  capital.gain  \\\n",
      "15000     Prof-specialty   Not-in-family  White  Female             0   \n",
      "15001     Prof-specialty  Other-relative  White    Male             0   \n",
      "15002  Handlers-cleaners       Own-child  White    Male             0   \n",
      "15003       Adm-clerical       Own-child  White  Female             0   \n",
      "15004    Farming-fishing       Unmarried  White  Female             0   \n",
      "\n",
      "       capital.loss  hours.per.week native.country income  \n",
      "15000             0              60         Poland  <=50K  \n",
      "15001             0              50  United-States  <=50K  \n",
      "15002             0              40    El-Salvador  <=50K  \n",
      "15003             0              20  United-States  <=50K  \n",
      "15004             0              45  United-States  <=50K  \n",
      "       age         workclass  fnlwgt     education  education.num  \\\n",
      "16000   39  Self-emp-not-inc  190023     Bachelors             13   \n",
      "16001   33           Private  168782     Assoc-voc             11   \n",
      "16002   59           Private  175290       7th-8th              4   \n",
      "16003   74           Private  145463       1st-4th              2   \n",
      "16004   54           Private  159755  Some-college             10   \n",
      "\n",
      "           marital.status       occupation    relationship   race     sex  \\\n",
      "16000  Married-civ-spouse            Sales         Husband  White    Male   \n",
      "16001       Never-married     Craft-repair       Unmarried  White    Male   \n",
      "16002       Never-married    Other-service  Other-relative  White    Male   \n",
      "16003             Widowed  Priv-house-serv   Not-in-family  Black  Female   \n",
      "16004  Married-civ-spouse  Protective-serv         Husband  White    Male   \n",
      "\n",
      "       capital.gain  capital.loss  hours.per.week native.country income  \n",
      "16000             0             0              60  United-States  <=50K  \n",
      "16001             0             0              40  United-States  <=50K  \n",
      "16002             0             0              32  United-States  <=50K  \n",
      "16003             0             0              15  United-States  <=50K  \n",
      "16004             0             0              40  United-States   >50K  \n",
      "       age workclass  fnlwgt     education  education.num      marital.status  \\\n",
      "17000   30   Private  185027     Bachelors             13  Married-civ-spouse   \n",
      "17001   31   Private  182539  Some-college             10       Never-married   \n",
      "17002   22   Private  215395       HS-grad              9       Never-married   \n",
      "17003   37   Private  186434       HS-grad              9  Married-civ-spouse   \n",
      "17004   41         ?  217921           9th              5  Married-civ-spouse   \n",
      "\n",
      "             occupation   relationship                race     sex  \\\n",
      "17000    Prof-specialty        Husband               White    Male   \n",
      "17001      Adm-clerical  Not-in-family               White  Female   \n",
      "17002  Transport-moving  Not-in-family               White    Male   \n",
      "17003     Other-service        Husband               Black    Male   \n",
      "17004                 ?           Wife  Asian-Pac-Islander  Female   \n",
      "\n",
      "       capital.gain  capital.loss  hours.per.week native.country income  \n",
      "17000             0             0              40  United-States   >50K  \n",
      "17001             0             0              45  United-States  <=50K  \n",
      "17002             0             0              37  United-States  <=50K  \n",
      "17003             0             0              40  United-States   >50K  \n",
      "17004             0             0              40           Hong  <=50K  \n",
      "       age workclass  fnlwgt     education  education.num      marital.status  \\\n",
      "18000   55   Private  368727  Some-college             10            Divorced   \n",
      "18001   23   Private  353696       HS-grad              9       Never-married   \n",
      "18002   27   Private  110931       HS-grad              9  Married-civ-spouse   \n",
      "18003   24   Private  169532    Assoc-acdm             12       Never-married   \n",
      "18004   21   Private  285522  Some-college             10       Never-married   \n",
      "\n",
      "            occupation   relationship   race     sex  capital.gain  \\\n",
      "18000     Craft-repair  Not-in-family  White    Male             0   \n",
      "18001  Farming-fishing      Own-child  White    Male             0   \n",
      "18002     Adm-clerical        Husband  White    Male             0   \n",
      "18003     Adm-clerical      Own-child  White  Female             0   \n",
      "18004     Craft-repair  Not-in-family  White    Male             0   \n",
      "\n",
      "       capital.loss  hours.per.week native.country income  \n",
      "18000             0              40  United-States  <=50K  \n",
      "18001             0              40  United-States  <=50K  \n",
      "18002             0              40  United-States  <=50K  \n",
      "18003             0              15  United-States  <=50K  \n",
      "18004             0              40  United-States  <=50K  \n",
      "       age  workclass  fnlwgt     education  education.num  \\\n",
      "19000   26    Private  105059           9th              5   \n",
      "19001   34    Private  342709       Masters             14   \n",
      "19002   51    Private   53838     Bachelors             13   \n",
      "19003   45  Local-gov  209482       Masters             14   \n",
      "19004   44    Private  214242  Some-college             10   \n",
      "\n",
      "           marital.status         occupation relationship   race     sex  \\\n",
      "19000  Married-civ-spouse       Craft-repair      Husband  White    Male   \n",
      "19001  Married-civ-spouse    Exec-managerial      Husband  White    Male   \n",
      "19002  Married-civ-spouse  Handlers-cleaners      Husband  White    Male   \n",
      "19003  Married-civ-spouse     Prof-specialty         Wife  White  Female   \n",
      "19004  Married-civ-spouse   Transport-moving      Husband  White    Male   \n",
      "\n",
      "       capital.gain  capital.loss  hours.per.week native.country income  \n",
      "19000             0             0              20  United-States  <=50K  \n",
      "19001             0             0              40  United-States  <=50K  \n",
      "19002             0             0              40  United-States  <=50K  \n",
      "19003             0             0              45  United-States   >50K  \n",
      "19004             0             0              50  United-States   >50K  \n",
      "       age         workclass  fnlwgt     education  education.num  \\\n",
      "20000   36           Private  159016       HS-grad              9   \n",
      "20001   37           Private  183800     Bachelors             13   \n",
      "20002   58  Self-emp-not-inc  193434       HS-grad              9   \n",
      "20003   26           Private  245029     Bachelors             13   \n",
      "20004   55           Private   98746  Some-college             10   \n",
      "\n",
      "           marital.status         occupation   relationship   race     sex  \\\n",
      "20000  Married-civ-spouse  Machine-op-inspct        Husband  White    Male   \n",
      "20001  Married-civ-spouse    Exec-managerial        Husband  White    Male   \n",
      "20002  Married-civ-spouse       Craft-repair        Husband  White    Male   \n",
      "20003       Never-married       Adm-clerical  Not-in-family  Black  Female   \n",
      "20004  Married-civ-spouse       Tech-support        Husband  White    Male   \n",
      "\n",
      "       capital.gain  capital.loss  hours.per.week native.country income  \n",
      "20000             0             0              38  United-States  <=50K  \n",
      "20001             0             0              40  United-States   >50K  \n",
      "20002             0             0              20  United-States  <=50K  \n",
      "20003             0             0              40  United-States  <=50K  \n",
      "20004             0             0              50         Canada   >50K  \n",
      "       age  workclass  fnlwgt  education  education.num      marital.status  \\\n",
      "21000   29    Private  251694  Bachelors             13       Never-married   \n",
      "21001   22    Private  268145  Bachelors             13       Never-married   \n",
      "21002   56    Private  104842  Bachelors             13            Divorced   \n",
      "21003   60  Local-gov  227332    Masters             14  Married-civ-spouse   \n",
      "21004   53    Private  133436    7th-8th              4            Divorced   \n",
      "\n",
      "              occupation   relationship   race     sex  capital.gain  \\\n",
      "21000    Farming-fishing      Own-child  White    Male             0   \n",
      "21001              Sales  Not-in-family  White  Female             0   \n",
      "21002     Prof-specialty      Unmarried  Black  Female             0   \n",
      "21003    Exec-managerial        Husband  White    Male             0   \n",
      "21004  Machine-op-inspct  Not-in-family  White  Female             0   \n",
      "\n",
      "       capital.loss  hours.per.week native.country income  \n",
      "21000             0              50  United-States  <=50K  \n",
      "21001             0              40  United-States  <=50K  \n",
      "21002             0              50          Haiti  <=50K  \n",
      "21003             0              40  United-States   >50K  \n",
      "21004             0              40  United-States  <=50K  \n",
      "       age         workclass  fnlwgt    education  education.num  \\\n",
      "22000   48  Self-emp-not-inc  246891  Prof-school             15   \n",
      "22001   70      Self-emp-inc  243436          9th              5   \n",
      "22002   44         Local-gov   68318      Masters             14   \n",
      "22003   58           Private   56331    Bachelors             13   \n",
      "22004   41           Private  190591   Assoc-acdm             12   \n",
      "\n",
      "           marital.status       occupation   relationship   race     sex  \\\n",
      "22000  Married-civ-spouse     Craft-repair        Husband  White    Male   \n",
      "22001            Divorced            Sales  Not-in-family  White    Male   \n",
      "22002       Never-married   Prof-specialty      Own-child  White  Female   \n",
      "22003  Married-civ-spouse            Sales        Husband  White    Male   \n",
      "22004            Divorced  Exec-managerial  Not-in-family  Black  Female   \n",
      "\n",
      "       capital.gain  capital.loss  hours.per.week native.country income  \n",
      "22000             0             0              60  United-States  <=50K  \n",
      "22001             0             0              45  United-States  <=50K  \n",
      "22002             0             0              55  United-States  <=50K  \n",
      "22003             0             0              40  United-States  <=50K  \n",
      "22004             0             0              40        Jamaica  <=50K  \n",
      "       age  workclass  fnlwgt   education  education.num      marital.status  \\\n",
      "23000   28    Private  202239     7th-8th              4  Married-civ-spouse   \n",
      "23001   39  Local-gov  164156  Assoc-acdm             12            Divorced   \n",
      "23002   59    Private  196482     HS-grad              9             Widowed   \n",
      "23003   31    Private  176185     Masters             14  Married-civ-spouse   \n",
      "23004   34    Private  287315     HS-grad              9            Divorced   \n",
      "\n",
      "              occupation   relationship   race     sex  capital.gain  \\\n",
      "23000     Prof-specialty        Husband  White    Male             0   \n",
      "23001      Other-service      Unmarried  White  Female             0   \n",
      "23002       Adm-clerical      Unmarried  White  Female             0   \n",
      "23003    Exec-managerial        Husband  White    Male             0   \n",
      "23004  Machine-op-inspct  Not-in-family  White    Male             0   \n",
      "\n",
      "       capital.loss  hours.per.week native.country income  \n",
      "23000             0              55  United-States  <=50K  \n",
      "23001             0              55  United-States  <=50K  \n",
      "23002             0              40  United-States  <=50K  \n",
      "23003             0              60         France   >50K  \n",
      "23004             0              40  United-States  <=50K  \n",
      "       age workclass  fnlwgt     education  education.num      marital.status  \\\n",
      "24000   33   Private  226267       7th-8th              4       Never-married   \n",
      "24001   19   Private  111232          12th              8       Never-married   \n",
      "24002   26   Private  212748       HS-grad              9  Married-civ-spouse   \n",
      "24003   23   Private  110677  Some-college             10       Never-married   \n",
      "24004   24   Private  306779  Some-college             10       Never-married   \n",
      "\n",
      "             occupation   relationship   race     sex  capital.gain  \\\n",
      "24000             Sales  Not-in-family  White    Male             0   \n",
      "24001  Transport-moving      Own-child  White    Male             0   \n",
      "24002  Transport-moving        Husband  White    Male             0   \n",
      "24003     Other-service      Own-child  White  Female             0   \n",
      "24004             Sales  Not-in-family  White    Male             0   \n",
      "\n",
      "       capital.loss  hours.per.week native.country income  \n",
      "24000             0              43         Mexico  <=50K  \n",
      "24001             0              15  United-States  <=50K  \n",
      "24002             0              40  United-States  <=50K  \n",
      "24003             0              15  United-States  <=50K  \n",
      "24004             0              65  United-States  <=50K  \n",
      "       age         workclass  fnlwgt  education  education.num  \\\n",
      "25000   27           Private   90692  Assoc-voc             11   \n",
      "25001   51           Private   57101        9th              5   \n",
      "25002   49           Private  236913    HS-grad              9   \n",
      "25003   64  Self-emp-not-inc  388625       10th              6   \n",
      "25004   54  Self-emp-not-inc  261207    7th-8th              4   \n",
      "\n",
      "           marital.status        occupation   relationship  \\\n",
      "25000       Never-married     Other-service  Not-in-family   \n",
      "25001  Married-civ-spouse      Craft-repair        Husband   \n",
      "25002             Widowed     Other-service  Not-in-family   \n",
      "25003  Married-civ-spouse    Prof-specialty        Husband   \n",
      "25004            Divorced  Transport-moving  Not-in-family   \n",
      "\n",
      "                     race     sex  capital.gain  capital.loss  hours.per.week  \\\n",
      "25000  Asian-Pac-Islander  Female             0             0              40   \n",
      "25001               White    Male             0             0              40   \n",
      "25002               White  Female             0             0              45   \n",
      "25003               White    Male             0             0              10   \n",
      "25004               White    Male             0             0              45   \n",
      "\n",
      "      native.country income  \n",
      "25000    Philippines  <=50K  \n",
      "25001  United-States  <=50K  \n",
      "25002  United-States  <=50K  \n",
      "25003  United-States   >50K  \n",
      "25004           Cuba  <=50K  \n",
      "       age workclass  fnlwgt     education  education.num  \\\n",
      "26000   20   Private  197997  Some-college             10   \n",
      "26001   46   Private   98350          10th              6   \n",
      "26002   39   Private  165848       HS-grad              9   \n",
      "26003   34   Private  178615       HS-grad              9   \n",
      "26004   19   Private  228939       HS-grad              9   \n",
      "\n",
      "              marital.status         occupation   relationship  \\\n",
      "26000          Never-married     Prof-specialty      Own-child   \n",
      "26001  Married-spouse-absent      Other-service  Not-in-family   \n",
      "26002     Married-civ-spouse              Sales        Husband   \n",
      "26003          Never-married  Handlers-cleaners  Not-in-family   \n",
      "26004          Never-married  Handlers-cleaners      Own-child   \n",
      "\n",
      "                     race   sex  capital.gain  capital.loss  hours.per.week  \\\n",
      "26000               White  Male             0             0              40   \n",
      "26001  Asian-Pac-Islander  Male             0             0              37   \n",
      "26002               White  Male             0             0              50   \n",
      "26003               White  Male             0             0              40   \n",
      "26004               White  Male             0             0              35   \n",
      "\n",
      "      native.country income  \n",
      "26000  United-States  <=50K  \n",
      "26001          China  <=50K  \n",
      "26002  United-States  <=50K  \n",
      "26003  United-States  <=50K  \n",
      "26004  United-States  <=50K  \n",
      "       age  workclass  fnlwgt     education  education.num  \\\n",
      "27000   61    Private  105384     Bachelors             13   \n",
      "27001   24    Private  137591  Some-college             10   \n",
      "27002   49  State-gov  324791     Bachelors             13   \n",
      "27003   25    Private  184303  Some-college             10   \n",
      "27004   66          ?  314347       HS-grad              9   \n",
      "\n",
      "           marital.status       occupation    relationship   race     sex  \\\n",
      "27000  Married-civ-spouse   Prof-specialty         Husband  White    Male   \n",
      "27001       Never-married            Sales       Own-child  White    Male   \n",
      "27002  Married-civ-spouse   Prof-specialty         Husband  White    Male   \n",
      "27003           Separated  Priv-house-serv  Other-relative  White  Female   \n",
      "27004  Married-civ-spouse                ?         Husband  Black    Male   \n",
      "\n",
      "       capital.gain  capital.loss  hours.per.week native.country income  \n",
      "27000             0             0              40  United-States  <=50K  \n",
      "27001             0             0              10         Greece  <=50K  \n",
      "27002             0             0              50  United-States   >50K  \n",
      "27003             0             0              30    El-Salvador  <=50K  \n",
      "27004             0             0              40  United-States  <=50K  \n",
      "       age         workclass  fnlwgt  education  education.num  \\\n",
      "28000   43  Self-emp-not-inc  180985  Bachelors             13   \n",
      "28001   24           Private  148709    HS-grad              9   \n",
      "28002   22                 ?  174626    7th-8th              4   \n",
      "28003   38           Private  184801  Bachelors             13   \n",
      "28004   52           Private   89054    HS-grad              9   \n",
      "\n",
      "           marital.status     occupation   relationship   race     sex  \\\n",
      "28000           Separated   Craft-repair      Unmarried  White    Male   \n",
      "28001       Never-married  Other-service  Not-in-family  White  Female   \n",
      "28002       Never-married              ?      Own-child  White    Male   \n",
      "28003  Married-civ-spouse          Sales        Husband  White    Male   \n",
      "28004  Married-civ-spouse   Craft-repair        Husband  White    Male   \n",
      "\n",
      "       capital.gain  capital.loss  hours.per.week native.country income  \n",
      "28000             0             0              35  United-States  <=50K  \n",
      "28001             0             0              40  United-States  <=50K  \n",
      "28002             0             0              40  United-States  <=50K  \n",
      "28003             0             0              60  United-States   >50K  \n",
      "28004             0             0              40  United-States  <=50K  \n",
      "       age  workclass  fnlwgt     education  education.num  \\\n",
      "29000   37  Local-gov  272471       HS-grad              9   \n",
      "29001   32    Private  311524       HS-grad              9   \n",
      "29002   18    Private  151386       HS-grad              9   \n",
      "29003   35    Private  187625  Some-college             10   \n",
      "29004   43    Private  169383     Bachelors             13   \n",
      "\n",
      "              marital.status       occupation   relationship   race     sex  \\\n",
      "29000               Divorced     Adm-clerical      Unmarried  White  Female   \n",
      "29001          Never-married     Craft-repair      Own-child  Black    Male   \n",
      "29002  Married-spouse-absent    Other-service      Own-child  Black    Male   \n",
      "29003          Never-married    Other-service  Not-in-family  White  Female   \n",
      "29004     Married-civ-spouse  Exec-managerial        Husband  White    Male   \n",
      "\n",
      "       capital.gain  capital.loss  hours.per.week native.country income  \n",
      "29000             0             0              40  United-States  <=50K  \n",
      "29001             0             0              38  United-States  <=50K  \n",
      "29002             0             0              40        Jamaica  <=50K  \n",
      "29003             0             0              65  United-States  <=50K  \n",
      "29004             0             0              45  United-States   >50K  \n",
      "       age workclass  fnlwgt     education  education.num      marital.status  \\\n",
      "30000   18   Private  122775       HS-grad              9       Never-married   \n",
      "30001   30   Private  329425  Some-college             10       Never-married   \n",
      "30002   61   Private  178312    Assoc-acdm             12  Married-civ-spouse   \n",
      "30003   21   Private  241951       HS-grad              9       Never-married   \n",
      "30004   53   Private  130143       HS-grad              9  Married-civ-spouse   \n",
      "\n",
      "              occupation   relationship   race   sex  capital.gain  \\\n",
      "30000      Other-service      Own-child  White  Male             0   \n",
      "30001    Protective-serv      Own-child  White  Male             0   \n",
      "30002    Exec-managerial        Husband  White  Male             0   \n",
      "30003  Machine-op-inspct  Not-in-family  White  Male             0   \n",
      "30004  Machine-op-inspct        Husband  White  Male             0   \n",
      "\n",
      "       capital.loss  hours.per.week native.country income  \n",
      "30000             0              35  United-States  <=50K  \n",
      "30001             0              48  United-States  <=50K  \n",
      "30002             0              42  United-States  <=50K  \n",
      "30003             0              45  United-States  <=50K  \n",
      "30004             0              48  United-States  <=50K  \n",
      "       age         workclass  fnlwgt     education  education.num  \\\n",
      "31000   17                 ?  219277          11th              7   \n",
      "31001   19           Private   45381  Some-college             10   \n",
      "31002   38           Private  167482  Some-college             10   \n",
      "31003   60           Private  225014       HS-grad              9   \n",
      "31004   29  Self-emp-not-inc  405083       HS-grad              9   \n",
      "\n",
      "           marital.status     occupation   relationship   race     sex  \\\n",
      "31000       Never-married              ?      Own-child  White  Female   \n",
      "31001       Never-married   Adm-clerical      Own-child  White  Female   \n",
      "31002  Married-civ-spouse   Craft-repair        Husband  White    Male   \n",
      "31003            Divorced  Other-service  Not-in-family  White  Female   \n",
      "31004       Never-married          Sales  Not-in-family  White    Male   \n",
      "\n",
      "       capital.gain  capital.loss  hours.per.week native.country income  \n",
      "31000             0             0              20  United-States  <=50K  \n",
      "31001             0             0               8  United-States  <=50K  \n",
      "31002             0             0              52  United-States   >50K  \n",
      "31003             0             0              40  United-States  <=50K  \n",
      "31004             0             0              40  United-States  <=50K  \n",
      "       age    workclass  fnlwgt     education  education.num  \\\n",
      "32000   32      Private  173998  Some-college             10   \n",
      "32001   25      Private   90752     Bachelors             13   \n",
      "32002   55      Private   51008       HS-grad              9   \n",
      "32003   55  Federal-gov  113398  Some-college             10   \n",
      "32004   25      Private   74977  Some-college             10   \n",
      "\n",
      "           marital.status    occupation   relationship   race     sex  \\\n",
      "32000       Never-married  Adm-clerical  Not-in-family  White  Female   \n",
      "32001  Married-civ-spouse  Adm-clerical           Wife  White  Female   \n",
      "32002            Divorced  Adm-clerical      Unmarried  White  Female   \n",
      "32003       Never-married  Adm-clerical      Unmarried  White    Male   \n",
      "32004  Married-civ-spouse  Adm-clerical           Wife  White  Female   \n",
      "\n",
      "       capital.gain  capital.loss  hours.per.week native.country income  \n",
      "32000             0             0              60  United-States  <=50K  \n",
      "32001             0             0              40  United-States  <=50K  \n",
      "32002             0             0              40  United-States  <=50K  \n",
      "32003             0             0              40  United-States  <=50K  \n",
      "32004             0             0              40  United-States  <=50K  \n"
     ]
    }
   ],
   "source": [
    "# Do not process each chunk\n",
    "for chunk in reader:\n",
    "   print(chunk.head()) # Print first 5 lines of the chunk"
   ]
  },
  {
   "cell_type": "markdown",
   "metadata": {},
   "source": [
    "**Processing by Combining Parts** Combining a file read in parts and performing bulk processing on it:"
   ]
  },
  {
   "cell_type": "code",
   "execution_count": 80,
   "metadata": {},
   "outputs": [
    {
     "name": "stdout",
     "output_type": "stream",
     "text": [
      "   age workclass  fnlwgt     education  education.num marital.status  \\\n",
      "0   90         ?   77053       HS-grad              9        Widowed   \n",
      "1   82   Private  132870       HS-grad              9        Widowed   \n",
      "2   66         ?  186061  Some-college             10        Widowed   \n",
      "3   54   Private  140359       7th-8th              4       Divorced   \n",
      "4   41   Private  264663  Some-college             10      Separated   \n",
      "\n",
      "          occupation   relationship   race     sex  capital.gain  \\\n",
      "0                  ?  Not-in-family  White  Female             0   \n",
      "1    Exec-managerial  Not-in-family  White  Female             0   \n",
      "2                  ?      Unmarried  Black  Female             0   \n",
      "3  Machine-op-inspct      Unmarried  White  Female             0   \n",
      "4     Prof-specialty      Own-child  White  Female             0   \n",
      "\n",
      "   capital.loss  hours.per.week native.country income  \n",
      "0          4356              40  United-States  <=50K  \n",
      "1          4356              18  United-States  <=50K  \n",
      "2          4356              40  United-States  <=50K  \n",
      "3          3900              40  United-States  <=50K  \n",
      "4          3900              40  United-States  <=50K  \n"
     ]
    }
   ],
   "source": [
    "# List to merge chunks\n",
    "chunk_list = []\n",
    "\n",
    "# Read chunks and merge\n",
    "for chunk in pd.read_csv('adult.csv', chunksize=500):\n",
    "   chunk_list.append(chunk)\n",
    "\n",
    "# Merge all chunks\n",
    "full_data = pd.concat(chunk_list)\n",
    "print(full_data.head())"
   ]
  },
  {
   "cell_type": "markdown",
   "metadata": {},
   "source": [
    "**CSV Files**\n",
    "\n",
    "Read: read_csv()\n",
    "Write: to_csv()"
   ]
  },
  {
   "cell_type": "code",
   "execution_count": 81,
   "metadata": {},
   "outputs": [],
   "source": [
    "# Read CSV file\n",
    "csv_data = pd.read_csv('adult.csv')\n",
    "\n",
    "# Write to CSV file\n",
    "csv_data.to_csv('output_adult.csv', index=False)"
   ]
  },
  {
   "cell_type": "markdown",
   "metadata": {},
   "source": [
    "Reading Excel Files (read_excel)"
   ]
  },
  {
   "cell_type": "code",
   "execution_count": null,
   "metadata": {},
   "outputs": [],
   "source": [
    "file_name = 'adult.xlsx'\n",
    "data = pd.read_excel(file_name)"
   ]
  },
  {
   "cell_type": "markdown",
   "metadata": {},
   "source": [
    "**JSON Files**\n",
    "\n",
    "Read: read_json()\n",
    "Write: to_json()"
   ]
  },
  {
   "cell_type": "code",
   "execution_count": null,
   "metadata": {},
   "outputs": [],
   "source": [
    "# Reading the JSON file\n",
    "json_data = pd.read_json('adult.json')\n",
    "\n",
    "# Writing to JSON file\n",
    "json_data.to_json('output_adult.json', orient='records')"
   ]
  },
  {
   "cell_type": "markdown",
   "metadata": {},
   "source": [
    "**SQL Databases**\n",
    "\n",
    "Pandas uses libraries like sqlite3 or SQLAlchemy to work with SQL databases."
   ]
  },
  {
   "cell_type": "code",
   "execution_count": null,
   "metadata": {},
   "outputs": [],
   "source": [
    "import sqlite3\n",
    "\n",
    "# Create SQLite connection\n",
    "conn = sqlite3.connect('adult.db')\n",
    "\n",
    "# Reading from database\n",
    "sql_data = pd.read_sql_query('SELECT * FROM employees', conn)\n",
    "\n",
    "# Write DataFrame to SQL\n",
    "data.to_sql('employees', conn, if_exists='replace', index=False)\n"
   ]
  },
  {
   "cell_type": "markdown",
   "metadata": {},
   "source": [
    "### 15.Performance and Memory Management\n",
    "\n",
    "Pandas is quite powerful for small and medium data sets. However, optimization techniques and alternative libraries can be used to improve performance and reduce memory consumption when working with large data sets.\n",
    "\n"
   ]
  },
  {
   "cell_type": "markdown",
   "metadata": {},
   "source": [
    "**Pandas Optimization Techniques**\n",
    "\n",
    "Providing Memory Efficiency\n",
    "\n",
    "Optimizing Data Types: Default data types can consume a lot of memory. It is important to use appropriate data types to reduce the size of the data."
   ]
  },
  {
   "cell_type": "code",
   "execution_count": 82,
   "metadata": {},
   "outputs": [
    {
     "name": "stdout",
     "output_type": "stream",
     "text": [
      "Default memory usage: 0.23 MB\n",
      "Memory usage after conversion: 0.09 MB\n"
     ]
    }
   ],
   "source": [
    "import pandas as pd\n",
    "\n",
    "# Sample dataset\n",
    "data = pd.DataFrame({\n",
    "   'ID': range(1, 10001),\n",
    "   'Age': [25] * 10000,\n",
    "   'Salary': [5000.50] * 10000\n",
    "})\n",
    "\n",
    "# Default memory usage\n",
    "print(f\"Default memory usage: {data.memory_usage(deep=True).sum() / 1024**2:.2f} MB\")\n",
    "\n",
    "# Reduce memory consumption by doing type conversion\n",
    "data['ID'] = data['ID'].astype('int32')\n",
    "data['Age'] = data['Age'].astype('int8')\n",
    "data['Salary'] = data['Salary'].astype('float32')\n",
    "\n",
    "# Memory after conversion usage\n",
    "print(f\"Memory usage after conversion: {data.memory_usage(deep=True).sum() / 1024**2:.2f} MB\")"
   ]
  },
  {
   "cell_type": "markdown",
   "metadata": {},
   "source": [
    "**Remove Unnecessary Columns and Rows**\n",
    "\n",
    "Removing columns and rows that will not be used in the analysis to reduce the size of the dataset optimizes memory and processing speed."
   ]
  },
  {
   "cell_type": "code",
   "execution_count": 83,
   "metadata": {},
   "outputs": [
    {
     "data": {
      "text/html": [
       "<div>\n",
       "<style scoped>\n",
       "    .dataframe tbody tr th:only-of-type {\n",
       "        vertical-align: middle;\n",
       "    }\n",
       "\n",
       "    .dataframe tbody tr th {\n",
       "        vertical-align: top;\n",
       "    }\n",
       "\n",
       "    .dataframe thead th {\n",
       "        text-align: right;\n",
       "    }\n",
       "</style>\n",
       "<table border=\"1\" class=\"dataframe\">\n",
       "  <thead>\n",
       "    <tr style=\"text-align: right;\">\n",
       "      <th></th>\n",
       "      <th>ID</th>\n",
       "      <th>Age</th>\n",
       "      <th>Salary</th>\n",
       "    </tr>\n",
       "  </thead>\n",
       "  <tbody>\n",
       "    <tr>\n",
       "      <th>0</th>\n",
       "      <td>1</td>\n",
       "      <td>25</td>\n",
       "      <td>5000.5</td>\n",
       "    </tr>\n",
       "    <tr>\n",
       "      <th>1</th>\n",
       "      <td>2</td>\n",
       "      <td>25</td>\n",
       "      <td>5000.5</td>\n",
       "    </tr>\n",
       "    <tr>\n",
       "      <th>2</th>\n",
       "      <td>3</td>\n",
       "      <td>25</td>\n",
       "      <td>5000.5</td>\n",
       "    </tr>\n",
       "    <tr>\n",
       "      <th>3</th>\n",
       "      <td>4</td>\n",
       "      <td>25</td>\n",
       "      <td>5000.5</td>\n",
       "    </tr>\n",
       "    <tr>\n",
       "      <th>4</th>\n",
       "      <td>5</td>\n",
       "      <td>25</td>\n",
       "      <td>5000.5</td>\n",
       "    </tr>\n",
       "    <tr>\n",
       "      <th>...</th>\n",
       "      <td>...</td>\n",
       "      <td>...</td>\n",
       "      <td>...</td>\n",
       "    </tr>\n",
       "    <tr>\n",
       "      <th>9995</th>\n",
       "      <td>9996</td>\n",
       "      <td>25</td>\n",
       "      <td>5000.5</td>\n",
       "    </tr>\n",
       "    <tr>\n",
       "      <th>9996</th>\n",
       "      <td>9997</td>\n",
       "      <td>25</td>\n",
       "      <td>5000.5</td>\n",
       "    </tr>\n",
       "    <tr>\n",
       "      <th>9997</th>\n",
       "      <td>9998</td>\n",
       "      <td>25</td>\n",
       "      <td>5000.5</td>\n",
       "    </tr>\n",
       "    <tr>\n",
       "      <th>9998</th>\n",
       "      <td>9999</td>\n",
       "      <td>25</td>\n",
       "      <td>5000.5</td>\n",
       "    </tr>\n",
       "    <tr>\n",
       "      <th>9999</th>\n",
       "      <td>10000</td>\n",
       "      <td>25</td>\n",
       "      <td>5000.5</td>\n",
       "    </tr>\n",
       "  </tbody>\n",
       "</table>\n",
       "<p>10000 rows × 3 columns</p>\n",
       "</div>"
      ],
      "text/plain": [
       "         ID  Age  Salary\n",
       "0         1   25  5000.5\n",
       "1         2   25  5000.5\n",
       "2         3   25  5000.5\n",
       "3         4   25  5000.5\n",
       "4         5   25  5000.5\n",
       "...     ...  ...     ...\n",
       "9995   9996   25  5000.5\n",
       "9996   9997   25  5000.5\n",
       "9997   9998   25  5000.5\n",
       "9998   9999   25  5000.5\n",
       "9999  10000   25  5000.5\n",
       "\n",
       "[10000 rows x 3 columns]"
      ]
     },
     "execution_count": 83,
     "metadata": {},
     "output_type": "execute_result"
    }
   ],
   "source": [
    "data"
   ]
  },
  {
   "cell_type": "code",
   "execution_count": 84,
   "metadata": {},
   "outputs": [
    {
     "name": "stdout",
     "output_type": "stream",
     "text": [
      "         ID  Salary\n",
      "0         1  5000.5\n",
      "1         2  5000.5\n",
      "2         3  5000.5\n",
      "3         4  5000.5\n",
      "4         5  5000.5\n",
      "...     ...     ...\n",
      "9995   9996  5000.5\n",
      "9996   9997  5000.5\n",
      "9997   9998  5000.5\n",
      "9998   9999  5000.5\n",
      "9999  10000  5000.5\n",
      "\n",
      "[10000 rows x 2 columns]\n"
     ]
    }
   ],
   "source": [
    "# Gereksiz sütunları kaldırma\n",
    "data = data.drop(columns=['Age'])\n",
    "print(data)"
   ]
  },
  {
   "cell_type": "markdown",
   "metadata": {},
   "source": [
    "**Partial Processing (chunksize)**\n",
    "\n",
    "For large data sets, using chunksize to process data in parts reduces memory usage.\n"
   ]
  },
  {
   "cell_type": "code",
   "execution_count": 85,
   "metadata": {},
   "outputs": [
    {
     "name": "stdout",
     "output_type": "stream",
     "text": [
      "   age workclass  fnlwgt     education  education.num marital.status  \\\n",
      "0   90         ?   77053       HS-grad              9        Widowed   \n",
      "1   82   Private  132870       HS-grad              9        Widowed   \n",
      "2   66         ?  186061  Some-college             10        Widowed   \n",
      "3   54   Private  140359       7th-8th              4       Divorced   \n",
      "4   41   Private  264663  Some-college             10      Separated   \n",
      "\n",
      "          occupation   relationship   race     sex  capital.gain  \\\n",
      "0                  ?  Not-in-family  White  Female             0   \n",
      "1    Exec-managerial  Not-in-family  White  Female             0   \n",
      "2                  ?      Unmarried  Black  Female             0   \n",
      "3  Machine-op-inspct      Unmarried  White  Female             0   \n",
      "4     Prof-specialty      Own-child  White  Female             0   \n",
      "\n",
      "   capital.loss  hours.per.week native.country income  \n",
      "0          4356              40  United-States  <=50K  \n",
      "1          4356              18  United-States  <=50K  \n",
      "2          4356              40  United-States  <=50K  \n",
      "3          3900              40  United-States  <=50K  \n",
      "4          3900              40  United-States  <=50K  \n",
      "      age         workclass  fnlwgt   education  education.num  \\\n",
      "1000   39  Self-emp-not-inc  134475   Bachelors             13   \n",
      "1001   43           Private  138184     HS-grad              9   \n",
      "1002   22           Private  156822        10th              6   \n",
      "1003   30           Private  145231  Assoc-acdm             12   \n",
      "1004   21           Private  213341        11th              7   \n",
      "\n",
      "             marital.status         occupation   relationship   race     sex  \\\n",
      "1000               Divorced       Adm-clerical  Not-in-family  White    Male   \n",
      "1001               Divorced      Other-service  Not-in-family  Black  Female   \n",
      "1002          Never-married              Sales  Not-in-family  White  Female   \n",
      "1003               Divorced       Adm-clerical      Own-child  White  Female   \n",
      "1004  Married-spouse-absent  Handlers-cleaners      Own-child  White    Male   \n",
      "\n",
      "      capital.gain  capital.loss  hours.per.week      native.country income  \n",
      "1000             0          1762              40       United-States  <=50K  \n",
      "1001             0          1762              35       United-States  <=50K  \n",
      "1002             0          1762              25       United-States  <=50K  \n",
      "1003             0          1762              40       United-States  <=50K  \n",
      "1004             0          1762              40  Dominican-Republic  <=50K  \n",
      "      age     workclass  fnlwgt     education  education.num  \\\n",
      "2000   35       Private  186183       HS-grad              9   \n",
      "2001   49  Self-emp-inc  191277  Some-college             10   \n",
      "2002   50       Private  164198    Assoc-acdm             12   \n",
      "2003   31       Private  167725     Bachelors             13   \n",
      "2004   53     Local-gov  283602       Masters             14   \n",
      "\n",
      "          marital.status         occupation relationship                race  \\\n",
      "2000  Married-civ-spouse   Transport-moving      Husband               White   \n",
      "2001  Married-civ-spouse    Exec-managerial      Husband               White   \n",
      "2002  Married-civ-spouse  Handlers-cleaners      Husband               Black   \n",
      "2003  Married-civ-spouse     Prof-specialty      Husband  Asian-Pac-Islander   \n",
      "2004  Married-civ-spouse     Prof-specialty         Wife               White   \n",
      "\n",
      "         sex  capital.gain  capital.loss  hours.per.week native.country income  \n",
      "2000    Male         15024             0              80  United-States   >50K  \n",
      "2001    Male         15024             0              50  United-States   >50K  \n",
      "2002    Male         15024             0              45  United-States   >50K  \n",
      "2003    Male         15024             0              48    Philippines   >50K  \n",
      "2004  Female         15024             0              40  United-States   >50K  \n",
      "      age     workclass  fnlwgt     education  education.num  \\\n",
      "3000   42       Private  159449     Bachelors             13   \n",
      "3001   42     Local-gov   97688  Some-college             10   \n",
      "3002   36       Private  188563  Some-college             10   \n",
      "3003   32       Private  231043       HS-grad              9   \n",
      "3004   44  Self-emp-inc  320984  Some-college             10   \n",
      "\n",
      "          marital.status       occupation relationship   race   sex  \\\n",
      "3000  Married-civ-spouse  Exec-managerial      Husband  White  Male   \n",
      "3001  Married-civ-spouse     Craft-repair      Husband  White  Male   \n",
      "3002  Married-civ-spouse            Sales      Husband  White  Male   \n",
      "3003  Married-civ-spouse     Craft-repair      Husband  White  Male   \n",
      "3004  Married-civ-spouse            Sales      Husband  White  Male   \n",
      "\n",
      "      capital.gain  capital.loss  hours.per.week native.country income  \n",
      "3000          5178             0              40  United-States   >50K  \n",
      "3001          5178             0              40  United-States   >50K  \n",
      "3002          5178             0              50  United-States   >50K  \n",
      "3003          5178             0              48  United-States   >50K  \n",
      "3004          5178             0              60  United-States   >50K  \n",
      "      age workclass  fnlwgt     education  education.num marital.status  \\\n",
      "4000   25   Private  176047       HS-grad              9  Never-married   \n",
      "4001   21         ?  175166  Some-college             10  Never-married   \n",
      "4002   18   Private   60981  Some-college             10  Never-married   \n",
      "4003   48   Private  189462  Some-college             10       Divorced   \n",
      "4004   27   Private  177955       5th-6th              3  Never-married   \n",
      "\n",
      "             occupation    relationship   race     sex  capital.gain  \\\n",
      "4000  Machine-op-inspct       Own-child  White  Female          2176   \n",
      "4001                  ?       Own-child  White  Female          2176   \n",
      "4002              Sales       Own-child  White  Female          2176   \n",
      "4003  Handlers-cleaners       Own-child  White    Male          2176   \n",
      "4004    Priv-house-serv  Other-relative  White  Female          2176   \n",
      "\n",
      "      capital.loss  hours.per.week native.country income  \n",
      "4000             0              40  United-States  <=50K  \n",
      "4001             0              40  United-States  <=50K  \n",
      "4002             0              35  United-States  <=50K  \n",
      "4003             0              40  United-States  <=50K  \n",
      "4004             0              40    El-Salvador  <=50K  \n",
      "      age         workclass  fnlwgt     education  education.num  \\\n",
      "5000   33      Self-emp-inc  155781  Some-college             10   \n",
      "5001   54  Self-emp-not-inc  406468       HS-grad              9   \n",
      "5002   48                 ?  144397  Some-college             10   \n",
      "5003   35  Self-emp-not-inc  372525     Bachelors             13   \n",
      "5004   28           Private  164170     Assoc-voc             11   \n",
      "\n",
      "          marital.status       occupation   relationship                race  \\\n",
      "5000  Married-civ-spouse     Craft-repair        Husband               White   \n",
      "5001  Married-civ-spouse            Sales        Husband               Black   \n",
      "5002            Divorced                ?      Unmarried               Black   \n",
      "5003       Never-married  Exec-managerial  Not-in-family               White   \n",
      "5004  Married-civ-spouse     Adm-clerical           Wife  Asian-Pac-Islander   \n",
      "\n",
      "         sex  capital.gain  capital.loss  hours.per.week native.country income  \n",
      "5000    Male             0             0              60              ?  <=50K  \n",
      "5001    Male             0             0              40  United-States  <=50K  \n",
      "5002  Female             0             0              30  United-States  <=50K  \n",
      "5003    Male             0             0              40  United-States  <=50K  \n",
      "5004  Female             0             0              40          India  <=50K  \n",
      "      age  workclass  fnlwgt education  education.num      marital.status  \\\n",
      "6000   30  Local-gov  261319   7th-8th              4  Married-civ-spouse   \n",
      "6001   34    Private  126838   HS-grad              9  Married-civ-spouse   \n",
      "6002   19    Private  354104   HS-grad              9       Never-married   \n",
      "6003   20    Private  176321      12th              8       Never-married   \n",
      "6004   47    Private   85129   HS-grad              9            Divorced   \n",
      "\n",
      "             occupation   relationship                race     sex  \\\n",
      "6000   Transport-moving        Husband               White    Male   \n",
      "6001   Transport-moving        Husband               White    Male   \n",
      "6002  Handlers-cleaners      Own-child               White    Male   \n",
      "6003       Adm-clerical      Own-child               White  Female   \n",
      "6004      Other-service  Not-in-family  Asian-Pac-Islander  Female   \n",
      "\n",
      "      capital.gain  capital.loss  hours.per.week native.country income  \n",
      "6000             0             0              40  United-States  <=50K  \n",
      "6001             0             0              40  United-States  <=50K  \n",
      "6002             0             0              30  United-States  <=50K  \n",
      "6003             0             0              40         Mexico  <=50K  \n",
      "6004             0             0              40  United-States  <=50K  \n",
      "      age workclass  fnlwgt   education  education.num      marital.status  \\\n",
      "7000   31   Private  169269     7th-8th              4       Never-married   \n",
      "7001   23         ?  123983   Bachelors             13       Never-married   \n",
      "7002   47   Private  297884        10th              6             Widowed   \n",
      "7003   59   Private   99131     HS-grad              9             Widowed   \n",
      "7004   32   Private   44392  Assoc-acdm             12  Married-civ-spouse   \n",
      "\n",
      "             occupation   relationship   race     sex  capital.gain  \\\n",
      "7000       Craft-repair      Unmarried  White    Male             0   \n",
      "7001                  ?      Own-child  Other    Male             0   \n",
      "7002  Machine-op-inspct  Not-in-family  White    Male             0   \n",
      "7003     Prof-specialty  Not-in-family  White  Female             0   \n",
      "7004  Handlers-cleaners        Husband  White    Male             0   \n",
      "\n",
      "      capital.loss  hours.per.week native.country income  \n",
      "7000             0              40  United-States  <=50K  \n",
      "7001             0              40  United-States  <=50K  \n",
      "7002             0              40  United-States  <=50K  \n",
      "7003             0              18  United-States  <=50K  \n",
      "7004             0              40  United-States  <=50K  \n",
      "      age    workclass  fnlwgt     education  education.num  \\\n",
      "8000   33      Private  184901       HS-grad              9   \n",
      "8001   28      Private   87239       HS-grad              9   \n",
      "8002   63      Private  127363  Some-college             10   \n",
      "8003   37      Private  143058          10th              6   \n",
      "8004   50  Federal-gov   36489  Some-college             10   \n",
      "\n",
      "          marital.status         occupation   relationship   race     sex  \\\n",
      "8000  Married-civ-spouse  Machine-op-inspct        Husband  White    Male   \n",
      "8001            Divorced   Transport-moving  Not-in-family  White    Male   \n",
      "8002  Married-civ-spouse     Prof-specialty           Wife  White  Female   \n",
      "8003  Married-civ-spouse       Craft-repair        Husband  White    Male   \n",
      "8004            Divorced    Exec-managerial      Unmarried  White    Male   \n",
      "\n",
      "      capital.gain  capital.loss  hours.per.week native.country income  \n",
      "8000             0             0              40  United-States   >50K  \n",
      "8001             0             0              50  United-States  <=50K  \n",
      "8002             0             0              12  United-States  <=50K  \n",
      "8003             0             0              50  United-States  <=50K  \n",
      "8004             0             0              40  United-States  <=50K  \n",
      "      age  workclass  fnlwgt   education  education.num      marital.status  \\\n",
      "9000   25    Private  139730     HS-grad              9  Married-civ-spouse   \n",
      "9001   18    Private  201901        11th              7       Never-married   \n",
      "9002   32  State-gov  230224  Assoc-acdm             12  Married-civ-spouse   \n",
      "9003   27    Private  113464     1st-4th              2       Never-married   \n",
      "9004   48    Private   94461     HS-grad              9             Widowed   \n",
      "\n",
      "             occupation   relationship   race     sex  capital.gain  \\\n",
      "9000       Craft-repair        Husband  White    Male             0   \n",
      "9001              Sales      Own-child  White  Female             0   \n",
      "9002      Other-service        Husband  White    Male             0   \n",
      "9003      Other-service      Own-child  Other    Male             0   \n",
      "9004  Machine-op-inspct  Not-in-family  White  Female             0   \n",
      "\n",
      "      capital.loss  hours.per.week      native.country income  \n",
      "9000             0              80       United-States   >50K  \n",
      "9001             0              10       United-States  <=50K  \n",
      "9002             0              35       United-States  <=50K  \n",
      "9003             0              35  Dominican-Republic  <=50K  \n",
      "9004             0              16       United-States  <=50K  \n",
      "       age         workclass  fnlwgt     education  education.num  \\\n",
      "10000   43           Private  178417     Bachelors             13   \n",
      "10001   58           Private  178644       HS-grad              9   \n",
      "10002   43  Self-emp-not-inc  271665       HS-grad              9   \n",
      "10003   37                 ?  223732  Some-college             10   \n",
      "10004   21       Federal-gov  169003          12th              8   \n",
      "\n",
      "           marital.status      occupation   relationship   race   sex  \\\n",
      "10000            Divorced  Prof-specialty  Not-in-family  White  Male   \n",
      "10001             Widowed    Craft-repair      Unmarried  White  Male   \n",
      "10002  Married-civ-spouse           Sales        Husband  White  Male   \n",
      "10003           Separated               ?      Unmarried  White  Male   \n",
      "10004       Never-married    Adm-clerical      Own-child  Black  Male   \n",
      "\n",
      "       capital.gain  capital.loss  hours.per.week native.country income  \n",
      "10000             0             0              40  United-States  <=50K  \n",
      "10001             0             0              40  United-States  <=50K  \n",
      "10002             0             0              45  United-States  <=50K  \n",
      "10003             0             0              40  United-States  <=50K  \n",
      "10004             0             0              25  United-States  <=50K  \n",
      "       age         workclass  fnlwgt     education  education.num  \\\n",
      "11000   26  Self-emp-not-inc  281678     Assoc-voc             11   \n",
      "11001   24                 ?  377725     Bachelors             13   \n",
      "11002   32           Private  151053       HS-grad              9   \n",
      "11003   49         Local-gov  186539       Masters             14   \n",
      "11004   20                 ?  149478  Some-college             10   \n",
      "\n",
      "           marital.status         occupation    relationship   race     sex  \\\n",
      "11000  Married-civ-spouse    Farming-fishing         Husband  White    Male   \n",
      "11001       Never-married                  ?   Not-in-family  White  Female   \n",
      "11002  Married-civ-spouse  Handlers-cleaners         Husband  White    Male   \n",
      "11003  Married-civ-spouse    Protective-serv         Husband  White    Male   \n",
      "11004       Never-married                  ?  Other-relative  White  Female   \n",
      "\n",
      "       capital.gain  capital.loss  hours.per.week native.country income  \n",
      "11000             0             0              55  United-States  <=50K  \n",
      "11001             0             0              40  United-States  <=50K  \n",
      "11002             0             0              40  United-States   >50K  \n",
      "11003             0             0              40  United-States   >50K  \n",
      "11004             0             0              25  United-States  <=50K  \n",
      "       age workclass  fnlwgt     education  education.num      marital.status  \\\n",
      "12000   30   Private  167476  Some-college             10            Divorced   \n",
      "12001   40   Private  221172    Assoc-acdm             12  Married-civ-spouse   \n",
      "12002   27         ?  188711  Some-college             10            Divorced   \n",
      "12003   49   Private  199448     Assoc-voc             11            Divorced   \n",
      "12004   30   Private  313038       HS-grad              9       Never-married   \n",
      "\n",
      "              occupation   relationship   race     sex  capital.gain  \\\n",
      "12000  Machine-op-inspct  Not-in-family  White    Male             0   \n",
      "12001    Exec-managerial        Husband  White    Male             0   \n",
      "12002                  ?  Not-in-family  White    Male             0   \n",
      "12003              Sales      Unmarried  White  Female             0   \n",
      "12004       Craft-repair  Not-in-family  White    Male             0   \n",
      "\n",
      "       capital.loss  hours.per.week native.country income  \n",
      "12000             0              50  United-States  <=50K  \n",
      "12001             0              50  United-States   >50K  \n",
      "12002             0              30  United-States  <=50K  \n",
      "12003             0              40  United-States  <=50K  \n",
      "12004             0              40  United-States  <=50K  \n",
      "       age workclass  fnlwgt     education  education.num      marital.status  \\\n",
      "13000   62   Private   57970       7th-8th              4            Divorced   \n",
      "13001   35   Private  208378          12th              8           Separated   \n",
      "13002   39   Private   61343          10th              6  Married-civ-spouse   \n",
      "13003   24   Private  283872  Some-college             10       Never-married   \n",
      "13004   58   Private  225603           9th              5            Divorced   \n",
      "\n",
      "              occupation   relationship   race     sex  capital.gain  \\\n",
      "13000  Handlers-cleaners  Not-in-family  White    Male             0   \n",
      "13001  Machine-op-inspct      Unmarried  White  Female             0   \n",
      "13002  Machine-op-inspct        Husband  White    Male             0   \n",
      "13003       Adm-clerical  Not-in-family  Black    Male             0   \n",
      "13004    Farming-fishing  Not-in-family  Black    Male             0   \n",
      "\n",
      "       capital.loss  hours.per.week native.country income  \n",
      "13000             0              40  United-States  <=50K  \n",
      "13001             0              40  United-States  <=50K  \n",
      "13002             0              60  United-States  <=50K  \n",
      "13003             0              20  United-States  <=50K  \n",
      "13004             0              40  United-States  <=50K  \n",
      "       age         workclass  fnlwgt     education  education.num  \\\n",
      "14000   30           Private  185177          11th              7   \n",
      "14001   84      Self-emp-inc  172907  Some-college             10   \n",
      "14002   35  Self-emp-not-inc  308874       HS-grad              9   \n",
      "14003   45  Self-emp-not-inc   54098     Assoc-voc             11   \n",
      "14004   46           Private  288608       HS-grad              9   \n",
      "\n",
      "           marital.status         occupation   relationship   race   sex  \\\n",
      "14000       Never-married  Handlers-cleaners      Own-child  White  Male   \n",
      "14001  Married-civ-spouse              Sales        Husband  White  Male   \n",
      "14002       Never-married       Craft-repair  Not-in-family  Black  Male   \n",
      "14003  Married-civ-spouse    Farming-fishing        Husband  White  Male   \n",
      "14004       Never-married       Craft-repair      Own-child  White  Male   \n",
      "\n",
      "       capital.gain  capital.loss  hours.per.week native.country income  \n",
      "14000             0             0              49  United-States  <=50K  \n",
      "14001             0             0              35  United-States   >50K  \n",
      "14002             0             0              40  United-States  <=50K  \n",
      "14003             0             0              50  United-States   >50K  \n",
      "14004             0             0              40  United-States  <=50K  \n",
      "       age  workclass  fnlwgt     education  education.num marital.status  \\\n",
      "15000   29    Private  192010     Bachelors             13  Never-married   \n",
      "15001   28  Local-gov  356089     Bachelors             13  Never-married   \n",
      "15002   34    Private  684015       5th-6th              3  Never-married   \n",
      "15003   18    Private   36882       HS-grad              9  Never-married   \n",
      "15004   39    Private  203180  Some-college             10       Divorced   \n",
      "\n",
      "              occupation    relationship   race     sex  capital.gain  \\\n",
      "15000     Prof-specialty   Not-in-family  White  Female             0   \n",
      "15001     Prof-specialty  Other-relative  White    Male             0   \n",
      "15002  Handlers-cleaners       Own-child  White    Male             0   \n",
      "15003       Adm-clerical       Own-child  White  Female             0   \n",
      "15004    Farming-fishing       Unmarried  White  Female             0   \n",
      "\n",
      "       capital.loss  hours.per.week native.country income  \n",
      "15000             0              60         Poland  <=50K  \n",
      "15001             0              50  United-States  <=50K  \n",
      "15002             0              40    El-Salvador  <=50K  \n",
      "15003             0              20  United-States  <=50K  \n",
      "15004             0              45  United-States  <=50K  \n",
      "       age         workclass  fnlwgt     education  education.num  \\\n",
      "16000   39  Self-emp-not-inc  190023     Bachelors             13   \n",
      "16001   33           Private  168782     Assoc-voc             11   \n",
      "16002   59           Private  175290       7th-8th              4   \n",
      "16003   74           Private  145463       1st-4th              2   \n",
      "16004   54           Private  159755  Some-college             10   \n",
      "\n",
      "           marital.status       occupation    relationship   race     sex  \\\n",
      "16000  Married-civ-spouse            Sales         Husband  White    Male   \n",
      "16001       Never-married     Craft-repair       Unmarried  White    Male   \n",
      "16002       Never-married    Other-service  Other-relative  White    Male   \n",
      "16003             Widowed  Priv-house-serv   Not-in-family  Black  Female   \n",
      "16004  Married-civ-spouse  Protective-serv         Husband  White    Male   \n",
      "\n",
      "       capital.gain  capital.loss  hours.per.week native.country income  \n",
      "16000             0             0              60  United-States  <=50K  \n",
      "16001             0             0              40  United-States  <=50K  \n",
      "16002             0             0              32  United-States  <=50K  \n",
      "16003             0             0              15  United-States  <=50K  \n",
      "16004             0             0              40  United-States   >50K  \n",
      "       age workclass  fnlwgt     education  education.num      marital.status  \\\n",
      "17000   30   Private  185027     Bachelors             13  Married-civ-spouse   \n",
      "17001   31   Private  182539  Some-college             10       Never-married   \n",
      "17002   22   Private  215395       HS-grad              9       Never-married   \n",
      "17003   37   Private  186434       HS-grad              9  Married-civ-spouse   \n",
      "17004   41         ?  217921           9th              5  Married-civ-spouse   \n",
      "\n",
      "             occupation   relationship                race     sex  \\\n",
      "17000    Prof-specialty        Husband               White    Male   \n",
      "17001      Adm-clerical  Not-in-family               White  Female   \n",
      "17002  Transport-moving  Not-in-family               White    Male   \n",
      "17003     Other-service        Husband               Black    Male   \n",
      "17004                 ?           Wife  Asian-Pac-Islander  Female   \n",
      "\n",
      "       capital.gain  capital.loss  hours.per.week native.country income  \n",
      "17000             0             0              40  United-States   >50K  \n",
      "17001             0             0              45  United-States  <=50K  \n",
      "17002             0             0              37  United-States  <=50K  \n",
      "17003             0             0              40  United-States   >50K  \n",
      "17004             0             0              40           Hong  <=50K  \n",
      "       age workclass  fnlwgt     education  education.num      marital.status  \\\n",
      "18000   55   Private  368727  Some-college             10            Divorced   \n",
      "18001   23   Private  353696       HS-grad              9       Never-married   \n",
      "18002   27   Private  110931       HS-grad              9  Married-civ-spouse   \n",
      "18003   24   Private  169532    Assoc-acdm             12       Never-married   \n",
      "18004   21   Private  285522  Some-college             10       Never-married   \n",
      "\n",
      "            occupation   relationship   race     sex  capital.gain  \\\n",
      "18000     Craft-repair  Not-in-family  White    Male             0   \n",
      "18001  Farming-fishing      Own-child  White    Male             0   \n",
      "18002     Adm-clerical        Husband  White    Male             0   \n",
      "18003     Adm-clerical      Own-child  White  Female             0   \n",
      "18004     Craft-repair  Not-in-family  White    Male             0   \n",
      "\n",
      "       capital.loss  hours.per.week native.country income  \n",
      "18000             0              40  United-States  <=50K  \n",
      "18001             0              40  United-States  <=50K  \n",
      "18002             0              40  United-States  <=50K  \n",
      "18003             0              15  United-States  <=50K  \n",
      "18004             0              40  United-States  <=50K  \n",
      "       age  workclass  fnlwgt     education  education.num  \\\n",
      "19000   26    Private  105059           9th              5   \n",
      "19001   34    Private  342709       Masters             14   \n",
      "19002   51    Private   53838     Bachelors             13   \n",
      "19003   45  Local-gov  209482       Masters             14   \n",
      "19004   44    Private  214242  Some-college             10   \n",
      "\n",
      "           marital.status         occupation relationship   race     sex  \\\n",
      "19000  Married-civ-spouse       Craft-repair      Husband  White    Male   \n",
      "19001  Married-civ-spouse    Exec-managerial      Husband  White    Male   \n",
      "19002  Married-civ-spouse  Handlers-cleaners      Husband  White    Male   \n",
      "19003  Married-civ-spouse     Prof-specialty         Wife  White  Female   \n",
      "19004  Married-civ-spouse   Transport-moving      Husband  White    Male   \n",
      "\n",
      "       capital.gain  capital.loss  hours.per.week native.country income  \n",
      "19000             0             0              20  United-States  <=50K  \n",
      "19001             0             0              40  United-States  <=50K  \n",
      "19002             0             0              40  United-States  <=50K  \n",
      "19003             0             0              45  United-States   >50K  \n",
      "19004             0             0              50  United-States   >50K  \n",
      "       age         workclass  fnlwgt     education  education.num  \\\n",
      "20000   36           Private  159016       HS-grad              9   \n",
      "20001   37           Private  183800     Bachelors             13   \n",
      "20002   58  Self-emp-not-inc  193434       HS-grad              9   \n",
      "20003   26           Private  245029     Bachelors             13   \n",
      "20004   55           Private   98746  Some-college             10   \n",
      "\n",
      "           marital.status         occupation   relationship   race     sex  \\\n",
      "20000  Married-civ-spouse  Machine-op-inspct        Husband  White    Male   \n",
      "20001  Married-civ-spouse    Exec-managerial        Husband  White    Male   \n",
      "20002  Married-civ-spouse       Craft-repair        Husband  White    Male   \n",
      "20003       Never-married       Adm-clerical  Not-in-family  Black  Female   \n",
      "20004  Married-civ-spouse       Tech-support        Husband  White    Male   \n",
      "\n",
      "       capital.gain  capital.loss  hours.per.week native.country income  \n",
      "20000             0             0              38  United-States  <=50K  \n",
      "20001             0             0              40  United-States   >50K  \n",
      "20002             0             0              20  United-States  <=50K  \n",
      "20003             0             0              40  United-States  <=50K  \n",
      "20004             0             0              50         Canada   >50K  \n",
      "       age  workclass  fnlwgt  education  education.num      marital.status  \\\n",
      "21000   29    Private  251694  Bachelors             13       Never-married   \n",
      "21001   22    Private  268145  Bachelors             13       Never-married   \n",
      "21002   56    Private  104842  Bachelors             13            Divorced   \n",
      "21003   60  Local-gov  227332    Masters             14  Married-civ-spouse   \n",
      "21004   53    Private  133436    7th-8th              4            Divorced   \n",
      "\n",
      "              occupation   relationship   race     sex  capital.gain  \\\n",
      "21000    Farming-fishing      Own-child  White    Male             0   \n",
      "21001              Sales  Not-in-family  White  Female             0   \n",
      "21002     Prof-specialty      Unmarried  Black  Female             0   \n",
      "21003    Exec-managerial        Husband  White    Male             0   \n",
      "21004  Machine-op-inspct  Not-in-family  White  Female             0   \n",
      "\n",
      "       capital.loss  hours.per.week native.country income  \n",
      "21000             0              50  United-States  <=50K  \n",
      "21001             0              40  United-States  <=50K  \n",
      "21002             0              50          Haiti  <=50K  \n",
      "21003             0              40  United-States   >50K  \n",
      "21004             0              40  United-States  <=50K  \n",
      "       age         workclass  fnlwgt    education  education.num  \\\n",
      "22000   48  Self-emp-not-inc  246891  Prof-school             15   \n",
      "22001   70      Self-emp-inc  243436          9th              5   \n",
      "22002   44         Local-gov   68318      Masters             14   \n",
      "22003   58           Private   56331    Bachelors             13   \n",
      "22004   41           Private  190591   Assoc-acdm             12   \n",
      "\n",
      "           marital.status       occupation   relationship   race     sex  \\\n",
      "22000  Married-civ-spouse     Craft-repair        Husband  White    Male   \n",
      "22001            Divorced            Sales  Not-in-family  White    Male   \n",
      "22002       Never-married   Prof-specialty      Own-child  White  Female   \n",
      "22003  Married-civ-spouse            Sales        Husband  White    Male   \n",
      "22004            Divorced  Exec-managerial  Not-in-family  Black  Female   \n",
      "\n",
      "       capital.gain  capital.loss  hours.per.week native.country income  \n",
      "22000             0             0              60  United-States  <=50K  \n",
      "22001             0             0              45  United-States  <=50K  \n",
      "22002             0             0              55  United-States  <=50K  \n",
      "22003             0             0              40  United-States  <=50K  \n",
      "22004             0             0              40        Jamaica  <=50K  \n",
      "       age  workclass  fnlwgt   education  education.num      marital.status  \\\n",
      "23000   28    Private  202239     7th-8th              4  Married-civ-spouse   \n",
      "23001   39  Local-gov  164156  Assoc-acdm             12            Divorced   \n",
      "23002   59    Private  196482     HS-grad              9             Widowed   \n",
      "23003   31    Private  176185     Masters             14  Married-civ-spouse   \n",
      "23004   34    Private  287315     HS-grad              9            Divorced   \n",
      "\n",
      "              occupation   relationship   race     sex  capital.gain  \\\n",
      "23000     Prof-specialty        Husband  White    Male             0   \n",
      "23001      Other-service      Unmarried  White  Female             0   \n",
      "23002       Adm-clerical      Unmarried  White  Female             0   \n",
      "23003    Exec-managerial        Husband  White    Male             0   \n",
      "23004  Machine-op-inspct  Not-in-family  White    Male             0   \n",
      "\n",
      "       capital.loss  hours.per.week native.country income  \n",
      "23000             0              55  United-States  <=50K  \n",
      "23001             0              55  United-States  <=50K  \n",
      "23002             0              40  United-States  <=50K  \n",
      "23003             0              60         France   >50K  \n",
      "23004             0              40  United-States  <=50K  \n",
      "       age workclass  fnlwgt     education  education.num      marital.status  \\\n",
      "24000   33   Private  226267       7th-8th              4       Never-married   \n",
      "24001   19   Private  111232          12th              8       Never-married   \n",
      "24002   26   Private  212748       HS-grad              9  Married-civ-spouse   \n",
      "24003   23   Private  110677  Some-college             10       Never-married   \n",
      "24004   24   Private  306779  Some-college             10       Never-married   \n",
      "\n",
      "             occupation   relationship   race     sex  capital.gain  \\\n",
      "24000             Sales  Not-in-family  White    Male             0   \n",
      "24001  Transport-moving      Own-child  White    Male             0   \n",
      "24002  Transport-moving        Husband  White    Male             0   \n",
      "24003     Other-service      Own-child  White  Female             0   \n",
      "24004             Sales  Not-in-family  White    Male             0   \n",
      "\n",
      "       capital.loss  hours.per.week native.country income  \n",
      "24000             0              43         Mexico  <=50K  \n",
      "24001             0              15  United-States  <=50K  \n",
      "24002             0              40  United-States  <=50K  \n",
      "24003             0              15  United-States  <=50K  \n",
      "24004             0              65  United-States  <=50K  \n",
      "       age         workclass  fnlwgt  education  education.num  \\\n",
      "25000   27           Private   90692  Assoc-voc             11   \n",
      "25001   51           Private   57101        9th              5   \n",
      "25002   49           Private  236913    HS-grad              9   \n",
      "25003   64  Self-emp-not-inc  388625       10th              6   \n",
      "25004   54  Self-emp-not-inc  261207    7th-8th              4   \n",
      "\n",
      "           marital.status        occupation   relationship  \\\n",
      "25000       Never-married     Other-service  Not-in-family   \n",
      "25001  Married-civ-spouse      Craft-repair        Husband   \n",
      "25002             Widowed     Other-service  Not-in-family   \n",
      "25003  Married-civ-spouse    Prof-specialty        Husband   \n",
      "25004            Divorced  Transport-moving  Not-in-family   \n",
      "\n",
      "                     race     sex  capital.gain  capital.loss  hours.per.week  \\\n",
      "25000  Asian-Pac-Islander  Female             0             0              40   \n",
      "25001               White    Male             0             0              40   \n",
      "25002               White  Female             0             0              45   \n",
      "25003               White    Male             0             0              10   \n",
      "25004               White    Male             0             0              45   \n",
      "\n",
      "      native.country income  \n",
      "25000    Philippines  <=50K  \n",
      "25001  United-States  <=50K  \n",
      "25002  United-States  <=50K  \n",
      "25003  United-States   >50K  \n",
      "25004           Cuba  <=50K  \n",
      "       age workclass  fnlwgt     education  education.num  \\\n",
      "26000   20   Private  197997  Some-college             10   \n",
      "26001   46   Private   98350          10th              6   \n",
      "26002   39   Private  165848       HS-grad              9   \n",
      "26003   34   Private  178615       HS-grad              9   \n",
      "26004   19   Private  228939       HS-grad              9   \n",
      "\n",
      "              marital.status         occupation   relationship  \\\n",
      "26000          Never-married     Prof-specialty      Own-child   \n",
      "26001  Married-spouse-absent      Other-service  Not-in-family   \n",
      "26002     Married-civ-spouse              Sales        Husband   \n",
      "26003          Never-married  Handlers-cleaners  Not-in-family   \n",
      "26004          Never-married  Handlers-cleaners      Own-child   \n",
      "\n",
      "                     race   sex  capital.gain  capital.loss  hours.per.week  \\\n",
      "26000               White  Male             0             0              40   \n",
      "26001  Asian-Pac-Islander  Male             0             0              37   \n",
      "26002               White  Male             0             0              50   \n",
      "26003               White  Male             0             0              40   \n",
      "26004               White  Male             0             0              35   \n",
      "\n",
      "      native.country income  \n",
      "26000  United-States  <=50K  \n",
      "26001          China  <=50K  \n",
      "26002  United-States  <=50K  \n",
      "26003  United-States  <=50K  \n",
      "26004  United-States  <=50K  \n",
      "       age  workclass  fnlwgt     education  education.num  \\\n",
      "27000   61    Private  105384     Bachelors             13   \n",
      "27001   24    Private  137591  Some-college             10   \n",
      "27002   49  State-gov  324791     Bachelors             13   \n",
      "27003   25    Private  184303  Some-college             10   \n",
      "27004   66          ?  314347       HS-grad              9   \n",
      "\n",
      "           marital.status       occupation    relationship   race     sex  \\\n",
      "27000  Married-civ-spouse   Prof-specialty         Husband  White    Male   \n",
      "27001       Never-married            Sales       Own-child  White    Male   \n",
      "27002  Married-civ-spouse   Prof-specialty         Husband  White    Male   \n",
      "27003           Separated  Priv-house-serv  Other-relative  White  Female   \n",
      "27004  Married-civ-spouse                ?         Husband  Black    Male   \n",
      "\n",
      "       capital.gain  capital.loss  hours.per.week native.country income  \n",
      "27000             0             0              40  United-States  <=50K  \n",
      "27001             0             0              10         Greece  <=50K  \n",
      "27002             0             0              50  United-States   >50K  \n",
      "27003             0             0              30    El-Salvador  <=50K  \n",
      "27004             0             0              40  United-States  <=50K  \n",
      "       age         workclass  fnlwgt  education  education.num  \\\n",
      "28000   43  Self-emp-not-inc  180985  Bachelors             13   \n",
      "28001   24           Private  148709    HS-grad              9   \n",
      "28002   22                 ?  174626    7th-8th              4   \n",
      "28003   38           Private  184801  Bachelors             13   \n",
      "28004   52           Private   89054    HS-grad              9   \n",
      "\n",
      "           marital.status     occupation   relationship   race     sex  \\\n",
      "28000           Separated   Craft-repair      Unmarried  White    Male   \n",
      "28001       Never-married  Other-service  Not-in-family  White  Female   \n",
      "28002       Never-married              ?      Own-child  White    Male   \n",
      "28003  Married-civ-spouse          Sales        Husband  White    Male   \n",
      "28004  Married-civ-spouse   Craft-repair        Husband  White    Male   \n",
      "\n",
      "       capital.gain  capital.loss  hours.per.week native.country income  \n",
      "28000             0             0              35  United-States  <=50K  \n",
      "28001             0             0              40  United-States  <=50K  \n",
      "28002             0             0              40  United-States  <=50K  \n",
      "28003             0             0              60  United-States   >50K  \n",
      "28004             0             0              40  United-States  <=50K  \n",
      "       age  workclass  fnlwgt     education  education.num  \\\n",
      "29000   37  Local-gov  272471       HS-grad              9   \n",
      "29001   32    Private  311524       HS-grad              9   \n",
      "29002   18    Private  151386       HS-grad              9   \n",
      "29003   35    Private  187625  Some-college             10   \n",
      "29004   43    Private  169383     Bachelors             13   \n",
      "\n",
      "              marital.status       occupation   relationship   race     sex  \\\n",
      "29000               Divorced     Adm-clerical      Unmarried  White  Female   \n",
      "29001          Never-married     Craft-repair      Own-child  Black    Male   \n",
      "29002  Married-spouse-absent    Other-service      Own-child  Black    Male   \n",
      "29003          Never-married    Other-service  Not-in-family  White  Female   \n",
      "29004     Married-civ-spouse  Exec-managerial        Husband  White    Male   \n",
      "\n",
      "       capital.gain  capital.loss  hours.per.week native.country income  \n",
      "29000             0             0              40  United-States  <=50K  \n",
      "29001             0             0              38  United-States  <=50K  \n",
      "29002             0             0              40        Jamaica  <=50K  \n",
      "29003             0             0              65  United-States  <=50K  \n",
      "29004             0             0              45  United-States   >50K  \n",
      "       age workclass  fnlwgt     education  education.num      marital.status  \\\n",
      "30000   18   Private  122775       HS-grad              9       Never-married   \n",
      "30001   30   Private  329425  Some-college             10       Never-married   \n",
      "30002   61   Private  178312    Assoc-acdm             12  Married-civ-spouse   \n",
      "30003   21   Private  241951       HS-grad              9       Never-married   \n",
      "30004   53   Private  130143       HS-grad              9  Married-civ-spouse   \n",
      "\n",
      "              occupation   relationship   race   sex  capital.gain  \\\n",
      "30000      Other-service      Own-child  White  Male             0   \n",
      "30001    Protective-serv      Own-child  White  Male             0   \n",
      "30002    Exec-managerial        Husband  White  Male             0   \n",
      "30003  Machine-op-inspct  Not-in-family  White  Male             0   \n",
      "30004  Machine-op-inspct        Husband  White  Male             0   \n",
      "\n",
      "       capital.loss  hours.per.week native.country income  \n",
      "30000             0              35  United-States  <=50K  \n",
      "30001             0              48  United-States  <=50K  \n",
      "30002             0              42  United-States  <=50K  \n",
      "30003             0              45  United-States  <=50K  \n",
      "30004             0              48  United-States  <=50K  \n",
      "       age         workclass  fnlwgt     education  education.num  \\\n",
      "31000   17                 ?  219277          11th              7   \n",
      "31001   19           Private   45381  Some-college             10   \n",
      "31002   38           Private  167482  Some-college             10   \n",
      "31003   60           Private  225014       HS-grad              9   \n",
      "31004   29  Self-emp-not-inc  405083       HS-grad              9   \n",
      "\n",
      "           marital.status     occupation   relationship   race     sex  \\\n",
      "31000       Never-married              ?      Own-child  White  Female   \n",
      "31001       Never-married   Adm-clerical      Own-child  White  Female   \n",
      "31002  Married-civ-spouse   Craft-repair        Husband  White    Male   \n",
      "31003            Divorced  Other-service  Not-in-family  White  Female   \n",
      "31004       Never-married          Sales  Not-in-family  White    Male   \n",
      "\n",
      "       capital.gain  capital.loss  hours.per.week native.country income  \n",
      "31000             0             0              20  United-States  <=50K  \n",
      "31001             0             0               8  United-States  <=50K  \n",
      "31002             0             0              52  United-States   >50K  \n",
      "31003             0             0              40  United-States  <=50K  \n",
      "31004             0             0              40  United-States  <=50K  \n",
      "       age    workclass  fnlwgt     education  education.num  \\\n",
      "32000   32      Private  173998  Some-college             10   \n",
      "32001   25      Private   90752     Bachelors             13   \n",
      "32002   55      Private   51008       HS-grad              9   \n",
      "32003   55  Federal-gov  113398  Some-college             10   \n",
      "32004   25      Private   74977  Some-college             10   \n",
      "\n",
      "           marital.status    occupation   relationship   race     sex  \\\n",
      "32000       Never-married  Adm-clerical  Not-in-family  White  Female   \n",
      "32001  Married-civ-spouse  Adm-clerical           Wife  White  Female   \n",
      "32002            Divorced  Adm-clerical      Unmarried  White  Female   \n",
      "32003       Never-married  Adm-clerical      Unmarried  White    Male   \n",
      "32004  Married-civ-spouse  Adm-clerical           Wife  White  Female   \n",
      "\n",
      "       capital.gain  capital.loss  hours.per.week native.country income  \n",
      "32000             0             0              60  United-States  <=50K  \n",
      "32001             0             0              40  United-States  <=50K  \n",
      "32002             0             0              40  United-States  <=50K  \n",
      "32003             0             0              40  United-States  <=50K  \n",
      "32004             0             0              40  United-States  <=50K  \n"
     ]
    }
   ],
   "source": [
    "# Reading CSV file in chunks\n",
    "reader = pd.read_csv('adult.csv', chunksize=1000)\n",
    "for chunk in reader:\n",
    "   # Operations can be performed on each chunk\n",
    "   print(chunk.head())"
   ]
  },
  {
   "cell_type": "markdown",
   "metadata": {},
   "source": [
    "**Switching to Parallel Processing**\n",
    "\n",
    "Pandas processes run in a single thread. You can switch to parallel processing for faster results."
   ]
  },
  {
   "cell_type": "markdown",
   "metadata": {},
   "source": [
    "# Pandas Cheatsheet\n",
    "\n",
    "## **1. Loading and Saving Data**\n",
    "| **Process** | **Code Sample** | **Explanation** |\n",
    "|------------------------------|----------------------------------------------|--------------------------------------------------------------|\n",
    "| Loading CSV | `pd.read_csv(\"file.csv\")` | Loads CSV file. |\n",
    "| Saving CSV | `df.to_csv(\"file.csv\", index=False)` | Saves data frame to CSV file. |\n",
    "| Loading Excel | `pd.read_excel(\"file.xlsx\")` | Loads Excel file to Pandas. |\n",
    "| Saving Excel | `df.to_excel(\"file.xlsx\", index=False)` | Saves data frame to Excel file. |\n",
    "| Loading JSON | `pd.read_json(\"file.json\")` | Loads JSON file. |\n",
    "| SQL Loading | `pd.read_sql_query(\"SELECT * FROM table\", conn)`| Loads data from SQL database. |\n",
    "\n",
    "---\n",
    "\n",
    "## **2. Basic Operations**\n",
    "| **Operation** | **Code Sample** | **Description** |\n",
    "|-----------------------------|-----------------------|----------------------------------------------------------|\n",
    "| Display First 5 Rows | `df.head()` | Displays the first 5 rows of the data frame. |\n",
    "| Display Last 5 Rows | `df.tail()` | Displays the last 5 rows of the data frame. |\n",
    "| Display Column Names | `df.columns` | Lists the column names in the data frame. |\n",
    "| Shape (row x column) | `df.shape` | Returns the size of the data frame. |\n",
    "| View Data Types | `df.dtypes` | Returns the data type of each column. |\n",
    "| General Information | `df.info()` | Returns information about the data frame. |\n",
    "| Statistical Summary | `df.describe()` | Provides a summary for numeric columns. |\n",
    "\n",
    "---\n",
    "\n",
    "## **3. Data Manipulation**\n",
    "| **Operation** | **Code Sample** | **Description** |\n",
    "|------------------------------|----------------------------------------------|-----------------------------------------------------------|\n",
    "| Adding a New Column | `df[\"new_col\"] = value` | Adds a new column. |\n",
    "| Updating an Existing Column | `df[\"col\"] = df[\"col\"] * 2` | Updates a specific column. |\n",
    "| Deleting a Row or Column | `df.drop([\"col\"], axis=1, inplace=True)` | Deletes columns or rows. |\n",
    "| Data Filtering | `df[df[\"col\"] > value]` | Filters the data frame based on conditions. |\n",
    "| Replacing Values ​​| `df[\"col\"].replace({\"old\": \"new\"}, inplace=True)` | Replaces certain values ​​with another value. |\n",
    "| Grouping and Summary | `df.groupby(\"col\").mean()` | Provides a summary by grouping. |\n",
    "\n",
    "---\n",
    "\n",
    "## **4. Missing Data Operations**\n",
    "| **Operation** | **Code Sample** | **Description** |\n",
    "|-----------------------------|---------------------------------------------|----------------------------------------------------------|\n",
    "| Finding Missing Values ​​| `df.isnull().sum()` | Returns the sum of missing values. |\n",
    "| Filling Missing Values ​​| `df.fillna(value)` | Fills missing values ​​with a given value. |\n",
    "| Delete Missing Values ​​| `df.dropna()` | Deletes rows/columns containing missing values. |\n",
    "| Forward Fill | `df.fillna(method=\"ffill\")` | Fills missing values ​​with the previous value. |\n",
    "\n",
    "---\n",
    "\n",
    "## **5. Grouping and Concatenation**\n",
    "| **Operation** | **Code Sample** | **Description** |\n",
    "|-----------------------------|---------------------------------------------|----------------------------------------------------------|\n",
    "| Grouping | `df.groupby(\"col\").mean()` | Groups by a specific column. |\n",
    "| Merge (`merge`) | `pd.merge(df1, df2, on=\"col\")` | Combines two dataframes. |\n",
    "| Concatenate (`concat`) | `pd.concat([df1, df2])` | Concatenate data frames vertically/horizontally\n",
    "\n",
    "|\n",
    "\n",
    "---\n",
    "\n",
    "## **6. Sorting and Indexing**\n",
    "| **Procedure** | **Code Example** | **Explanation** |\n",
    "|------------------------------|----------------------------------------------|-----------------------------------------------------------|\n",
    "| Sorting by Value | `df.sort_values(by=\"col\", ascending=False)` | Sorts by a specific column. |\n",
    "| Sorting by Index | `df.sort_index()` | Sorts by index. |\n",
    "| Resetting the Index | `df.reset_index(drop=True)` | Resets the index. |\n",
    "\n",
    "---\n",
    "\n",
    "## **7. Working with Time Series**\n",
    "| **Procedure** | **Code Example** | **Explanation** |\n",
    "|------------------------------|--------------------------------------------|-----------------------------------------------------------|\n",
    "| Convert to Date Format | `pd.to_datetime(df[\"col\"])` | Converts data to date format. |\n",
    "| Create Date Range | `pd.date_range(start=\"2023-01-01\", periods=5)` | Creates the specified date range. |\n",
    "\n",
    "---\n",
    "\n",
    "## **8. Data Visualization**\n",
    "| **Process** | **Code Sample** | **Description** |\n",
    "|-----------------------------|----------------------------------------------|-----------------------------------------------------------|\n",
    "| Draw Line Graph | `df.plot()` | Draws a simple line graph. |\n",
    "| Draw Histogram | `df[\"col\"].plot(kind=\"hist\")` | Draws a histogram for a specific column. |\n",
    "| Plotting a Bar Graph | `df[\"col\"].value_counts().plot(kind=\"bar\")` | Plots a bar graph. |\n",
    "\n",
    "---\n",
    "\n",
    "## **9. Advanced Functions**\n",
    "| **Operation** | **Code Example** | **Description** |\n",
    "|-----------------------------|---------------------------------------------|----------------------------------------------------------|\n",
    "| `apply()` Function Usage | `df[\"col\"].apply(lambda x: x * 2)` | Applies a function to a row/column. |\n",
    "| `map()` Value Conversion | `df[\"col\"].map({\"old\": \"new\"})` | Matches values ​​with other values. |\n",
    "| `agg()` Customized Summary | `df.agg({\"col1\": \"mean\", \"col2\": \"sum\"})` | Provides a summary specific to groups. |"
   ]
  }
 ],
 "metadata": {
  "kernelspec": {
   "display_name": "Python 3",
   "language": "python",
   "name": "python3"
  },
  "language_info": {
   "codemirror_mode": {
    "name": "ipython",
    "version": 3
   },
   "file_extension": ".py",
   "mimetype": "text/x-python",
   "name": "python",
   "nbconvert_exporter": "python",
   "pygments_lexer": "ipython3",
   "version": "3.13.3"
  }
 },
 "nbformat": 4,
 "nbformat_minor": 2
}
